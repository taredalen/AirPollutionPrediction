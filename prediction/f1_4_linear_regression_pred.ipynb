{
 "cells": [
  {
   "cell_type": "code",
   "execution_count": 75,
   "outputs": [],
   "source": [
    "import numpy as np\n",
    "import pandas as pd"
   ],
   "metadata": {
    "collapsed": false,
    "pycharm": {
     "name": "#%%\n"
    }
   }
  },
  {
   "cell_type": "code",
   "execution_count": 76,
   "outputs": [
    {
     "data": {
      "text/plain": "   Unnamed: 0 countryName  EPRTRSectorCode  \\\n0           0     Austria                4   \n1           1     Austria                9   \n2           2     Austria                6   \n3           3     Austria                6   \n4           4     Austria                3   \n\n                            eprtrSectorName EPRTRAnnexIMainActivityCode  \\\n0                         Chemical industry                        4(d)   \n1                          Other activities                        9(c)   \n2  Paper and wood production and processing                        6(b)   \n3  Paper and wood production and processing                        6(b)   \n4                          Mineral industry                        3(c)   \n\n                        EPRTRAnnexIMainActivityLabel  \\\n0  Chemical installations for the production on a...   \n1  Installations for the surface treatment of sub...   \n2  Industrial plants for the production of paper ...   \n3  Industrial plants for the production of paper ...   \n4  Installations for the production of cement cli...   \n\n                FacilityInspireID                          facilityName  \\\n0  AT.CAED/9008390392737.FACILITY                   Nufarm GmbH & CO KG   \n1  AT.CAED/9008390396414.FACILITY  MAGNA STEYR Fahrzeugtechnik AG&Co KG   \n2  AT.CAED/9008390397176.FACILITY             Fritz EGGER GmbH & Co. OG   \n3  AT.CAED/9008390397176.FACILITY             Fritz EGGER GmbH & Co. OG   \n4  AT.CAED/9008390397220.FACILITY                voestalpine Stahl GmbH   \n\n   Longitude   Latitude                    City  \\\n0  14.336056  48.290943                    Linz   \n1  15.477778  47.019170   Graz,07.Bez.:Liebenau   \n2  15.691833  48.259556           Unterradlberg   \n3  15.691833  48.259556           Unterradlberg   \n4  14.159778  47.807083  Klaus an der Pyhrnbahn   \n\n                                        pollutant    emissions  reportingYear  \\\n0                    1,2-dichloroethane (DCE-1,2)       3300.0           2007   \n1  Non-methane volatile organic compounds (NMVOC)     170000.0           2007   \n2                            Carbon dioxide (CO2)  228000000.0           2007   \n3                           Nitrogen oxides (NOX)     311000.0           2007   \n4                            Carbon dioxide (CO2)  329000000.0           2007   \n\n   Air  Water  \n0    1      0  \n1    1      0  \n2    1      0  \n3    1      0  \n4    1      0  ",
      "text/html": "<div>\n<style scoped>\n    .dataframe tbody tr th:only-of-type {\n        vertical-align: middle;\n    }\n\n    .dataframe tbody tr th {\n        vertical-align: top;\n    }\n\n    .dataframe thead th {\n        text-align: right;\n    }\n</style>\n<table border=\"1\" class=\"dataframe\">\n  <thead>\n    <tr style=\"text-align: right;\">\n      <th></th>\n      <th>Unnamed: 0</th>\n      <th>countryName</th>\n      <th>EPRTRSectorCode</th>\n      <th>eprtrSectorName</th>\n      <th>EPRTRAnnexIMainActivityCode</th>\n      <th>EPRTRAnnexIMainActivityLabel</th>\n      <th>FacilityInspireID</th>\n      <th>facilityName</th>\n      <th>Longitude</th>\n      <th>Latitude</th>\n      <th>City</th>\n      <th>pollutant</th>\n      <th>emissions</th>\n      <th>reportingYear</th>\n      <th>Air</th>\n      <th>Water</th>\n    </tr>\n  </thead>\n  <tbody>\n    <tr>\n      <th>0</th>\n      <td>0</td>\n      <td>Austria</td>\n      <td>4</td>\n      <td>Chemical industry</td>\n      <td>4(d)</td>\n      <td>Chemical installations for the production on a...</td>\n      <td>AT.CAED/9008390392737.FACILITY</td>\n      <td>Nufarm GmbH &amp; CO KG</td>\n      <td>14.336056</td>\n      <td>48.290943</td>\n      <td>Linz</td>\n      <td>1,2-dichloroethane (DCE-1,2)</td>\n      <td>3300.0</td>\n      <td>2007</td>\n      <td>1</td>\n      <td>0</td>\n    </tr>\n    <tr>\n      <th>1</th>\n      <td>1</td>\n      <td>Austria</td>\n      <td>9</td>\n      <td>Other activities</td>\n      <td>9(c)</td>\n      <td>Installations for the surface treatment of sub...</td>\n      <td>AT.CAED/9008390396414.FACILITY</td>\n      <td>MAGNA STEYR Fahrzeugtechnik AG&amp;Co KG</td>\n      <td>15.477778</td>\n      <td>47.019170</td>\n      <td>Graz,07.Bez.:Liebenau</td>\n      <td>Non-methane volatile organic compounds (NMVOC)</td>\n      <td>170000.0</td>\n      <td>2007</td>\n      <td>1</td>\n      <td>0</td>\n    </tr>\n    <tr>\n      <th>2</th>\n      <td>2</td>\n      <td>Austria</td>\n      <td>6</td>\n      <td>Paper and wood production and processing</td>\n      <td>6(b)</td>\n      <td>Industrial plants for the production of paper ...</td>\n      <td>AT.CAED/9008390397176.FACILITY</td>\n      <td>Fritz EGGER GmbH &amp; Co. OG</td>\n      <td>15.691833</td>\n      <td>48.259556</td>\n      <td>Unterradlberg</td>\n      <td>Carbon dioxide (CO2)</td>\n      <td>228000000.0</td>\n      <td>2007</td>\n      <td>1</td>\n      <td>0</td>\n    </tr>\n    <tr>\n      <th>3</th>\n      <td>3</td>\n      <td>Austria</td>\n      <td>6</td>\n      <td>Paper and wood production and processing</td>\n      <td>6(b)</td>\n      <td>Industrial plants for the production of paper ...</td>\n      <td>AT.CAED/9008390397176.FACILITY</td>\n      <td>Fritz EGGER GmbH &amp; Co. OG</td>\n      <td>15.691833</td>\n      <td>48.259556</td>\n      <td>Unterradlberg</td>\n      <td>Nitrogen oxides (NOX)</td>\n      <td>311000.0</td>\n      <td>2007</td>\n      <td>1</td>\n      <td>0</td>\n    </tr>\n    <tr>\n      <th>4</th>\n      <td>4</td>\n      <td>Austria</td>\n      <td>3</td>\n      <td>Mineral industry</td>\n      <td>3(c)</td>\n      <td>Installations for the production of cement cli...</td>\n      <td>AT.CAED/9008390397220.FACILITY</td>\n      <td>voestalpine Stahl GmbH</td>\n      <td>14.159778</td>\n      <td>47.807083</td>\n      <td>Klaus an der Pyhrnbahn</td>\n      <td>Carbon dioxide (CO2)</td>\n      <td>329000000.0</td>\n      <td>2007</td>\n      <td>1</td>\n      <td>0</td>\n    </tr>\n  </tbody>\n</table>\n</div>"
     },
     "execution_count": 76,
     "metadata": {},
     "output_type": "execute_result"
    }
   ],
   "source": [
    "df = pd.read_csv(\"../data/F1_4_clean_data.csv\")\n",
    "df.head()"
   ],
   "metadata": {
    "collapsed": false,
    "pycharm": {
     "name": "#%%\n"
    }
   }
  },
  {
   "cell_type": "code",
   "execution_count": 77,
   "outputs": [
    {
     "data": {
      "text/plain": "  countryName  EPRTRSectorCode EPRTRAnnexIMainActivityCode  \\\n0     Austria                4                        4(d)   \n1     Austria                9                        9(c)   \n2     Austria                6                        6(b)   \n3     Austria                6                        6(b)   \n4     Austria                3                        3(c)   \n\n                           facilityName  Longitude   Latitude  \\\n0                   Nufarm GmbH & CO KG  14.336056  48.290943   \n1  MAGNA STEYR Fahrzeugtechnik AG&Co KG  15.477778  47.019170   \n2             Fritz EGGER GmbH & Co. OG  15.691833  48.259556   \n3             Fritz EGGER GmbH & Co. OG  15.691833  48.259556   \n4                voestalpine Stahl GmbH  14.159778  47.807083   \n\n                     City                                       pollutant  \\\n0                    Linz                    1,2-dichloroethane (DCE-1,2)   \n1   Graz,07.Bez.:Liebenau  Non-methane volatile organic compounds (NMVOC)   \n2           Unterradlberg                            Carbon dioxide (CO2)   \n3           Unterradlberg                           Nitrogen oxides (NOX)   \n4  Klaus an der Pyhrnbahn                            Carbon dioxide (CO2)   \n\n     emissions  reportingYear  \n0       3300.0           2007  \n1     170000.0           2007  \n2  228000000.0           2007  \n3     311000.0           2007  \n4  329000000.0           2007  ",
      "text/html": "<div>\n<style scoped>\n    .dataframe tbody tr th:only-of-type {\n        vertical-align: middle;\n    }\n\n    .dataframe tbody tr th {\n        vertical-align: top;\n    }\n\n    .dataframe thead th {\n        text-align: right;\n    }\n</style>\n<table border=\"1\" class=\"dataframe\">\n  <thead>\n    <tr style=\"text-align: right;\">\n      <th></th>\n      <th>countryName</th>\n      <th>EPRTRSectorCode</th>\n      <th>EPRTRAnnexIMainActivityCode</th>\n      <th>facilityName</th>\n      <th>Longitude</th>\n      <th>Latitude</th>\n      <th>City</th>\n      <th>pollutant</th>\n      <th>emissions</th>\n      <th>reportingYear</th>\n    </tr>\n  </thead>\n  <tbody>\n    <tr>\n      <th>0</th>\n      <td>Austria</td>\n      <td>4</td>\n      <td>4(d)</td>\n      <td>Nufarm GmbH &amp; CO KG</td>\n      <td>14.336056</td>\n      <td>48.290943</td>\n      <td>Linz</td>\n      <td>1,2-dichloroethane (DCE-1,2)</td>\n      <td>3300.0</td>\n      <td>2007</td>\n    </tr>\n    <tr>\n      <th>1</th>\n      <td>Austria</td>\n      <td>9</td>\n      <td>9(c)</td>\n      <td>MAGNA STEYR Fahrzeugtechnik AG&amp;Co KG</td>\n      <td>15.477778</td>\n      <td>47.019170</td>\n      <td>Graz,07.Bez.:Liebenau</td>\n      <td>Non-methane volatile organic compounds (NMVOC)</td>\n      <td>170000.0</td>\n      <td>2007</td>\n    </tr>\n    <tr>\n      <th>2</th>\n      <td>Austria</td>\n      <td>6</td>\n      <td>6(b)</td>\n      <td>Fritz EGGER GmbH &amp; Co. OG</td>\n      <td>15.691833</td>\n      <td>48.259556</td>\n      <td>Unterradlberg</td>\n      <td>Carbon dioxide (CO2)</td>\n      <td>228000000.0</td>\n      <td>2007</td>\n    </tr>\n    <tr>\n      <th>3</th>\n      <td>Austria</td>\n      <td>6</td>\n      <td>6(b)</td>\n      <td>Fritz EGGER GmbH &amp; Co. OG</td>\n      <td>15.691833</td>\n      <td>48.259556</td>\n      <td>Unterradlberg</td>\n      <td>Nitrogen oxides (NOX)</td>\n      <td>311000.0</td>\n      <td>2007</td>\n    </tr>\n    <tr>\n      <th>4</th>\n      <td>Austria</td>\n      <td>3</td>\n      <td>3(c)</td>\n      <td>voestalpine Stahl GmbH</td>\n      <td>14.159778</td>\n      <td>47.807083</td>\n      <td>Klaus an der Pyhrnbahn</td>\n      <td>Carbon dioxide (CO2)</td>\n      <td>329000000.0</td>\n      <td>2007</td>\n    </tr>\n  </tbody>\n</table>\n</div>"
     },
     "execution_count": 77,
     "metadata": {},
     "output_type": "execute_result"
    }
   ],
   "source": [
    "df = df.drop(columns=[\"Unnamed: 0\", \"Air\", \"Water\", \"eprtrSectorName\", \"EPRTRAnnexIMainActivityLabel\", \"FacilityInspireID\"])\n",
    "df.head()"
   ],
   "metadata": {
    "collapsed": false,
    "pycharm": {
     "name": "#%%\n"
    }
   }
  },
  {
   "cell_type": "code",
   "execution_count": 78,
   "outputs": [],
   "source": [
    "features = [\"EPRTRSectorCode\", \"EPRTRAnnexIMainActivityCode\", \"facilityName\",\"Longitude\",\n",
    "            \"Latitude\", \"City\", \"pollutant\", \"reportingYear\"]\n",
    "target = 'emissions'\n",
    "\n",
    "X = df[features]\n",
    "y = df[target]\n"
   ],
   "metadata": {
    "collapsed": false,
    "pycharm": {
     "name": "#%%\n"
    }
   }
  },
  {
   "cell_type": "code",
   "execution_count": 79,
   "outputs": [
    {
     "data": {
      "text/plain": "   EPRTRSectorCode EPRTRAnnexIMainActivityCode  \\\n0                4                        4(d)   \n1                9                        9(c)   \n2                6                        6(b)   \n3                6                        6(b)   \n4                3                        3(c)   \n\n                           facilityName  Longitude   Latitude  \\\n0                   Nufarm GmbH & CO KG  14.336056  48.290943   \n1  MAGNA STEYR Fahrzeugtechnik AG&Co KG  15.477778  47.019170   \n2             Fritz EGGER GmbH & Co. OG  15.691833  48.259556   \n3             Fritz EGGER GmbH & Co. OG  15.691833  48.259556   \n4                voestalpine Stahl GmbH  14.159778  47.807083   \n\n                     City                                       pollutant  \\\n0                    Linz                    1,2-dichloroethane (DCE-1,2)   \n1   Graz,07.Bez.:Liebenau  Non-methane volatile organic compounds (NMVOC)   \n2           Unterradlberg                            Carbon dioxide (CO2)   \n3           Unterradlberg                           Nitrogen oxides (NOX)   \n4  Klaus an der Pyhrnbahn                            Carbon dioxide (CO2)   \n\n   reportingYear  \n0           2007  \n1           2007  \n2           2007  \n3           2007  \n4           2007  ",
      "text/html": "<div>\n<style scoped>\n    .dataframe tbody tr th:only-of-type {\n        vertical-align: middle;\n    }\n\n    .dataframe tbody tr th {\n        vertical-align: top;\n    }\n\n    .dataframe thead th {\n        text-align: right;\n    }\n</style>\n<table border=\"1\" class=\"dataframe\">\n  <thead>\n    <tr style=\"text-align: right;\">\n      <th></th>\n      <th>EPRTRSectorCode</th>\n      <th>EPRTRAnnexIMainActivityCode</th>\n      <th>facilityName</th>\n      <th>Longitude</th>\n      <th>Latitude</th>\n      <th>City</th>\n      <th>pollutant</th>\n      <th>reportingYear</th>\n    </tr>\n  </thead>\n  <tbody>\n    <tr>\n      <th>0</th>\n      <td>4</td>\n      <td>4(d)</td>\n      <td>Nufarm GmbH &amp; CO KG</td>\n      <td>14.336056</td>\n      <td>48.290943</td>\n      <td>Linz</td>\n      <td>1,2-dichloroethane (DCE-1,2)</td>\n      <td>2007</td>\n    </tr>\n    <tr>\n      <th>1</th>\n      <td>9</td>\n      <td>9(c)</td>\n      <td>MAGNA STEYR Fahrzeugtechnik AG&amp;Co KG</td>\n      <td>15.477778</td>\n      <td>47.019170</td>\n      <td>Graz,07.Bez.:Liebenau</td>\n      <td>Non-methane volatile organic compounds (NMVOC)</td>\n      <td>2007</td>\n    </tr>\n    <tr>\n      <th>2</th>\n      <td>6</td>\n      <td>6(b)</td>\n      <td>Fritz EGGER GmbH &amp; Co. OG</td>\n      <td>15.691833</td>\n      <td>48.259556</td>\n      <td>Unterradlberg</td>\n      <td>Carbon dioxide (CO2)</td>\n      <td>2007</td>\n    </tr>\n    <tr>\n      <th>3</th>\n      <td>6</td>\n      <td>6(b)</td>\n      <td>Fritz EGGER GmbH &amp; Co. OG</td>\n      <td>15.691833</td>\n      <td>48.259556</td>\n      <td>Unterradlberg</td>\n      <td>Nitrogen oxides (NOX)</td>\n      <td>2007</td>\n    </tr>\n    <tr>\n      <th>4</th>\n      <td>3</td>\n      <td>3(c)</td>\n      <td>voestalpine Stahl GmbH</td>\n      <td>14.159778</td>\n      <td>47.807083</td>\n      <td>Klaus an der Pyhrnbahn</td>\n      <td>Carbon dioxide (CO2)</td>\n      <td>2007</td>\n    </tr>\n  </tbody>\n</table>\n</div>"
     },
     "execution_count": 79,
     "metadata": {},
     "output_type": "execute_result"
    }
   ],
   "source": [
    "X.head()"
   ],
   "metadata": {
    "collapsed": false,
    "pycharm": {
     "name": "#%%\n"
    }
   }
  },
  {
   "cell_type": "code",
   "execution_count": 80,
   "outputs": [
    {
     "data": {
      "text/plain": "0         3300.0\n1       170000.0\n2    228000000.0\n3       311000.0\n4    329000000.0\nName: emissions, dtype: float64"
     },
     "execution_count": 80,
     "metadata": {},
     "output_type": "execute_result"
    }
   ],
   "source": [
    "y.head()"
   ],
   "metadata": {
    "collapsed": false,
    "pycharm": {
     "name": "#%%\n"
    }
   }
  },
  {
   "cell_type": "code",
   "execution_count": 81,
   "outputs": [
    {
     "name": "stderr",
     "output_type": "stream",
     "text": [
      "C:\\Users\\world\\AppData\\Local\\Temp\\ipykernel_10372\\2082518949.py:6: SettingWithCopyWarning: \n",
      "A value is trying to be set on a copy of a slice from a DataFrame.\n",
      "Try using .loc[row_indexer,col_indexer] = value instead\n",
      "\n",
      "See the caveats in the documentation: https://pandas.pydata.org/pandas-docs/stable/user_guide/indexing.html#returning-a-view-versus-a-copy\n",
      "  X[\"EPRTRAnnexIMainActivityCode\"] = enc\n",
      "C:\\Users\\world\\AppData\\Local\\Temp\\ipykernel_10372\\2082518949.py:10: SettingWithCopyWarning: \n",
      "A value is trying to be set on a copy of a slice from a DataFrame.\n",
      "Try using .loc[row_indexer,col_indexer] = value instead\n",
      "\n",
      "See the caveats in the documentation: https://pandas.pydata.org/pandas-docs/stable/user_guide/indexing.html#returning-a-view-versus-a-copy\n",
      "  X[\"facilityName\"] = enc\n",
      "C:\\Users\\world\\AppData\\Local\\Temp\\ipykernel_10372\\2082518949.py:14: SettingWithCopyWarning: \n",
      "A value is trying to be set on a copy of a slice from a DataFrame.\n",
      "Try using .loc[row_indexer,col_indexer] = value instead\n",
      "\n",
      "See the caveats in the documentation: https://pandas.pydata.org/pandas-docs/stable/user_guide/indexing.html#returning-a-view-versus-a-copy\n",
      "  X[\"City\"] = enc\n",
      "C:\\Users\\world\\AppData\\Local\\Temp\\ipykernel_10372\\2082518949.py:18: SettingWithCopyWarning: \n",
      "A value is trying to be set on a copy of a slice from a DataFrame.\n",
      "Try using .loc[row_indexer,col_indexer] = value instead\n",
      "\n",
      "See the caveats in the documentation: https://pandas.pydata.org/pandas-docs/stable/user_guide/indexing.html#returning-a-view-versus-a-copy\n",
      "  X[\"pollutant\"] = enc\n"
     ]
    },
    {
     "data": {
      "text/plain": "   EPRTRSectorCode  EPRTRAnnexIMainActivityCode  facilityName  Longitude  \\\n0                4                           45         17026  14.336056   \n1                9                           70         15579  15.477778   \n2                6                           56         10179  15.691833   \n3                6                           56         10179  15.691833   \n4                3                           19         26395  14.159778   \n\n    Latitude   City  pollutant  reportingYear  \n0  48.290943   7079          3           2007  \n1  47.019170   4872         41           2007  \n2  48.259556  13189         13           2007  \n3  48.259556  13189         39           2007  \n4  47.807083   6126         13           2007  ",
      "text/html": "<div>\n<style scoped>\n    .dataframe tbody tr th:only-of-type {\n        vertical-align: middle;\n    }\n\n    .dataframe tbody tr th {\n        vertical-align: top;\n    }\n\n    .dataframe thead th {\n        text-align: right;\n    }\n</style>\n<table border=\"1\" class=\"dataframe\">\n  <thead>\n    <tr style=\"text-align: right;\">\n      <th></th>\n      <th>EPRTRSectorCode</th>\n      <th>EPRTRAnnexIMainActivityCode</th>\n      <th>facilityName</th>\n      <th>Longitude</th>\n      <th>Latitude</th>\n      <th>City</th>\n      <th>pollutant</th>\n      <th>reportingYear</th>\n    </tr>\n  </thead>\n  <tbody>\n    <tr>\n      <th>0</th>\n      <td>4</td>\n      <td>45</td>\n      <td>17026</td>\n      <td>14.336056</td>\n      <td>48.290943</td>\n      <td>7079</td>\n      <td>3</td>\n      <td>2007</td>\n    </tr>\n    <tr>\n      <th>1</th>\n      <td>9</td>\n      <td>70</td>\n      <td>15579</td>\n      <td>15.477778</td>\n      <td>47.019170</td>\n      <td>4872</td>\n      <td>41</td>\n      <td>2007</td>\n    </tr>\n    <tr>\n      <th>2</th>\n      <td>6</td>\n      <td>56</td>\n      <td>10179</td>\n      <td>15.691833</td>\n      <td>48.259556</td>\n      <td>13189</td>\n      <td>13</td>\n      <td>2007</td>\n    </tr>\n    <tr>\n      <th>3</th>\n      <td>6</td>\n      <td>56</td>\n      <td>10179</td>\n      <td>15.691833</td>\n      <td>48.259556</td>\n      <td>13189</td>\n      <td>39</td>\n      <td>2007</td>\n    </tr>\n    <tr>\n      <th>4</th>\n      <td>3</td>\n      <td>19</td>\n      <td>26395</td>\n      <td>14.159778</td>\n      <td>47.807083</td>\n      <td>6126</td>\n      <td>13</td>\n      <td>2007</td>\n    </tr>\n  </tbody>\n</table>\n</div>"
     },
     "execution_count": 81,
     "metadata": {},
     "output_type": "execute_result"
    }
   ],
   "source": [
    "from collections import defaultdict\n",
    "from sklearn.preprocessing import LabelEncoder\n",
    "le = LabelEncoder()\n",
    "eprtr = X[\"EPRTRAnnexIMainActivityCode\"].unique()\n",
    "enc = le.fit(eprtr).transform(X[\"EPRTRAnnexIMainActivityCode\"])\n",
    "X[\"EPRTRAnnexIMainActivityCode\"] = enc\n",
    "\n",
    "eprtr = X[\"facilityName\"].unique()\n",
    "enc = le.fit(eprtr).transform(X[\"facilityName\"])\n",
    "X[\"facilityName\"] = enc\n",
    "\n",
    "eprtr = X[\"City\"].unique()\n",
    "enc = le.fit(eprtr).transform(X[\"City\"])\n",
    "X[\"City\"] = enc\n",
    "\n",
    "eprtr = X[\"pollutant\"].unique()\n",
    "enc = le.fit(eprtr).transform(X[\"pollutant\"])\n",
    "X[\"pollutant\"] = enc\n",
    "\n",
    "X.head()"
   ],
   "metadata": {
    "collapsed": false,
    "pycharm": {
     "name": "#%%\n"
    }
   }
  },
  {
   "cell_type": "code",
   "execution_count": 82,
   "outputs": [],
   "source": [
    "X = X.drop(columns=[\"EPRTRSectorCode\"])"
   ],
   "metadata": {
    "collapsed": false,
    "pycharm": {
     "name": "#%%\n"
    }
   }
  },
  {
   "cell_type": "code",
   "execution_count": 83,
   "outputs": [
    {
     "data": {
      "text/plain": "   EPRTRAnnexIMainActivityCode  facilityName  Longitude   Latitude   City  \\\n0                           45         17026  14.336056  48.290943   7079   \n1                           70         15579  15.477778  47.019170   4872   \n2                           56         10179  15.691833  48.259556  13189   \n3                           56         10179  15.691833  48.259556  13189   \n4                           19         26395  14.159778  47.807083   6126   \n\n   pollutant  reportingYear  \n0          3           2007  \n1         41           2007  \n2         13           2007  \n3         39           2007  \n4         13           2007  ",
      "text/html": "<div>\n<style scoped>\n    .dataframe tbody tr th:only-of-type {\n        vertical-align: middle;\n    }\n\n    .dataframe tbody tr th {\n        vertical-align: top;\n    }\n\n    .dataframe thead th {\n        text-align: right;\n    }\n</style>\n<table border=\"1\" class=\"dataframe\">\n  <thead>\n    <tr style=\"text-align: right;\">\n      <th></th>\n      <th>EPRTRAnnexIMainActivityCode</th>\n      <th>facilityName</th>\n      <th>Longitude</th>\n      <th>Latitude</th>\n      <th>City</th>\n      <th>pollutant</th>\n      <th>reportingYear</th>\n    </tr>\n  </thead>\n  <tbody>\n    <tr>\n      <th>0</th>\n      <td>45</td>\n      <td>17026</td>\n      <td>14.336056</td>\n      <td>48.290943</td>\n      <td>7079</td>\n      <td>3</td>\n      <td>2007</td>\n    </tr>\n    <tr>\n      <th>1</th>\n      <td>70</td>\n      <td>15579</td>\n      <td>15.477778</td>\n      <td>47.019170</td>\n      <td>4872</td>\n      <td>41</td>\n      <td>2007</td>\n    </tr>\n    <tr>\n      <th>2</th>\n      <td>56</td>\n      <td>10179</td>\n      <td>15.691833</td>\n      <td>48.259556</td>\n      <td>13189</td>\n      <td>13</td>\n      <td>2007</td>\n    </tr>\n    <tr>\n      <th>3</th>\n      <td>56</td>\n      <td>10179</td>\n      <td>15.691833</td>\n      <td>48.259556</td>\n      <td>13189</td>\n      <td>39</td>\n      <td>2007</td>\n    </tr>\n    <tr>\n      <th>4</th>\n      <td>19</td>\n      <td>26395</td>\n      <td>14.159778</td>\n      <td>47.807083</td>\n      <td>6126</td>\n      <td>13</td>\n      <td>2007</td>\n    </tr>\n  </tbody>\n</table>\n</div>"
     },
     "execution_count": 83,
     "metadata": {},
     "output_type": "execute_result"
    }
   ],
   "source": [
    "X.head()"
   ],
   "metadata": {
    "collapsed": false,
    "pycharm": {
     "name": "#%%\n"
    }
   }
  },
  {
   "cell_type": "code",
   "execution_count": 84,
   "outputs": [],
   "source": [
    "from sklearn.linear_model import LinearRegression\n",
    "from sklearn.model_selection import train_test_split\n",
    "from sklearn.metrics import accuracy_score\n",
    "\n",
    "X_train, X_test, y_train, y_test = train_test_split(X, y, test_size=0.8, random_state=42)\n",
    "model = LinearRegression()\n",
    "\n",
    "model.fit(X_train, y_train)\n",
    "model.score(X_test, y_test)\n",
    "y_pred = model.predict(X_test)"
   ],
   "metadata": {
    "collapsed": false,
    "pycharm": {
     "name": "#%%\n"
    }
   }
  },
  {
   "cell_type": "code",
   "execution_count": 85,
   "outputs": [
    {
     "data": {
      "text/plain": "684696148.4926324"
     },
     "execution_count": 85,
     "metadata": {},
     "output_type": "execute_result"
    }
   ],
   "source": [
    "from sklearn.metrics import mean_squared_error\n",
    "import math\n",
    "\n",
    "math.sqrt(mean_squared_error(y_test, y_pred))\n"
   ],
   "metadata": {
    "collapsed": false,
    "pycharm": {
     "name": "#%%\n"
    }
   }
  },
  {
   "cell_type": "code",
   "execution_count": 85,
   "outputs": [],
   "source": [],
   "metadata": {
    "collapsed": false,
    "pycharm": {
     "name": "#%%\n"
    }
   }
  }
 ],
 "metadata": {
  "kernelspec": {
   "display_name": "Python 3",
   "language": "python",
   "name": "python3"
  },
  "language_info": {
   "codemirror_mode": {
    "name": "ipython",
    "version": 2
   },
   "file_extension": ".py",
   "mimetype": "text/x-python",
   "name": "python",
   "nbconvert_exporter": "python",
   "pygments_lexer": "ipython2",
   "version": "2.7.6"
  }
 },
 "nbformat": 4,
 "nbformat_minor": 0
}
