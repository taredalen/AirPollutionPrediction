{
 "cells": [
  {
   "cell_type": "markdown",
   "metadata": {
    "collapsed": true,
    "pycharm": {
     "name": "#%% md\n"
    }
   },
   "source": [
    "\n",
    "# Decision Tree Regression"
   ]
  },
  {
   "cell_type": "code",
   "execution_count": 12,
   "outputs": [],
   "source": [
    "import numpy as np\n",
    "import pandas as pd\n",
    "from sklearn.tree import DecisionTreeRegressor\n",
    "from sklearn.model_selection import train_test_split\n",
    "from sklearn.preprocessing import StandardScaler\n",
    "from IPython.core.display_functions import display\n",
    "from sklearn.metrics import mean_squared_error\n",
    "\n",
    "import matplotlib.pyplot as plt\n",
    "\n",
    "%matplotlib inline"
   ],
   "metadata": {
    "collapsed": false,
    "pycharm": {
     "name": "#%%\n"
    }
   }
  },
  {
   "cell_type": "code",
   "execution_count": 3,
   "outputs": [
    {
     "data": {
      "text/plain": "   EPRTRSectorCode  EPRTRAnnexIMainActivityCode    emissions  Longitude  \\\n0                4                          4.0       3300.0  14.336056   \n1                9                          2.0     170000.0  15.477778   \n2                6                          3.0  228000000.0  15.691833   \n3                6                          3.0     311000.0  15.691833   \n4                3                          2.0  329000000.0  14.159778   \n\n    Latitude  reportingYear  \n0  48.290943           2007  \n1  47.019170           2007  \n2  48.259556           2007  \n3  48.259556           2007  \n4  47.807083           2007  ",
      "text/html": "<div>\n<style scoped>\n    .dataframe tbody tr th:only-of-type {\n        vertical-align: middle;\n    }\n\n    .dataframe tbody tr th {\n        vertical-align: top;\n    }\n\n    .dataframe thead th {\n        text-align: right;\n    }\n</style>\n<table border=\"1\" class=\"dataframe\">\n  <thead>\n    <tr style=\"text-align: right;\">\n      <th></th>\n      <th>EPRTRSectorCode</th>\n      <th>EPRTRAnnexIMainActivityCode</th>\n      <th>emissions</th>\n      <th>Longitude</th>\n      <th>Latitude</th>\n      <th>reportingYear</th>\n    </tr>\n  </thead>\n  <tbody>\n    <tr>\n      <th>0</th>\n      <td>4</td>\n      <td>4.0</td>\n      <td>3300.0</td>\n      <td>14.336056</td>\n      <td>48.290943</td>\n      <td>2007</td>\n    </tr>\n    <tr>\n      <th>1</th>\n      <td>9</td>\n      <td>2.0</td>\n      <td>170000.0</td>\n      <td>15.477778</td>\n      <td>47.019170</td>\n      <td>2007</td>\n    </tr>\n    <tr>\n      <th>2</th>\n      <td>6</td>\n      <td>3.0</td>\n      <td>228000000.0</td>\n      <td>15.691833</td>\n      <td>48.259556</td>\n      <td>2007</td>\n    </tr>\n    <tr>\n      <th>3</th>\n      <td>6</td>\n      <td>3.0</td>\n      <td>311000.0</td>\n      <td>15.691833</td>\n      <td>48.259556</td>\n      <td>2007</td>\n    </tr>\n    <tr>\n      <th>4</th>\n      <td>3</td>\n      <td>2.0</td>\n      <td>329000000.0</td>\n      <td>14.159778</td>\n      <td>47.807083</td>\n      <td>2007</td>\n    </tr>\n  </tbody>\n</table>\n</div>"
     },
     "metadata": {},
     "output_type": "display_data"
    }
   ],
   "source": [
    "df_air = pd.read_csv('../data/F1_4_clean_data.csv', on_bad_lines='skip', sep=',',  na_filter=True)\n",
    "\n",
    "df_air = df_air[['EPRTRSectorCode', 'EPRTRAnnexIMainActivityCode', 'emissions', 'Longitude', 'Latitude', 'reportingYear']]\n",
    "\n",
    "display(df_air.head())"
   ],
   "metadata": {
    "collapsed": false,
    "pycharm": {
     "name": "#%%\n"
    }
   }
  },
  {
   "cell_type": "code",
   "execution_count": 4,
   "outputs": [
    {
     "name": "stdout",
     "output_type": "stream",
     "text": [
      "Training data size: (201996, 5)\n",
      "Test data size: (86570, 5)\n"
     ]
    }
   ],
   "source": [
    "X = df_air.drop('emissions', axis=1)\n",
    "y = df_air['emissions'].values\n",
    "\n",
    "scaler = StandardScaler()\n",
    "X_standard = scaler.fit_transform(X)\n",
    "\n",
    "X_train, X_test, y_train, y_test = train_test_split(X, y, test_size=0.3, random_state=21)\n",
    "\n",
    "print('Training data size:', X_train.shape)\n",
    "print('Test data size:', X_test.shape)"
   ],
   "metadata": {
    "collapsed": false,
    "pycharm": {
     "name": "#%%\n"
    }
   }
  },
  {
   "cell_type": "code",
   "execution_count": 5,
   "outputs": [
    {
     "name": "stdout",
     "output_type": "stream",
     "text": [
      "RMSE of Decision Tree Regression: 737257537.9447898\n"
     ]
    }
   ],
   "source": [
    "decision_model = DecisionTreeRegressor()\n",
    "dt_model = decision_model.fit(X_train, y_train)\n",
    "\n",
    "y_pred = dt_model.predict(X_test)\n",
    "\n",
    "print('RMSE of Decision Tree Regression:', np.sqrt(mean_squared_error(y_pred,y_test)))\n",
    "\n",
    "#accuracy = accuracy_score(y_test, y_pred)\n",
    "#print(accuracy)"
   ],
   "metadata": {
    "collapsed": false,
    "pycharm": {
     "name": "#%%\n"
    }
   }
  },
  {
   "cell_type": "markdown",
   "source": [
    "---\n",
    "# Decision Tree Regression With Pivot Table\n"
   ],
   "metadata": {
    "collapsed": false,
    "pycharm": {
     "name": "#%% md\n"
    }
   }
  },
  {
   "cell_type": "code",
   "execution_count": 1,
   "outputs": [],
   "source": [
    "import numpy as np\n",
    "import pandas as pd\n",
    "from slugify import slugify"
   ],
   "metadata": {
    "collapsed": false,
    "pycharm": {
     "name": "#%%\n"
    }
   }
  },
  {
   "cell_type": "code",
   "execution_count": 2,
   "outputs": [
    {
     "data": {
      "text/plain": "pollutant     2-ethyl hexyl  Aldrin  Anthracene   As  Asbestos  Benzene  \\\ncountry year                                                              \nAustria 2007            0.0       0         0.0  0.0       0.0   6050.0   \n        2008            0.0       0         0.0  0.0       0.0   7880.0   \n        2009            0.0       0         0.0  0.0       0.0   9070.0   \n        2010            0.0       0         0.0  0.0       0.0   3800.0   \n        2011            0.0       0         0.0  0.0       0.0   4240.0   \n\npollutant     Benzo(g,h,i)perylene  CFCs         CH4           CO  ...  TRI  \\\ncountry year                                                       ...        \nAustria 2007                   0.0   0.0  20953000.0  163261000.0  ...  0.0   \n        2008                   0.0   0.0  18584000.0  144793000.0  ...  0.0   \n        2009                   0.0   0.0  13526000.0  134999000.0  ...  0.0   \n        2010                   0.0   0.0  13735000.0  124908000.0  ...  0.0   \n        2011                   0.0   0.0  13277000.0  136169000.0  ...  0.0   \n\npollutant         Teq  Tetrachloroethylene  Toluene  Trichloromethane  \\\ncountry year                                                            \nAustria 2007  0.00232                    0      0.0                 0   \n        2008  0.00176                    0      0.0                 0   \n        2009  0.00137                    0      0.0                 0   \n        2010  0.00164                    0      0.0                 0   \n        2011  0.00139                    0      0.0                 0   \n\npollutant     Vinyl chloride  Xylenes       Zn  total C  total F  \ncountry year                                                      \nAustria 2007               0        0  18820.0        0      0.0  \n        2008               0        0  12140.0        0      0.0  \n        2009               0        0   6664.0        0      0.0  \n        2010               0        0   9934.0        0      0.0  \n        2011               0        0   8490.0        0      0.0  \n\n[5 rows x 62 columns]",
      "text/html": "<div>\n<style scoped>\n    .dataframe tbody tr th:only-of-type {\n        vertical-align: middle;\n    }\n\n    .dataframe tbody tr th {\n        vertical-align: top;\n    }\n\n    .dataframe thead th {\n        text-align: right;\n    }\n</style>\n<table border=\"1\" class=\"dataframe\">\n  <thead>\n    <tr style=\"text-align: right;\">\n      <th></th>\n      <th>pollutant</th>\n      <th>2-ethyl hexyl</th>\n      <th>Aldrin</th>\n      <th>Anthracene</th>\n      <th>As</th>\n      <th>Asbestos</th>\n      <th>Benzene</th>\n      <th>Benzo(g,h,i)perylene</th>\n      <th>CFCs</th>\n      <th>CH4</th>\n      <th>CO</th>\n      <th>...</th>\n      <th>TRI</th>\n      <th>Teq</th>\n      <th>Tetrachloroethylene</th>\n      <th>Toluene</th>\n      <th>Trichloromethane</th>\n      <th>Vinyl chloride</th>\n      <th>Xylenes</th>\n      <th>Zn</th>\n      <th>total C</th>\n      <th>total F</th>\n    </tr>\n    <tr>\n      <th>country</th>\n      <th>year</th>\n      <th></th>\n      <th></th>\n      <th></th>\n      <th></th>\n      <th></th>\n      <th></th>\n      <th></th>\n      <th></th>\n      <th></th>\n      <th></th>\n      <th></th>\n      <th></th>\n      <th></th>\n      <th></th>\n      <th></th>\n      <th></th>\n      <th></th>\n      <th></th>\n      <th></th>\n      <th></th>\n      <th></th>\n    </tr>\n  </thead>\n  <tbody>\n    <tr>\n      <th rowspan=\"5\" valign=\"top\">Austria</th>\n      <th>2007</th>\n      <td>0.0</td>\n      <td>0</td>\n      <td>0.0</td>\n      <td>0.0</td>\n      <td>0.0</td>\n      <td>6050.0</td>\n      <td>0.0</td>\n      <td>0.0</td>\n      <td>20953000.0</td>\n      <td>163261000.0</td>\n      <td>...</td>\n      <td>0.0</td>\n      <td>0.00232</td>\n      <td>0</td>\n      <td>0.0</td>\n      <td>0</td>\n      <td>0</td>\n      <td>0</td>\n      <td>18820.0</td>\n      <td>0</td>\n      <td>0.0</td>\n    </tr>\n    <tr>\n      <th>2008</th>\n      <td>0.0</td>\n      <td>0</td>\n      <td>0.0</td>\n      <td>0.0</td>\n      <td>0.0</td>\n      <td>7880.0</td>\n      <td>0.0</td>\n      <td>0.0</td>\n      <td>18584000.0</td>\n      <td>144793000.0</td>\n      <td>...</td>\n      <td>0.0</td>\n      <td>0.00176</td>\n      <td>0</td>\n      <td>0.0</td>\n      <td>0</td>\n      <td>0</td>\n      <td>0</td>\n      <td>12140.0</td>\n      <td>0</td>\n      <td>0.0</td>\n    </tr>\n    <tr>\n      <th>2009</th>\n      <td>0.0</td>\n      <td>0</td>\n      <td>0.0</td>\n      <td>0.0</td>\n      <td>0.0</td>\n      <td>9070.0</td>\n      <td>0.0</td>\n      <td>0.0</td>\n      <td>13526000.0</td>\n      <td>134999000.0</td>\n      <td>...</td>\n      <td>0.0</td>\n      <td>0.00137</td>\n      <td>0</td>\n      <td>0.0</td>\n      <td>0</td>\n      <td>0</td>\n      <td>0</td>\n      <td>6664.0</td>\n      <td>0</td>\n      <td>0.0</td>\n    </tr>\n    <tr>\n      <th>2010</th>\n      <td>0.0</td>\n      <td>0</td>\n      <td>0.0</td>\n      <td>0.0</td>\n      <td>0.0</td>\n      <td>3800.0</td>\n      <td>0.0</td>\n      <td>0.0</td>\n      <td>13735000.0</td>\n      <td>124908000.0</td>\n      <td>...</td>\n      <td>0.0</td>\n      <td>0.00164</td>\n      <td>0</td>\n      <td>0.0</td>\n      <td>0</td>\n      <td>0</td>\n      <td>0</td>\n      <td>9934.0</td>\n      <td>0</td>\n      <td>0.0</td>\n    </tr>\n    <tr>\n      <th>2011</th>\n      <td>0.0</td>\n      <td>0</td>\n      <td>0.0</td>\n      <td>0.0</td>\n      <td>0.0</td>\n      <td>4240.0</td>\n      <td>0.0</td>\n      <td>0.0</td>\n      <td>13277000.0</td>\n      <td>136169000.0</td>\n      <td>...</td>\n      <td>0.0</td>\n      <td>0.00139</td>\n      <td>0</td>\n      <td>0.0</td>\n      <td>0</td>\n      <td>0</td>\n      <td>0</td>\n      <td>8490.0</td>\n      <td>0</td>\n      <td>0.0</td>\n    </tr>\n  </tbody>\n</table>\n<p>5 rows × 62 columns</p>\n</div>"
     },
     "execution_count": 2,
     "metadata": {},
     "output_type": "execute_result"
    }
   ],
   "source": [
    "df = pd.read_csv('../data/F1_4_clean_data.csv', on_bad_lines='skip', sep=',',  na_filter=True)\n",
    "df = df.rename(columns={'countryName': 'country', 'reportingYear':'year'}).drop(columns=['Unnamed: 0'], axis=1)\n",
    "\n",
    "data_pivoted = df.pivot_table(index=['country', 'year'], columns=['pollutant'], values='emissions', aggfunc=np.sum, fill_value=0)\n",
    "data_pivoted.head()"
   ],
   "metadata": {
    "collapsed": false,
    "pycharm": {
     "name": "#%%\n"
    }
   }
  },
  {
   "cell_type": "code",
   "execution_count": 3,
   "outputs": [
    {
     "data": {
      "text/plain": "              2_ethyl_hexyl  aldrin  anthracene   as  asbestos  benzene  \\\ncountry year                                                              \nAustria 2007            0.0       0         0.0  0.0       0.0   6050.0   \n        2008            0.0       0         0.0  0.0       0.0   7880.0   \n        2009            0.0       0         0.0  0.0       0.0   9070.0   \n        2010            0.0       0         0.0  0.0       0.0   3800.0   \n        2011            0.0       0         0.0  0.0       0.0   4240.0   \n\n              benzo_g_h_i_perylene  cfcs         ch4           co  ...  tri  \\\ncountry year                                                       ...        \nAustria 2007                   0.0   0.0  20953000.0  163261000.0  ...  0.0   \n        2008                   0.0   0.0  18584000.0  144793000.0  ...  0.0   \n        2009                   0.0   0.0  13526000.0  134999000.0  ...  0.0   \n        2010                   0.0   0.0  13735000.0  124908000.0  ...  0.0   \n        2011                   0.0   0.0  13277000.0  136169000.0  ...  0.0   \n\n                  teq  tetrachloroethylene  toluene  trichloromethane  \\\ncountry year                                                            \nAustria 2007  0.00232                    0      0.0                 0   \n        2008  0.00176                    0      0.0                 0   \n        2009  0.00137                    0      0.0                 0   \n        2010  0.00164                    0      0.0                 0   \n        2011  0.00139                    0      0.0                 0   \n\n              vinyl_chloride  xylenes       zn  total_c  total_f  \ncountry year                                                      \nAustria 2007               0        0  18820.0        0      0.0  \n        2008               0        0  12140.0        0      0.0  \n        2009               0        0   6664.0        0      0.0  \n        2010               0        0   9934.0        0      0.0  \n        2011               0        0   8490.0        0      0.0  \n\n[5 rows x 62 columns]",
      "text/html": "<div>\n<style scoped>\n    .dataframe tbody tr th:only-of-type {\n        vertical-align: middle;\n    }\n\n    .dataframe tbody tr th {\n        vertical-align: top;\n    }\n\n    .dataframe thead th {\n        text-align: right;\n    }\n</style>\n<table border=\"1\" class=\"dataframe\">\n  <thead>\n    <tr style=\"text-align: right;\">\n      <th></th>\n      <th></th>\n      <th>2_ethyl_hexyl</th>\n      <th>aldrin</th>\n      <th>anthracene</th>\n      <th>as</th>\n      <th>asbestos</th>\n      <th>benzene</th>\n      <th>benzo_g_h_i_perylene</th>\n      <th>cfcs</th>\n      <th>ch4</th>\n      <th>co</th>\n      <th>...</th>\n      <th>tri</th>\n      <th>teq</th>\n      <th>tetrachloroethylene</th>\n      <th>toluene</th>\n      <th>trichloromethane</th>\n      <th>vinyl_chloride</th>\n      <th>xylenes</th>\n      <th>zn</th>\n      <th>total_c</th>\n      <th>total_f</th>\n    </tr>\n    <tr>\n      <th>country</th>\n      <th>year</th>\n      <th></th>\n      <th></th>\n      <th></th>\n      <th></th>\n      <th></th>\n      <th></th>\n      <th></th>\n      <th></th>\n      <th></th>\n      <th></th>\n      <th></th>\n      <th></th>\n      <th></th>\n      <th></th>\n      <th></th>\n      <th></th>\n      <th></th>\n      <th></th>\n      <th></th>\n      <th></th>\n      <th></th>\n    </tr>\n  </thead>\n  <tbody>\n    <tr>\n      <th rowspan=\"5\" valign=\"top\">Austria</th>\n      <th>2007</th>\n      <td>0.0</td>\n      <td>0</td>\n      <td>0.0</td>\n      <td>0.0</td>\n      <td>0.0</td>\n      <td>6050.0</td>\n      <td>0.0</td>\n      <td>0.0</td>\n      <td>20953000.0</td>\n      <td>163261000.0</td>\n      <td>...</td>\n      <td>0.0</td>\n      <td>0.00232</td>\n      <td>0</td>\n      <td>0.0</td>\n      <td>0</td>\n      <td>0</td>\n      <td>0</td>\n      <td>18820.0</td>\n      <td>0</td>\n      <td>0.0</td>\n    </tr>\n    <tr>\n      <th>2008</th>\n      <td>0.0</td>\n      <td>0</td>\n      <td>0.0</td>\n      <td>0.0</td>\n      <td>0.0</td>\n      <td>7880.0</td>\n      <td>0.0</td>\n      <td>0.0</td>\n      <td>18584000.0</td>\n      <td>144793000.0</td>\n      <td>...</td>\n      <td>0.0</td>\n      <td>0.00176</td>\n      <td>0</td>\n      <td>0.0</td>\n      <td>0</td>\n      <td>0</td>\n      <td>0</td>\n      <td>12140.0</td>\n      <td>0</td>\n      <td>0.0</td>\n    </tr>\n    <tr>\n      <th>2009</th>\n      <td>0.0</td>\n      <td>0</td>\n      <td>0.0</td>\n      <td>0.0</td>\n      <td>0.0</td>\n      <td>9070.0</td>\n      <td>0.0</td>\n      <td>0.0</td>\n      <td>13526000.0</td>\n      <td>134999000.0</td>\n      <td>...</td>\n      <td>0.0</td>\n      <td>0.00137</td>\n      <td>0</td>\n      <td>0.0</td>\n      <td>0</td>\n      <td>0</td>\n      <td>0</td>\n      <td>6664.0</td>\n      <td>0</td>\n      <td>0.0</td>\n    </tr>\n    <tr>\n      <th>2010</th>\n      <td>0.0</td>\n      <td>0</td>\n      <td>0.0</td>\n      <td>0.0</td>\n      <td>0.0</td>\n      <td>3800.0</td>\n      <td>0.0</td>\n      <td>0.0</td>\n      <td>13735000.0</td>\n      <td>124908000.0</td>\n      <td>...</td>\n      <td>0.0</td>\n      <td>0.00164</td>\n      <td>0</td>\n      <td>0.0</td>\n      <td>0</td>\n      <td>0</td>\n      <td>0</td>\n      <td>9934.0</td>\n      <td>0</td>\n      <td>0.0</td>\n    </tr>\n    <tr>\n      <th>2011</th>\n      <td>0.0</td>\n      <td>0</td>\n      <td>0.0</td>\n      <td>0.0</td>\n      <td>0.0</td>\n      <td>4240.0</td>\n      <td>0.0</td>\n      <td>0.0</td>\n      <td>13277000.0</td>\n      <td>136169000.0</td>\n      <td>...</td>\n      <td>0.0</td>\n      <td>0.00139</td>\n      <td>0</td>\n      <td>0.0</td>\n      <td>0</td>\n      <td>0</td>\n      <td>0</td>\n      <td>8490.0</td>\n      <td>0</td>\n      <td>0.0</td>\n    </tr>\n  </tbody>\n</table>\n<p>5 rows × 62 columns</p>\n</div>"
     },
     "execution_count": 3,
     "metadata": {},
     "output_type": "execute_result"
    }
   ],
   "source": [
    "data_pivoted.columns = [slugify(c, separator='_') for c in data_pivoted.columns]\n",
    "data_pivoted.head()"
   ],
   "metadata": {
    "collapsed": false,
    "pycharm": {
     "name": "#%%\n"
    }
   }
  },
  {
   "cell_type": "code",
   "execution_count": 4,
   "outputs": [],
   "source": [
    "# remove the following comment to drop the multi-level index\n",
    "data_pivoted.reset_index(inplace=True)"
   ],
   "metadata": {
    "collapsed": false,
    "pycharm": {
     "name": "#%%\n"
    }
   }
  },
  {
   "cell_type": "code",
   "execution_count": 5,
   "outputs": [
    {
     "name": "stdout",
     "output_type": "stream",
     "text": [
      "Rows for aldrin : 1\n",
      "Rows for anthracene : 60\n",
      "Rows for asbestos : 7\n",
      "Rows for benzene : 281\n",
      "Rows for benzo_g_h_i_perylene : 14\n",
      "Rows for cfcs : 163\n",
      "Rows for ch4 : 387\n",
      "Rows for co : 374\n",
      "Rows for co2 : 392\n",
      "Rows for cd : 300\n",
      "Rows for chlordecone : 1\n",
      "Rows for cr : 273\n",
      "Rows for cu : 294\n",
      "Rows for dce_12 : 143\n",
      "Rows for dcm : 210\n",
      "Rows for ethyl_benzene : 2\n",
      "Rows for ethylene_oxide : 58\n",
      "Rows for fine_particulate_matter_pm2_5 : 2\n",
      "Rows for hcb : 29\n",
      "Rows for hcfcs : 214\n",
      "Rows for hch : 1\n",
      "Rows for hcn : 179\n",
      "Rows for hcl : 289\n",
      "Rows for hf : 267\n",
      "Rows for hfcs : 230\n",
      "Rows for halons : 65\n",
      "Rows for hg : 337\n",
      "Rows for lindane : 3\n",
      "Rows for n2o : 337\n",
      "Rows for nh3 : 385\n",
      "Rows for nmvoc : 353\n",
      "Rows for nox : 394\n",
      "Rows for naphthalene : 194\n",
      "Rows for ni : 318\n",
      "Rows for nonylphenol_and_nonylphenol_ethoxylates : 1\n",
      "Rows for pahs : 225\n",
      "Rows for pbde : 2\n",
      "Rows for pcbs : 153\n",
      "Rows for pcp : 10\n",
      "Rows for pfcs : 172\n",
      "Rows for pm10 : 376\n",
      "Rows for pb : 281\n",
      "Rows for pentachlorobenzene : 10\n",
      "Rows for sf6 : 114\n",
      "Rows for sox : 398\n",
      "Rows for tcb : 38\n",
      "Rows for tce_111 : 39\n",
      "Rows for tcm : 84\n",
      "Rows for tetrachloroethane_1122 : 52\n",
      "Rows for toc : 10\n",
      "Rows for tri : 97\n",
      "Rows for teq : 292\n",
      "Rows for tetrachloroethylene : 130\n",
      "Rows for toluene : 8\n",
      "Rows for trichloromethane : 130\n",
      "Rows for vinyl_chloride : 148\n",
      "Rows for xylenes : 2\n",
      "Rows for zn : 334\n",
      "Rows for total_c : 4\n",
      "Rows for total_f : 3\n"
     ]
    },
    {
     "data": {
      "text/plain": "Index(['country', 'year', '2_ethyl_hexyl', 'anthracene', 'as', 'benzene',\n       'benzo_g_h_i_perylene', 'cfcs', 'ch4', 'co', 'co2', 'cd', 'cr', 'cu',\n       'dce_12', 'dcm', 'ethylene_oxide', 'hcb', 'hcfcs', 'hcn', 'hcl', 'hf',\n       'hfcs', 'halons', 'hg', 'n2o', 'nh3', 'nmvoc', 'nox', 'naphthalene',\n       'ni', 'pahs', 'pcbs', 'pcp', 'pfcs', 'pm10', 'pb', 'pentachlorobenzene',\n       'sf6', 'sox', 'tcb', 'tce_111', 'tcm', 'tetrachloroethane_1122', 'toc',\n       'tri', 'teq', 'tetrachloroethylene', 'trichloromethane',\n       'vinyl_chloride', 'zn'],\n      dtype='object')"
     },
     "execution_count": 5,
     "metadata": {},
     "output_type": "execute_result"
    }
   ],
   "source": [
    "for element in list(data_pivoted.columns):\n",
    "    if element not in ['country', 'year', '2_ethyl_hexyl', 'as']:\n",
    "        rows = data_pivoted.query('{} > 0'.format(element)).shape[0]\n",
    "        print(f'Rows for {element} : {rows}')\n",
    "        if rows < 10: data_pivoted = data_pivoted.drop([element], axis=1)\n",
    "\n",
    "data_pivoted.columns"
   ],
   "metadata": {
    "collapsed": false,
    "pycharm": {
     "name": "#%%\n"
    }
   }
  },
  {
   "cell_type": "code",
   "execution_count": 6,
   "outputs": [
    {
     "data": {
      "text/plain": "   country  year  2_ethyl_hexyl  anthracene   as  benzene  \\\n0  Austria  2007            0.0         0.0  0.0   6050.0   \n1  Austria  2008            0.0         0.0  0.0   7880.0   \n2  Austria  2009            0.0         0.0  0.0   9070.0   \n3  Austria  2010            0.0         0.0  0.0   3800.0   \n4  Austria  2011            0.0         0.0  0.0   4240.0   \n\n   benzo_g_h_i_perylene  cfcs         ch4           co  ...  tce_111  tcm  \\\n0                   0.0   0.0  20953000.0  163261000.0  ...      0.0    0   \n1                   0.0   0.0  18584000.0  144793000.0  ...      0.0    0   \n2                   0.0   0.0  13526000.0  134999000.0  ...      0.0    0   \n3                   0.0   0.0  13735000.0  124908000.0  ...      0.0    0   \n4                   0.0   0.0  13277000.0  136169000.0  ...      0.0    0   \n\n   tetrachloroethane_1122  toc  tri      teq  tetrachloroethylene  \\\n0                     0.0  0.0  0.0  0.00232                    0   \n1                     0.0  0.0  0.0  0.00176                    0   \n2                     0.0  0.0  0.0  0.00137                    0   \n3                     0.0  0.0  0.0  0.00164                    0   \n4                     0.0  0.0  0.0  0.00139                    0   \n\n   trichloromethane  vinyl_chloride       zn  \n0                 0               0  18820.0  \n1                 0               0  12140.0  \n2                 0               0   6664.0  \n3                 0               0   9934.0  \n4                 0               0   8490.0  \n\n[5 rows x 51 columns]",
      "text/html": "<div>\n<style scoped>\n    .dataframe tbody tr th:only-of-type {\n        vertical-align: middle;\n    }\n\n    .dataframe tbody tr th {\n        vertical-align: top;\n    }\n\n    .dataframe thead th {\n        text-align: right;\n    }\n</style>\n<table border=\"1\" class=\"dataframe\">\n  <thead>\n    <tr style=\"text-align: right;\">\n      <th></th>\n      <th>country</th>\n      <th>year</th>\n      <th>2_ethyl_hexyl</th>\n      <th>anthracene</th>\n      <th>as</th>\n      <th>benzene</th>\n      <th>benzo_g_h_i_perylene</th>\n      <th>cfcs</th>\n      <th>ch4</th>\n      <th>co</th>\n      <th>...</th>\n      <th>tce_111</th>\n      <th>tcm</th>\n      <th>tetrachloroethane_1122</th>\n      <th>toc</th>\n      <th>tri</th>\n      <th>teq</th>\n      <th>tetrachloroethylene</th>\n      <th>trichloromethane</th>\n      <th>vinyl_chloride</th>\n      <th>zn</th>\n    </tr>\n  </thead>\n  <tbody>\n    <tr>\n      <th>0</th>\n      <td>Austria</td>\n      <td>2007</td>\n      <td>0.0</td>\n      <td>0.0</td>\n      <td>0.0</td>\n      <td>6050.0</td>\n      <td>0.0</td>\n      <td>0.0</td>\n      <td>20953000.0</td>\n      <td>163261000.0</td>\n      <td>...</td>\n      <td>0.0</td>\n      <td>0</td>\n      <td>0.0</td>\n      <td>0.0</td>\n      <td>0.0</td>\n      <td>0.00232</td>\n      <td>0</td>\n      <td>0</td>\n      <td>0</td>\n      <td>18820.0</td>\n    </tr>\n    <tr>\n      <th>1</th>\n      <td>Austria</td>\n      <td>2008</td>\n      <td>0.0</td>\n      <td>0.0</td>\n      <td>0.0</td>\n      <td>7880.0</td>\n      <td>0.0</td>\n      <td>0.0</td>\n      <td>18584000.0</td>\n      <td>144793000.0</td>\n      <td>...</td>\n      <td>0.0</td>\n      <td>0</td>\n      <td>0.0</td>\n      <td>0.0</td>\n      <td>0.0</td>\n      <td>0.00176</td>\n      <td>0</td>\n      <td>0</td>\n      <td>0</td>\n      <td>12140.0</td>\n    </tr>\n    <tr>\n      <th>2</th>\n      <td>Austria</td>\n      <td>2009</td>\n      <td>0.0</td>\n      <td>0.0</td>\n      <td>0.0</td>\n      <td>9070.0</td>\n      <td>0.0</td>\n      <td>0.0</td>\n      <td>13526000.0</td>\n      <td>134999000.0</td>\n      <td>...</td>\n      <td>0.0</td>\n      <td>0</td>\n      <td>0.0</td>\n      <td>0.0</td>\n      <td>0.0</td>\n      <td>0.00137</td>\n      <td>0</td>\n      <td>0</td>\n      <td>0</td>\n      <td>6664.0</td>\n    </tr>\n    <tr>\n      <th>3</th>\n      <td>Austria</td>\n      <td>2010</td>\n      <td>0.0</td>\n      <td>0.0</td>\n      <td>0.0</td>\n      <td>3800.0</td>\n      <td>0.0</td>\n      <td>0.0</td>\n      <td>13735000.0</td>\n      <td>124908000.0</td>\n      <td>...</td>\n      <td>0.0</td>\n      <td>0</td>\n      <td>0.0</td>\n      <td>0.0</td>\n      <td>0.0</td>\n      <td>0.00164</td>\n      <td>0</td>\n      <td>0</td>\n      <td>0</td>\n      <td>9934.0</td>\n    </tr>\n    <tr>\n      <th>4</th>\n      <td>Austria</td>\n      <td>2011</td>\n      <td>0.0</td>\n      <td>0.0</td>\n      <td>0.0</td>\n      <td>4240.0</td>\n      <td>0.0</td>\n      <td>0.0</td>\n      <td>13277000.0</td>\n      <td>136169000.0</td>\n      <td>...</td>\n      <td>0.0</td>\n      <td>0</td>\n      <td>0.0</td>\n      <td>0.0</td>\n      <td>0.0</td>\n      <td>0.00139</td>\n      <td>0</td>\n      <td>0</td>\n      <td>0</td>\n      <td>8490.0</td>\n    </tr>\n  </tbody>\n</table>\n<p>5 rows × 51 columns</p>\n</div>"
     },
     "execution_count": 6,
     "metadata": {},
     "output_type": "execute_result"
    }
   ],
   "source": [
    "data_pivoted.head()"
   ],
   "metadata": {
    "collapsed": false,
    "pycharm": {
     "name": "#%%\n"
    }
   }
  },
  {
   "cell_type": "markdown",
   "source": [],
   "metadata": {
    "collapsed": false,
    "pycharm": {
     "name": "#%% md\n"
    }
   }
  },
  {
   "cell_type": "markdown",
   "source": [
    "\n",
    "## Labels Creation for each Country"
   ],
   "metadata": {
    "collapsed": false,
    "pycharm": {
     "name": "#%% md\n"
    }
   }
  },
  {
   "cell_type": "code",
   "execution_count": 7,
   "outputs": [
    {
     "name": "stdout",
     "output_type": "stream",
     "text": [
      "['Austria' 'Belgium' 'Bulgaria' 'Croatia' 'Cyprus' 'Czechia' 'Denmark'\n",
      " 'Estonia' 'Finland' 'France' 'Germany' 'Greece' 'Hungary' 'Iceland'\n",
      " 'Ireland' 'Italy' 'Latvia' 'Lithuania' 'Luxembourg' 'Malta' 'Netherlands'\n",
      " 'Norway' 'Poland' 'Portugal' 'Romania' 'Serbia' 'Slovakia' 'Slovenia'\n",
      " 'Spain' 'Sweden' 'Switzerland' 'United Kingdom']\n"
     ]
    },
    {
     "data": {
      "text/plain": "   country  year  2_ethyl_hexyl  anthracene   as  benzene  \\\n0        0  2007            0.0         0.0  0.0   6050.0   \n1        0  2008            0.0         0.0  0.0   7880.0   \n2        0  2009            0.0         0.0  0.0   9070.0   \n3        0  2010            0.0         0.0  0.0   3800.0   \n4        0  2011            0.0         0.0  0.0   4240.0   \n\n   benzo_g_h_i_perylene  cfcs         ch4           co  ...  tce_111  tcm  \\\n0                   0.0   0.0  20953000.0  163261000.0  ...      0.0    0   \n1                   0.0   0.0  18584000.0  144793000.0  ...      0.0    0   \n2                   0.0   0.0  13526000.0  134999000.0  ...      0.0    0   \n3                   0.0   0.0  13735000.0  124908000.0  ...      0.0    0   \n4                   0.0   0.0  13277000.0  136169000.0  ...      0.0    0   \n\n   tetrachloroethane_1122  toc  tri      teq  tetrachloroethylene  \\\n0                     0.0  0.0  0.0  0.00232                    0   \n1                     0.0  0.0  0.0  0.00176                    0   \n2                     0.0  0.0  0.0  0.00137                    0   \n3                     0.0  0.0  0.0  0.00164                    0   \n4                     0.0  0.0  0.0  0.00139                    0   \n\n   trichloromethane  vinyl_chloride       zn  \n0                 0               0  18820.0  \n1                 0               0  12140.0  \n2                 0               0   6664.0  \n3                 0               0   9934.0  \n4                 0               0   8490.0  \n\n[5 rows x 51 columns]",
      "text/html": "<div>\n<style scoped>\n    .dataframe tbody tr th:only-of-type {\n        vertical-align: middle;\n    }\n\n    .dataframe tbody tr th {\n        vertical-align: top;\n    }\n\n    .dataframe thead th {\n        text-align: right;\n    }\n</style>\n<table border=\"1\" class=\"dataframe\">\n  <thead>\n    <tr style=\"text-align: right;\">\n      <th></th>\n      <th>country</th>\n      <th>year</th>\n      <th>2_ethyl_hexyl</th>\n      <th>anthracene</th>\n      <th>as</th>\n      <th>benzene</th>\n      <th>benzo_g_h_i_perylene</th>\n      <th>cfcs</th>\n      <th>ch4</th>\n      <th>co</th>\n      <th>...</th>\n      <th>tce_111</th>\n      <th>tcm</th>\n      <th>tetrachloroethane_1122</th>\n      <th>toc</th>\n      <th>tri</th>\n      <th>teq</th>\n      <th>tetrachloroethylene</th>\n      <th>trichloromethane</th>\n      <th>vinyl_chloride</th>\n      <th>zn</th>\n    </tr>\n  </thead>\n  <tbody>\n    <tr>\n      <th>0</th>\n      <td>0</td>\n      <td>2007</td>\n      <td>0.0</td>\n      <td>0.0</td>\n      <td>0.0</td>\n      <td>6050.0</td>\n      <td>0.0</td>\n      <td>0.0</td>\n      <td>20953000.0</td>\n      <td>163261000.0</td>\n      <td>...</td>\n      <td>0.0</td>\n      <td>0</td>\n      <td>0.0</td>\n      <td>0.0</td>\n      <td>0.0</td>\n      <td>0.00232</td>\n      <td>0</td>\n      <td>0</td>\n      <td>0</td>\n      <td>18820.0</td>\n    </tr>\n    <tr>\n      <th>1</th>\n      <td>0</td>\n      <td>2008</td>\n      <td>0.0</td>\n      <td>0.0</td>\n      <td>0.0</td>\n      <td>7880.0</td>\n      <td>0.0</td>\n      <td>0.0</td>\n      <td>18584000.0</td>\n      <td>144793000.0</td>\n      <td>...</td>\n      <td>0.0</td>\n      <td>0</td>\n      <td>0.0</td>\n      <td>0.0</td>\n      <td>0.0</td>\n      <td>0.00176</td>\n      <td>0</td>\n      <td>0</td>\n      <td>0</td>\n      <td>12140.0</td>\n    </tr>\n    <tr>\n      <th>2</th>\n      <td>0</td>\n      <td>2009</td>\n      <td>0.0</td>\n      <td>0.0</td>\n      <td>0.0</td>\n      <td>9070.0</td>\n      <td>0.0</td>\n      <td>0.0</td>\n      <td>13526000.0</td>\n      <td>134999000.0</td>\n      <td>...</td>\n      <td>0.0</td>\n      <td>0</td>\n      <td>0.0</td>\n      <td>0.0</td>\n      <td>0.0</td>\n      <td>0.00137</td>\n      <td>0</td>\n      <td>0</td>\n      <td>0</td>\n      <td>6664.0</td>\n    </tr>\n    <tr>\n      <th>3</th>\n      <td>0</td>\n      <td>2010</td>\n      <td>0.0</td>\n      <td>0.0</td>\n      <td>0.0</td>\n      <td>3800.0</td>\n      <td>0.0</td>\n      <td>0.0</td>\n      <td>13735000.0</td>\n      <td>124908000.0</td>\n      <td>...</td>\n      <td>0.0</td>\n      <td>0</td>\n      <td>0.0</td>\n      <td>0.0</td>\n      <td>0.0</td>\n      <td>0.00164</td>\n      <td>0</td>\n      <td>0</td>\n      <td>0</td>\n      <td>9934.0</td>\n    </tr>\n    <tr>\n      <th>4</th>\n      <td>0</td>\n      <td>2011</td>\n      <td>0.0</td>\n      <td>0.0</td>\n      <td>0.0</td>\n      <td>4240.0</td>\n      <td>0.0</td>\n      <td>0.0</td>\n      <td>13277000.0</td>\n      <td>136169000.0</td>\n      <td>...</td>\n      <td>0.0</td>\n      <td>0</td>\n      <td>0.0</td>\n      <td>0.0</td>\n      <td>0.0</td>\n      <td>0.00139</td>\n      <td>0</td>\n      <td>0</td>\n      <td>0</td>\n      <td>8490.0</td>\n    </tr>\n  </tbody>\n</table>\n<p>5 rows × 51 columns</p>\n</div>"
     },
     "metadata": {},
     "output_type": "display_data"
    },
    {
     "name": "stdout",
     "output_type": "stream",
     "text": [
      "['France']\n"
     ]
    }
   ],
   "source": [
    "from sklearn import preprocessing\n",
    "\n",
    "label_encoder = preprocessing.LabelEncoder()\n",
    "label_encoder.fit(data_pivoted['country'])\n",
    "\n",
    "data_pivoted['country'] = label_encoder.transform(data_pivoted['country'])\n",
    "print(label_encoder.classes_)\n",
    "\n",
    "display(data_pivoted.head())\n",
    "\n",
    "print(label_encoder.inverse_transform([9]))"
   ],
   "metadata": {
    "collapsed": false,
    "pycharm": {
     "name": "#%%\n"
    }
   }
  },
  {
   "cell_type": "markdown",
   "source": [],
   "metadata": {
    "collapsed": false,
    "pycharm": {
     "name": "#%% md\n"
    }
   }
  },
  {
   "cell_type": "markdown",
   "source": [
    "\n",
    "## Moving Window Functions\n"
   ],
   "metadata": {
    "collapsed": false,
    "pycharm": {
     "name": "#%% md\n"
    }
   }
  },
  {
   "cell_type": "code",
   "execution_count": 8,
   "outputs": [
    {
     "name": "stdout",
     "output_type": "stream",
     "text": [
      "train:  [2007] test:  [2008]\n",
      "train:  [2007, 2008] test:  [2009]\n",
      "train:  [2007, 2008, 2009] test:  [2010]\n",
      "train:  [2007, 2008, 2009, 2010] test:  [2011]\n",
      "train:  [2007, 2008, 2009, 2010, 2011] test:  [2012]\n",
      "train:  [2007, 2008, 2009, 2010, 2011, 2012] test:  [2013]\n",
      "train:  [2007, 2008, 2009, 2010, 2011, 2012, 2013] test:  [2014]\n",
      "train:  [2007, 2008, 2009, 2010, 2011, 2012, 2013, 2014] test:  [2015]\n",
      "train:  [2007, 2008, 2009, 2010, 2011, 2012, 2013, 2014, 2015] test:  [2016]\n",
      "train:  [2007, 2008, 2009, 2010, 2011, 2012, 2013, 2014, 2015, 2016] test:  [2017]\n",
      "train:  [2007, 2008, 2009, 2010, 2011, 2012, 2013, 2014, 2015, 2016, 2017] test:  [2018]\n",
      "train:  [2007, 2008, 2009, 2010, 2011, 2012, 2013, 2014, 2015, 2016, 2017, 2018] test:  [2019]\n",
      "train:  [2007, 2008, 2009, 2010, 2011, 2012, 2013, 2014, 2015, 2016, 2017, 2018, 2019] test:  [2020]\n"
     ]
    }
   ],
   "source": [
    "year_list = data_pivoted['year'].unique().tolist()\n",
    "\n",
    "for i, y in enumerate(year_list[:-1]):\n",
    "    train_yr = year_list[:i+1]\n",
    "    test_yr = [year_list[i+1]]\n",
    "    print('train: ', train_yr, 'test: ',test_yr)"
   ],
   "metadata": {
    "collapsed": false,
    "pycharm": {
     "name": "#%%\n"
    }
   }
  },
  {
   "cell_type": "markdown",
   "source": [],
   "metadata": {
    "collapsed": false,
    "pycharm": {
     "name": "#%% md\n"
    }
   }
  },
  {
   "cell_type": "markdown",
   "source": [
    "\n",
    "## Let's concentrate now on one specific pollutant, for example CO2"
   ],
   "metadata": {
    "collapsed": false
   }
  },
  {
   "cell_type": "code",
   "execution_count": 9,
   "outputs": [],
   "source": [
    "def get_test_train(pollutant):\n",
    "    years = data_pivoted['year'].unique().tolist()\n",
    "    splits = {'train': [], 'test': []}\n",
    "\n",
    "    for index, yr in enumerate(years[:-1]):\n",
    "        train_year = years[:index+1]\n",
    "        test_year = [years[index+1]]\n",
    "\n",
    "        df_test = data_pivoted.loc[data_pivoted.year.isin(test_year), :]\n",
    "        df_train = data_pivoted.loc[data_pivoted.year.isin(train_year), :]\n",
    "\n",
    "        splits['test'].append(df_test[[pollutant, 'country', 'year']])\n",
    "        splits['train'].append(df_train[[pollutant, 'country', 'year']])\n",
    "    return splits\n",
    "\n",
    "selected_pollutant = 'co2'\n",
    "splits_pollutant = get_test_train(selected_pollutant)"
   ],
   "metadata": {
    "collapsed": false,
    "pycharm": {
     "name": "#%%\n"
    }
   }
  },
  {
   "cell_type": "code",
   "execution_count": 10,
   "outputs": [
    {
     "name": "stdout",
     "output_type": "stream",
     "text": [
      "{'train': [              co2  country  year\n",
      "0    3.443800e+10        0  2007\n",
      "14   5.680400e+10        1  2007\n",
      "28   3.803400e+10        2  2007\n",
      "49   6.404000e+09        4  2007\n",
      "62   8.670500e+10        5  2007\n",
      "76   2.262600e+10        6  2007\n",
      "89   2.880000e+10        7  2007\n",
      "103  6.391500e+10        8  2007\n",
      "117  1.350450e+11        9  2007\n",
      "131  4.859860e+11       10  2007\n",
      "142  7.024200e+10       11  2007\n",
      "156  2.490800e+10       12  2007\n",
      "170  1.084000e+09       13  2007\n",
      "183  1.965600e+10       14  2007\n",
      "197  2.175520e+11       15  2007\n",
      "210  3.630000e+08       16  2007\n",
      "221  5.089000e+09       17  2007\n",
      "232  2.180000e+09       18  2007\n",
      "246  2.024000e+09       19  2007\n",
      "259  1.500130e+11       20  2007\n",
      "273  1.972556e+09       21  2007\n",
      "283  1.995470e+11       22  2007\n",
      "297  3.034100e+10       23  2007\n",
      "309  7.273700e+10       24  2007\n",
      "334  1.098000e+09       26  2007\n",
      "343  1.404400e+10       27  2007\n",
      "357  1.579800e+11       28  2007\n",
      "371  6.047935e+10       29  2007\n",
      "385  8.211439e+09       30  2007\n",
      "398  2.838139e+11       31  2007,               co2  country  year\n",
      "0    3.443800e+10        0  2007\n",
      "1    3.609300e+10        0  2008\n",
      "14   5.680400e+10        1  2007\n",
      "15   5.699000e+10        1  2008\n",
      "28   3.803400e+10        2  2007\n",
      "29   3.559000e+10        2  2008\n",
      "49   6.404000e+09        4  2007\n",
      "50   6.593000e+09        4  2008\n",
      "62   8.670500e+10        5  2007\n",
      "63   7.994000e+10        5  2008\n",
      "76   2.262600e+10        6  2007\n",
      "77   2.162700e+10        6  2008\n",
      "89   2.880000e+10        7  2007\n",
      "90   2.516400e+10        7  2008\n",
      "103  6.391500e+10        8  2007\n",
      "104  5.742927e+10        8  2008\n",
      "117  1.350450e+11        9  2007\n",
      "118  1.298080e+11        9  2008\n",
      "131  4.859860e+11       10  2007\n",
      "132  4.704050e+11       10  2008\n",
      "142  7.024200e+10       11  2007\n",
      "143  6.763700e+10       11  2008\n",
      "156  2.490800e+10       12  2007\n",
      "157  2.627800e+10       12  2008\n",
      "170  1.084000e+09       13  2007\n",
      "171  1.512485e+09       13  2008\n",
      "183  1.965600e+10       14  2007\n",
      "184  1.931300e+10       14  2008\n",
      "197  2.175520e+11       15  2007\n",
      "198  2.111230e+11       15  2008\n",
      "210  3.630000e+08       16  2007\n",
      "211  3.580000e+08       16  2008\n",
      "221  5.089000e+09       17  2007\n",
      "222  6.351000e+09       17  2008\n",
      "232  2.180000e+09       18  2007\n",
      "233  2.103000e+09       18  2008\n",
      "246  2.024000e+09       19  2007\n",
      "247  4.030000e+09       19  2008\n",
      "259  1.500130e+11       20  2007\n",
      "260  1.536380e+11       20  2008\n",
      "273  1.972556e+09       21  2007\n",
      "274  1.717982e+09       21  2008\n",
      "283  1.995470e+11       22  2007\n",
      "284  1.922680e+11       22  2008\n",
      "297  3.034100e+10       23  2007\n",
      "298  2.809200e+10       23  2008\n",
      "309  7.273700e+10       24  2007\n",
      "310  6.908830e+10       24  2008\n",
      "334  1.098000e+09       26  2007\n",
      "335  1.171000e+09       26  2008\n",
      "343  1.404400e+10       27  2007\n",
      "344  1.494500e+10       27  2008\n",
      "357  1.579800e+11       28  2007\n",
      "358  1.480100e+11       28  2008\n",
      "371  6.047935e+10       29  2007\n",
      "372  6.584029e+10       29  2008\n",
      "385  8.211439e+09       30  2007\n",
      "386  8.604443e+09       30  2008\n",
      "398  2.838139e+11       31  2007\n",
      "399  2.687270e+11       31  2008,               co2  country  year\n",
      "0    3.443800e+10        0  2007\n",
      "1    3.609300e+10        0  2008\n",
      "2    3.109300e+10        0  2009\n",
      "14   5.680400e+10        1  2007\n",
      "15   5.699000e+10        1  2008\n",
      "..            ...      ...   ...\n",
      "386  8.604443e+09       30  2008\n",
      "387  8.856136e+09       30  2009\n",
      "398  2.838139e+11       31  2007\n",
      "399  2.687270e+11       31  2008\n",
      "400  3.035720e+11       31  2009\n",
      "\n",
      "[91 rows x 3 columns],               co2  country  year\n",
      "0    3.443800e+10        0  2007\n",
      "1    3.609300e+10        0  2008\n",
      "2    3.109300e+10        0  2009\n",
      "3    3.492000e+10        0  2010\n",
      "14   5.680400e+10        1  2007\n",
      "..            ...      ...   ...\n",
      "388  9.131962e+09       30  2010\n",
      "398  2.838139e+11       31  2007\n",
      "399  2.687270e+11       31  2008\n",
      "400  3.035720e+11       31  2009\n",
      "401  3.159360e+11       31  2010\n",
      "\n",
      "[122 rows x 3 columns],               co2  country  year\n",
      "0    3.443800e+10        0  2007\n",
      "1    3.609300e+10        0  2008\n",
      "2    3.109300e+10        0  2009\n",
      "3    3.492000e+10        0  2010\n",
      "4    3.442900e+10        0  2011\n",
      "..            ...      ...   ...\n",
      "398  2.838139e+11       31  2007\n",
      "399  2.687270e+11       31  2008\n",
      "400  3.035720e+11       31  2009\n",
      "401  3.159360e+11       31  2010\n",
      "402  2.958688e+11       31  2011\n",
      "\n",
      "[153 rows x 3 columns],               co2  country  year\n",
      "0    3.443800e+10        0  2007\n",
      "1    3.609300e+10        0  2008\n",
      "2    3.109300e+10        0  2009\n",
      "3    3.492000e+10        0  2010\n",
      "4    3.442900e+10        0  2011\n",
      "..            ...      ...   ...\n",
      "399  2.687270e+11       31  2008\n",
      "400  3.035720e+11       31  2009\n",
      "401  3.159360e+11       31  2010\n",
      "402  2.958688e+11       31  2011\n",
      "403  3.204244e+11       31  2012\n",
      "\n",
      "[184 rows x 3 columns],               co2  country  year\n",
      "0    3.443800e+10        0  2007\n",
      "1    3.609300e+10        0  2008\n",
      "2    3.109300e+10        0  2009\n",
      "3    3.492000e+10        0  2010\n",
      "4    3.442900e+10        0  2011\n",
      "..            ...      ...   ...\n",
      "400  3.035720e+11       31  2009\n",
      "401  3.159360e+11       31  2010\n",
      "402  2.958688e+11       31  2011\n",
      "403  3.204244e+11       31  2012\n",
      "404  2.931901e+11       31  2013\n",
      "\n",
      "[215 rows x 3 columns],               co2  country  year\n",
      "0    3.443800e+10        0  2007\n",
      "1    3.609300e+10        0  2008\n",
      "2    3.109300e+10        0  2009\n",
      "3    3.492000e+10        0  2010\n",
      "4    3.442900e+10        0  2011\n",
      "..            ...      ...   ...\n",
      "401  3.159360e+11       31  2010\n",
      "402  2.958688e+11       31  2011\n",
      "403  3.204244e+11       31  2012\n",
      "404  2.931901e+11       31  2013\n",
      "405  2.478510e+11       31  2014\n",
      "\n",
      "[247 rows x 3 columns],               co2  country  year\n",
      "0    3.443800e+10        0  2007\n",
      "1    3.609300e+10        0  2008\n",
      "2    3.109300e+10        0  2009\n",
      "3    3.492000e+10        0  2010\n",
      "4    3.442900e+10        0  2011\n",
      "..            ...      ...   ...\n",
      "402  2.958688e+11       31  2011\n",
      "403  3.204244e+11       31  2012\n",
      "404  2.931901e+11       31  2013\n",
      "405  2.478510e+11       31  2014\n",
      "406  2.216940e+11       31  2015\n",
      "\n",
      "[278 rows x 3 columns],               co2  country  year\n",
      "0    3.443800e+10        0  2007\n",
      "1    3.609300e+10        0  2008\n",
      "2    3.109300e+10        0  2009\n",
      "3    3.492000e+10        0  2010\n",
      "4    3.442900e+10        0  2011\n",
      "..            ...      ...   ...\n",
      "403  3.204244e+11       31  2012\n",
      "404  2.931901e+11       31  2013\n",
      "405  2.478510e+11       31  2014\n",
      "406  2.216940e+11       31  2015\n",
      "407  1.775810e+11       31  2016\n",
      "\n",
      "[308 rows x 3 columns],               co2  country  year\n",
      "0    3.443800e+10        0  2007\n",
      "1    3.609300e+10        0  2008\n",
      "2    3.109300e+10        0  2009\n",
      "3    3.492000e+10        0  2010\n",
      "4    3.442900e+10        0  2011\n",
      "..            ...      ...   ...\n",
      "404  2.931901e+11       31  2013\n",
      "405  2.478510e+11       31  2014\n",
      "406  2.216940e+11       31  2015\n",
      "407  1.775810e+11       31  2016\n",
      "408  1.718850e+11       31  2017\n",
      "\n",
      "[336 rows x 3 columns],               co2  country  year\n",
      "0    3.443800e+10        0  2007\n",
      "1    3.609300e+10        0  2008\n",
      "2    3.109300e+10        0  2009\n",
      "3    3.492000e+10        0  2010\n",
      "4    3.442900e+10        0  2011\n",
      "..            ...      ...   ...\n",
      "405  2.478510e+11       31  2014\n",
      "406  2.216940e+11       31  2015\n",
      "407  1.775810e+11       31  2016\n",
      "408  1.718850e+11       31  2017\n",
      "409  1.570340e+11       31  2018\n",
      "\n",
      "[364 rows x 3 columns],               co2  country  year\n",
      "0    3.443800e+10        0  2007\n",
      "1    3.609300e+10        0  2008\n",
      "2    3.109300e+10        0  2009\n",
      "3    3.492000e+10        0  2010\n",
      "4    3.442900e+10        0  2011\n",
      "..            ...      ...   ...\n",
      "406  2.216940e+11       31  2015\n",
      "407  1.775810e+11       31  2016\n",
      "408  1.718850e+11       31  2017\n",
      "409  1.570340e+11       31  2018\n",
      "410  1.577666e+11       31  2019\n",
      "\n",
      "[391 rows x 3 columns]], 'test': [              co2  country  year\n",
      "1    3.609300e+10        0  2008\n",
      "15   5.699000e+10        1  2008\n",
      "29   3.559000e+10        2  2008\n",
      "50   6.593000e+09        4  2008\n",
      "63   7.994000e+10        5  2008\n",
      "77   2.162700e+10        6  2008\n",
      "90   2.516400e+10        7  2008\n",
      "104  5.742927e+10        8  2008\n",
      "118  1.298080e+11        9  2008\n",
      "132  4.704050e+11       10  2008\n",
      "143  6.763700e+10       11  2008\n",
      "157  2.627800e+10       12  2008\n",
      "171  1.512485e+09       13  2008\n",
      "184  1.931300e+10       14  2008\n",
      "198  2.111230e+11       15  2008\n",
      "211  3.580000e+08       16  2008\n",
      "222  6.351000e+09       17  2008\n",
      "233  2.103000e+09       18  2008\n",
      "247  4.030000e+09       19  2008\n",
      "260  1.536380e+11       20  2008\n",
      "274  1.717982e+09       21  2008\n",
      "284  1.922680e+11       22  2008\n",
      "298  2.809200e+10       23  2008\n",
      "310  6.908830e+10       24  2008\n",
      "335  1.171000e+09       26  2008\n",
      "344  1.494500e+10       27  2008\n",
      "358  1.480100e+11       28  2008\n",
      "372  6.584029e+10       29  2008\n",
      "386  8.604443e+09       30  2008\n",
      "399  2.687270e+11       31  2008,               co2  country  year\n",
      "2    3.109300e+10        0  2009\n",
      "16   4.876100e+10        1  2009\n",
      "30   2.982800e+10        2  2009\n",
      "51   6.316000e+09        4  2009\n",
      "64   7.325300e+10        5  2009\n",
      "78   2.096700e+10        6  2009\n",
      "91   1.914200e+10        7  2009\n",
      "105  7.985708e+10        8  2009\n",
      "119  1.061387e+11        9  2009\n",
      "133  5.139251e+11       10  2009\n",
      "144  6.160500e+10       11  2009\n",
      "158  2.187400e+10       12  2009\n",
      "172  1.562890e+09       13  2009\n",
      "185  1.614000e+10       14  2009\n",
      "199  1.736620e+11       15  2009\n",
      "212  1.410000e+08       16  2009\n",
      "223  4.956000e+09       17  2009\n",
      "234  2.211000e+09       18  2009\n",
      "248  3.794000e+09       19  2009\n",
      "261  1.464980e+11       20  2009\n",
      "275  2.729861e+09       21  2009\n",
      "285  1.801910e+11       22  2009\n",
      "299  3.216200e+10       23  2009\n",
      "311  4.854800e+10       24  2009\n",
      "323  0.000000e+00       25  2009\n",
      "336  1.870000e+09       26  2009\n",
      "345  9.032000e+09       27  2009\n",
      "359  1.236690e+11       28  2009\n",
      "373  6.244720e+10       29  2009\n",
      "387  8.856136e+09       30  2009\n",
      "400  3.035720e+11       31  2009,               co2  country  year\n",
      "3    3.492000e+10        0  2010\n",
      "17   5.375200e+10        1  2010\n",
      "31   3.267400e+10        2  2010\n",
      "52   5.744000e+09        4  2010\n",
      "65   1.419970e+11        5  2010\n",
      "79   2.004800e+10        6  2010\n",
      "92   2.764900e+10        7  2010\n",
      "106  9.939502e+10        8  2010\n",
      "120  1.226180e+11        9  2010\n",
      "134  5.377073e+11       10  2010\n",
      "145  5.930500e+10       11  2010\n",
      "159  2.084100e+10       12  2010\n",
      "173  1.585419e+09       13  2010\n",
      "186  1.639700e+10       14  2010\n",
      "200  1.790690e+11       15  2010\n",
      "213  0.000000e+00       16  2010\n",
      "224  6.489000e+09       17  2010\n",
      "235  2.293000e+09       18  2010\n",
      "249  3.756000e+09       19  2010\n",
      "262  1.537990e+11       20  2010\n",
      "276  2.775194e+09       21  2010\n",
      "286  1.888010e+11       22  2010\n",
      "300  2.690700e+10       23  2010\n",
      "312  4.858270e+10       24  2010\n",
      "324  0.000000e+00       25  2010\n",
      "337  1.878000e+09       26  2010\n",
      "346  8.361000e+09       27  2010\n",
      "360  1.122590e+11       28  2010\n",
      "374  7.616700e+10       29  2010\n",
      "388  9.131962e+09       30  2010\n",
      "401  3.159360e+11       31  2010,               co2  country  year\n",
      "4    3.442900e+10        0  2011\n",
      "18   5.020900e+10        1  2011\n",
      "32   3.943000e+10        2  2011\n",
      "53   5.386000e+09        4  2011\n",
      "66   1.410595e+11        5  2011\n",
      "80   1.703800e+10        6  2011\n",
      "93   2.742600e+10        7  2011\n",
      "107  8.794156e+10        8  2011\n",
      "121  1.128850e+11        9  2011\n",
      "135  5.402494e+11       10  2011\n",
      "146  5.715900e+10       11  2011\n",
      "160  2.140300e+10       12  2011\n",
      "174  1.560007e+09       13  2011\n",
      "187  1.473500e+10       14  2011\n",
      "201  1.773030e+11       15  2011\n",
      "214  0.000000e+00       16  2011\n",
      "225  4.095000e+09       17  2011\n",
      "236  2.135000e+09       18  2011\n",
      "250  3.872000e+09       19  2011\n",
      "263  1.403720e+11       20  2011\n",
      "277  1.802245e+09       21  2011\n",
      "287  1.966470e+11       22  2011\n",
      "301  2.801800e+10       23  2011\n",
      "313  5.222950e+10       24  2011\n",
      "325  0.000000e+00       25  2011\n",
      "338  1.985000e+09       26  2011\n",
      "347  8.478000e+09       27  2011\n",
      "361  1.201820e+11       28  2011\n",
      "375  7.032570e+10       29  2011\n",
      "389  8.662798e+09       30  2011\n",
      "402  2.958688e+11       31  2011,               co2  country  year\n",
      "5    3.394600e+10        0  2012\n",
      "19   4.751800e+10        1  2012\n",
      "33   3.540100e+10        2  2012\n",
      "54   5.153000e+09        4  2012\n",
      "67   1.333230e+11        5  2012\n",
      "81   1.411800e+10        6  2012\n",
      "94   2.496400e+10        7  2012\n",
      "108  7.660933e+10        8  2012\n",
      "122  1.097640e+11        9  2012\n",
      "136  5.704332e+11       10  2012\n",
      "147  6.064500e+10       11  2012\n",
      "161  1.997800e+10       12  2012\n",
      "175  1.632063e+09       13  2012\n",
      "188  1.594900e+10       14  2012\n",
      "202  1.679610e+11       15  2012\n",
      "215  0.000000e+00       16  2012\n",
      "226  3.001000e+09       17  2012\n",
      "237  2.135000e+09       18  2012\n",
      "251  4.104000e+09       19  2012\n",
      "264  1.369430e+11       20  2012\n",
      "278  3.119558e+08       21  2012\n",
      "288  1.957620e+11       22  2012\n",
      "302  3.012500e+10       23  2012\n",
      "314  4.804300e+10       24  2012\n",
      "326  0.000000e+00       25  2012\n",
      "339  1.779000e+09       26  2012\n",
      "348  8.012000e+09       27  2012\n",
      "362  1.289530e+11       28  2012\n",
      "376  6.871376e+10       29  2012\n",
      "390  8.018131e+09       30  2012\n",
      "403  3.204244e+11       31  2012,               co2  country  year\n",
      "6    3.257200e+10        0  2013\n",
      "20   4.636400e+10        1  2013\n",
      "34   3.177600e+10        2  2013\n",
      "55   8.000000e+09        4  2013\n",
      "68   1.246087e+11        5  2013\n",
      "82   1.776200e+10        6  2013\n",
      "95   3.050200e+10        7  2013\n",
      "109  8.138742e+10        8  2013\n",
      "123  1.167910e+11        9  2013\n",
      "137  5.720418e+11       10  2013\n",
      "148  5.674500e+10       11  2013\n",
      "162  1.816700e+10       12  2013\n",
      "176  1.702710e+09       13  2013\n",
      "189  1.451500e+10       14  2013\n",
      "203  1.453950e+11       15  2013\n",
      "216  0.000000e+00       16  2013\n",
      "227  2.662000e+09       17  2013\n",
      "238  1.627000e+09       18  2013\n",
      "252  1.700000e+09       19  2013\n",
      "265  1.463990e+11       20  2013\n",
      "279  1.690670e+08       21  2013\n",
      "289  1.870400e+11       22  2013\n",
      "303  2.890200e+10       23  2013\n",
      "315  3.941290e+10       24  2013\n",
      "327  0.000000e+00       25  2013\n",
      "340  1.143000e+09       26  2013\n",
      "349  7.899000e+09       27  2013\n",
      "363  1.075090e+11       28  2013\n",
      "377  6.732251e+10       29  2013\n",
      "391  8.277493e+09       30  2013\n",
      "404  2.931901e+11       31  2013,               co2  country  year\n",
      "7    3.083600e+10        0  2014\n",
      "21   4.430600e+10        1  2014\n",
      "35   3.403200e+10        2  2014\n",
      "42   5.955000e+09        3  2014\n",
      "56   8.880000e+09        4  2014\n",
      "69   1.236744e+11        5  2014\n",
      "83   1.479500e+10        6  2014\n",
      "96   2.947580e+10        7  2014\n",
      "110  7.407120e+10        8  2014\n",
      "124  1.051240e+11        9  2014\n",
      "138  5.482554e+11       10  2014\n",
      "149  5.382900e+10       11  2014\n",
      "163  1.960500e+10       12  2014\n",
      "177  1.655820e+09       13  2014\n",
      "190  1.483200e+10       14  2014\n",
      "204  1.318470e+11       15  2014\n",
      "217  0.000000e+00       16  2014\n",
      "228  5.875000e+09       17  2014\n",
      "239  1.770000e+09       18  2014\n",
      "253  1.660000e+09       19  2014\n",
      "266  1.468210e+11       20  2014\n",
      "280  9.194800e+07       21  2014\n",
      "290  2.042020e+11       22  2014\n",
      "304  2.487700e+10       23  2014\n",
      "316  4.016390e+10       24  2014\n",
      "328  0.000000e+00       25  2014\n",
      "341  7.100000e+08       26  2014\n",
      "350  6.680000e+09       27  2014\n",
      "364  1.095540e+11       28  2014\n",
      "378  6.489252e+10       29  2014\n",
      "392  8.383992e+09       30  2014\n",
      "405  2.478510e+11       31  2014,               co2  country  year\n",
      "8    3.271900e+10        0  2015\n",
      "22   4.674500e+10        1  2015\n",
      "36   3.349800e+10        2  2015\n",
      "43   6.005000e+09        3  2015\n",
      "57   8.720000e+09        4  2015\n",
      "70   1.253897e+11        5  2015\n",
      "84   1.253200e+10        6  2015\n",
      "97   1.457098e+10        7  2015\n",
      "111  6.904978e+10        8  2015\n",
      "125  1.054090e+11        9  2015\n",
      "139  5.549148e+11       10  2015\n",
      "150  4.770900e+10       11  2015\n",
      "164  2.069100e+10       12  2015\n",
      "178  1.307312e+09       13  2015\n",
      "191  1.578700e+10       14  2015\n",
      "205  1.246000e+11       15  2015\n",
      "229  7.859000e+09       17  2015\n",
      "240  1.523000e+09       18  2015\n",
      "254  0.000000e+00       19  2015\n",
      "267  1.480250e+11       20  2015\n",
      "281  4.390400e+07       21  2015\n",
      "291  1.825070e+11       22  2015\n",
      "305  2.897000e+10       23  2015\n",
      "317  3.974510e+10       24  2015\n",
      "329  0.000000e+00       25  2015\n",
      "342  7.980000e+08       26  2015\n",
      "351  6.638000e+09       27  2015\n",
      "365  1.246250e+11       28  2015\n",
      "379  6.524283e+10       29  2015\n",
      "393  7.669936e+09       30  2015\n",
      "406  2.216940e+11       31  2015,               co2  country  year\n",
      "9    3.189300e+10        0  2016\n",
      "23   4.519800e+10        1  2016\n",
      "37   2.826200e+10        2  2016\n",
      "44   5.900000e+09        3  2016\n",
      "58   9.250000e+09        4  2016\n",
      "71   1.297188e+11        5  2016\n",
      "85   1.154000e+10        6  2016\n",
      "98   2.690992e+10        7  2016\n",
      "112  7.197573e+10        8  2016\n",
      "126  1.093810e+11        9  2016\n",
      "140  5.559003e+11       10  2016\n",
      "151  4.426300e+10       11  2016\n",
      "165  1.870000e+10       12  2016\n",
      "179  1.282056e+09       13  2016\n",
      "192  1.569900e+10       14  2016\n",
      "206  1.374950e+11       15  2016\n",
      "230  5.320000e+09       17  2016\n",
      "241  1.372000e+09       18  2016\n",
      "255  0.000000e+00       19  2016\n",
      "268  1.626970e+11       20  2016\n",
      "282  1.382600e+07       21  2016\n",
      "292  1.805050e+11       22  2016\n",
      "306  2.790600e+10       23  2016\n",
      "318  3.708450e+10       24  2016\n",
      "330  0.000000e+00       25  2016\n",
      "352  7.024000e+09       27  2016\n",
      "366  1.110960e+11       28  2016\n",
      "380  6.652619e+10       29  2016\n",
      "394  7.988183e+09       30  2016\n",
      "407  1.775810e+11       31  2016,               co2  country  year\n",
      "10   2.125100e+10        0  2017\n",
      "24   4.439500e+10        1  2017\n",
      "38   3.226500e+10        2  2017\n",
      "45   6.272000e+09        3  2017\n",
      "59   9.280000e+09        4  2017\n",
      "72   1.262912e+11        5  2017\n",
      "86   1.014600e+10        6  2017\n",
      "99   3.889565e+10        7  2017\n",
      "113  6.811993e+10        8  2017\n",
      "127  1.145440e+11        9  2017\n",
      "141  5.006989e+11       10  2017\n",
      "152  4.727400e+10       11  2017\n",
      "166  1.990400e+10       12  2017\n",
      "180  1.377373e+09       13  2017\n",
      "193  8.819000e+09       14  2017\n",
      "207  1.350100e+11       15  2017\n",
      "231  5.349000e+09       17  2017\n",
      "242  1.396000e+09       18  2017\n",
      "256  6.030000e+08       19  2017\n",
      "269  1.577280e+11       20  2017\n",
      "293  1.753230e+11       22  2017\n",
      "307  3.089400e+10       23  2017\n",
      "319  3.773040e+10       24  2017\n",
      "353  7.083000e+09       27  2017\n",
      "367  1.219490e+11       28  2017\n",
      "381  6.838686e+10       29  2017\n",
      "395  7.997124e+09       30  2017\n",
      "408  1.718850e+11       31  2017,               co2  country  year\n",
      "11   3.040200e+10        0  2018\n",
      "25   4.346500e+10        1  2018\n",
      "39   3.139285e+10        2  2018\n",
      "46   6.647000e+09        3  2018\n",
      "60   9.130000e+09        4  2018\n",
      "73   1.300228e+11        5  2018\n",
      "87   1.164471e+10        6  2018\n",
      "100  2.829343e+10        7  2018\n",
      "114  7.360026e+10        8  2018\n",
      "128  9.931700e+10        9  2018\n",
      "153  5.109700e+10       11  2018\n",
      "167  2.005035e+10       12  2018\n",
      "181  1.335410e+09       13  2018\n",
      "194  9.921086e+09       14  2018\n",
      "208  1.272316e+11       15  2018\n",
      "218  2.155000e+09       16  2018\n",
      "243  1.191000e+09       18  2018\n",
      "257  0.000000e+00       19  2018\n",
      "270  1.511210e+11       20  2018\n",
      "294  1.819380e+11       22  2018\n",
      "308  3.005000e+10       23  2018\n",
      "320  3.690240e+10       24  2018\n",
      "331  0.000000e+00       25  2018\n",
      "354  7.233968e+09       27  2018\n",
      "368  1.094760e+11       28  2018\n",
      "382  6.746046e+10       29  2018\n",
      "396  7.978334e+09       30  2018\n",
      "409  1.570340e+11       31  2018,               co2  country  year\n",
      "12   2.167200e+10        0  2019\n",
      "26   4.474400e+10        1  2019\n",
      "40   2.922863e+10        2  2019\n",
      "47   6.538000e+09        3  2019\n",
      "61   8.900000e+09        4  2019\n",
      "74   1.229795e+11        5  2019\n",
      "88   9.434044e+09        6  2019\n",
      "101  1.756985e+10        7  2019\n",
      "115  7.283992e+10        8  2019\n",
      "129  9.034400e+10        9  2019\n",
      "154  3.858952e+10       11  2019\n",
      "168  1.878381e+10       12  2019\n",
      "182  7.641705e+08       13  2019\n",
      "195  1.377266e+10       14  2019\n",
      "209  1.214200e+11       15  2019\n",
      "219  2.129000e+09       16  2019\n",
      "244  1.417000e+09       18  2019\n",
      "258  5.440000e+08       19  2019\n",
      "271  8.934000e+10       20  2019\n",
      "295  1.717460e+11       22  2019\n",
      "321  3.399490e+10       24  2019\n",
      "332  0.000000e+00       25  2019\n",
      "355  6.843796e+09       27  2019\n",
      "369  9.237100e+10       28  2019\n",
      "383  6.515121e+10       29  2019\n",
      "397  7.888034e+09       30  2019\n",
      "410  1.577666e+11       31  2019,               co2  country  year\n",
      "13   1.277000e+10        0  2020\n",
      "27   4.112200e+10        1  2020\n",
      "41   2.165258e+10        2  2020\n",
      "48   6.349000e+09        3  2020\n",
      "75   1.015565e+11        5  2020\n",
      "102  1.206393e+10        7  2020\n",
      "116  5.854513e+10        8  2020\n",
      "130  8.188400e+10        9  2020\n",
      "155  3.026000e+10       11  2020\n",
      "169  1.956553e+10       12  2020\n",
      "196  1.284162e+10       14  2020\n",
      "220  1.712000e+09       16  2020\n",
      "245  1.257000e+09       18  2020\n",
      "272  8.243200e+10       20  2020\n",
      "296  1.175910e+11       22  2020\n",
      "322  3.901020e+10       24  2020\n",
      "333  0.000000e+00       25  2020\n",
      "356  6.524347e+09       27  2020\n",
      "370  7.804700e+10       28  2020\n",
      "384  5.951055e+10       29  2020]}\n"
     ]
    }
   ],
   "source": [
    "print(splits_pollutant)"
   ],
   "metadata": {
    "collapsed": false,
    "pycharm": {
     "name": "#%%\n"
    }
   }
  },
  {
   "cell_type": "code",
   "execution_count": 17,
   "outputs": [
    {
     "data": {
      "text/plain": "              co2  country  year\n0    3.443800e+10        0  2007\n1    3.609300e+10        0  2008\n2    3.109300e+10        0  2009\n14   5.680400e+10        1  2007\n15   5.699000e+10        1  2008\n..            ...      ...   ...\n386  8.604443e+09       30  2008\n387  8.856136e+09       30  2009\n398  2.838139e+11       31  2007\n399  2.687270e+11       31  2008\n400  3.035720e+11       31  2009\n\n[91 rows x 3 columns]",
      "text/html": "<div>\n<style scoped>\n    .dataframe tbody tr th:only-of-type {\n        vertical-align: middle;\n    }\n\n    .dataframe tbody tr th {\n        vertical-align: top;\n    }\n\n    .dataframe thead th {\n        text-align: right;\n    }\n</style>\n<table border=\"1\" class=\"dataframe\">\n  <thead>\n    <tr style=\"text-align: right;\">\n      <th></th>\n      <th>co2</th>\n      <th>country</th>\n      <th>year</th>\n    </tr>\n  </thead>\n  <tbody>\n    <tr>\n      <th>0</th>\n      <td>3.443800e+10</td>\n      <td>0</td>\n      <td>2007</td>\n    </tr>\n    <tr>\n      <th>1</th>\n      <td>3.609300e+10</td>\n      <td>0</td>\n      <td>2008</td>\n    </tr>\n    <tr>\n      <th>2</th>\n      <td>3.109300e+10</td>\n      <td>0</td>\n      <td>2009</td>\n    </tr>\n    <tr>\n      <th>14</th>\n      <td>5.680400e+10</td>\n      <td>1</td>\n      <td>2007</td>\n    </tr>\n    <tr>\n      <th>15</th>\n      <td>5.699000e+10</td>\n      <td>1</td>\n      <td>2008</td>\n    </tr>\n    <tr>\n      <th>...</th>\n      <td>...</td>\n      <td>...</td>\n      <td>...</td>\n    </tr>\n    <tr>\n      <th>386</th>\n      <td>8.604443e+09</td>\n      <td>30</td>\n      <td>2008</td>\n    </tr>\n    <tr>\n      <th>387</th>\n      <td>8.856136e+09</td>\n      <td>30</td>\n      <td>2009</td>\n    </tr>\n    <tr>\n      <th>398</th>\n      <td>2.838139e+11</td>\n      <td>31</td>\n      <td>2007</td>\n    </tr>\n    <tr>\n      <th>399</th>\n      <td>2.687270e+11</td>\n      <td>31</td>\n      <td>2008</td>\n    </tr>\n    <tr>\n      <th>400</th>\n      <td>3.035720e+11</td>\n      <td>31</td>\n      <td>2009</td>\n    </tr>\n  </tbody>\n</table>\n<p>91 rows × 3 columns</p>\n</div>"
     },
     "metadata": {},
     "output_type": "display_data"
    }
   ],
   "source": [
    "display( splits_pollutant['train'][2])"
   ],
   "metadata": {
    "collapsed": false,
    "pycharm": {
     "name": "#%%\n"
    }
   }
  },
  {
   "cell_type": "code",
   "execution_count": 19,
   "outputs": [
    {
     "data": {
      "text/plain": "              co2\n0    3.443800e+10\n1    3.609300e+10\n2    3.109300e+10\n14   5.680400e+10\n15   5.699000e+10\n..            ...\n386  8.604443e+09\n387  8.856136e+09\n398  2.838139e+11\n399  2.687270e+11\n400  3.035720e+11\n\n[91 rows x 1 columns]",
      "text/html": "<div>\n<style scoped>\n    .dataframe tbody tr th:only-of-type {\n        vertical-align: middle;\n    }\n\n    .dataframe tbody tr th {\n        vertical-align: top;\n    }\n\n    .dataframe thead th {\n        text-align: right;\n    }\n</style>\n<table border=\"1\" class=\"dataframe\">\n  <thead>\n    <tr style=\"text-align: right;\">\n      <th></th>\n      <th>co2</th>\n    </tr>\n  </thead>\n  <tbody>\n    <tr>\n      <th>0</th>\n      <td>3.443800e+10</td>\n    </tr>\n    <tr>\n      <th>1</th>\n      <td>3.609300e+10</td>\n    </tr>\n    <tr>\n      <th>2</th>\n      <td>3.109300e+10</td>\n    </tr>\n    <tr>\n      <th>14</th>\n      <td>5.680400e+10</td>\n    </tr>\n    <tr>\n      <th>15</th>\n      <td>5.699000e+10</td>\n    </tr>\n    <tr>\n      <th>...</th>\n      <td>...</td>\n    </tr>\n    <tr>\n      <th>386</th>\n      <td>8.604443e+09</td>\n    </tr>\n    <tr>\n      <th>387</th>\n      <td>8.856136e+09</td>\n    </tr>\n    <tr>\n      <th>398</th>\n      <td>2.838139e+11</td>\n    </tr>\n    <tr>\n      <th>399</th>\n      <td>2.687270e+11</td>\n    </tr>\n    <tr>\n      <th>400</th>\n      <td>3.035720e+11</td>\n    </tr>\n  </tbody>\n</table>\n<p>91 rows × 1 columns</p>\n</div>"
     },
     "metadata": {},
     "output_type": "display_data"
    }
   ],
   "source": [
    "display(splits_pollutant['train'][2][[selected_pollutant]])"
   ],
   "metadata": {
    "collapsed": false,
    "pycharm": {
     "name": "#%%\n"
    }
   }
  },
  {
   "cell_type": "code",
   "execution_count": 19,
   "outputs": [],
   "source": [
    "# train:  [2007, 2008, 2009] test:  [2010]\n",
    "\n",
    "index = 12\n",
    "X_train = splits_pollutant['train'][index][['year', 'country']]\n",
    "y_train = splits_pollutant['train'][index][[selected_pollutant]]\n",
    "X_test = splits_pollutant['test'][index][['year', 'country']]\n",
    "y_test = splits_pollutant['test'][index][[selected_pollutant]]\n",
    "\n",
    "X_standard = StandardScaler().fit_transform(X_train, X_test)\n",
    "\n",
    "decision_model = DecisionTreeRegressor()\n",
    "dt_model = decision_model.fit(X_train, y_train)\n",
    "\n",
    "y_pred = dt_model.predict(X_test)"
   ],
   "metadata": {
    "collapsed": false,
    "pycharm": {
     "name": "#%%\n"
    }
   }
  },
  {
   "cell_type": "code",
   "execution_count": 20,
   "outputs": [
    {
     "name": "stdout",
     "output_type": "stream",
     "text": [
      "RMSE of Decision Tree Regression: 14540912642.100061\n",
      "Precision: 4.74%\n",
      "R² score on test set using Decision Tree Regression : 0.8339\n"
     ]
    }
   ],
   "source": [
    "from sklearn.metrics import r2_score\n",
    "from sklearn.metrics import mean_squared_log_error as rmsle\n",
    "\n",
    "print('RMSE of Decision Tree Regression:', np.sqrt(mean_squared_error(y_pred, y_test)))\n",
    "print(f'Precision: {(rmsle(y_test, y_pred))*100:0.2f}%')\n",
    "print('R² score on test set using Decision Tree Regression : {:.4f}'.format(r2_score(y_test, y_pred)))"
   ],
   "metadata": {
    "collapsed": false,
    "pycharm": {
     "name": "#%%\n"
    }
   }
  },
  {
   "cell_type": "code",
   "execution_count": 21,
   "outputs": [
    {
     "data": {
      "text/plain": "<Figure size 432x288 with 1 Axes>",
      "image/png": "[encoded data removed]"
     },
     "metadata": {
      "needs_background": "light"
     },
     "output_type": "display_data"
    }
   ],
   "source": [
    "plt.scatter(y_test, y_pred)\n",
    "plt.xlabel('real values')\n",
    "plt.ylabel('predictions')\n",
    "plt.show()"
   ],
   "metadata": {
    "collapsed": false,
    "pycharm": {
     "name": "#%%\n"
    }
   }
  },
  {
   "cell_type": "code",
   "execution_count": 22,
   "outputs": [
    {
     "data": {
      "text/plain": "<Figure size 432x288 with 1 Axes>",
      "image/png": "[encoded data removed]"
     },
     "metadata": {
      "needs_background": "light"
     },
     "output_type": "display_data"
    },
    {
     "data": {
      "text/plain": "<Figure size 432x288 with 1 Axes>",
      "image/png": "[encoded data removed]"
     },
     "metadata": {
      "needs_background": "light"
     },
     "output_type": "display_data"
    }
   ],
   "source": [
    "plt.plot(y_test)\n",
    "plt.show()\n",
    "plt.plot(y_pred, color='yellow')\n",
    "plt.show()"
   ],
   "metadata": {
    "collapsed": false,
    "pycharm": {
     "name": "#%%\n"
    }
   }
  },
  {
   "cell_type": "code",
   "source": [
    "fig, ax = plt.subplots(figsize=(12, 4))\n",
    "\n",
    "ax.plot(y_test, 'x-', alpha=0.2, label=\"Actual results\", color='black')\n",
    "ax.plot(y_pred, 'x-', label='Prediction')\n",
    "_ = ax.legend()"
   ],
   "metadata": {
    "collapsed": false,
    "pycharm": {
     "name": "#%%\n"
    }
   },
   "execution_count": 23,
   "outputs": [
    {
     "data": {
      "text/plain": "<Figure size 864x288 with 1 Axes>",
      "image/png": "[encoded data removed]"
     },
     "metadata": {
      "needs_background": "light"
     },
     "output_type": "display_data"
    }
   ]
  },
  {
   "cell_type": "code",
   "execution_count": null,
   "outputs": [],
   "source": [],
   "metadata": {
    "collapsed": false,
    "pycharm": {
     "name": "#%%\n"
    }
   }
  }
 ],
 "metadata": {
  "kernelspec": {
   "display_name": "Python 3",
   "language": "python",
   "name": "python3"
  },
  "language_info": {
   "codemirror_mode": {
    "name": "ipython",
    "version": 2
   },
   "file_extension": ".py",
   "mimetype": "text/x-python",
   "name": "python",
   "nbconvert_exporter": "python",
   "pygments_lexer": "ipython2",
   "version": "2.7.6"
  }
 },
 "nbformat": 4,
 "nbformat_minor": 0
}