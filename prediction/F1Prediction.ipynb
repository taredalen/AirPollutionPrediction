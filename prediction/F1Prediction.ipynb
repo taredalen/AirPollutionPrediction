{
 "cells": [
  {
   "cell_type": "markdown",
   "metadata": {
    "collapsed": true,
    "pycharm": {
     "name": "#%% md\n"
    }
   },
   "source": [
    "## Decision Tree Regression\n",
    "---"
   ]
  },
  {
   "cell_type": "code",
   "execution_count": 45,
   "outputs": [],
   "source": [
    "import pandas as pd\n",
    "import numpy as np\n",
    "from sklearn.metrics import mean_squared_error\n",
    "from sklearn.tree import DecisionTreeRegressor\n",
    "from sklearn.model_selection import train_test_split\n",
    "from sklearn.model_selection import GridSearchCV\n",
    "from sklearn.preprocessing import StandardScaler\n",
    "from IPython.core.display_functions import display\n",
    "from sklearn.metrics import mean_squared_error,mean_absolute_error"
   ],
   "metadata": {
    "collapsed": false,
    "pycharm": {
     "name": "#%%\n"
    }
   }
  },
  {
   "cell_type": "code",
   "execution_count": 49,
   "outputs": [
    {
     "data": {
      "text/plain": "   EPRTRSectorCode  EPRTRAnnexIMainActivityCode    emissions  Longitude  \\\n0                4                          4.0       3300.0  14.336056   \n1                9                          2.0     170000.0  15.477778   \n2                6                          3.0  228000000.0  15.691833   \n3                6                          3.0     311000.0  15.691833   \n4                3                          2.0  329000000.0  14.159778   \n\n    Latitude  reportingYear  \n0  48.290943           2007  \n1  47.019170           2007  \n2  48.259556           2007  \n3  48.259556           2007  \n4  47.807083           2007  ",
      "text/html": "<div>\n<style scoped>\n    .dataframe tbody tr th:only-of-type {\n        vertical-align: middle;\n    }\n\n    .dataframe tbody tr th {\n        vertical-align: top;\n    }\n\n    .dataframe thead th {\n        text-align: right;\n    }\n</style>\n<table border=\"1\" class=\"dataframe\">\n  <thead>\n    <tr style=\"text-align: right;\">\n      <th></th>\n      <th>EPRTRSectorCode</th>\n      <th>EPRTRAnnexIMainActivityCode</th>\n      <th>emissions</th>\n      <th>Longitude</th>\n      <th>Latitude</th>\n      <th>reportingYear</th>\n    </tr>\n  </thead>\n  <tbody>\n    <tr>\n      <th>0</th>\n      <td>4</td>\n      <td>4.0</td>\n      <td>3300.0</td>\n      <td>14.336056</td>\n      <td>48.290943</td>\n      <td>2007</td>\n    </tr>\n    <tr>\n      <th>1</th>\n      <td>9</td>\n      <td>2.0</td>\n      <td>170000.0</td>\n      <td>15.477778</td>\n      <td>47.019170</td>\n      <td>2007</td>\n    </tr>\n    <tr>\n      <th>2</th>\n      <td>6</td>\n      <td>3.0</td>\n      <td>228000000.0</td>\n      <td>15.691833</td>\n      <td>48.259556</td>\n      <td>2007</td>\n    </tr>\n    <tr>\n      <th>3</th>\n      <td>6</td>\n      <td>3.0</td>\n      <td>311000.0</td>\n      <td>15.691833</td>\n      <td>48.259556</td>\n      <td>2007</td>\n    </tr>\n    <tr>\n      <th>4</th>\n      <td>3</td>\n      <td>2.0</td>\n      <td>329000000.0</td>\n      <td>14.159778</td>\n      <td>47.807083</td>\n      <td>2007</td>\n    </tr>\n  </tbody>\n</table>\n</div>"
     },
     "metadata": {},
     "output_type": "display_data"
    },
    {
     "name": "stdout",
     "output_type": "stream",
     "text": [
      "<class 'pandas.core.frame.DataFrame'>\n",
      "RangeIndex: 288566 entries, 0 to 288565\n",
      "Data columns (total 6 columns):\n",
      " #   Column                       Non-Null Count   Dtype  \n",
      "---  ------                       --------------   -----  \n",
      " 0   EPRTRSectorCode              288566 non-null  int64  \n",
      " 1   EPRTRAnnexIMainActivityCode  288566 non-null  float64\n",
      " 2   emissions                    288566 non-null  float64\n",
      " 3   Longitude                    288566 non-null  float64\n",
      " 4   Latitude                     288566 non-null  float64\n",
      " 5   reportingYear                288566 non-null  int64  \n",
      "dtypes: float64(4), int64(2)\n",
      "memory usage: 13.2 MB\n"
     ]
    }
   ],
   "source": [
    "df_air = pd.read_csv('../data/F1_4_clean_data.csv', on_bad_lines='skip', sep=',',  na_filter=True)\n",
    "#df_air = df_air[['EPRTRSectorCode', 'EPRTRAnnexIMainActivityCode', 'pollutant', 'emissions', 'Longitude', 'Latitude', 'reportingYear']]\n",
    "df_air = df_air[['EPRTRSectorCode', 'EPRTRAnnexIMainActivityCode', 'emissions', 'Longitude', 'Latitude', 'reportingYear']]\n",
    "\n",
    "display(df_air.head())\n",
    "df_air.info()"
   ],
   "metadata": {
    "collapsed": false,
    "pycharm": {
     "name": "#%%\n"
    }
   }
  },
  {
   "cell_type": "code",
   "execution_count": 50,
   "outputs": [
    {
     "name": "stdout",
     "output_type": "stream",
     "text": [
      "Training data size: (201996, 5)\n",
      "Test data size: (86570, 5)\n"
     ]
    }
   ],
   "source": [
    "X = df_air.drop('emissions', axis=1)\n",
    "y = df_air['emissions'].values\n",
    "\n",
    "scaler = StandardScaler()\n",
    "X_standard = scaler.fit_transform(X.values)\n",
    "\n",
    "X_train, X_test, y_train, y_test = train_test_split(X, y, test_size=0.3, random_state=42)\n",
    "\n",
    "print('Training data size:', X_train.shape)\n",
    "print('Test data size:', X_test.shape)"
   ],
   "metadata": {
    "collapsed": false,
    "pycharm": {
     "name": "#%%\n"
    }
   }
  },
  {
   "cell_type": "code",
   "execution_count": 51,
   "outputs": [
    {
     "name": "stdout",
     "output_type": "stream",
     "text": [
      "RMSE of Decision Tree Regression: 747221544.6503382\n"
     ]
    }
   ],
   "source": [
    "decision_model = DecisionTreeRegressor()\n",
    "dt_model = decision_model.fit(X_train,y_train)\n",
    "\n",
    "y_pred_dtone = dt_model.predict(X_test)\n",
    "\n",
    "print('RMSE of Decision Tree Regression:',np.sqrt(mean_squared_error(y_pred_dtone,y_test)))"
   ],
   "metadata": {
    "collapsed": false,
    "pycharm": {
     "name": "#%%\n"
    }
   }
  },
  {
   "cell_type": "code",
   "execution_count": 48,
   "outputs": [],
   "source": [],
   "metadata": {
    "collapsed": false,
    "pycharm": {
     "name": "#%%\n"
    }
   }
  },
  {
   "cell_type": "code",
   "execution_count": null,
   "outputs": [],
   "source": [],
   "metadata": {
    "collapsed": false,
    "pycharm": {
     "name": "#%%\n"
    }
   }
  }
 ],
 "metadata": {
  "kernelspec": {
   "display_name": "Python 3",
   "language": "python",
   "name": "python3"
  },
  "language_info": {
   "codemirror_mode": {
    "name": "ipython",
    "version": 2
   },
   "file_extension": ".py",
   "mimetype": "text/x-python",
   "name": "python",
   "nbconvert_exporter": "python",
   "pygments_lexer": "ipython2",
   "version": "2.7.6"
  }
 },
 "nbformat": 4,
 "nbformat_minor": 0
}