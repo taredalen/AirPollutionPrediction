{
 "cells": [
  {
   "cell_type": "markdown",
   "metadata": {
    "collapsed": true,
    "pycharm": {
     "name": "#%% md\n"
    }
   },
   "source": [
    "## Decision Tree Regression\n",
    "---"
   ]
  },
  {
   "cell_type": "code",
   "execution_count": 6,
   "outputs": [],
   "source": [
    "import numpy as np\n",
    "import pandas as pd\n",
    "from IPython.core.display import SVG\n",
    "from sklearn.metrics import accuracy_score\n",
    "from sklearn.metrics import mean_squared_error\n",
    "from sklearn.tree import DecisionTreeRegressor\n",
    "from sklearn.model_selection import train_test_split\n",
    "from sklearn.model_selection import GridSearchCV\n",
    "from sklearn.preprocessing import StandardScaler\n",
    "from IPython.core.display_functions import display\n",
    "from sklearn.metrics import mean_squared_error, mean_absolute_error\n",
    "\n",
    "import matplotlib.pyplot as plt\n",
    "\n",
    "%matplotlib inline"
   ],
   "metadata": {
    "collapsed": false,
    "pycharm": {
     "name": "#%%\n"
    }
   }
  },
  {
   "cell_type": "code",
   "execution_count": 3,
   "outputs": [
    {
     "data": {
      "text/plain": "   EPRTRSectorCode  EPRTRAnnexIMainActivityCode    emissions  Longitude  \\\n0                4                          4.0       3300.0  14.336056   \n1                9                          2.0     170000.0  15.477778   \n2                6                          3.0  228000000.0  15.691833   \n3                6                          3.0     311000.0  15.691833   \n4                3                          2.0  329000000.0  14.159778   \n\n    Latitude  reportingYear  \n0  48.290943           2007  \n1  47.019170           2007  \n2  48.259556           2007  \n3  48.259556           2007  \n4  47.807083           2007  ",
      "text/html": "<div>\n<style scoped>\n    .dataframe tbody tr th:only-of-type {\n        vertical-align: middle;\n    }\n\n    .dataframe tbody tr th {\n        vertical-align: top;\n    }\n\n    .dataframe thead th {\n        text-align: right;\n    }\n</style>\n<table border=\"1\" class=\"dataframe\">\n  <thead>\n    <tr style=\"text-align: right;\">\n      <th></th>\n      <th>EPRTRSectorCode</th>\n      <th>EPRTRAnnexIMainActivityCode</th>\n      <th>emissions</th>\n      <th>Longitude</th>\n      <th>Latitude</th>\n      <th>reportingYear</th>\n    </tr>\n  </thead>\n  <tbody>\n    <tr>\n      <th>0</th>\n      <td>4</td>\n      <td>4.0</td>\n      <td>3300.0</td>\n      <td>14.336056</td>\n      <td>48.290943</td>\n      <td>2007</td>\n    </tr>\n    <tr>\n      <th>1</th>\n      <td>9</td>\n      <td>2.0</td>\n      <td>170000.0</td>\n      <td>15.477778</td>\n      <td>47.019170</td>\n      <td>2007</td>\n    </tr>\n    <tr>\n      <th>2</th>\n      <td>6</td>\n      <td>3.0</td>\n      <td>228000000.0</td>\n      <td>15.691833</td>\n      <td>48.259556</td>\n      <td>2007</td>\n    </tr>\n    <tr>\n      <th>3</th>\n      <td>6</td>\n      <td>3.0</td>\n      <td>311000.0</td>\n      <td>15.691833</td>\n      <td>48.259556</td>\n      <td>2007</td>\n    </tr>\n    <tr>\n      <th>4</th>\n      <td>3</td>\n      <td>2.0</td>\n      <td>329000000.0</td>\n      <td>14.159778</td>\n      <td>47.807083</td>\n      <td>2007</td>\n    </tr>\n  </tbody>\n</table>\n</div>"
     },
     "metadata": {},
     "output_type": "display_data"
    },
    {
     "name": "stdout",
     "output_type": "stream",
     "text": [
      "<class 'pandas.core.frame.DataFrame'>\n",
      "RangeIndex: 288566 entries, 0 to 288565\n",
      "Data columns (total 6 columns):\n",
      " #   Column                       Non-Null Count   Dtype  \n",
      "---  ------                       --------------   -----  \n",
      " 0   EPRTRSectorCode              288566 non-null  int64  \n",
      " 1   EPRTRAnnexIMainActivityCode  288566 non-null  float64\n",
      " 2   emissions                    288566 non-null  float64\n",
      " 3   Longitude                    288566 non-null  float64\n",
      " 4   Latitude                     288566 non-null  float64\n",
      " 5   reportingYear                288566 non-null  int64  \n",
      "dtypes: float64(4), int64(2)\n",
      "memory usage: 13.2 MB\n"
     ]
    }
   ],
   "source": [
    "df_air = pd.read_csv('../data/F1_4_clean_data.csv', on_bad_lines='skip', sep=',',  na_filter=True)\n",
    "\n",
    "df_air = df_air[['EPRTRSectorCode', 'EPRTRAnnexIMainActivityCode', 'emissions', 'Longitude', 'Latitude', 'reportingYear']]\n",
    "\n",
    "display(df_air.head())\n",
    "df_air.info()"
   ],
   "metadata": {
    "collapsed": false,
    "pycharm": {
     "name": "#%%\n"
    }
   }
  },
  {
   "cell_type": "code",
   "execution_count": 61,
   "outputs": [
    {
     "name": "stdout",
     "output_type": "stream",
     "text": [
      "Training data size: (201996, 5)\n",
      "Test data size: (86570, 5)\n"
     ]
    }
   ],
   "source": [
    "X = df_air.drop('emissions', axis=1)\n",
    "y = df_air['emissions'].values\n",
    "\n",
    "scaler = StandardScaler()\n",
    "X_standard = scaler.fit_transform(X)\n",
    "\n",
    "X_train, X_test, y_train, y_test = train_test_split(X, y, test_size=0.3, random_state=21)\n",
    "\n",
    "print('Training data size:', X_train.shape)\n",
    "print('Test data size:', X_test.shape)"
   ],
   "metadata": {
    "collapsed": false,
    "pycharm": {
     "name": "#%%\n"
    }
   }
  },
  {
   "cell_type": "code",
   "execution_count": 62,
   "outputs": [
    {
     "name": "stdout",
     "output_type": "stream",
     "text": [
      "RMSE of Decision Tree Regression: 737282058.2094653\n"
     ]
    }
   ],
   "source": [
    "decision_model = DecisionTreeRegressor()\n",
    "dt_model = decision_model.fit(X_train,y_train)\n",
    "\n",
    "y_pred = dt_model.predict(X_test)\n",
    "\n",
    "print('RMSE of Decision Tree Regression:', np.sqrt(mean_squared_error(y_pred,y_test)))\n",
    "\n",
    "#accuracy = accuracy_score(y_test, y_pred)\n",
    "#print(accuracy)"
   ],
   "metadata": {
    "collapsed": false,
    "pycharm": {
     "name": "#%%\n"
    }
   }
  },
  {
   "cell_type": "code",
   "execution_count": 63,
   "outputs": [],
   "source": [
    "import graphviz\n",
    "from IPython.display import SVG\n",
    "from sklearn.tree import export_graphviz"
   ],
   "metadata": {
    "collapsed": false,
    "pycharm": {
     "name": "#%%\n"
    }
   }
  },
  {
   "cell_type": "code",
   "execution_count": null,
   "outputs": [],
   "source": [
    "dot_model = export_graphviz(decision_model)\n",
    "graph = graphviz.Source(dot_model)\n",
    "SVG(graph.pipe(format='svg'))"
   ],
   "metadata": {
    "collapsed": false,
    "pycharm": {
     "name": "#%%\n",
     "is_executing": true
    }
   }
  },
  {
   "cell_type": "markdown",
   "source": [
    "## Decision Tree Regression With Pivot Table\n",
    "---"
   ],
   "metadata": {
    "collapsed": false,
    "pycharm": {
     "name": "#%% md\n"
    }
   }
  },
  {
   "cell_type": "code",
   "execution_count": 7,
   "outputs": [
    {
     "data": {
      "text/plain": "   country  EPRTRSectorCode                           eprtrSectorName  \\\n0  Austria                4                         Chemical industry   \n1  Austria                9                          Other activities   \n2  Austria                6  Paper and wood production and processing   \n3  Austria                6  Paper and wood production and processing   \n4  Austria                3                          Mineral industry   \n\n   EPRTRAnnexIMainActivityCode  \\\n0                          4.0   \n1                          2.0   \n2                          3.0   \n3                          3.0   \n4                          2.0   \n\n                        EPRTRAnnexIMainActivityLabel  \\\n0  Chemical installations for the production on a...   \n1  Installations for the surface treatment of sub...   \n2  Industrial plants for the production of paper ...   \n3  Industrial plants for the production of paper ...   \n4  Installations for the production of cement cli...   \n\n                FacilityInspireID                          facilityName  \\\n0  AT.CAED/9008390392737.FACILITY                   Nufarm GmbH & CO KG   \n1  AT.CAED/9008390396414.FACILITY  MAGNA STEYR Fahrzeugtechnik AG&Co KG   \n2  AT.CAED/9008390397176.FACILITY             Fritz EGGER GmbH & Co. OG   \n3  AT.CAED/9008390397176.FACILITY             Fritz EGGER GmbH & Co. OG   \n4  AT.CAED/9008390397220.FACILITY                voestalpine Stahl GmbH   \n\n   Longitude   Latitude                    City pollutant    emissions  year  \n0  14.336056  48.290943                    Linz   DCE-1,2       3300.0  2007  \n1  15.477778  47.019170   Graz,07.Bez.:Liebenau     NMVOC     170000.0  2007  \n2  15.691833  48.259556           Unterradlberg       CO2  228000000.0  2007  \n3  15.691833  48.259556           Unterradlberg       NOx     311000.0  2007  \n4  14.159778  47.807083  Klaus an der Pyhrnbahn       CO2  329000000.0  2007  ",
      "text/html": "<div>\n<style scoped>\n    .dataframe tbody tr th:only-of-type {\n        vertical-align: middle;\n    }\n\n    .dataframe tbody tr th {\n        vertical-align: top;\n    }\n\n    .dataframe thead th {\n        text-align: right;\n    }\n</style>\n<table border=\"1\" class=\"dataframe\">\n  <thead>\n    <tr style=\"text-align: right;\">\n      <th></th>\n      <th>country</th>\n      <th>EPRTRSectorCode</th>\n      <th>eprtrSectorName</th>\n      <th>EPRTRAnnexIMainActivityCode</th>\n      <th>EPRTRAnnexIMainActivityLabel</th>\n      <th>FacilityInspireID</th>\n      <th>facilityName</th>\n      <th>Longitude</th>\n      <th>Latitude</th>\n      <th>City</th>\n      <th>pollutant</th>\n      <th>emissions</th>\n      <th>year</th>\n    </tr>\n  </thead>\n  <tbody>\n    <tr>\n      <th>0</th>\n      <td>Austria</td>\n      <td>4</td>\n      <td>Chemical industry</td>\n      <td>4.0</td>\n      <td>Chemical installations for the production on a...</td>\n      <td>AT.CAED/9008390392737.FACILITY</td>\n      <td>Nufarm GmbH &amp; CO KG</td>\n      <td>14.336056</td>\n      <td>48.290943</td>\n      <td>Linz</td>\n      <td>DCE-1,2</td>\n      <td>3300.0</td>\n      <td>2007</td>\n    </tr>\n    <tr>\n      <th>1</th>\n      <td>Austria</td>\n      <td>9</td>\n      <td>Other activities</td>\n      <td>2.0</td>\n      <td>Installations for the surface treatment of sub...</td>\n      <td>AT.CAED/9008390396414.FACILITY</td>\n      <td>MAGNA STEYR Fahrzeugtechnik AG&amp;Co KG</td>\n      <td>15.477778</td>\n      <td>47.019170</td>\n      <td>Graz,07.Bez.:Liebenau</td>\n      <td>NMVOC</td>\n      <td>170000.0</td>\n      <td>2007</td>\n    </tr>\n    <tr>\n      <th>2</th>\n      <td>Austria</td>\n      <td>6</td>\n      <td>Paper and wood production and processing</td>\n      <td>3.0</td>\n      <td>Industrial plants for the production of paper ...</td>\n      <td>AT.CAED/9008390397176.FACILITY</td>\n      <td>Fritz EGGER GmbH &amp; Co. OG</td>\n      <td>15.691833</td>\n      <td>48.259556</td>\n      <td>Unterradlberg</td>\n      <td>CO2</td>\n      <td>228000000.0</td>\n      <td>2007</td>\n    </tr>\n    <tr>\n      <th>3</th>\n      <td>Austria</td>\n      <td>6</td>\n      <td>Paper and wood production and processing</td>\n      <td>3.0</td>\n      <td>Industrial plants for the production of paper ...</td>\n      <td>AT.CAED/9008390397176.FACILITY</td>\n      <td>Fritz EGGER GmbH &amp; Co. OG</td>\n      <td>15.691833</td>\n      <td>48.259556</td>\n      <td>Unterradlberg</td>\n      <td>NOx</td>\n      <td>311000.0</td>\n      <td>2007</td>\n    </tr>\n    <tr>\n      <th>4</th>\n      <td>Austria</td>\n      <td>3</td>\n      <td>Mineral industry</td>\n      <td>2.0</td>\n      <td>Installations for the production of cement cli...</td>\n      <td>AT.CAED/9008390397220.FACILITY</td>\n      <td>voestalpine Stahl GmbH</td>\n      <td>14.159778</td>\n      <td>47.807083</td>\n      <td>Klaus an der Pyhrnbahn</td>\n      <td>CO2</td>\n      <td>329000000.0</td>\n      <td>2007</td>\n    </tr>\n  </tbody>\n</table>\n</div>"
     },
     "execution_count": 7,
     "metadata": {},
     "output_type": "execute_result"
    }
   ],
   "source": [
    "df = pd.read_csv('../data/F1_4_clean_data.csv', on_bad_lines='skip', sep=',',  na_filter=True)\n",
    "df = df.rename(columns={'countryName': 'country', 'reportingYear':'year'}).drop(columns=['Unnamed: 0'], axis=1)\n",
    "df.head()"
   ],
   "metadata": {
    "collapsed": false,
    "pycharm": {
     "name": "#%%\n"
    }
   }
  },
  {
   "cell_type": "code",
   "execution_count": 8,
   "outputs": [
    {
     "data": {
      "text/plain": "pollutant     2-ethyl hexyl  Aldrin  Anthracene    As  Asbestos  Benzene  \\\ncountry year                                                               \nAustria 2007            0.0       0         0.0   0.0       0.0   6050.0   \n        2008            0.0       0         0.0   0.0       0.0   7880.0   \n        2009            0.0       0         0.0   0.0       0.0   9070.0   \n        2010            0.0       0         0.0   0.0       0.0   3800.0   \n        2011            0.0       0         0.0   0.0       0.0   4240.0   \n        2012            0.0       0         0.0   0.0       0.0   4240.0   \n        2013            0.0       0         0.0   0.0       0.0   4010.0   \n        2014            0.0       0         0.0   0.0       0.0   3910.0   \n        2015            0.0       0         0.0  23.0       0.0   3820.0   \n        2016            0.0       0         0.0  20.1       0.0   3760.0   \n\npollutant     Benzo(g,h,i)perylene  CFCs         CH4           CO  ...  TRI  \\\ncountry year                                                       ...        \nAustria 2007                   0.0   0.0  20953000.0  163261000.0  ...  0.0   \n        2008                   0.0   0.0  18584000.0  144793000.0  ...  0.0   \n        2009                   0.0   0.0  13526000.0  134999000.0  ...  0.0   \n        2010                   0.0   0.0  13735000.0  124908000.0  ...  0.0   \n        2011                   0.0   0.0  13277000.0  136169000.0  ...  0.0   \n        2012                   0.0   0.0  11387000.0  137505000.0  ...  0.0   \n        2013                   0.0   0.0  10477000.0  144702000.0  ...  0.0   \n        2014                   0.0   0.0   9247000.0  152779000.0  ...  0.0   \n        2015                   0.0   0.0   8848000.0  164138000.0  ...  0.0   \n        2016                   0.0   0.0   7096000.0  161331000.0  ...  0.0   \n\npollutant          Teq  Tetrachloroethylene  Toluene  Trichloromethane  \\\ncountry year                                                             \nAustria 2007  0.002320                    0      0.0                 0   \n        2008  0.001760                    0      0.0                 0   \n        2009  0.001370                    0      0.0                 0   \n        2010  0.001640                    0      0.0                 0   \n        2011  0.001390                    0      0.0                 0   \n        2012  0.001530                    0      0.0                 0   \n        2013  0.001620                    0      0.0                 0   \n        2014  0.001959                    0      0.0                 0   \n        2015  0.001250                    0      0.0                 0   \n        2016  0.001380                    0      0.0                 0   \n\npollutant     Vinyl chloride  Xylenes       Zn  total C  total F  \ncountry year                                                      \nAustria 2007               0        0  18820.0        0      0.0  \n        2008               0        0  12140.0        0      0.0  \n        2009               0        0   6664.0        0      0.0  \n        2010               0        0   9934.0        0      0.0  \n        2011               0        0   8490.0        0      0.0  \n        2012               0        0   8960.0        0      0.0  \n        2013               0        0  13835.0        0      0.0  \n        2014               0        0  12389.0        0      0.0  \n        2015               0        0  15517.0        0      0.0  \n        2016               0        0  12753.0        0      0.0  \n\n[10 rows x 62 columns]",
      "text/html": "<div>\n<style scoped>\n    .dataframe tbody tr th:only-of-type {\n        vertical-align: middle;\n    }\n\n    .dataframe tbody tr th {\n        vertical-align: top;\n    }\n\n    .dataframe thead th {\n        text-align: right;\n    }\n</style>\n<table border=\"1\" class=\"dataframe\">\n  <thead>\n    <tr style=\"text-align: right;\">\n      <th></th>\n      <th>pollutant</th>\n      <th>2-ethyl hexyl</th>\n      <th>Aldrin</th>\n      <th>Anthracene</th>\n      <th>As</th>\n      <th>Asbestos</th>\n      <th>Benzene</th>\n      <th>Benzo(g,h,i)perylene</th>\n      <th>CFCs</th>\n      <th>CH4</th>\n      <th>CO</th>\n      <th>...</th>\n      <th>TRI</th>\n      <th>Teq</th>\n      <th>Tetrachloroethylene</th>\n      <th>Toluene</th>\n      <th>Trichloromethane</th>\n      <th>Vinyl chloride</th>\n      <th>Xylenes</th>\n      <th>Zn</th>\n      <th>total C</th>\n      <th>total F</th>\n    </tr>\n    <tr>\n      <th>country</th>\n      <th>year</th>\n      <th></th>\n      <th></th>\n      <th></th>\n      <th></th>\n      <th></th>\n      <th></th>\n      <th></th>\n      <th></th>\n      <th></th>\n      <th></th>\n      <th></th>\n      <th></th>\n      <th></th>\n      <th></th>\n      <th></th>\n      <th></th>\n      <th></th>\n      <th></th>\n      <th></th>\n      <th></th>\n      <th></th>\n    </tr>\n  </thead>\n  <tbody>\n    <tr>\n      <th rowspan=\"10\" valign=\"top\">Austria</th>\n      <th>2007</th>\n      <td>0.0</td>\n      <td>0</td>\n      <td>0.0</td>\n      <td>0.0</td>\n      <td>0.0</td>\n      <td>6050.0</td>\n      <td>0.0</td>\n      <td>0.0</td>\n      <td>20953000.0</td>\n      <td>163261000.0</td>\n      <td>...</td>\n      <td>0.0</td>\n      <td>0.002320</td>\n      <td>0</td>\n      <td>0.0</td>\n      <td>0</td>\n      <td>0</td>\n      <td>0</td>\n      <td>18820.0</td>\n      <td>0</td>\n      <td>0.0</td>\n    </tr>\n    <tr>\n      <th>2008</th>\n      <td>0.0</td>\n      <td>0</td>\n      <td>0.0</td>\n      <td>0.0</td>\n      <td>0.0</td>\n      <td>7880.0</td>\n      <td>0.0</td>\n      <td>0.0</td>\n      <td>18584000.0</td>\n      <td>144793000.0</td>\n      <td>...</td>\n      <td>0.0</td>\n      <td>0.001760</td>\n      <td>0</td>\n      <td>0.0</td>\n      <td>0</td>\n      <td>0</td>\n      <td>0</td>\n      <td>12140.0</td>\n      <td>0</td>\n      <td>0.0</td>\n    </tr>\n    <tr>\n      <th>2009</th>\n      <td>0.0</td>\n      <td>0</td>\n      <td>0.0</td>\n      <td>0.0</td>\n      <td>0.0</td>\n      <td>9070.0</td>\n      <td>0.0</td>\n      <td>0.0</td>\n      <td>13526000.0</td>\n      <td>134999000.0</td>\n      <td>...</td>\n      <td>0.0</td>\n      <td>0.001370</td>\n      <td>0</td>\n      <td>0.0</td>\n      <td>0</td>\n      <td>0</td>\n      <td>0</td>\n      <td>6664.0</td>\n      <td>0</td>\n      <td>0.0</td>\n    </tr>\n    <tr>\n      <th>2010</th>\n      <td>0.0</td>\n      <td>0</td>\n      <td>0.0</td>\n      <td>0.0</td>\n      <td>0.0</td>\n      <td>3800.0</td>\n      <td>0.0</td>\n      <td>0.0</td>\n      <td>13735000.0</td>\n      <td>124908000.0</td>\n      <td>...</td>\n      <td>0.0</td>\n      <td>0.001640</td>\n      <td>0</td>\n      <td>0.0</td>\n      <td>0</td>\n      <td>0</td>\n      <td>0</td>\n      <td>9934.0</td>\n      <td>0</td>\n      <td>0.0</td>\n    </tr>\n    <tr>\n      <th>2011</th>\n      <td>0.0</td>\n      <td>0</td>\n      <td>0.0</td>\n      <td>0.0</td>\n      <td>0.0</td>\n      <td>4240.0</td>\n      <td>0.0</td>\n      <td>0.0</td>\n      <td>13277000.0</td>\n      <td>136169000.0</td>\n      <td>...</td>\n      <td>0.0</td>\n      <td>0.001390</td>\n      <td>0</td>\n      <td>0.0</td>\n      <td>0</td>\n      <td>0</td>\n      <td>0</td>\n      <td>8490.0</td>\n      <td>0</td>\n      <td>0.0</td>\n    </tr>\n    <tr>\n      <th>2012</th>\n      <td>0.0</td>\n      <td>0</td>\n      <td>0.0</td>\n      <td>0.0</td>\n      <td>0.0</td>\n      <td>4240.0</td>\n      <td>0.0</td>\n      <td>0.0</td>\n      <td>11387000.0</td>\n      <td>137505000.0</td>\n      <td>...</td>\n      <td>0.0</td>\n      <td>0.001530</td>\n      <td>0</td>\n      <td>0.0</td>\n      <td>0</td>\n      <td>0</td>\n      <td>0</td>\n      <td>8960.0</td>\n      <td>0</td>\n      <td>0.0</td>\n    </tr>\n    <tr>\n      <th>2013</th>\n      <td>0.0</td>\n      <td>0</td>\n      <td>0.0</td>\n      <td>0.0</td>\n      <td>0.0</td>\n      <td>4010.0</td>\n      <td>0.0</td>\n      <td>0.0</td>\n      <td>10477000.0</td>\n      <td>144702000.0</td>\n      <td>...</td>\n      <td>0.0</td>\n      <td>0.001620</td>\n      <td>0</td>\n      <td>0.0</td>\n      <td>0</td>\n      <td>0</td>\n      <td>0</td>\n      <td>13835.0</td>\n      <td>0</td>\n      <td>0.0</td>\n    </tr>\n    <tr>\n      <th>2014</th>\n      <td>0.0</td>\n      <td>0</td>\n      <td>0.0</td>\n      <td>0.0</td>\n      <td>0.0</td>\n      <td>3910.0</td>\n      <td>0.0</td>\n      <td>0.0</td>\n      <td>9247000.0</td>\n      <td>152779000.0</td>\n      <td>...</td>\n      <td>0.0</td>\n      <td>0.001959</td>\n      <td>0</td>\n      <td>0.0</td>\n      <td>0</td>\n      <td>0</td>\n      <td>0</td>\n      <td>12389.0</td>\n      <td>0</td>\n      <td>0.0</td>\n    </tr>\n    <tr>\n      <th>2015</th>\n      <td>0.0</td>\n      <td>0</td>\n      <td>0.0</td>\n      <td>23.0</td>\n      <td>0.0</td>\n      <td>3820.0</td>\n      <td>0.0</td>\n      <td>0.0</td>\n      <td>8848000.0</td>\n      <td>164138000.0</td>\n      <td>...</td>\n      <td>0.0</td>\n      <td>0.001250</td>\n      <td>0</td>\n      <td>0.0</td>\n      <td>0</td>\n      <td>0</td>\n      <td>0</td>\n      <td>15517.0</td>\n      <td>0</td>\n      <td>0.0</td>\n    </tr>\n    <tr>\n      <th>2016</th>\n      <td>0.0</td>\n      <td>0</td>\n      <td>0.0</td>\n      <td>20.1</td>\n      <td>0.0</td>\n      <td>3760.0</td>\n      <td>0.0</td>\n      <td>0.0</td>\n      <td>7096000.0</td>\n      <td>161331000.0</td>\n      <td>...</td>\n      <td>0.0</td>\n      <td>0.001380</td>\n      <td>0</td>\n      <td>0.0</td>\n      <td>0</td>\n      <td>0</td>\n      <td>0</td>\n      <td>12753.0</td>\n      <td>0</td>\n      <td>0.0</td>\n    </tr>\n  </tbody>\n</table>\n<p>10 rows × 62 columns</p>\n</div>"
     },
     "execution_count": 8,
     "metadata": {},
     "output_type": "execute_result"
    }
   ],
   "source": [
    "data_pivoted = df.pivot_table(index=['country', 'year'], columns=['pollutant'], values='emissions', aggfunc=np.sum, fill_value=0)\n",
    "data_pivoted.head(10)"
   ],
   "metadata": {
    "collapsed": false,
    "pycharm": {
     "name": "#%%\n"
    }
   }
  },
  {
   "cell_type": "code",
   "execution_count": 11,
   "outputs": [
    {
     "data": {
      "text/plain": "              2_ethyl_hexyl  aldrin  anthracene         as  asbestos  \\\ncountry year                                                           \nAustria 2007           0.00       0         0.0    0.00000       0.0   \n        2008           0.00       0         0.0    0.00000       0.0   \n        2009           0.00       0         0.0    0.00000       0.0   \n        2010           0.00       0         0.0    0.00000       0.0   \n        2011           0.00       0         0.0    0.00000       0.0   \n...                     ...     ...         ...        ...       ...   \nCzechia 2020          16.73       0         0.0  816.14781       0.0   \nDenmark 2007           0.00       0         0.0  182.00000       0.0   \n        2008           0.00       0         0.0   74.00000       0.0   \n        2009           0.00       0         0.0   28.00000       0.0   \n        2010           0.00       0         0.0    0.00000       0.0   \n\n               benzene  benzo_g_h_i_perylene   cfcs           ch4  \\\ncountry year                                                        \nAustria 2007  6050.000                   0.0    0.0  2.095300e+07   \n        2008  7880.000                   0.0    0.0  1.858400e+07   \n        2009  9070.000                   0.0    0.0  1.352600e+07   \n        2010  3800.000                   0.0    0.0  1.373500e+07   \n        2011  4240.000                   0.0    0.0  1.327700e+07   \n...                ...                   ...    ...           ...   \nCzechia 2020  9019.744                   0.0    0.0  1.578320e+06   \nDenmark 2007  3340.000                   0.0    0.0  1.922300e+07   \n        2008  2040.000                   0.0  100.0  1.576000e+07   \n        2009  1140.000                   0.0    0.0  1.765700e+07   \n        2010     0.000                   0.0    0.0  1.531300e+07   \n\n                        co  ...      tri       teq  tetrachloroethylene  \\\ncountry year                ...                                           \nAustria 2007  1.632610e+08  ...      0.0  0.002320                    0   \n        2008  1.447930e+08  ...      0.0  0.001760                    0   \n        2009  1.349990e+08  ...      0.0  0.001370                    0   \n        2010  1.249080e+08  ...      0.0  0.001640                    0   \n        2011  1.361690e+08  ...      0.0  0.001390                    0   \n...                    ...  ...      ...       ...                  ...   \nCzechia 2020  1.443809e+08  ...  32001.0  0.005333                 3117   \nDenmark 2007  8.766000e+06  ...      0.0  0.000000                    0   \n        2008  6.138000e+06  ...      0.0  0.028410                    0   \n        2009  4.587000e+06  ...      0.0  0.003600                    0   \n        2010  2.480000e+06  ...      0.0  0.000000                    0   \n\n              toluene  trichloromethane  vinyl_chloride  xylenes          zn  \\\ncountry year                                                                   \nAustria 2007      0.0                 0               0        0  18820.0000   \n        2008      0.0                 0               0        0  12140.0000   \n        2009      0.0                 0               0        0   6664.0000   \n        2010      0.0                 0               0        0   9934.0000   \n        2011      0.0                 0               0        0   8490.0000   \n...               ...               ...             ...      ...         ...   \nCzechia 2020      0.0                 0            2286        0   3957.8855   \nDenmark 2007      0.0                 0               0        0   3500.0000   \n        2008      0.0                 0               0        0   2700.0000   \n        2009      0.0                 0               0        0    746.0000   \n        2010      0.0                 0               0        0    746.0000   \n\n              total_c  total_f  \ncountry year                    \nAustria 2007        0      0.0  \n        2008        0      0.0  \n        2009        0      0.0  \n        2010        0      0.0  \n        2011        0      0.0  \n...               ...      ...  \nCzechia 2020        0      0.0  \nDenmark 2007        0      0.0  \n        2008        0      0.0  \n        2009        0      0.0  \n        2010        0      0.0  \n\n[80 rows x 62 columns]",
      "text/html": "<div>\n<style scoped>\n    .dataframe tbody tr th:only-of-type {\n        vertical-align: middle;\n    }\n\n    .dataframe tbody tr th {\n        vertical-align: top;\n    }\n\n    .dataframe thead th {\n        text-align: right;\n    }\n</style>\n<table border=\"1\" class=\"dataframe\">\n  <thead>\n    <tr style=\"text-align: right;\">\n      <th></th>\n      <th></th>\n      <th>2_ethyl_hexyl</th>\n      <th>aldrin</th>\n      <th>anthracene</th>\n      <th>as</th>\n      <th>asbestos</th>\n      <th>benzene</th>\n      <th>benzo_g_h_i_perylene</th>\n      <th>cfcs</th>\n      <th>ch4</th>\n      <th>co</th>\n      <th>...</th>\n      <th>tri</th>\n      <th>teq</th>\n      <th>tetrachloroethylene</th>\n      <th>toluene</th>\n      <th>trichloromethane</th>\n      <th>vinyl_chloride</th>\n      <th>xylenes</th>\n      <th>zn</th>\n      <th>total_c</th>\n      <th>total_f</th>\n    </tr>\n    <tr>\n      <th>country</th>\n      <th>year</th>\n      <th></th>\n      <th></th>\n      <th></th>\n      <th></th>\n      <th></th>\n      <th></th>\n      <th></th>\n      <th></th>\n      <th></th>\n      <th></th>\n      <th></th>\n      <th></th>\n      <th></th>\n      <th></th>\n      <th></th>\n      <th></th>\n      <th></th>\n      <th></th>\n      <th></th>\n      <th></th>\n      <th></th>\n    </tr>\n  </thead>\n  <tbody>\n    <tr>\n      <th rowspan=\"5\" valign=\"top\">Austria</th>\n      <th>2007</th>\n      <td>0.00</td>\n      <td>0</td>\n      <td>0.0</td>\n      <td>0.00000</td>\n      <td>0.0</td>\n      <td>6050.000</td>\n      <td>0.0</td>\n      <td>0.0</td>\n      <td>2.095300e+07</td>\n      <td>1.632610e+08</td>\n      <td>...</td>\n      <td>0.0</td>\n      <td>0.002320</td>\n      <td>0</td>\n      <td>0.0</td>\n      <td>0</td>\n      <td>0</td>\n      <td>0</td>\n      <td>18820.0000</td>\n      <td>0</td>\n      <td>0.0</td>\n    </tr>\n    <tr>\n      <th>2008</th>\n      <td>0.00</td>\n      <td>0</td>\n      <td>0.0</td>\n      <td>0.00000</td>\n      <td>0.0</td>\n      <td>7880.000</td>\n      <td>0.0</td>\n      <td>0.0</td>\n      <td>1.858400e+07</td>\n      <td>1.447930e+08</td>\n      <td>...</td>\n      <td>0.0</td>\n      <td>0.001760</td>\n      <td>0</td>\n      <td>0.0</td>\n      <td>0</td>\n      <td>0</td>\n      <td>0</td>\n      <td>12140.0000</td>\n      <td>0</td>\n      <td>0.0</td>\n    </tr>\n    <tr>\n      <th>2009</th>\n      <td>0.00</td>\n      <td>0</td>\n      <td>0.0</td>\n      <td>0.00000</td>\n      <td>0.0</td>\n      <td>9070.000</td>\n      <td>0.0</td>\n      <td>0.0</td>\n      <td>1.352600e+07</td>\n      <td>1.349990e+08</td>\n      <td>...</td>\n      <td>0.0</td>\n      <td>0.001370</td>\n      <td>0</td>\n      <td>0.0</td>\n      <td>0</td>\n      <td>0</td>\n      <td>0</td>\n      <td>6664.0000</td>\n      <td>0</td>\n      <td>0.0</td>\n    </tr>\n    <tr>\n      <th>2010</th>\n      <td>0.00</td>\n      <td>0</td>\n      <td>0.0</td>\n      <td>0.00000</td>\n      <td>0.0</td>\n      <td>3800.000</td>\n      <td>0.0</td>\n      <td>0.0</td>\n      <td>1.373500e+07</td>\n      <td>1.249080e+08</td>\n      <td>...</td>\n      <td>0.0</td>\n      <td>0.001640</td>\n      <td>0</td>\n      <td>0.0</td>\n      <td>0</td>\n      <td>0</td>\n      <td>0</td>\n      <td>9934.0000</td>\n      <td>0</td>\n      <td>0.0</td>\n    </tr>\n    <tr>\n      <th>2011</th>\n      <td>0.00</td>\n      <td>0</td>\n      <td>0.0</td>\n      <td>0.00000</td>\n      <td>0.0</td>\n      <td>4240.000</td>\n      <td>0.0</td>\n      <td>0.0</td>\n      <td>1.327700e+07</td>\n      <td>1.361690e+08</td>\n      <td>...</td>\n      <td>0.0</td>\n      <td>0.001390</td>\n      <td>0</td>\n      <td>0.0</td>\n      <td>0</td>\n      <td>0</td>\n      <td>0</td>\n      <td>8490.0000</td>\n      <td>0</td>\n      <td>0.0</td>\n    </tr>\n    <tr>\n      <th>...</th>\n      <th>...</th>\n      <td>...</td>\n      <td>...</td>\n      <td>...</td>\n      <td>...</td>\n      <td>...</td>\n      <td>...</td>\n      <td>...</td>\n      <td>...</td>\n      <td>...</td>\n      <td>...</td>\n      <td>...</td>\n      <td>...</td>\n      <td>...</td>\n      <td>...</td>\n      <td>...</td>\n      <td>...</td>\n      <td>...</td>\n      <td>...</td>\n      <td>...</td>\n      <td>...</td>\n      <td>...</td>\n    </tr>\n    <tr>\n      <th>Czechia</th>\n      <th>2020</th>\n      <td>16.73</td>\n      <td>0</td>\n      <td>0.0</td>\n      <td>816.14781</td>\n      <td>0.0</td>\n      <td>9019.744</td>\n      <td>0.0</td>\n      <td>0.0</td>\n      <td>1.578320e+06</td>\n      <td>1.443809e+08</td>\n      <td>...</td>\n      <td>32001.0</td>\n      <td>0.005333</td>\n      <td>3117</td>\n      <td>0.0</td>\n      <td>0</td>\n      <td>2286</td>\n      <td>0</td>\n      <td>3957.8855</td>\n      <td>0</td>\n      <td>0.0</td>\n    </tr>\n    <tr>\n      <th rowspan=\"4\" valign=\"top\">Denmark</th>\n      <th>2007</th>\n      <td>0.00</td>\n      <td>0</td>\n      <td>0.0</td>\n      <td>182.00000</td>\n      <td>0.0</td>\n      <td>3340.000</td>\n      <td>0.0</td>\n      <td>0.0</td>\n      <td>1.922300e+07</td>\n      <td>8.766000e+06</td>\n      <td>...</td>\n      <td>0.0</td>\n      <td>0.000000</td>\n      <td>0</td>\n      <td>0.0</td>\n      <td>0</td>\n      <td>0</td>\n      <td>0</td>\n      <td>3500.0000</td>\n      <td>0</td>\n      <td>0.0</td>\n    </tr>\n    <tr>\n      <th>2008</th>\n      <td>0.00</td>\n      <td>0</td>\n      <td>0.0</td>\n      <td>74.00000</td>\n      <td>0.0</td>\n      <td>2040.000</td>\n      <td>0.0</td>\n      <td>100.0</td>\n      <td>1.576000e+07</td>\n      <td>6.138000e+06</td>\n      <td>...</td>\n      <td>0.0</td>\n      <td>0.028410</td>\n      <td>0</td>\n      <td>0.0</td>\n      <td>0</td>\n      <td>0</td>\n      <td>0</td>\n      <td>2700.0000</td>\n      <td>0</td>\n      <td>0.0</td>\n    </tr>\n    <tr>\n      <th>2009</th>\n      <td>0.00</td>\n      <td>0</td>\n      <td>0.0</td>\n      <td>28.00000</td>\n      <td>0.0</td>\n      <td>1140.000</td>\n      <td>0.0</td>\n      <td>0.0</td>\n      <td>1.765700e+07</td>\n      <td>4.587000e+06</td>\n      <td>...</td>\n      <td>0.0</td>\n      <td>0.003600</td>\n      <td>0</td>\n      <td>0.0</td>\n      <td>0</td>\n      <td>0</td>\n      <td>0</td>\n      <td>746.0000</td>\n      <td>0</td>\n      <td>0.0</td>\n    </tr>\n    <tr>\n      <th>2010</th>\n      <td>0.00</td>\n      <td>0</td>\n      <td>0.0</td>\n      <td>0.00000</td>\n      <td>0.0</td>\n      <td>0.000</td>\n      <td>0.0</td>\n      <td>0.0</td>\n      <td>1.531300e+07</td>\n      <td>2.480000e+06</td>\n      <td>...</td>\n      <td>0.0</td>\n      <td>0.000000</td>\n      <td>0</td>\n      <td>0.0</td>\n      <td>0</td>\n      <td>0</td>\n      <td>0</td>\n      <td>746.0000</td>\n      <td>0</td>\n      <td>0.0</td>\n    </tr>\n  </tbody>\n</table>\n<p>80 rows × 62 columns</p>\n</div>"
     },
     "execution_count": 11,
     "metadata": {},
     "output_type": "execute_result"
    }
   ],
   "source": [
    "from slugify import slugify\n",
    "\n",
    "data_pivoted.columns = [slugify(c, separator='_') for c in data_pivoted.columns]\n",
    "data_pivoted.head(80)"
   ],
   "metadata": {
    "collapsed": false,
    "pycharm": {
     "name": "#%%\n"
    }
   }
  },
  {
   "cell_type": "code",
   "execution_count": 12,
   "outputs": [
    {
     "data": {
      "text/plain": "              2_ethyl_hexyl  aldrin  anthracene      as  asbestos  benzene  \\\ncountry year                                                                 \nPoland  2016          106.6    4010         0.0  3629.9       0.0  21910.0   \n\n              benzo_g_h_i_perylene  cfcs          ch4           co  ...  tri  \\\ncountry year                                                        ...        \nPoland  2016                   0.0   8.0  550427000.0  279520000.0  ...  0.0   \n\n                   teq  tetrachloroethylene  toluene  trichloromethane  \\\ncountry year                                                             \nPoland  2016  0.216424                24270      0.0              1800   \n\n              vinyl_chloride  xylenes       zn  total_c  total_f  \ncountry year                                                      \nPoland  2016           11000        0  61070.0        0      0.0  \n\n[1 rows x 62 columns]",
      "text/html": "<div>\n<style scoped>\n    .dataframe tbody tr th:only-of-type {\n        vertical-align: middle;\n    }\n\n    .dataframe tbody tr th {\n        vertical-align: top;\n    }\n\n    .dataframe thead th {\n        text-align: right;\n    }\n</style>\n<table border=\"1\" class=\"dataframe\">\n  <thead>\n    <tr style=\"text-align: right;\">\n      <th></th>\n      <th></th>\n      <th>2_ethyl_hexyl</th>\n      <th>aldrin</th>\n      <th>anthracene</th>\n      <th>as</th>\n      <th>asbestos</th>\n      <th>benzene</th>\n      <th>benzo_g_h_i_perylene</th>\n      <th>cfcs</th>\n      <th>ch4</th>\n      <th>co</th>\n      <th>...</th>\n      <th>tri</th>\n      <th>teq</th>\n      <th>tetrachloroethylene</th>\n      <th>toluene</th>\n      <th>trichloromethane</th>\n      <th>vinyl_chloride</th>\n      <th>xylenes</th>\n      <th>zn</th>\n      <th>total_c</th>\n      <th>total_f</th>\n    </tr>\n    <tr>\n      <th>country</th>\n      <th>year</th>\n      <th></th>\n      <th></th>\n      <th></th>\n      <th></th>\n      <th></th>\n      <th></th>\n      <th></th>\n      <th></th>\n      <th></th>\n      <th></th>\n      <th></th>\n      <th></th>\n      <th></th>\n      <th></th>\n      <th></th>\n      <th></th>\n      <th></th>\n      <th></th>\n      <th></th>\n      <th></th>\n      <th></th>\n    </tr>\n  </thead>\n  <tbody>\n    <tr>\n      <th>Poland</th>\n      <th>2016</th>\n      <td>106.6</td>\n      <td>4010</td>\n      <td>0.0</td>\n      <td>3629.9</td>\n      <td>0.0</td>\n      <td>21910.0</td>\n      <td>0.0</td>\n      <td>8.0</td>\n      <td>550427000.0</td>\n      <td>279520000.0</td>\n      <td>...</td>\n      <td>0.0</td>\n      <td>0.216424</td>\n      <td>24270</td>\n      <td>0.0</td>\n      <td>1800</td>\n      <td>11000</td>\n      <td>0</td>\n      <td>61070.0</td>\n      <td>0</td>\n      <td>0.0</td>\n    </tr>\n  </tbody>\n</table>\n<p>1 rows × 62 columns</p>\n</div>"
     },
     "execution_count": 12,
     "metadata": {},
     "output_type": "execute_result"
    }
   ],
   "source": [
    "data_pivoted.query('aldrin > 0')"
   ],
   "metadata": {
    "collapsed": false,
    "pycharm": {
     "name": "#%%\n"
    }
   }
  },
  {
   "cell_type": "code",
   "execution_count": 13,
   "outputs": [],
   "source": [
    "# remove the following comment to drop the multi-level index\n",
    "data_pivoted.reset_index(inplace=True)"
   ],
   "metadata": {
    "collapsed": false,
    "pycharm": {
     "name": "#%%\n"
    }
   }
  },
  {
   "cell_type": "code",
   "execution_count": 54,
   "outputs": [
    {
     "data": {
      "text/plain": "Index(['country', 'year', '2_ethyl_hexyl', 'aldrin', 'anthracene', 'as',\n       'asbestos', 'benzene', 'benzo_g_h_i_perylene', 'cfcs', 'ch4', 'co',\n       'co2', 'cd', 'chlordecone', 'cr', 'cu', 'dce_12', 'dcm',\n       'ethyl_benzene', 'ethylene_oxide', 'fine_particulate_matter_pm2_5',\n       'hcb', 'hcfcs', 'hch', 'hcn', 'hcl', 'hf', 'hfcs', 'halons', 'hg',\n       'lindane', 'n2o', 'nh3', 'nmvoc', 'nox', 'naphthalene', 'ni',\n       'nonylphenol_and_nonylphenol_ethoxylates', 'pahs', 'pbde', 'pcbs',\n       'pcp', 'pfcs', 'pm10', 'pb', 'pentachlorobenzene', 'sf6', 'sox', 'tcb',\n       'tce_111', 'tcm', 'tetrachloroethane_1122', 'toc', 'tri', 'teq',\n       'tetrachloroethylene', 'toluene', 'trichloromethane', 'vinyl_chloride',\n       'xylenes', 'zn', 'total_c', 'total_f'],\n      dtype='object')"
     },
     "execution_count": 54,
     "metadata": {},
     "output_type": "execute_result"
    }
   ],
   "source": [
    "data_pivoted.columns"
   ],
   "metadata": {
    "collapsed": false,
    "pycharm": {
     "name": "#%%\n"
    }
   }
  },
  {
   "cell_type": "code",
   "execution_count": 87,
   "outputs": [
    {
     "name": "stdout",
     "output_type": "stream",
     "text": [
      "Rows for aldrin : 1\n",
      "Rows for anthracene : 60\n",
      "Rows for asbestos : 7\n",
      "Rows for benzene : 281\n",
      "Rows for benzo_g_h_i_perylene : 14\n",
      "Rows for cfcs : 163\n",
      "Rows for ch4 : 387\n",
      "Rows for co : 374\n",
      "Rows for co2 : 392\n",
      "Rows for cd : 300\n",
      "Rows for chlordecone : 1\n",
      "Rows for cr : 273\n",
      "Rows for cu : 294\n",
      "Rows for dce_12 : 143\n",
      "Rows for dcm : 210\n",
      "Rows for ethyl_benzene : 2\n",
      "Rows for ethylene_oxide : 58\n",
      "Rows for fine_particulate_matter_pm2_5 : 2\n",
      "Rows for hcb : 29\n",
      "Rows for hcfcs : 214\n",
      "Rows for hch : 1\n",
      "Rows for hcn : 179\n",
      "Rows for hcl : 289\n",
      "Rows for hf : 267\n",
      "Rows for hfcs : 230\n",
      "Rows for halons : 65\n",
      "Rows for hg : 337\n",
      "Rows for lindane : 3\n",
      "Rows for n2o : 337\n",
      "Rows for nh3 : 385\n",
      "Rows for nmvoc : 353\n",
      "Rows for nox : 394\n",
      "Rows for naphthalene : 194\n",
      "Rows for ni : 318\n",
      "Rows for nonylphenol_and_nonylphenol_ethoxylates : 1\n",
      "Rows for pahs : 225\n",
      "Rows for pbde : 2\n",
      "Rows for pcbs : 153\n",
      "Rows for pcp : 10\n",
      "Rows for pfcs : 172\n",
      "Rows for pm10 : 376\n",
      "Rows for pb : 281\n",
      "Rows for pentachlorobenzene : 10\n",
      "Rows for sf6 : 114\n",
      "Rows for sox : 398\n",
      "Rows for tcb : 38\n",
      "Rows for tce_111 : 39\n",
      "Rows for tcm : 84\n",
      "Rows for tetrachloroethane_1122 : 52\n",
      "Rows for toc : 10\n",
      "Rows for tri : 97\n",
      "Rows for teq : 292\n",
      "Rows for tetrachloroethylene : 130\n",
      "Rows for toluene : 8\n",
      "Rows for trichloromethane : 130\n",
      "Rows for vinyl_chloride : 148\n",
      "Rows for xylenes : 2\n",
      "Rows for zn : 334\n",
      "Rows for total_c : 4\n",
      "Rows for total_f : 3\n"
     ]
    }
   ],
   "source": [
    "for element in list(data_pivoted.columns):\n",
    "    if element not in ['country', 'year', '2_ethyl_hexyl', 'as']:\n",
    "        rows = data_pivoted.query('{} > 0'.format(element)).shape[0]\n",
    "        print(f'Rows for {element} : {rows}')\n",
    "        #if rows < 3: data_pivoted.drop([element], axis=1)"
   ],
   "metadata": {
    "collapsed": false,
    "pycharm": {
     "name": "#%%\n"
    }
   }
  },
  {
   "cell_type": "code",
   "execution_count": null,
   "outputs": [],
   "source": [],
   "metadata": {
    "collapsed": false,
    "pycharm": {
     "name": "#%%\n"
    }
   }
  }
 ],
 "metadata": {
  "kernelspec": {
   "display_name": "Python 3",
   "language": "python",
   "name": "python3"
  },
  "language_info": {
   "codemirror_mode": {
    "name": "ipython",
    "version": 2
   },
   "file_extension": ".py",
   "mimetype": "text/x-python",
   "name": "python",
   "nbconvert_exporter": "python",
   "pygments_lexer": "ipython2",
   "version": "2.7.6"
  }
 },
 "nbformat": 4,
 "nbformat_minor": 0
}