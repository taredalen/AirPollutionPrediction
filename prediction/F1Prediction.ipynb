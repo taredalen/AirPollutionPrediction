{
 "cells": [
  {
   "cell_type": "markdown",
   "metadata": {
    "collapsed": true,
    "pycharm": {
     "name": "#%% md\n"
    }
   },
   "source": [
    "\n",
    "# Decision Tree Regression"
   ]
  },
  {
   "cell_type": "code",
   "execution_count": 3,
   "outputs": [],
   "source": [
    "import numpy as np\n",
    "import pandas as pd\n",
    "from sklearn.tree import DecisionTreeRegressor\n",
    "from sklearn.model_selection import train_test_split\n",
    "from sklearn.preprocessing import StandardScaler\n",
    "from IPython.core.display_functions import display\n",
    "from sklearn.metrics import mean_squared_error\n",
    "\n",
    "import matplotlib.pyplot as plt\n",
    "from sklearn.tree._criterion import MAE\n",
    "\n",
    "%matplotlib inline"
   ],
   "metadata": {
    "collapsed": false,
    "pycharm": {
     "name": "#%%\n"
    }
   }
  },
  {
   "cell_type": "code",
   "execution_count": 3,
   "outputs": [
    {
     "data": {
      "text/plain": "   EPRTRSectorCode  EPRTRAnnexIMainActivityCode    emissions  Longitude  \\\n0                4                          4.0       3300.0  14.336056   \n1                9                          2.0     170000.0  15.477778   \n2                6                          3.0  228000000.0  15.691833   \n3                6                          3.0     311000.0  15.691833   \n4                3                          2.0  329000000.0  14.159778   \n\n    Latitude  reportingYear  \n0  48.290943           2007  \n1  47.019170           2007  \n2  48.259556           2007  \n3  48.259556           2007  \n4  47.807083           2007  ",
      "text/html": "<div>\n<style scoped>\n    .dataframe tbody tr th:only-of-type {\n        vertical-align: middle;\n    }\n\n    .dataframe tbody tr th {\n        vertical-align: top;\n    }\n\n    .dataframe thead th {\n        text-align: right;\n    }\n</style>\n<table border=\"1\" class=\"dataframe\">\n  <thead>\n    <tr style=\"text-align: right;\">\n      <th></th>\n      <th>EPRTRSectorCode</th>\n      <th>EPRTRAnnexIMainActivityCode</th>\n      <th>emissions</th>\n      <th>Longitude</th>\n      <th>Latitude</th>\n      <th>reportingYear</th>\n    </tr>\n  </thead>\n  <tbody>\n    <tr>\n      <th>0</th>\n      <td>4</td>\n      <td>4.0</td>\n      <td>3300.0</td>\n      <td>14.336056</td>\n      <td>48.290943</td>\n      <td>2007</td>\n    </tr>\n    <tr>\n      <th>1</th>\n      <td>9</td>\n      <td>2.0</td>\n      <td>170000.0</td>\n      <td>15.477778</td>\n      <td>47.019170</td>\n      <td>2007</td>\n    </tr>\n    <tr>\n      <th>2</th>\n      <td>6</td>\n      <td>3.0</td>\n      <td>228000000.0</td>\n      <td>15.691833</td>\n      <td>48.259556</td>\n      <td>2007</td>\n    </tr>\n    <tr>\n      <th>3</th>\n      <td>6</td>\n      <td>3.0</td>\n      <td>311000.0</td>\n      <td>15.691833</td>\n      <td>48.259556</td>\n      <td>2007</td>\n    </tr>\n    <tr>\n      <th>4</th>\n      <td>3</td>\n      <td>2.0</td>\n      <td>329000000.0</td>\n      <td>14.159778</td>\n      <td>47.807083</td>\n      <td>2007</td>\n    </tr>\n  </tbody>\n</table>\n</div>"
     },
     "metadata": {},
     "output_type": "display_data"
    }
   ],
   "source": [
    "df_air = pd.read_csv('../data/F1_4_clean_data.csv', on_bad_lines='skip', sep=',',  na_filter=True)\n",
    "\n",
    "df_air = df_air[['EPRTRSectorCode', 'EPRTRAnnexIMainActivityCode', 'emissions', 'Longitude', 'Latitude', 'reportingYear']]\n",
    "\n",
    "display(df_air.head())"
   ],
   "metadata": {
    "collapsed": false,
    "pycharm": {
     "name": "#%%\n"
    }
   }
  },
  {
   "cell_type": "code",
   "execution_count": 4,
   "outputs": [
    {
     "name": "stdout",
     "output_type": "stream",
     "text": [
      "Training data size: (201996, 5)\n",
      "Test data size: (86570, 5)\n"
     ]
    }
   ],
   "source": [
    "X = df_air.drop('emissions', axis=1)\n",
    "y = df_air['emissions'].values\n",
    "\n",
    "scaler = StandardScaler()\n",
    "X_standard = scaler.fit_transform(X)\n",
    "\n",
    "X_train, X_test, y_train, y_test = train_test_split(X, y, test_size=0.3, random_state=21)\n",
    "\n",
    "print('Training data size:', X_train.shape)\n",
    "print('Test data size:', X_test.shape)"
   ],
   "metadata": {
    "collapsed": false,
    "pycharm": {
     "name": "#%%\n"
    }
   }
  },
  {
   "cell_type": "code",
   "execution_count": 5,
   "outputs": [
    {
     "name": "stdout",
     "output_type": "stream",
     "text": [
      "RMSE of Decision Tree Regression: 737257537.9447898\n"
     ]
    }
   ],
   "source": [
    "decision_model = DecisionTreeRegressor()\n",
    "dt_model = decision_model.fit(X_train, y_train)\n",
    "\n",
    "y_pred = dt_model.predict(X_test)\n",
    "\n",
    "print('RMSE of Decision Tree Regression:', np.sqrt(mean_squared_error(y_pred,y_test)))\n",
    "\n",
    "#accuracy = accuracy_score(y_test, y_pred)\n",
    "#print(accuracy)"
   ],
   "metadata": {
    "collapsed": false,
    "pycharm": {
     "name": "#%%\n"
    }
   }
  },
  {
   "cell_type": "markdown",
   "source": [
    "---\n",
    "# Decision Tree Regression With Pivot Table\n"
   ],
   "metadata": {
    "collapsed": false,
    "pycharm": {
     "name": "#%% md\n"
    }
   }
  },
  {
   "cell_type": "code",
   "execution_count": 1,
   "outputs": [],
   "source": [
    "import numpy as np\n",
    "import pandas as pd\n",
    "from slugify import slugify"
   ],
   "metadata": {
    "collapsed": false,
    "pycharm": {
     "name": "#%%\n"
    }
   }
  },
  {
   "cell_type": "code",
   "execution_count": 2,
   "outputs": [
    {
     "data": {
      "text/plain": "pollutant     2-ethyl hexyl  Aldrin  Anthracene   As  Asbestos  Benzene  \\\ncountry year                                                              \nAustria 2007            0.0       0         0.0  0.0       0.0   6050.0   \n        2008            0.0       0         0.0  0.0       0.0   7880.0   \n        2009            0.0       0         0.0  0.0       0.0   9070.0   \n        2010            0.0       0         0.0  0.0       0.0   3800.0   \n        2011            0.0       0         0.0  0.0       0.0   4240.0   \n\npollutant     Benzo(g,h,i)perylene  CFCs         CH4           CO  ...  TRI  \\\ncountry year                                                       ...        \nAustria 2007                   0.0   0.0  20953000.0  163261000.0  ...  0.0   \n        2008                   0.0   0.0  18584000.0  144793000.0  ...  0.0   \n        2009                   0.0   0.0  13526000.0  134999000.0  ...  0.0   \n        2010                   0.0   0.0  13735000.0  124908000.0  ...  0.0   \n        2011                   0.0   0.0  13277000.0  136169000.0  ...  0.0   \n\npollutant         Teq  Tetrachloroethylene  Toluene  Trichloromethane  \\\ncountry year                                                            \nAustria 2007  0.00232                    0      0.0                 0   \n        2008  0.00176                    0      0.0                 0   \n        2009  0.00137                    0      0.0                 0   \n        2010  0.00164                    0      0.0                 0   \n        2011  0.00139                    0      0.0                 0   \n\npollutant     Vinyl chloride  Xylenes       Zn  total C  total F  \ncountry year                                                      \nAustria 2007               0        0  18820.0        0      0.0  \n        2008               0        0  12140.0        0      0.0  \n        2009               0        0   6664.0        0      0.0  \n        2010               0        0   9934.0        0      0.0  \n        2011               0        0   8490.0        0      0.0  \n\n[5 rows x 62 columns]",
      "text/html": "<div>\n<style scoped>\n    .dataframe tbody tr th:only-of-type {\n        vertical-align: middle;\n    }\n\n    .dataframe tbody tr th {\n        vertical-align: top;\n    }\n\n    .dataframe thead th {\n        text-align: right;\n    }\n</style>\n<table border=\"1\" class=\"dataframe\">\n  <thead>\n    <tr style=\"text-align: right;\">\n      <th></th>\n      <th>pollutant</th>\n      <th>2-ethyl hexyl</th>\n      <th>Aldrin</th>\n      <th>Anthracene</th>\n      <th>As</th>\n      <th>Asbestos</th>\n      <th>Benzene</th>\n      <th>Benzo(g,h,i)perylene</th>\n      <th>CFCs</th>\n      <th>CH4</th>\n      <th>CO</th>\n      <th>...</th>\n      <th>TRI</th>\n      <th>Teq</th>\n      <th>Tetrachloroethylene</th>\n      <th>Toluene</th>\n      <th>Trichloromethane</th>\n      <th>Vinyl chloride</th>\n      <th>Xylenes</th>\n      <th>Zn</th>\n      <th>total C</th>\n      <th>total F</th>\n    </tr>\n    <tr>\n      <th>country</th>\n      <th>year</th>\n      <th></th>\n      <th></th>\n      <th></th>\n      <th></th>\n      <th></th>\n      <th></th>\n      <th></th>\n      <th></th>\n      <th></th>\n      <th></th>\n      <th></th>\n      <th></th>\n      <th></th>\n      <th></th>\n      <th></th>\n      <th></th>\n      <th></th>\n      <th></th>\n      <th></th>\n      <th></th>\n      <th></th>\n    </tr>\n  </thead>\n  <tbody>\n    <tr>\n      <th rowspan=\"5\" valign=\"top\">Austria</th>\n      <th>2007</th>\n      <td>0.0</td>\n      <td>0</td>\n      <td>0.0</td>\n      <td>0.0</td>\n      <td>0.0</td>\n      <td>6050.0</td>\n      <td>0.0</td>\n      <td>0.0</td>\n      <td>20953000.0</td>\n      <td>163261000.0</td>\n      <td>...</td>\n      <td>0.0</td>\n      <td>0.00232</td>\n      <td>0</td>\n      <td>0.0</td>\n      <td>0</td>\n      <td>0</td>\n      <td>0</td>\n      <td>18820.0</td>\n      <td>0</td>\n      <td>0.0</td>\n    </tr>\n    <tr>\n      <th>2008</th>\n      <td>0.0</td>\n      <td>0</td>\n      <td>0.0</td>\n      <td>0.0</td>\n      <td>0.0</td>\n      <td>7880.0</td>\n      <td>0.0</td>\n      <td>0.0</td>\n      <td>18584000.0</td>\n      <td>144793000.0</td>\n      <td>...</td>\n      <td>0.0</td>\n      <td>0.00176</td>\n      <td>0</td>\n      <td>0.0</td>\n      <td>0</td>\n      <td>0</td>\n      <td>0</td>\n      <td>12140.0</td>\n      <td>0</td>\n      <td>0.0</td>\n    </tr>\n    <tr>\n      <th>2009</th>\n      <td>0.0</td>\n      <td>0</td>\n      <td>0.0</td>\n      <td>0.0</td>\n      <td>0.0</td>\n      <td>9070.0</td>\n      <td>0.0</td>\n      <td>0.0</td>\n      <td>13526000.0</td>\n      <td>134999000.0</td>\n      <td>...</td>\n      <td>0.0</td>\n      <td>0.00137</td>\n      <td>0</td>\n      <td>0.0</td>\n      <td>0</td>\n      <td>0</td>\n      <td>0</td>\n      <td>6664.0</td>\n      <td>0</td>\n      <td>0.0</td>\n    </tr>\n    <tr>\n      <th>2010</th>\n      <td>0.0</td>\n      <td>0</td>\n      <td>0.0</td>\n      <td>0.0</td>\n      <td>0.0</td>\n      <td>3800.0</td>\n      <td>0.0</td>\n      <td>0.0</td>\n      <td>13735000.0</td>\n      <td>124908000.0</td>\n      <td>...</td>\n      <td>0.0</td>\n      <td>0.00164</td>\n      <td>0</td>\n      <td>0.0</td>\n      <td>0</td>\n      <td>0</td>\n      <td>0</td>\n      <td>9934.0</td>\n      <td>0</td>\n      <td>0.0</td>\n    </tr>\n    <tr>\n      <th>2011</th>\n      <td>0.0</td>\n      <td>0</td>\n      <td>0.0</td>\n      <td>0.0</td>\n      <td>0.0</td>\n      <td>4240.0</td>\n      <td>0.0</td>\n      <td>0.0</td>\n      <td>13277000.0</td>\n      <td>136169000.0</td>\n      <td>...</td>\n      <td>0.0</td>\n      <td>0.00139</td>\n      <td>0</td>\n      <td>0.0</td>\n      <td>0</td>\n      <td>0</td>\n      <td>0</td>\n      <td>8490.0</td>\n      <td>0</td>\n      <td>0.0</td>\n    </tr>\n  </tbody>\n</table>\n<p>5 rows × 62 columns</p>\n</div>"
     },
     "execution_count": 2,
     "metadata": {},
     "output_type": "execute_result"
    }
   ],
   "source": [
    "df = pd.read_csv('../data/F1_4_clean_data.csv', on_bad_lines='skip', sep=',',  na_filter=True)\n",
    "df = df.rename(columns={'countryName': 'country', 'reportingYear':'year'}).drop(columns=['Unnamed: 0'], axis=1)\n",
    "\n",
    "data_pivoted = df.pivot_table(index=['country', 'year'], columns=['pollutant'], values='emissions', aggfunc=np.sum, fill_value=0)\n",
    "data_pivoted.head()"
   ],
   "metadata": {
    "collapsed": false,
    "pycharm": {
     "name": "#%%\n"
    }
   }
  },
  {
   "cell_type": "code",
   "execution_count": 3,
   "outputs": [
    {
     "data": {
      "text/plain": "              2_ethyl_hexyl  aldrin  anthracene   as  asbestos  benzene  \\\ncountry year                                                              \nAustria 2007            0.0       0         0.0  0.0       0.0   6050.0   \n        2008            0.0       0         0.0  0.0       0.0   7880.0   \n        2009            0.0       0         0.0  0.0       0.0   9070.0   \n        2010            0.0       0         0.0  0.0       0.0   3800.0   \n        2011            0.0       0         0.0  0.0       0.0   4240.0   \n\n              benzo_g_h_i_perylene  cfcs         ch4           co  ...  tri  \\\ncountry year                                                       ...        \nAustria 2007                   0.0   0.0  20953000.0  163261000.0  ...  0.0   \n        2008                   0.0   0.0  18584000.0  144793000.0  ...  0.0   \n        2009                   0.0   0.0  13526000.0  134999000.0  ...  0.0   \n        2010                   0.0   0.0  13735000.0  124908000.0  ...  0.0   \n        2011                   0.0   0.0  13277000.0  136169000.0  ...  0.0   \n\n                  teq  tetrachloroethylene  toluene  trichloromethane  \\\ncountry year                                                            \nAustria 2007  0.00232                    0      0.0                 0   \n        2008  0.00176                    0      0.0                 0   \n        2009  0.00137                    0      0.0                 0   \n        2010  0.00164                    0      0.0                 0   \n        2011  0.00139                    0      0.0                 0   \n\n              vinyl_chloride  xylenes       zn  total_c  total_f  \ncountry year                                                      \nAustria 2007               0        0  18820.0        0      0.0  \n        2008               0        0  12140.0        0      0.0  \n        2009               0        0   6664.0        0      0.0  \n        2010               0        0   9934.0        0      0.0  \n        2011               0        0   8490.0        0      0.0  \n\n[5 rows x 62 columns]",
      "text/html": "<div>\n<style scoped>\n    .dataframe tbody tr th:only-of-type {\n        vertical-align: middle;\n    }\n\n    .dataframe tbody tr th {\n        vertical-align: top;\n    }\n\n    .dataframe thead th {\n        text-align: right;\n    }\n</style>\n<table border=\"1\" class=\"dataframe\">\n  <thead>\n    <tr style=\"text-align: right;\">\n      <th></th>\n      <th></th>\n      <th>2_ethyl_hexyl</th>\n      <th>aldrin</th>\n      <th>anthracene</th>\n      <th>as</th>\n      <th>asbestos</th>\n      <th>benzene</th>\n      <th>benzo_g_h_i_perylene</th>\n      <th>cfcs</th>\n      <th>ch4</th>\n      <th>co</th>\n      <th>...</th>\n      <th>tri</th>\n      <th>teq</th>\n      <th>tetrachloroethylene</th>\n      <th>toluene</th>\n      <th>trichloromethane</th>\n      <th>vinyl_chloride</th>\n      <th>xylenes</th>\n      <th>zn</th>\n      <th>total_c</th>\n      <th>total_f</th>\n    </tr>\n    <tr>\n      <th>country</th>\n      <th>year</th>\n      <th></th>\n      <th></th>\n      <th></th>\n      <th></th>\n      <th></th>\n      <th></th>\n      <th></th>\n      <th></th>\n      <th></th>\n      <th></th>\n      <th></th>\n      <th></th>\n      <th></th>\n      <th></th>\n      <th></th>\n      <th></th>\n      <th></th>\n      <th></th>\n      <th></th>\n      <th></th>\n      <th></th>\n    </tr>\n  </thead>\n  <tbody>\n    <tr>\n      <th rowspan=\"5\" valign=\"top\">Austria</th>\n      <th>2007</th>\n      <td>0.0</td>\n      <td>0</td>\n      <td>0.0</td>\n      <td>0.0</td>\n      <td>0.0</td>\n      <td>6050.0</td>\n      <td>0.0</td>\n      <td>0.0</td>\n      <td>20953000.0</td>\n      <td>163261000.0</td>\n      <td>...</td>\n      <td>0.0</td>\n      <td>0.00232</td>\n      <td>0</td>\n      <td>0.0</td>\n      <td>0</td>\n      <td>0</td>\n      <td>0</td>\n      <td>18820.0</td>\n      <td>0</td>\n      <td>0.0</td>\n    </tr>\n    <tr>\n      <th>2008</th>\n      <td>0.0</td>\n      <td>0</td>\n      <td>0.0</td>\n      <td>0.0</td>\n      <td>0.0</td>\n      <td>7880.0</td>\n      <td>0.0</td>\n      <td>0.0</td>\n      <td>18584000.0</td>\n      <td>144793000.0</td>\n      <td>...</td>\n      <td>0.0</td>\n      <td>0.00176</td>\n      <td>0</td>\n      <td>0.0</td>\n      <td>0</td>\n      <td>0</td>\n      <td>0</td>\n      <td>12140.0</td>\n      <td>0</td>\n      <td>0.0</td>\n    </tr>\n    <tr>\n      <th>2009</th>\n      <td>0.0</td>\n      <td>0</td>\n      <td>0.0</td>\n      <td>0.0</td>\n      <td>0.0</td>\n      <td>9070.0</td>\n      <td>0.0</td>\n      <td>0.0</td>\n      <td>13526000.0</td>\n      <td>134999000.0</td>\n      <td>...</td>\n      <td>0.0</td>\n      <td>0.00137</td>\n      <td>0</td>\n      <td>0.0</td>\n      <td>0</td>\n      <td>0</td>\n      <td>0</td>\n      <td>6664.0</td>\n      <td>0</td>\n      <td>0.0</td>\n    </tr>\n    <tr>\n      <th>2010</th>\n      <td>0.0</td>\n      <td>0</td>\n      <td>0.0</td>\n      <td>0.0</td>\n      <td>0.0</td>\n      <td>3800.0</td>\n      <td>0.0</td>\n      <td>0.0</td>\n      <td>13735000.0</td>\n      <td>124908000.0</td>\n      <td>...</td>\n      <td>0.0</td>\n      <td>0.00164</td>\n      <td>0</td>\n      <td>0.0</td>\n      <td>0</td>\n      <td>0</td>\n      <td>0</td>\n      <td>9934.0</td>\n      <td>0</td>\n      <td>0.0</td>\n    </tr>\n    <tr>\n      <th>2011</th>\n      <td>0.0</td>\n      <td>0</td>\n      <td>0.0</td>\n      <td>0.0</td>\n      <td>0.0</td>\n      <td>4240.0</td>\n      <td>0.0</td>\n      <td>0.0</td>\n      <td>13277000.0</td>\n      <td>136169000.0</td>\n      <td>...</td>\n      <td>0.0</td>\n      <td>0.00139</td>\n      <td>0</td>\n      <td>0.0</td>\n      <td>0</td>\n      <td>0</td>\n      <td>0</td>\n      <td>8490.0</td>\n      <td>0</td>\n      <td>0.0</td>\n    </tr>\n  </tbody>\n</table>\n<p>5 rows × 62 columns</p>\n</div>"
     },
     "execution_count": 3,
     "metadata": {},
     "output_type": "execute_result"
    }
   ],
   "source": [
    "data_pivoted.columns = [slugify(c, separator='_') for c in data_pivoted.columns]\n",
    "data_pivoted.head()"
   ],
   "metadata": {
    "collapsed": false,
    "pycharm": {
     "name": "#%%\n"
    }
   }
  },
  {
   "cell_type": "code",
   "execution_count": 4,
   "outputs": [],
   "source": [
    "# remove the following comment to drop the multi-level index\n",
    "\n",
    "data_pivoted.reset_index(inplace=True)"
   ],
   "metadata": {
    "collapsed": false,
    "pycharm": {
     "name": "#%%\n"
    }
   }
  },
  {
   "cell_type": "code",
   "execution_count": 5,
   "outputs": [
    {
     "name": "stdout",
     "output_type": "stream",
     "text": [
      "Rows for aldrin : 1\n",
      "Rows for anthracene : 60\n",
      "Rows for asbestos : 7\n",
      "Rows for benzene : 281\n",
      "Rows for benzo_g_h_i_perylene : 14\n",
      "Rows for cfcs : 163\n",
      "Rows for ch4 : 387\n",
      "Rows for co : 374\n",
      "Rows for co2 : 392\n",
      "Rows for cd : 300\n",
      "Rows for chlordecone : 1\n",
      "Rows for cr : 273\n",
      "Rows for cu : 294\n",
      "Rows for dce_12 : 143\n",
      "Rows for dcm : 210\n",
      "Rows for ethyl_benzene : 2\n",
      "Rows for ethylene_oxide : 58\n",
      "Rows for fine_particulate_matter_pm2_5 : 2\n",
      "Rows for hcb : 29\n",
      "Rows for hcfcs : 214\n",
      "Rows for hch : 1\n",
      "Rows for hcn : 179\n",
      "Rows for hcl : 289\n",
      "Rows for hf : 267\n",
      "Rows for hfcs : 230\n",
      "Rows for halons : 65\n",
      "Rows for hg : 337\n",
      "Rows for lindane : 3\n",
      "Rows for n2o : 337\n",
      "Rows for nh3 : 385\n",
      "Rows for nmvoc : 353\n",
      "Rows for nox : 394\n",
      "Rows for naphthalene : 194\n",
      "Rows for ni : 318\n",
      "Rows for nonylphenol_and_nonylphenol_ethoxylates : 1\n",
      "Rows for pahs : 225\n",
      "Rows for pbde : 2\n",
      "Rows for pcbs : 153\n",
      "Rows for pcp : 10\n",
      "Rows for pfcs : 172\n",
      "Rows for pm10 : 376\n",
      "Rows for pb : 281\n",
      "Rows for pentachlorobenzene : 10\n",
      "Rows for sf6 : 114\n",
      "Rows for sox : 398\n",
      "Rows for tcb : 38\n",
      "Rows for tce_111 : 39\n",
      "Rows for tcm : 84\n",
      "Rows for tetrachloroethane_1122 : 52\n",
      "Rows for toc : 10\n",
      "Rows for tri : 97\n",
      "Rows for teq : 292\n",
      "Rows for tetrachloroethylene : 130\n",
      "Rows for toluene : 8\n",
      "Rows for trichloromethane : 130\n",
      "Rows for vinyl_chloride : 148\n",
      "Rows for xylenes : 2\n",
      "Rows for zn : 334\n",
      "Rows for total_c : 4\n",
      "Rows for total_f : 3\n"
     ]
    },
    {
     "data": {
      "text/plain": "Index(['country', 'year', '2_ethyl_hexyl', 'anthracene', 'as', 'benzene',\n       'benzo_g_h_i_perylene', 'cfcs', 'ch4', 'co', 'co2', 'cd', 'cr', 'cu',\n       'dce_12', 'dcm', 'ethylene_oxide', 'hcb', 'hcfcs', 'hcn', 'hcl', 'hf',\n       'hfcs', 'halons', 'hg', 'n2o', 'nh3', 'nmvoc', 'nox', 'naphthalene',\n       'ni', 'pahs', 'pcbs', 'pcp', 'pfcs', 'pm10', 'pb', 'pentachlorobenzene',\n       'sf6', 'sox', 'tcb', 'tce_111', 'tcm', 'tetrachloroethane_1122', 'toc',\n       'tri', 'teq', 'tetrachloroethylene', 'trichloromethane',\n       'vinyl_chloride', 'zn'],\n      dtype='object')"
     },
     "execution_count": 5,
     "metadata": {},
     "output_type": "execute_result"
    }
   ],
   "source": [
    "for element in list(data_pivoted.columns):\n",
    "    if element not in ['country', 'year', '2_ethyl_hexyl', 'as']:\n",
    "        rows = data_pivoted.query('{} > 0'.format(element)).shape[0]\n",
    "        print(f'Rows for {element} : {rows}')\n",
    "        if rows < 10: data_pivoted = data_pivoted.drop([element], axis=1)\n",
    "\n",
    "data_pivoted.columns"
   ],
   "metadata": {
    "collapsed": false,
    "pycharm": {
     "name": "#%%\n"
    }
   }
  },
  {
   "cell_type": "code",
   "execution_count": 6,
   "outputs": [
    {
     "data": {
      "text/plain": "   country  year  2_ethyl_hexyl  anthracene   as  benzene  \\\n0  Austria  2007            0.0         0.0  0.0   6050.0   \n1  Austria  2008            0.0         0.0  0.0   7880.0   \n2  Austria  2009            0.0         0.0  0.0   9070.0   \n3  Austria  2010            0.0         0.0  0.0   3800.0   \n4  Austria  2011            0.0         0.0  0.0   4240.0   \n\n   benzo_g_h_i_perylene  cfcs         ch4           co  ...  tce_111  tcm  \\\n0                   0.0   0.0  20953000.0  163261000.0  ...      0.0    0   \n1                   0.0   0.0  18584000.0  144793000.0  ...      0.0    0   \n2                   0.0   0.0  13526000.0  134999000.0  ...      0.0    0   \n3                   0.0   0.0  13735000.0  124908000.0  ...      0.0    0   \n4                   0.0   0.0  13277000.0  136169000.0  ...      0.0    0   \n\n   tetrachloroethane_1122  toc  tri      teq  tetrachloroethylene  \\\n0                     0.0  0.0  0.0  0.00232                    0   \n1                     0.0  0.0  0.0  0.00176                    0   \n2                     0.0  0.0  0.0  0.00137                    0   \n3                     0.0  0.0  0.0  0.00164                    0   \n4                     0.0  0.0  0.0  0.00139                    0   \n\n   trichloromethane  vinyl_chloride       zn  \n0                 0               0  18820.0  \n1                 0               0  12140.0  \n2                 0               0   6664.0  \n3                 0               0   9934.0  \n4                 0               0   8490.0  \n\n[5 rows x 51 columns]",
      "text/html": "<div>\n<style scoped>\n    .dataframe tbody tr th:only-of-type {\n        vertical-align: middle;\n    }\n\n    .dataframe tbody tr th {\n        vertical-align: top;\n    }\n\n    .dataframe thead th {\n        text-align: right;\n    }\n</style>\n<table border=\"1\" class=\"dataframe\">\n  <thead>\n    <tr style=\"text-align: right;\">\n      <th></th>\n      <th>country</th>\n      <th>year</th>\n      <th>2_ethyl_hexyl</th>\n      <th>anthracene</th>\n      <th>as</th>\n      <th>benzene</th>\n      <th>benzo_g_h_i_perylene</th>\n      <th>cfcs</th>\n      <th>ch4</th>\n      <th>co</th>\n      <th>...</th>\n      <th>tce_111</th>\n      <th>tcm</th>\n      <th>tetrachloroethane_1122</th>\n      <th>toc</th>\n      <th>tri</th>\n      <th>teq</th>\n      <th>tetrachloroethylene</th>\n      <th>trichloromethane</th>\n      <th>vinyl_chloride</th>\n      <th>zn</th>\n    </tr>\n  </thead>\n  <tbody>\n    <tr>\n      <th>0</th>\n      <td>Austria</td>\n      <td>2007</td>\n      <td>0.0</td>\n      <td>0.0</td>\n      <td>0.0</td>\n      <td>6050.0</td>\n      <td>0.0</td>\n      <td>0.0</td>\n      <td>20953000.0</td>\n      <td>163261000.0</td>\n      <td>...</td>\n      <td>0.0</td>\n      <td>0</td>\n      <td>0.0</td>\n      <td>0.0</td>\n      <td>0.0</td>\n      <td>0.00232</td>\n      <td>0</td>\n      <td>0</td>\n      <td>0</td>\n      <td>18820.0</td>\n    </tr>\n    <tr>\n      <th>1</th>\n      <td>Austria</td>\n      <td>2008</td>\n      <td>0.0</td>\n      <td>0.0</td>\n      <td>0.0</td>\n      <td>7880.0</td>\n      <td>0.0</td>\n      <td>0.0</td>\n      <td>18584000.0</td>\n      <td>144793000.0</td>\n      <td>...</td>\n      <td>0.0</td>\n      <td>0</td>\n      <td>0.0</td>\n      <td>0.0</td>\n      <td>0.0</td>\n      <td>0.00176</td>\n      <td>0</td>\n      <td>0</td>\n      <td>0</td>\n      <td>12140.0</td>\n    </tr>\n    <tr>\n      <th>2</th>\n      <td>Austria</td>\n      <td>2009</td>\n      <td>0.0</td>\n      <td>0.0</td>\n      <td>0.0</td>\n      <td>9070.0</td>\n      <td>0.0</td>\n      <td>0.0</td>\n      <td>13526000.0</td>\n      <td>134999000.0</td>\n      <td>...</td>\n      <td>0.0</td>\n      <td>0</td>\n      <td>0.0</td>\n      <td>0.0</td>\n      <td>0.0</td>\n      <td>0.00137</td>\n      <td>0</td>\n      <td>0</td>\n      <td>0</td>\n      <td>6664.0</td>\n    </tr>\n    <tr>\n      <th>3</th>\n      <td>Austria</td>\n      <td>2010</td>\n      <td>0.0</td>\n      <td>0.0</td>\n      <td>0.0</td>\n      <td>3800.0</td>\n      <td>0.0</td>\n      <td>0.0</td>\n      <td>13735000.0</td>\n      <td>124908000.0</td>\n      <td>...</td>\n      <td>0.0</td>\n      <td>0</td>\n      <td>0.0</td>\n      <td>0.0</td>\n      <td>0.0</td>\n      <td>0.00164</td>\n      <td>0</td>\n      <td>0</td>\n      <td>0</td>\n      <td>9934.0</td>\n    </tr>\n    <tr>\n      <th>4</th>\n      <td>Austria</td>\n      <td>2011</td>\n      <td>0.0</td>\n      <td>0.0</td>\n      <td>0.0</td>\n      <td>4240.0</td>\n      <td>0.0</td>\n      <td>0.0</td>\n      <td>13277000.0</td>\n      <td>136169000.0</td>\n      <td>...</td>\n      <td>0.0</td>\n      <td>0</td>\n      <td>0.0</td>\n      <td>0.0</td>\n      <td>0.0</td>\n      <td>0.00139</td>\n      <td>0</td>\n      <td>0</td>\n      <td>0</td>\n      <td>8490.0</td>\n    </tr>\n  </tbody>\n</table>\n<p>5 rows × 51 columns</p>\n</div>"
     },
     "execution_count": 6,
     "metadata": {},
     "output_type": "execute_result"
    }
   ],
   "source": [
    "data_pivoted.head()"
   ],
   "metadata": {
    "collapsed": false,
    "pycharm": {
     "name": "#%%\n"
    }
   }
  },
  {
   "cell_type": "markdown",
   "source": [],
   "metadata": {
    "collapsed": false,
    "pycharm": {
     "name": "#%% md\n"
    }
   }
  },
  {
   "cell_type": "markdown",
   "source": [
    "\n",
    "## Labels Creation for each Country"
   ],
   "metadata": {
    "collapsed": false,
    "pycharm": {
     "name": "#%% md\n"
    }
   }
  },
  {
   "cell_type": "code",
   "execution_count": 7,
   "outputs": [
    {
     "name": "stdout",
     "output_type": "stream",
     "text": [
      "['Austria' 'Belgium' 'Bulgaria' 'Croatia' 'Cyprus' 'Czechia' 'Denmark'\n",
      " 'Estonia' 'Finland' 'France' 'Germany' 'Greece' 'Hungary' 'Iceland'\n",
      " 'Ireland' 'Italy' 'Latvia' 'Lithuania' 'Luxembourg' 'Malta' 'Netherlands'\n",
      " 'Norway' 'Poland' 'Portugal' 'Romania' 'Serbia' 'Slovakia' 'Slovenia'\n",
      " 'Spain' 'Sweden' 'Switzerland' 'United Kingdom']\n"
     ]
    },
    {
     "data": {
      "text/plain": "   country  year  2_ethyl_hexyl  anthracene   as  benzene  \\\n0        0  2007            0.0         0.0  0.0   6050.0   \n1        0  2008            0.0         0.0  0.0   7880.0   \n2        0  2009            0.0         0.0  0.0   9070.0   \n3        0  2010            0.0         0.0  0.0   3800.0   \n4        0  2011            0.0         0.0  0.0   4240.0   \n\n   benzo_g_h_i_perylene  cfcs         ch4           co  ...  tce_111  tcm  \\\n0                   0.0   0.0  20953000.0  163261000.0  ...      0.0    0   \n1                   0.0   0.0  18584000.0  144793000.0  ...      0.0    0   \n2                   0.0   0.0  13526000.0  134999000.0  ...      0.0    0   \n3                   0.0   0.0  13735000.0  124908000.0  ...      0.0    0   \n4                   0.0   0.0  13277000.0  136169000.0  ...      0.0    0   \n\n   tetrachloroethane_1122  toc  tri      teq  tetrachloroethylene  \\\n0                     0.0  0.0  0.0  0.00232                    0   \n1                     0.0  0.0  0.0  0.00176                    0   \n2                     0.0  0.0  0.0  0.00137                    0   \n3                     0.0  0.0  0.0  0.00164                    0   \n4                     0.0  0.0  0.0  0.00139                    0   \n\n   trichloromethane  vinyl_chloride       zn  \n0                 0               0  18820.0  \n1                 0               0  12140.0  \n2                 0               0   6664.0  \n3                 0               0   9934.0  \n4                 0               0   8490.0  \n\n[5 rows x 51 columns]",
      "text/html": "<div>\n<style scoped>\n    .dataframe tbody tr th:only-of-type {\n        vertical-align: middle;\n    }\n\n    .dataframe tbody tr th {\n        vertical-align: top;\n    }\n\n    .dataframe thead th {\n        text-align: right;\n    }\n</style>\n<table border=\"1\" class=\"dataframe\">\n  <thead>\n    <tr style=\"text-align: right;\">\n      <th></th>\n      <th>country</th>\n      <th>year</th>\n      <th>2_ethyl_hexyl</th>\n      <th>anthracene</th>\n      <th>as</th>\n      <th>benzene</th>\n      <th>benzo_g_h_i_perylene</th>\n      <th>cfcs</th>\n      <th>ch4</th>\n      <th>co</th>\n      <th>...</th>\n      <th>tce_111</th>\n      <th>tcm</th>\n      <th>tetrachloroethane_1122</th>\n      <th>toc</th>\n      <th>tri</th>\n      <th>teq</th>\n      <th>tetrachloroethylene</th>\n      <th>trichloromethane</th>\n      <th>vinyl_chloride</th>\n      <th>zn</th>\n    </tr>\n  </thead>\n  <tbody>\n    <tr>\n      <th>0</th>\n      <td>0</td>\n      <td>2007</td>\n      <td>0.0</td>\n      <td>0.0</td>\n      <td>0.0</td>\n      <td>6050.0</td>\n      <td>0.0</td>\n      <td>0.0</td>\n      <td>20953000.0</td>\n      <td>163261000.0</td>\n      <td>...</td>\n      <td>0.0</td>\n      <td>0</td>\n      <td>0.0</td>\n      <td>0.0</td>\n      <td>0.0</td>\n      <td>0.00232</td>\n      <td>0</td>\n      <td>0</td>\n      <td>0</td>\n      <td>18820.0</td>\n    </tr>\n    <tr>\n      <th>1</th>\n      <td>0</td>\n      <td>2008</td>\n      <td>0.0</td>\n      <td>0.0</td>\n      <td>0.0</td>\n      <td>7880.0</td>\n      <td>0.0</td>\n      <td>0.0</td>\n      <td>18584000.0</td>\n      <td>144793000.0</td>\n      <td>...</td>\n      <td>0.0</td>\n      <td>0</td>\n      <td>0.0</td>\n      <td>0.0</td>\n      <td>0.0</td>\n      <td>0.00176</td>\n      <td>0</td>\n      <td>0</td>\n      <td>0</td>\n      <td>12140.0</td>\n    </tr>\n    <tr>\n      <th>2</th>\n      <td>0</td>\n      <td>2009</td>\n      <td>0.0</td>\n      <td>0.0</td>\n      <td>0.0</td>\n      <td>9070.0</td>\n      <td>0.0</td>\n      <td>0.0</td>\n      <td>13526000.0</td>\n      <td>134999000.0</td>\n      <td>...</td>\n      <td>0.0</td>\n      <td>0</td>\n      <td>0.0</td>\n      <td>0.0</td>\n      <td>0.0</td>\n      <td>0.00137</td>\n      <td>0</td>\n      <td>0</td>\n      <td>0</td>\n      <td>6664.0</td>\n    </tr>\n    <tr>\n      <th>3</th>\n      <td>0</td>\n      <td>2010</td>\n      <td>0.0</td>\n      <td>0.0</td>\n      <td>0.0</td>\n      <td>3800.0</td>\n      <td>0.0</td>\n      <td>0.0</td>\n      <td>13735000.0</td>\n      <td>124908000.0</td>\n      <td>...</td>\n      <td>0.0</td>\n      <td>0</td>\n      <td>0.0</td>\n      <td>0.0</td>\n      <td>0.0</td>\n      <td>0.00164</td>\n      <td>0</td>\n      <td>0</td>\n      <td>0</td>\n      <td>9934.0</td>\n    </tr>\n    <tr>\n      <th>4</th>\n      <td>0</td>\n      <td>2011</td>\n      <td>0.0</td>\n      <td>0.0</td>\n      <td>0.0</td>\n      <td>4240.0</td>\n      <td>0.0</td>\n      <td>0.0</td>\n      <td>13277000.0</td>\n      <td>136169000.0</td>\n      <td>...</td>\n      <td>0.0</td>\n      <td>0</td>\n      <td>0.0</td>\n      <td>0.0</td>\n      <td>0.0</td>\n      <td>0.00139</td>\n      <td>0</td>\n      <td>0</td>\n      <td>0</td>\n      <td>8490.0</td>\n    </tr>\n  </tbody>\n</table>\n<p>5 rows × 51 columns</p>\n</div>"
     },
     "metadata": {},
     "output_type": "display_data"
    },
    {
     "name": "stdout",
     "output_type": "stream",
     "text": [
      "['France']\n"
     ]
    }
   ],
   "source": [
    "from sklearn import preprocessing\n",
    "\n",
    "label_encoder = preprocessing.LabelEncoder()\n",
    "label_encoder.fit(data_pivoted['country'])\n",
    "\n",
    "data_pivoted['country'] = label_encoder.transform(data_pivoted['country'])\n",
    "print(label_encoder.classes_)\n",
    "\n",
    "display(data_pivoted.head())\n",
    "\n",
    "print(label_encoder.inverse_transform([9]))"
   ],
   "metadata": {
    "collapsed": false,
    "pycharm": {
     "name": "#%%\n"
    }
   }
  },
  {
   "cell_type": "markdown",
   "source": [],
   "metadata": {
    "collapsed": false,
    "pycharm": {
     "name": "#%% md\n"
    }
   }
  },
  {
   "cell_type": "markdown",
   "source": [
    "\n",
    "## Moving Window Functions\n"
   ],
   "metadata": {
    "collapsed": false,
    "pycharm": {
     "name": "#%% md\n"
    }
   }
  },
  {
   "cell_type": "code",
   "execution_count": 8,
   "outputs": [
    {
     "name": "stdout",
     "output_type": "stream",
     "text": [
      "train:  [2007] test:  [2008]\n",
      "train:  [2007, 2008] test:  [2009]\n",
      "train:  [2007, 2008, 2009] test:  [2010]\n",
      "train:  [2007, 2008, 2009, 2010] test:  [2011]\n",
      "train:  [2007, 2008, 2009, 2010, 2011] test:  [2012]\n",
      "train:  [2007, 2008, 2009, 2010, 2011, 2012] test:  [2013]\n",
      "train:  [2007, 2008, 2009, 2010, 2011, 2012, 2013] test:  [2014]\n",
      "train:  [2007, 2008, 2009, 2010, 2011, 2012, 2013, 2014] test:  [2015]\n",
      "train:  [2007, 2008, 2009, 2010, 2011, 2012, 2013, 2014, 2015] test:  [2016]\n",
      "train:  [2007, 2008, 2009, 2010, 2011, 2012, 2013, 2014, 2015, 2016] test:  [2017]\n",
      "train:  [2007, 2008, 2009, 2010, 2011, 2012, 2013, 2014, 2015, 2016, 2017] test:  [2018]\n",
      "train:  [2007, 2008, 2009, 2010, 2011, 2012, 2013, 2014, 2015, 2016, 2017, 2018] test:  [2019]\n",
      "train:  [2007, 2008, 2009, 2010, 2011, 2012, 2013, 2014, 2015, 2016, 2017, 2018, 2019] test:  [2020]\n"
     ]
    }
   ],
   "source": [
    "year_list = data_pivoted['year'].unique().tolist()\n",
    "\n",
    "def create_window():\n",
    "    list = []\n",
    "    for i, y in enumerate(year_list[:-1]):\n",
    "        train_yr = year_list[:i+1]\n",
    "        test_yr = [year_list[i+1]]\n",
    "        print('train: ', train_yr, 'test: ',test_yr)\n",
    "        list.append(f'train: {train_yr} test: {test_yr}')\n",
    "    return list\n",
    "\n",
    "window = create_window()"
   ],
   "metadata": {
    "collapsed": false,
    "pycharm": {
     "name": "#%%\n"
    }
   }
  },
  {
   "cell_type": "markdown",
   "source": [],
   "metadata": {
    "collapsed": false,
    "pycharm": {
     "name": "#%% md\n"
    }
   }
  },
  {
   "cell_type": "markdown",
   "source": [
    "\n",
    "## Let's concentrate now on one specific pollutant, for example CO2"
   ],
   "metadata": {
    "collapsed": false
   }
  },
  {
   "cell_type": "code",
   "execution_count": 9,
   "outputs": [],
   "source": [
    "def get_test_train(pollutant):\n",
    "    years = data_pivoted['year'].unique().tolist()\n",
    "    splits = {'train': [], 'test': []}\n",
    "\n",
    "    for index, yr in enumerate(years[:-1]):\n",
    "        train_year = years[:index+1]\n",
    "        test_year = [years[index+1]]\n",
    "\n",
    "        df_test = data_pivoted.loc[data_pivoted.year.isin(test_year), :]\n",
    "        df_train = data_pivoted.loc[data_pivoted.year.isin(train_year), :]\n",
    "\n",
    "        splits['test'].append(df_test[[pollutant, 'country', 'year']])\n",
    "        splits['train'].append(df_train[[pollutant, 'country', 'year']])\n",
    "    return splits\n",
    "\n",
    "selected_pollutant = 'co2'\n",
    "splits_pollutant = get_test_train(selected_pollutant)"
   ],
   "metadata": {
    "collapsed": false,
    "pycharm": {
     "name": "#%%\n"
    }
   }
  },
  {
   "cell_type": "markdown",
   "source": [],
   "metadata": {
    "collapsed": false,
    "pycharm": {
     "name": "#%% md\n"
    }
   }
  },
  {
   "cell_type": "code",
   "execution_count": 137,
   "outputs": [],
   "source": [
    "from sklearn.preprocessing import StandardScaler\n",
    "\n",
    "index = 12\n",
    "X_train = splits_pollutant['train'][index][['year', 'country']]\n",
    "y_train = splits_pollutant['train'][index][[selected_pollutant]]\n",
    "X_test = splits_pollutant['test'][index][['year', 'country']]\n",
    "y_test = splits_pollutant['test'][index][[selected_pollutant]]\n",
    "\n",
    "X_standard = StandardScaler().fit_transform(X_train, X_test)"
   ],
   "metadata": {
    "collapsed": false,
    "pycharm": {
     "name": "#%%\n"
    }
   }
  },
  {
   "cell_type": "code",
   "execution_count": 38,
   "outputs": [
    {
     "data": {
      "text/plain": "     year  country\n0    2007        0\n1    2008        0\n2    2009        0\n3    2010        0\n4    2011        0\n..    ...      ...\n406  2015       31\n407  2016       31\n408  2017       31\n409  2018       31\n410  2019       31\n\n[391 rows x 2 columns]",
      "text/html": "<div>\n<style scoped>\n    .dataframe tbody tr th:only-of-type {\n        vertical-align: middle;\n    }\n\n    .dataframe tbody tr th {\n        vertical-align: top;\n    }\n\n    .dataframe thead th {\n        text-align: right;\n    }\n</style>\n<table border=\"1\" class=\"dataframe\">\n  <thead>\n    <tr style=\"text-align: right;\">\n      <th></th>\n      <th>year</th>\n      <th>country</th>\n    </tr>\n  </thead>\n  <tbody>\n    <tr>\n      <th>0</th>\n      <td>2007</td>\n      <td>0</td>\n    </tr>\n    <tr>\n      <th>1</th>\n      <td>2008</td>\n      <td>0</td>\n    </tr>\n    <tr>\n      <th>2</th>\n      <td>2009</td>\n      <td>0</td>\n    </tr>\n    <tr>\n      <th>3</th>\n      <td>2010</td>\n      <td>0</td>\n    </tr>\n    <tr>\n      <th>4</th>\n      <td>2011</td>\n      <td>0</td>\n    </tr>\n    <tr>\n      <th>...</th>\n      <td>...</td>\n      <td>...</td>\n    </tr>\n    <tr>\n      <th>406</th>\n      <td>2015</td>\n      <td>31</td>\n    </tr>\n    <tr>\n      <th>407</th>\n      <td>2016</td>\n      <td>31</td>\n    </tr>\n    <tr>\n      <th>408</th>\n      <td>2017</td>\n      <td>31</td>\n    </tr>\n    <tr>\n      <th>409</th>\n      <td>2018</td>\n      <td>31</td>\n    </tr>\n    <tr>\n      <th>410</th>\n      <td>2019</td>\n      <td>31</td>\n    </tr>\n  </tbody>\n</table>\n<p>391 rows × 2 columns</p>\n</div>"
     },
     "execution_count": 38,
     "metadata": {},
     "output_type": "execute_result"
    }
   ],
   "source": [
    "X_train"
   ],
   "metadata": {
    "collapsed": false,
    "pycharm": {
     "name": "#%%\n"
    }
   }
  },
  {
   "cell_type": "code",
   "execution_count": 31,
   "outputs": [
    {
     "name": "stderr",
     "output_type": "stream",
     "text": [
      "/Library/Frameworks/Python.framework/Versions/3.8/lib/python3.8/site-packages/seaborn/distributions.py:2619: FutureWarning: `distplot` is a deprecated function and will be removed in a future version. Please adapt your code to use either `displot` (a figure-level function with similar flexibility) or `histplot` (an axes-level function for histograms).\n",
      "  warnings.warn(msg, FutureWarning)\n"
     ]
    },
    {
     "data": {
      "text/plain": "<AxesSubplot:ylabel='Density'>"
     },
     "execution_count": 31,
     "metadata": {},
     "output_type": "execute_result"
    },
    {
     "data": {
      "text/plain": "<Figure size 432x288 with 1 Axes>",
      "image/png": "[encoded data removed]"
     },
     "metadata": {
      "needs_background": "light"
     },
     "output_type": "display_data"
    }
   ],
   "source": [
    "import seaborn as sns\n",
    "\n",
    "sns.distplot(X_train)"
   ],
   "metadata": {
    "collapsed": false,
    "pycharm": {
     "name": "#%%\n"
    }
   }
  },
  {
   "cell_type": "code",
   "execution_count": 37,
   "outputs": [
    {
     "data": {
      "text/plain": "array([<AxesSubplot:>, <AxesSubplot:>], dtype=object)"
     },
     "execution_count": 37,
     "metadata": {},
     "output_type": "execute_result"
    },
    {
     "data": {
      "text/plain": "<Figure size 432x288 with 2 Axes>",
      "image/png": "[encoded data removed]"
     },
     "metadata": {
      "needs_background": "light"
     },
     "output_type": "display_data"
    }
   ],
   "source": [
    "X_train.plot(subplots=True)"
   ],
   "metadata": {
    "collapsed": false,
    "pycharm": {
     "name": "#%%\n"
    }
   }
  },
  {
   "cell_type": "code",
   "execution_count": 33,
   "outputs": [],
   "source": [
    "from sklearn.metrics import r2_score\n",
    "\n",
    "def show_plot(y_pred, y_test, model):\n",
    "    plt.figure(figsize=(10, 5))\n",
    "    plt.scatter(np.arange(1, len(y_pred) + 1), y_pred, label='$(\\hat{y}$)' ,s=20)\n",
    "    plt.scatter(np.arange(1, len(y_test) + 1), y_test, label='y' ,s=20)\n",
    "    plt.title('Predicted vs. Actual')\n",
    "    plt.xlabel('Actual Emissions')\n",
    "    plt.ylabel('Predicted Emissions')\n",
    "    plt.legend()\n",
    "    #plt.plot([min(y_pred), max(y_pred)], [min(y_pred), max(y_pred)])\n",
    "    plt.tight_layout()\n",
    "    plt.show()\n",
    "\n",
    "    print(f'RMSE of {model} :', np.sqrt(mean_squared_error(y_pred, y_test)))\n",
    "    print(f'R² score on test set using {model} :', r2_score(y_test, y_pred))"
   ],
   "metadata": {
    "collapsed": false,
    "pycharm": {
     "name": "#%%\n"
    }
   }
  },
  {
   "cell_type": "markdown",
   "source": [
    "---\n",
    "## Decision Tree Regressor"
   ],
   "metadata": {
    "collapsed": false,
    "pycharm": {
     "name": "#%% md\n"
    }
   }
  },
  {
   "cell_type": "code",
   "execution_count": 138,
   "outputs": [
    {
     "data": {
      "text/plain": "<Figure size 720x360 with 1 Axes>",
      "image/png": "[encoded data removed]"
     },
     "metadata": {
      "needs_background": "light"
     },
     "output_type": "display_data"
    },
    {
     "name": "stdout",
     "output_type": "stream",
     "text": [
      "RMSE of Decision Tree Regression : 14540912642.100061\n",
      "R² score on test set using Decision Tree Regression : 0.8338764776825297\n"
     ]
    }
   ],
   "source": [
    "decision_model = DecisionTreeRegressor()\n",
    "\n",
    "dt = DecisionTreeRegressor(random_state=1)\n",
    "dt_model = dt.fit(X_train, y_train)\n",
    "y_pred_dt = dt_model.predict(X_test)\n",
    "\n",
    "show_plot(y_pred_dt, y_test, 'Decision Tree Regression')"
   ],
   "metadata": {
    "collapsed": false,
    "pycharm": {
     "name": "#%%\n"
    }
   }
  },
  {
   "cell_type": "markdown",
   "source": [
    "---\n",
    "## Random Forest Regressor"
   ],
   "metadata": {
    "collapsed": false,
    "pycharm": {
     "name": "#%% md\n"
    }
   }
  },
  {
   "cell_type": "code",
   "execution_count": 139,
   "outputs": [
    {
     "data": {
      "text/plain": "<Figure size 720x360 with 1 Axes>",
      "image/png": "[encoded data removed]"
     },
     "metadata": {
      "needs_background": "light"
     },
     "output_type": "display_data"
    },
    {
     "name": "stdout",
     "output_type": "stream",
     "text": [
      "RMSE of Random Forest Regressor : 17429321368.190357\n",
      "R² score on test set using Random Forest Regressor : 0.7613239974150654\n"
     ]
    }
   ],
   "source": [
    "from sklearn.model_selection import cross_val_predict\n",
    "from sklearn.ensemble import RandomForestRegressor\n",
    "\n",
    "forest_model = RandomForestRegressor(n_estimators=1000, n_jobs=-1, random_state=1)\n",
    "\n",
    "forest_model.fit(X_train, y_train.values.ravel())\n",
    "y_pred2 = forest_model.predict(X_test)\n",
    "\n",
    "show_plot(y_pred2, y_test, 'Random Forest Regressor')\n"
   ],
   "metadata": {
    "collapsed": false,
    "pycharm": {
     "name": "#%%\n"
    }
   }
  },
  {
   "cell_type": "markdown",
   "source": [
    "---\n",
    "## Linear Regression"
   ],
   "metadata": {
    "collapsed": false,
    "pycharm": {
     "name": "#%% md\n"
    }
   }
  },
  {
   "cell_type": "code",
   "execution_count": 140,
   "outputs": [
    {
     "data": {
      "text/plain": "<Figure size 720x360 with 1 Axes>",
      "image/png": "[encoded data removed]"
     },
     "metadata": {
      "needs_background": "light"
     },
     "output_type": "display_data"
    },
    {
     "name": "stdout",
     "output_type": "stream",
     "text": [
      "RMSE of Linear Regression : 38597224241.15591\n",
      "R² score on test set using Linear Regression : -0.1704690822263495\n"
     ]
    }
   ],
   "source": [
    "from sklearn.linear_model import LinearRegression\n",
    "from sklearn.model_selection import train_test_split\n",
    "\n",
    "linear_model = LinearRegression()\n",
    "\n",
    "linear_model.fit(X_train, y_train)\n",
    "linear_model.score(X_test, y_test)\n",
    "y_pred3 = linear_model.predict(X_test)\n",
    "\n",
    "show_plot(y_pred3, y_test, 'Linear Regression')"
   ],
   "metadata": {
    "collapsed": false,
    "pycharm": {
     "name": "#%%\n"
    }
   }
  },
  {
   "cell_type": "markdown",
   "source": [
    "---\n",
    "## Prediction for city : Hamburg"
   ],
   "metadata": {
    "collapsed": false,
    "pycharm": {
     "name": "#%% md\n"
    }
   }
  },
  {
   "cell_type": "code",
   "execution_count": 4,
   "outputs": [
    {
     "data": {
      "text/plain": "   country  EPRTRSectorCode                           eprtrSectorName  \\\n0  Austria                4                         Chemical industry   \n1  Austria                9                          Other activities   \n2  Austria                6  Paper and wood production and processing   \n3  Austria                6  Paper and wood production and processing   \n4  Austria                3                          Mineral industry   \n\n   EPRTRAnnexIMainActivityCode  \\\n0                          4.0   \n1                          2.0   \n2                          3.0   \n3                          3.0   \n4                          2.0   \n\n                        EPRTRAnnexIMainActivityLabel  \\\n0  Chemical installations for the production on a...   \n1  Installations for the surface treatment of sub...   \n2  Industrial plants for the production of paper ...   \n3  Industrial plants for the production of paper ...   \n4  Installations for the production of cement cli...   \n\n                FacilityInspireID                          facilityName  \\\n0  AT.CAED/9008390392737.FACILITY                   Nufarm GmbH & CO KG   \n1  AT.CAED/9008390396414.FACILITY  MAGNA STEYR Fahrzeugtechnik AG&Co KG   \n2  AT.CAED/9008390397176.FACILITY             Fritz EGGER GmbH & Co. OG   \n3  AT.CAED/9008390397176.FACILITY             Fritz EGGER GmbH & Co. OG   \n4  AT.CAED/9008390397220.FACILITY                voestalpine Stahl GmbH   \n\n   Longitude   Latitude                    City pollutant    emissions  year  \n0  14.336056  48.290943                    Linz   DCE-1,2       3300.0  2007  \n1  15.477778  47.019170   Graz,07.Bez.:Liebenau     NMVOC     170000.0  2007  \n2  15.691833  48.259556           Unterradlberg       CO2  228000000.0  2007  \n3  15.691833  48.259556           Unterradlberg       NOx     311000.0  2007  \n4  14.159778  47.807083  Klaus an der Pyhrnbahn       CO2  329000000.0  2007  ",
      "text/html": "<div>\n<style scoped>\n    .dataframe tbody tr th:only-of-type {\n        vertical-align: middle;\n    }\n\n    .dataframe tbody tr th {\n        vertical-align: top;\n    }\n\n    .dataframe thead th {\n        text-align: right;\n    }\n</style>\n<table border=\"1\" class=\"dataframe\">\n  <thead>\n    <tr style=\"text-align: right;\">\n      <th></th>\n      <th>country</th>\n      <th>EPRTRSectorCode</th>\n      <th>eprtrSectorName</th>\n      <th>EPRTRAnnexIMainActivityCode</th>\n      <th>EPRTRAnnexIMainActivityLabel</th>\n      <th>FacilityInspireID</th>\n      <th>facilityName</th>\n      <th>Longitude</th>\n      <th>Latitude</th>\n      <th>City</th>\n      <th>pollutant</th>\n      <th>emissions</th>\n      <th>year</th>\n    </tr>\n  </thead>\n  <tbody>\n    <tr>\n      <th>0</th>\n      <td>Austria</td>\n      <td>4</td>\n      <td>Chemical industry</td>\n      <td>4.0</td>\n      <td>Chemical installations for the production on a...</td>\n      <td>AT.CAED/9008390392737.FACILITY</td>\n      <td>Nufarm GmbH &amp; CO KG</td>\n      <td>14.336056</td>\n      <td>48.290943</td>\n      <td>Linz</td>\n      <td>DCE-1,2</td>\n      <td>3300.0</td>\n      <td>2007</td>\n    </tr>\n    <tr>\n      <th>1</th>\n      <td>Austria</td>\n      <td>9</td>\n      <td>Other activities</td>\n      <td>2.0</td>\n      <td>Installations for the surface treatment of sub...</td>\n      <td>AT.CAED/9008390396414.FACILITY</td>\n      <td>MAGNA STEYR Fahrzeugtechnik AG&amp;Co KG</td>\n      <td>15.477778</td>\n      <td>47.019170</td>\n      <td>Graz,07.Bez.:Liebenau</td>\n      <td>NMVOC</td>\n      <td>170000.0</td>\n      <td>2007</td>\n    </tr>\n    <tr>\n      <th>2</th>\n      <td>Austria</td>\n      <td>6</td>\n      <td>Paper and wood production and processing</td>\n      <td>3.0</td>\n      <td>Industrial plants for the production of paper ...</td>\n      <td>AT.CAED/9008390397176.FACILITY</td>\n      <td>Fritz EGGER GmbH &amp; Co. OG</td>\n      <td>15.691833</td>\n      <td>48.259556</td>\n      <td>Unterradlberg</td>\n      <td>CO2</td>\n      <td>228000000.0</td>\n      <td>2007</td>\n    </tr>\n    <tr>\n      <th>3</th>\n      <td>Austria</td>\n      <td>6</td>\n      <td>Paper and wood production and processing</td>\n      <td>3.0</td>\n      <td>Industrial plants for the production of paper ...</td>\n      <td>AT.CAED/9008390397176.FACILITY</td>\n      <td>Fritz EGGER GmbH &amp; Co. OG</td>\n      <td>15.691833</td>\n      <td>48.259556</td>\n      <td>Unterradlberg</td>\n      <td>NOx</td>\n      <td>311000.0</td>\n      <td>2007</td>\n    </tr>\n    <tr>\n      <th>4</th>\n      <td>Austria</td>\n      <td>3</td>\n      <td>Mineral industry</td>\n      <td>2.0</td>\n      <td>Installations for the production of cement cli...</td>\n      <td>AT.CAED/9008390397220.FACILITY</td>\n      <td>voestalpine Stahl GmbH</td>\n      <td>14.159778</td>\n      <td>47.807083</td>\n      <td>Klaus an der Pyhrnbahn</td>\n      <td>CO2</td>\n      <td>329000000.0</td>\n      <td>2007</td>\n    </tr>\n  </tbody>\n</table>\n</div>"
     },
     "execution_count": 4,
     "metadata": {},
     "output_type": "execute_result"
    }
   ],
   "source": [
    "df = pd.read_csv('../data/F1_4_clean_data.csv', on_bad_lines='skip', sep=',',  na_filter=True)\n",
    "df = df.rename(columns={'countryName': 'country', 'reportingYear':'year'}).drop(columns=['Unnamed: 0'], axis=1)\n",
    "df.head()"
   ],
   "metadata": {
    "collapsed": false,
    "pycharm": {
     "name": "#%%\n"
    }
   }
  },
  {
   "cell_type": "code",
   "execution_count": 5,
   "outputs": [
    {
     "data": {
      "text/plain": "pollutant          City  year  2-ethyl hexyl  Aldrin  Anthracene   As  \\\n0                    ,   2007            0.0       0         0.0  0.0   \n1                    ,   2009            0.0       0         0.0  0.0   \n2                   Apc  2009            0.0       0         0.0  0.0   \n3                   Apc  2010            0.0       0         0.0  0.0   \n4                   Apc  2011            0.0       0         0.0  0.0   \n5                   Apc  2014            0.0       0         0.0  0.0   \n6           Borgo Lares  2019            0.0       0         0.0  0.0   \n7                 Crewe  2007            0.0       0         0.0  0.0   \n8               Crotone  2018            0.0       0         0.0  0.0   \n9               Crotone  2019            0.0       0         0.0  0.0   \n\npollutant  Asbestos  Benzene  Benzo(g,h,i)perylene  CFCs  ...  TRI  Teq  \\\n0               0.0      0.0                   0.0   0.0  ...  0.0  0.0   \n1               0.0      0.0                   0.0   0.0  ...  0.0  0.0   \n2               0.0      0.0                   0.0   0.0  ...  0.0  0.0   \n3               0.0      0.0                   0.0   0.0  ...  0.0  0.0   \n4               0.0      0.0                   0.0   0.0  ...  0.0  0.0   \n5               0.0      0.0                   0.0   0.0  ...  0.0  0.0   \n6               0.0      0.0                   0.0   0.0  ...  0.0  0.0   \n7               0.0      0.0                   0.0   0.0  ...  0.0  0.0   \n8               0.0      0.0                   0.0   0.0  ...  0.0  0.0   \n9               0.0      0.0                   0.0   0.0  ...  0.0  0.0   \n\npollutant  Tetrachloroethylene  Toluene  Trichloromethane  Vinyl chloride  \\\n0                            0      0.0                 0               0   \n1                            0      0.0                 0               0   \n2                            0      0.0                 0               0   \n3                            0      0.0                 0               0   \n4                            0      0.0                 0               0   \n5                            0      0.0                 0               0   \n6                            0      0.0                 0               0   \n7                            0      0.0                 0               0   \n8                            0      0.0                 0               0   \n9                            0      0.0                 0               0   \n\npollutant  Xylenes   Zn  total C  total F  \n0                0  0.0        0      0.0  \n1                0  0.0        0      0.0  \n2                0  0.0        0      0.0  \n3                0  0.0        0      0.0  \n4                0  0.0        0      0.0  \n5                0  0.0        0      0.0  \n6                0  0.0        0      0.0  \n7                0  0.0        0      0.0  \n8                0  0.0        0      0.0  \n9                0  0.0        0      0.0  \n\n[10 rows x 64 columns]",
      "text/html": "<div>\n<style scoped>\n    .dataframe tbody tr th:only-of-type {\n        vertical-align: middle;\n    }\n\n    .dataframe tbody tr th {\n        vertical-align: top;\n    }\n\n    .dataframe thead th {\n        text-align: right;\n    }\n</style>\n<table border=\"1\" class=\"dataframe\">\n  <thead>\n    <tr style=\"text-align: right;\">\n      <th>pollutant</th>\n      <th>City</th>\n      <th>year</th>\n      <th>2-ethyl hexyl</th>\n      <th>Aldrin</th>\n      <th>Anthracene</th>\n      <th>As</th>\n      <th>Asbestos</th>\n      <th>Benzene</th>\n      <th>Benzo(g,h,i)perylene</th>\n      <th>CFCs</th>\n      <th>...</th>\n      <th>TRI</th>\n      <th>Teq</th>\n      <th>Tetrachloroethylene</th>\n      <th>Toluene</th>\n      <th>Trichloromethane</th>\n      <th>Vinyl chloride</th>\n      <th>Xylenes</th>\n      <th>Zn</th>\n      <th>total C</th>\n      <th>total F</th>\n    </tr>\n  </thead>\n  <tbody>\n    <tr>\n      <th>0</th>\n      <td>,</td>\n      <td>2007</td>\n      <td>0.0</td>\n      <td>0</td>\n      <td>0.0</td>\n      <td>0.0</td>\n      <td>0.0</td>\n      <td>0.0</td>\n      <td>0.0</td>\n      <td>0.0</td>\n      <td>...</td>\n      <td>0.0</td>\n      <td>0.0</td>\n      <td>0</td>\n      <td>0.0</td>\n      <td>0</td>\n      <td>0</td>\n      <td>0</td>\n      <td>0.0</td>\n      <td>0</td>\n      <td>0.0</td>\n    </tr>\n    <tr>\n      <th>1</th>\n      <td>,</td>\n      <td>2009</td>\n      <td>0.0</td>\n      <td>0</td>\n      <td>0.0</td>\n      <td>0.0</td>\n      <td>0.0</td>\n      <td>0.0</td>\n      <td>0.0</td>\n      <td>0.0</td>\n      <td>...</td>\n      <td>0.0</td>\n      <td>0.0</td>\n      <td>0</td>\n      <td>0.0</td>\n      <td>0</td>\n      <td>0</td>\n      <td>0</td>\n      <td>0.0</td>\n      <td>0</td>\n      <td>0.0</td>\n    </tr>\n    <tr>\n      <th>2</th>\n      <td>Apc</td>\n      <td>2009</td>\n      <td>0.0</td>\n      <td>0</td>\n      <td>0.0</td>\n      <td>0.0</td>\n      <td>0.0</td>\n      <td>0.0</td>\n      <td>0.0</td>\n      <td>0.0</td>\n      <td>...</td>\n      <td>0.0</td>\n      <td>0.0</td>\n      <td>0</td>\n      <td>0.0</td>\n      <td>0</td>\n      <td>0</td>\n      <td>0</td>\n      <td>0.0</td>\n      <td>0</td>\n      <td>0.0</td>\n    </tr>\n    <tr>\n      <th>3</th>\n      <td>Apc</td>\n      <td>2010</td>\n      <td>0.0</td>\n      <td>0</td>\n      <td>0.0</td>\n      <td>0.0</td>\n      <td>0.0</td>\n      <td>0.0</td>\n      <td>0.0</td>\n      <td>0.0</td>\n      <td>...</td>\n      <td>0.0</td>\n      <td>0.0</td>\n      <td>0</td>\n      <td>0.0</td>\n      <td>0</td>\n      <td>0</td>\n      <td>0</td>\n      <td>0.0</td>\n      <td>0</td>\n      <td>0.0</td>\n    </tr>\n    <tr>\n      <th>4</th>\n      <td>Apc</td>\n      <td>2011</td>\n      <td>0.0</td>\n      <td>0</td>\n      <td>0.0</td>\n      <td>0.0</td>\n      <td>0.0</td>\n      <td>0.0</td>\n      <td>0.0</td>\n      <td>0.0</td>\n      <td>...</td>\n      <td>0.0</td>\n      <td>0.0</td>\n      <td>0</td>\n      <td>0.0</td>\n      <td>0</td>\n      <td>0</td>\n      <td>0</td>\n      <td>0.0</td>\n      <td>0</td>\n      <td>0.0</td>\n    </tr>\n    <tr>\n      <th>5</th>\n      <td>Apc</td>\n      <td>2014</td>\n      <td>0.0</td>\n      <td>0</td>\n      <td>0.0</td>\n      <td>0.0</td>\n      <td>0.0</td>\n      <td>0.0</td>\n      <td>0.0</td>\n      <td>0.0</td>\n      <td>...</td>\n      <td>0.0</td>\n      <td>0.0</td>\n      <td>0</td>\n      <td>0.0</td>\n      <td>0</td>\n      <td>0</td>\n      <td>0</td>\n      <td>0.0</td>\n      <td>0</td>\n      <td>0.0</td>\n    </tr>\n    <tr>\n      <th>6</th>\n      <td>Borgo Lares</td>\n      <td>2019</td>\n      <td>0.0</td>\n      <td>0</td>\n      <td>0.0</td>\n      <td>0.0</td>\n      <td>0.0</td>\n      <td>0.0</td>\n      <td>0.0</td>\n      <td>0.0</td>\n      <td>...</td>\n      <td>0.0</td>\n      <td>0.0</td>\n      <td>0</td>\n      <td>0.0</td>\n      <td>0</td>\n      <td>0</td>\n      <td>0</td>\n      <td>0.0</td>\n      <td>0</td>\n      <td>0.0</td>\n    </tr>\n    <tr>\n      <th>7</th>\n      <td>Crewe</td>\n      <td>2007</td>\n      <td>0.0</td>\n      <td>0</td>\n      <td>0.0</td>\n      <td>0.0</td>\n      <td>0.0</td>\n      <td>0.0</td>\n      <td>0.0</td>\n      <td>0.0</td>\n      <td>...</td>\n      <td>0.0</td>\n      <td>0.0</td>\n      <td>0</td>\n      <td>0.0</td>\n      <td>0</td>\n      <td>0</td>\n      <td>0</td>\n      <td>0.0</td>\n      <td>0</td>\n      <td>0.0</td>\n    </tr>\n    <tr>\n      <th>8</th>\n      <td>Crotone</td>\n      <td>2018</td>\n      <td>0.0</td>\n      <td>0</td>\n      <td>0.0</td>\n      <td>0.0</td>\n      <td>0.0</td>\n      <td>0.0</td>\n      <td>0.0</td>\n      <td>0.0</td>\n      <td>...</td>\n      <td>0.0</td>\n      <td>0.0</td>\n      <td>0</td>\n      <td>0.0</td>\n      <td>0</td>\n      <td>0</td>\n      <td>0</td>\n      <td>0.0</td>\n      <td>0</td>\n      <td>0.0</td>\n    </tr>\n    <tr>\n      <th>9</th>\n      <td>Crotone</td>\n      <td>2019</td>\n      <td>0.0</td>\n      <td>0</td>\n      <td>0.0</td>\n      <td>0.0</td>\n      <td>0.0</td>\n      <td>0.0</td>\n      <td>0.0</td>\n      <td>0.0</td>\n      <td>...</td>\n      <td>0.0</td>\n      <td>0.0</td>\n      <td>0</td>\n      <td>0.0</td>\n      <td>0</td>\n      <td>0</td>\n      <td>0</td>\n      <td>0.0</td>\n      <td>0</td>\n      <td>0.0</td>\n    </tr>\n  </tbody>\n</table>\n<p>10 rows × 64 columns</p>\n</div>"
     },
     "execution_count": 5,
     "metadata": {},
     "output_type": "execute_result"
    }
   ],
   "source": [
    "df.head()\n",
    "df_pivoted = df.pivot_table(index=['City', 'year'], columns=['pollutant'], values='emissions', aggfunc=np.sum, fill_value=0)\n",
    "df_pivoted.reset_index(inplace=True)\n",
    "df_pivoted.head(10)"
   ],
   "metadata": {
    "collapsed": false,
    "pycharm": {
     "name": "#%%\n"
    }
   }
  },
  {
   "cell_type": "code",
   "execution_count": 6,
   "outputs": [],
   "source": [
    "\n",
    "def get_test_train_country(city):\n",
    "\n",
    "    df_pivoted = df.pivot_table(index=['City', 'year'], columns=['pollutant'], values='emissions', aggfunc=np.sum, fill_value=0)\n",
    "\n",
    "    df_pivoted.reset_index(inplace=True)\n",
    "    index_country = df_pivoted[df_pivoted['City'] != city].index\n",
    "    df_pivoted.drop(index_country, inplace=True)\n",
    "\n",
    "    df_pivoted['total'] = df_pivoted.iloc[:,2:50].sum(axis=1)\n",
    "    years = df_pivoted['year'].unique().tolist()\n",
    "    splits = {'train': [], 'test': []}\n",
    "\n",
    "    for index, yr in enumerate(years[:-1]):\n",
    "\n",
    "        df_test = df_pivoted.loc[df_pivoted.year.isin([years[index+1]]), :]\n",
    "        df_train = df_pivoted.loc[df_pivoted.year.isin(years[:index+1]), :]\n",
    "\n",
    "        splits['test'].append(df_test[['total', 'year']])\n",
    "        splits['train'].append(df_train[['total', 'year']])\n",
    "\n",
    "    year_list = df_pivoted['year'].unique().tolist()\n",
    "\n",
    "    return splits, year_list"
   ],
   "metadata": {
    "collapsed": false,
    "pycharm": {
     "name": "#%%\n"
    }
   }
  },
  {
   "cell_type": "code",
   "execution_count": 7,
   "outputs": [],
   "source": [
    "from sklearn.ensemble import RandomForestRegressor\n",
    "from sklearn.metrics import mean_absolute_error\n",
    "\n",
    "def get_predictions(splits, year_list, model, option):\n",
    "\n",
    "    predictions = []\n",
    "    expectations = []\n",
    "\n",
    "    for i in range(1, len(year_list)-1):\n",
    "\n",
    "        X_train = splits['train'][i][['year']]\n",
    "        y_train = splits['train'][i][['total']]\n",
    "        X_test = splits['test'][i][['year']]\n",
    "        y_test = splits['test'][i][['total']]\n",
    "\n",
    "        StandardScaler().fit_transform(X_train, X_test)\n",
    "\n",
    "        model.fit(X_train, y_train.values.ravel())\n",
    "\n",
    "        y_pred = model.predict(X_test)\n",
    "        predictions.append(y_pred)\n",
    "        expectations.append(y_test.values.ravel())\n",
    "\n",
    "    if option: return expectations\n",
    "    else:  return predictions\n"
   ],
   "metadata": {
    "collapsed": false,
    "pycharm": {
     "name": "#%%\n"
    }
   }
  },
  {
   "cell_type": "code",
   "execution_count": 25,
   "outputs": [
    {
     "name": "stdout",
     "output_type": "stream",
     "text": [
      "[-1.0, 0.0, 1.0, 2.0, 3.0, 4.0, 5.0, 6.0, 7.0, 8.0, 9.0]\n"
     ]
    },
    {
     "data": {
      "text/plain": "<Figure size 720x360 with 0 Axes>"
     },
     "metadata": {},
     "output_type": "display_data"
    },
    {
     "data": {
      "text/plain": "<Figure size 432x288 with 1 Axes>",
      "image/png": "[encoded data removed]"
     },
     "metadata": {
      "needs_background": "light"
     },
     "output_type": "display_data"
    },
    {
     "name": "stdout",
     "output_type": "stream",
     "text": [
      "[-1.0, 0.0, 1.0, 2.0, 3.0, 4.0, 5.0, 6.0, 7.0, 8.0, 9.0]\n"
     ]
    },
    {
     "data": {
      "text/plain": "<Figure size 720x360 with 0 Axes>"
     },
     "metadata": {},
     "output_type": "display_data"
    },
    {
     "data": {
      "text/plain": "<Figure size 432x288 with 1 Axes>",
      "image/png": "[encoded data removed]"
     },
     "metadata": {
      "needs_background": "light"
     },
     "output_type": "display_data"
    },
    {
     "name": "stdout",
     "output_type": "stream",
     "text": [
      "[-1.0, 0.0, 1.0, 2.0, 3.0, 4.0, 5.0, 6.0, 7.0, 8.0, 9.0]\n"
     ]
    },
    {
     "data": {
      "text/plain": "<Figure size 720x360 with 0 Axes>"
     },
     "metadata": {},
     "output_type": "display_data"
    },
    {
     "data": {
      "text/plain": "<Figure size 432x288 with 1 Axes>",
      "image/png": "[encoded data removed]"
     },
     "metadata": {
      "needs_background": "light"
     },
     "output_type": "display_data"
    }
   ],
   "source": [
    "from sklearn.linear_model import LinearRegression\n",
    "\n",
    "models = {'Random Forest Regressor' : RandomForestRegressor(n_estimators=1000, max_depth=2, random_state=1),\n",
    "          'Decision Tree Regressor' : DecisionTreeRegressor(random_state=1),\n",
    "          'Linear Regression' :  LinearRegression()\n",
    "}\n",
    "\n",
    "for model in models:\n",
    "\n",
    "    splits, year_list = get_test_train_country('Hamburg')\n",
    "    predictions = get_predictions(splits, year_list , models[model], False)\n",
    "    expectations = get_predictions(splits, year_list , models[model], True)\n",
    "\n",
    "    plt.figure(figsize=(10, 5))\n",
    "    fig, ax = plt.subplots()\n",
    "    plt.plot(expectations, label='Expected')\n",
    "    plt.plot(predictions, label='Predicted')\n",
    "    plt.title(model)\n",
    "    a= ax.get_xticks().tolist()\n",
    "    print(a)\n",
    "    plt.legend()\n",
    "\n",
    "    #year_list.pop()\n",
    "    #plt.xticks(year_list)\n",
    "    plt.tight_layout()\n",
    "    plt.show()"
   ],
   "metadata": {
    "collapsed": false,
    "pycharm": {
     "name": "#%%\n"
    }
   }
  },
  {
   "cell_type": "code",
   "execution_count": 27,
   "outputs": [
    {
     "name": "stdout",
     "output_type": "stream",
     "text": [
      "[0 1 2 3 4 5 6 7 8]\n",
      "[0 1 2 3 4 5 6 7 8 9]\n",
      "[1, 2, 3, 4, 5, 6, 7, 8, 9, 10]\n",
      "[array([3.67065953e+09]), array([6.04868438e+09]), array([6.3578649e+09]), array([6.4421262e+09]), array([6.10550514e+09]), array([5.58572328e+09]), array([5.21458125e+09]), array([6.86139827e+09]), array([8.32534111e+09])]\n",
      "[-1.  0.  1.  2.  3.  4.  5.  6.  7.  8.  9.]\n"
     ]
    }
   ],
   "source": [
    "len(predictions)\n",
    "x = np.arange(len(predictions))\n",
    "print(x)\n",
    "print(np.arange(10))\n",
    "lst = list(np.arange(1,10+1))\n",
    "print(lst)\n",
    "print(predictions)\n",
    "\n",
    "x = np.array([-1.0, 0.0, 1.0, 2.0, 3.0, 4.0, 5.0, 6.0, 7.0, 8.0, 9.0])\n",
    "print(x)"
   ],
   "metadata": {
    "collapsed": false,
    "pycharm": {
     "name": "#%%\n"
    }
   }
  },
  {
   "cell_type": "code",
   "execution_count": 9,
   "outputs": [
    {
     "ename": "NameError",
     "evalue": "name 'models' is not defined",
     "output_type": "error",
     "traceback": [
      "\u001B[0;31m---------------------------------------------------------------------------\u001B[0m",
      "\u001B[0;31mNameError\u001B[0m                                 Traceback (most recent call last)",
      "Input \u001B[0;32mIn [9]\u001B[0m, in \u001B[0;36m<cell line: 5>\u001B[0;34m()\u001B[0m\n\u001B[1;32m      1\u001B[0m \u001B[38;5;28;01mfrom\u001B[39;00m \u001B[38;5;21;01msklearn\u001B[39;00m\u001B[38;5;21;01m.\u001B[39;00m\u001B[38;5;21;01mlinear_model\u001B[39;00m \u001B[38;5;28;01mimport\u001B[39;00m LinearRegression\n\u001B[1;32m      3\u001B[0m splits, year_list \u001B[38;5;241m=\u001B[39m get_test_train_country(\u001B[38;5;124m'\u001B[39m\u001B[38;5;124mMARTIGUES\u001B[39m\u001B[38;5;124m'\u001B[39m)\n\u001B[0;32m----> 5\u001B[0m predictions1 \u001B[38;5;241m=\u001B[39m get_predictions(splits, year_list , \u001B[43mmodels\u001B[49m[\u001B[38;5;124m'\u001B[39m\u001B[38;5;124mRandom Forest Regressor\u001B[39m\u001B[38;5;124m'\u001B[39m], \u001B[38;5;28;01mFalse\u001B[39;00m)\n\u001B[1;32m      6\u001B[0m predictions2 \u001B[38;5;241m=\u001B[39m get_predictions(splits, year_list , models[\u001B[38;5;124m'\u001B[39m\u001B[38;5;124mDecision Tree Regressor\u001B[39m\u001B[38;5;124m'\u001B[39m], \u001B[38;5;28;01mFalse\u001B[39;00m)\n\u001B[1;32m      7\u001B[0m predictions3 \u001B[38;5;241m=\u001B[39m get_predictions(splits, year_list , models[\u001B[38;5;124m'\u001B[39m\u001B[38;5;124mLinear Regression\u001B[39m\u001B[38;5;124m'\u001B[39m], \u001B[38;5;28;01mFalse\u001B[39;00m)\n",
      "\u001B[0;31mNameError\u001B[0m: name 'models' is not defined"
     ]
    }
   ],
   "source": [
    "\n",
    "splits, year_list = get_test_train_country('MARTIGUES')\n",
    "\n",
    "predictions1 = get_predictions(splits, year_list , models['Random Forest Regressor'], False)\n",
    "predictions2 = get_predictions(splits, year_list , models['Decision Tree Regressor'], False)\n",
    "predictions3 = get_predictions(splits, year_list , models['Linear Regression'], False)\n",
    "expectations = get_predictions(splits, year_list , models['Linear Regression'], True)\n",
    "\n",
    "\n",
    "plt.figure(figsize=(10, 5))\n",
    "plt.plot(expectations, label='Expected')\n",
    "plt.plot(predictions1, label='Random Forest Regressor')\n",
    "plt.plot(predictions2, label='Decision Tree Regressor ')\n",
    "plt.plot(predictions3, label='Linear Regression ')\n",
    "plt.title('Compare models')\n",
    "plt.legend()\n",
    "plt.tight_layout()\n",
    "plt.show()"
   ],
   "metadata": {
    "collapsed": false,
    "pycharm": {
     "name": "#%%\n"
    }
   }
  },
  {
   "cell_type": "code",
   "execution_count": 176,
   "outputs": [
    {
     "name": "stdout",
     "output_type": "stream",
     "text": [
      "[2007, 2008, 2009, 2010, 2011, 2012, 2013, 2014, 2015, 2016, 2017, 2018, 2019, 2020]\n"
     ]
    }
   ],
   "source": [
    "print(year_list)"
   ],
   "metadata": {
    "collapsed": false,
    "pycharm": {
     "name": "#%%\n"
    }
   }
  },
  {
   "cell_type": "markdown",
   "source": [
    "---"
   ],
   "metadata": {
    "collapsed": false,
    "pycharm": {
     "name": "#%% md\n"
    }
   }
  },
  {
   "cell_type": "code",
   "execution_count": 177,
   "outputs": [],
   "source": [
    "from sklearn.preprocessing import StandardScaler\n",
    "\n",
    "def test():\n",
    "    print('Results for RandomForestRegressor')\n",
    "    for i in range(0, len(year_list)-1):\n",
    "        X_train = splits_pollutant['train'][i][['year', 'country']]\n",
    "        y_train = splits_pollutant['train'][i][[selected_pollutant]]\n",
    "        X_test = splits_pollutant['test'][i][['year', 'country']]\n",
    "        y_test = splits_pollutant['test'][i][[selected_pollutant]]\n",
    "\n",
    "        StandardScaler().fit_transform(X_train, X_test)\n",
    "\n",
    "        forest_model = RandomForestRegressor(n_estimators=1000, n_jobs=-1, random_state=1)\n",
    "\n",
    "        forest_model.fit(X_train, y_train.values.ravel())\n",
    "        y_pred = forest_model.predict(X_test)\n",
    "\n",
    "        print(f'R² for {window[i]} :', '{:.3f}'.format(r2_score(y_test, y_pred)))\n",
    "\n"
   ],
   "metadata": {
    "collapsed": false,
    "pycharm": {
     "name": "#%%\n"
    }
   }
  },
  {
   "cell_type": "code",
   "execution_count": 178,
   "outputs": [],
   "source": [
    "def test2():\n",
    "    print('Results for DecisionTreeRegressor')\n",
    "    for i in range(0, len(year_list)-1):\n",
    "        X_train = splits_pollutant['train'][i][['year', 'country']]\n",
    "        y_train = splits_pollutant['train'][i][[selected_pollutant]]\n",
    "        X_test = splits_pollutant['test'][i][['year', 'country']]\n",
    "        y_test = splits_pollutant['test'][i][[selected_pollutant]]\n",
    "\n",
    "        dt = DecisionTreeRegressor(random_state=1)\n",
    "        dt_model = dt.fit(X_train, y_train)\n",
    "        y_pred = dt_model.predict(X_test)\n",
    "\n",
    "        print(f'R² for {window[i]} :', '{:.3f}'.format(r2_score(y_test, y_pred)))\n"
   ],
   "metadata": {
    "collapsed": false,
    "pycharm": {
     "name": "#%%\n"
    }
   }
  },
  {
   "cell_type": "code",
   "execution_count": 180,
   "outputs": [
    {
     "name": "stdout",
     "output_type": "stream",
     "text": [
      "Results for RandomForestRegressor\n",
      "R² for train: [2007] test: [2008] : 0.826\n",
      "R² for train: [2007, 2008] test: [2009] : 0.918\n",
      "R² for train: [2007, 2008, 2009] test: [2010] : 0.952\n",
      "R² for train: [2007, 2008, 2009, 2010] test: [2011] : 0.990\n",
      "R² for train: [2007, 2008, 2009, 2010, 2011] test: [2012] : 0.990\n",
      "R² for train: [2007, 2008, 2009, 2010, 2011, 2012] test: [2013] : 0.995\n",
      "R² for train: [2007, 2008, 2009, 2010, 2011, 2012, 2013] test: [2014] : 0.987\n",
      "R² for train: [2007, 2008, 2009, 2010, 2011, 2012, 2013, 2014] test: [2015] : 0.991\n",
      "R² for train: [2007, 2008, 2009, 2010, 2011, 2012, 2013, 2014, 2015] test: [2016] : 0.987\n",
      "R² for train: [2007, 2008, 2009, 2010, 2011, 2012, 2013, 2014, 2015, 2016] test: [2017] : 0.985\n",
      "R² for train: [2007, 2008, 2009, 2010, 2011, 2012, 2013, 2014, 2015, 2016, 2017] test: [2018] : 0.987\n",
      "R² for train: [2007, 2008, 2009, 2010, 2011, 2012, 2013, 2014, 2015, 2016, 2017, 2018] test: [2019] : 0.921\n",
      "R² for train: [2007, 2008, 2009, 2010, 2011, 2012, 2013, 2014, 2015, 2016, 2017, 2018, 2019] test: [2020] : 0.761\n",
      " \n",
      "Results for DecisionTreeRegressor\n",
      "R² for train: [2007] test: [2008] : 0.997\n",
      "R² for train: [2007, 2008] test: [2009] : 0.966\n",
      "R² for train: [2007, 2008, 2009] test: [2010] : 0.983\n",
      "R² for train: [2007, 2008, 2009, 2010] test: [2011] : 0.997\n",
      "R² for train: [2007, 2008, 2009, 2010, 2011] test: [2012] : 0.995\n",
      "R² for train: [2007, 2008, 2009, 2010, 2011, 2012] test: [2013] : 0.994\n",
      "R² for train: [2007, 2008, 2009, 2010, 2011, 2012, 2013] test: [2014] : 0.989\n",
      "R² for train: [2007, 2008, 2009, 2010, 2011, 2012, 2013, 2014] test: [2015] : 0.995\n",
      "R² for train: [2007, 2008, 2009, 2010, 2011, 2012, 2013, 2014, 2015] test: [2016] : 0.992\n",
      "R² for train: [2007, 2008, 2009, 2010, 2011, 2012, 2013, 2014, 2015, 2016] test: [2017] : 0.987\n",
      "R² for train: [2007, 2008, 2009, 2010, 2011, 2012, 2013, 2014, 2015, 2016, 2017] test: [2018] : 0.988\n",
      "R² for train: [2007, 2008, 2009, 2010, 2011, 2012, 2013, 2014, 2015, 2016, 2017, 2018] test: [2019] : 0.930\n",
      "R² for train: [2007, 2008, 2009, 2010, 2011, 2012, 2013, 2014, 2015, 2016, 2017, 2018, 2019] test: [2020] : 0.834\n"
     ]
    }
   ],
   "source": [
    "test()\n",
    "print(' ')\n",
    "\n",
    "test2()"
   ],
   "metadata": {
    "collapsed": false,
    "pycharm": {
     "name": "#%%\n"
    }
   }
  },
  {
   "cell_type": "code",
   "execution_count": null,
   "outputs": [],
   "source": [],
   "metadata": {
    "collapsed": false,
    "pycharm": {
     "name": "#%%\n"
    }
   }
  }
 ],
 "metadata": {
  "kernelspec": {
   "display_name": "Python 3",
   "language": "python",
   "name": "python3"
  },
  "language_info": {
   "codemirror_mode": {
    "name": "ipython",
    "version": 2
   },
   "file_extension": ".py",
   "mimetype": "text/x-python",
   "name": "python",
   "nbconvert_exporter": "python",
   "pygments_lexer": "ipython2",
   "version": "2.7.6"
  }
 },
 "nbformat": 4,
 "nbformat_minor": 0
}