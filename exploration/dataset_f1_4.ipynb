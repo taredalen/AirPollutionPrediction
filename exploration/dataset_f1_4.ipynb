{
 "cells": [
  {
   "cell_type": "code",
   "execution_count": 11,
   "metadata": {},
   "outputs": [],
   "source": [
    "import pandas as pd\n",
    "import numpy as np\n",
    "\n",
    "df = pd.read_csv(\"/Users/sebila/PycharmProjects/AirPollutionPrediction/data/F1_4_Detailed releases at facility level with E-PRTR Sector and Annex I Activity detail into Air.csv\")"
   ]
  },
  {
   "cell_type": "code",
   "execution_count": 12,
   "metadata": {},
   "outputs": [
    {
     "data": {
      "text/plain": "  countryName  EPRTRSectorCode                           eprtrSectorName  \\\n0     Austria                4                         Chemical industry   \n1     Austria                9                          Other activities   \n2     Austria                6  Paper and wood production and processing   \n3     Austria                6  Paper and wood production and processing   \n4     Austria                3                          Mineral industry   \n\n  EPRTRAnnexIMainActivityCode  \\\n0                        4(d)   \n1                        9(c)   \n2                        6(b)   \n3                        6(b)   \n4                        3(c)   \n\n                        EPRTRAnnexIMainActivityLabel  \\\n0  Chemical installations for the production on a...   \n1  Installations for the surface treatment of sub...   \n2  Industrial plants for the production of paper ...   \n3  Industrial plants for the production of paper ...   \n4  Installations for the production of cement cli...   \n\n                FacilityInspireID                          facilityName  \\\n0  AT.CAED/9008390392737.FACILITY                   Nufarm GmbH & CO KG   \n1  AT.CAED/9008390396414.FACILITY  MAGNA STEYR Fahrzeugtechnik AG&Co KG   \n2  AT.CAED/9008390397176.FACILITY             Fritz EGGER GmbH & Co. OG   \n3  AT.CAED/9008390397176.FACILITY             Fritz EGGER GmbH & Co. OG   \n4  AT.CAED/9008390397220.FACILITY                voestalpine Stahl GmbH   \n\n   Longitude   Latitude                    City targetRelease  \\\n0  14.336056  48.290943                    Linz           AIR   \n1  15.477778  47.019170   Graz,07.Bez.:Liebenau           AIR   \n2  15.691833  48.259556           Unterradlberg           AIR   \n3  15.691833  48.259556           Unterradlberg           AIR   \n4  14.159778  47.807083  Klaus an der Pyhrnbahn           AIR   \n\n                                        pollutant    emissions  reportingYear  \n0                    1,2-dichloroethane (DCE-1,2)       3300.0           2007  \n1  Non-methane volatile organic compounds (NMVOC)     170000.0           2007  \n2                            Carbon dioxide (CO2)  228000000.0           2007  \n3                           Nitrogen oxides (NOX)     311000.0           2007  \n4                            Carbon dioxide (CO2)  329000000.0           2007  ",
      "text/html": "<div>\n<style scoped>\n    .dataframe tbody tr th:only-of-type {\n        vertical-align: middle;\n    }\n\n    .dataframe tbody tr th {\n        vertical-align: top;\n    }\n\n    .dataframe thead th {\n        text-align: right;\n    }\n</style>\n<table border=\"1\" class=\"dataframe\">\n  <thead>\n    <tr style=\"text-align: right;\">\n      <th></th>\n      <th>countryName</th>\n      <th>EPRTRSectorCode</th>\n      <th>eprtrSectorName</th>\n      <th>EPRTRAnnexIMainActivityCode</th>\n      <th>EPRTRAnnexIMainActivityLabel</th>\n      <th>FacilityInspireID</th>\n      <th>facilityName</th>\n      <th>Longitude</th>\n      <th>Latitude</th>\n      <th>City</th>\n      <th>targetRelease</th>\n      <th>pollutant</th>\n      <th>emissions</th>\n      <th>reportingYear</th>\n    </tr>\n  </thead>\n  <tbody>\n    <tr>\n      <th>0</th>\n      <td>Austria</td>\n      <td>4</td>\n      <td>Chemical industry</td>\n      <td>4(d)</td>\n      <td>Chemical installations for the production on a...</td>\n      <td>AT.CAED/9008390392737.FACILITY</td>\n      <td>Nufarm GmbH &amp; CO KG</td>\n      <td>14.336056</td>\n      <td>48.290943</td>\n      <td>Linz</td>\n      <td>AIR</td>\n      <td>1,2-dichloroethane (DCE-1,2)</td>\n      <td>3300.0</td>\n      <td>2007</td>\n    </tr>\n    <tr>\n      <th>1</th>\n      <td>Austria</td>\n      <td>9</td>\n      <td>Other activities</td>\n      <td>9(c)</td>\n      <td>Installations for the surface treatment of sub...</td>\n      <td>AT.CAED/9008390396414.FACILITY</td>\n      <td>MAGNA STEYR Fahrzeugtechnik AG&amp;Co KG</td>\n      <td>15.477778</td>\n      <td>47.019170</td>\n      <td>Graz,07.Bez.:Liebenau</td>\n      <td>AIR</td>\n      <td>Non-methane volatile organic compounds (NMVOC)</td>\n      <td>170000.0</td>\n      <td>2007</td>\n    </tr>\n    <tr>\n      <th>2</th>\n      <td>Austria</td>\n      <td>6</td>\n      <td>Paper and wood production and processing</td>\n      <td>6(b)</td>\n      <td>Industrial plants for the production of paper ...</td>\n      <td>AT.CAED/9008390397176.FACILITY</td>\n      <td>Fritz EGGER GmbH &amp; Co. OG</td>\n      <td>15.691833</td>\n      <td>48.259556</td>\n      <td>Unterradlberg</td>\n      <td>AIR</td>\n      <td>Carbon dioxide (CO2)</td>\n      <td>228000000.0</td>\n      <td>2007</td>\n    </tr>\n    <tr>\n      <th>3</th>\n      <td>Austria</td>\n      <td>6</td>\n      <td>Paper and wood production and processing</td>\n      <td>6(b)</td>\n      <td>Industrial plants for the production of paper ...</td>\n      <td>AT.CAED/9008390397176.FACILITY</td>\n      <td>Fritz EGGER GmbH &amp; Co. OG</td>\n      <td>15.691833</td>\n      <td>48.259556</td>\n      <td>Unterradlberg</td>\n      <td>AIR</td>\n      <td>Nitrogen oxides (NOX)</td>\n      <td>311000.0</td>\n      <td>2007</td>\n    </tr>\n    <tr>\n      <th>4</th>\n      <td>Austria</td>\n      <td>3</td>\n      <td>Mineral industry</td>\n      <td>3(c)</td>\n      <td>Installations for the production of cement cli...</td>\n      <td>AT.CAED/9008390397220.FACILITY</td>\n      <td>voestalpine Stahl GmbH</td>\n      <td>14.159778</td>\n      <td>47.807083</td>\n      <td>Klaus an der Pyhrnbahn</td>\n      <td>AIR</td>\n      <td>Carbon dioxide (CO2)</td>\n      <td>329000000.0</td>\n      <td>2007</td>\n    </tr>\n  </tbody>\n</table>\n</div>"
     },
     "execution_count": 12,
     "metadata": {},
     "output_type": "execute_result"
    }
   ],
   "source": [
    "df.head()"
   ]
  },
  {
   "cell_type": "code",
   "execution_count": 13,
   "metadata": {},
   "outputs": [
    {
     "name": "stdout",
     "output_type": "stream",
     "text": [
      "<class 'pandas.core.frame.DataFrame'>\n",
      "RangeIndex: 288566 entries, 0 to 288565\n",
      "Data columns (total 14 columns):\n",
      " #   Column                        Non-Null Count   Dtype  \n",
      "---  ------                        --------------   -----  \n",
      " 0   countryName                   288566 non-null  object \n",
      " 1   EPRTRSectorCode               288566 non-null  int64  \n",
      " 2   eprtrSectorName               288566 non-null  object \n",
      " 3   EPRTRAnnexIMainActivityCode   288566 non-null  object \n",
      " 4   EPRTRAnnexIMainActivityLabel  288566 non-null  object \n",
      " 5   FacilityInspireID             288566 non-null  object \n",
      " 6   facilityName                  288547 non-null  object \n",
      " 7   Longitude                     288566 non-null  float64\n",
      " 8   Latitude                      288566 non-null  float64\n",
      " 9   City                          288342 non-null  object \n",
      " 10  targetRelease                 288566 non-null  object \n",
      " 11  pollutant                     288566 non-null  object \n",
      " 12  emissions                     288566 non-null  float64\n",
      " 13  reportingYear                 288566 non-null  int64  \n",
      "dtypes: float64(3), int64(2), object(9)\n",
      "memory usage: 30.8+ MB\n",
      "None\n"
     ]
    }
   ],
   "source": [
    "print(df.info())"
   ]
  },
  {
   "cell_type": "code",
   "execution_count": 14,
   "metadata": {},
   "outputs": [
    {
     "data": {
      "text/plain": "       EPRTRSectorCode      Longitude       Latitude     emissions  \\\ncount    288566.000000  288566.000000  288566.000000  2.885660e+05   \nmean          4.205239       7.248907      48.293419  9.502748e+07   \nstd           2.513370      10.538875       6.933106  6.984015e+08   \nmin           1.000000     -63.080350     -21.303590  0.000000e+00   \n25%           1.000000      -0.915578      43.575665  1.160000e+04   \n50%           4.000000       6.709500      49.210195  4.120000e+04   \n75%           7.000000      14.574320      52.211600  4.950000e+05   \nmax           9.000000      55.666840      76.597755  4.320000e+10   \n\n       reportingYear  \ncount  288566.000000  \nmean     2013.016676  \nstd         3.891024  \nmin      2007.000000  \n25%      2010.000000  \n50%      2013.000000  \n75%      2016.000000  \nmax      2020.000000  ",
      "text/html": "<div>\n<style scoped>\n    .dataframe tbody tr th:only-of-type {\n        vertical-align: middle;\n    }\n\n    .dataframe tbody tr th {\n        vertical-align: top;\n    }\n\n    .dataframe thead th {\n        text-align: right;\n    }\n</style>\n<table border=\"1\" class=\"dataframe\">\n  <thead>\n    <tr style=\"text-align: right;\">\n      <th></th>\n      <th>EPRTRSectorCode</th>\n      <th>Longitude</th>\n      <th>Latitude</th>\n      <th>emissions</th>\n      <th>reportingYear</th>\n    </tr>\n  </thead>\n  <tbody>\n    <tr>\n      <th>count</th>\n      <td>288566.000000</td>\n      <td>288566.000000</td>\n      <td>288566.000000</td>\n      <td>2.885660e+05</td>\n      <td>288566.000000</td>\n    </tr>\n    <tr>\n      <th>mean</th>\n      <td>4.205239</td>\n      <td>7.248907</td>\n      <td>48.293419</td>\n      <td>9.502748e+07</td>\n      <td>2013.016676</td>\n    </tr>\n    <tr>\n      <th>std</th>\n      <td>2.513370</td>\n      <td>10.538875</td>\n      <td>6.933106</td>\n      <td>6.984015e+08</td>\n      <td>3.891024</td>\n    </tr>\n    <tr>\n      <th>min</th>\n      <td>1.000000</td>\n      <td>-63.080350</td>\n      <td>-21.303590</td>\n      <td>0.000000e+00</td>\n      <td>2007.000000</td>\n    </tr>\n    <tr>\n      <th>25%</th>\n      <td>1.000000</td>\n      <td>-0.915578</td>\n      <td>43.575665</td>\n      <td>1.160000e+04</td>\n      <td>2010.000000</td>\n    </tr>\n    <tr>\n      <th>50%</th>\n      <td>4.000000</td>\n      <td>6.709500</td>\n      <td>49.210195</td>\n      <td>4.120000e+04</td>\n      <td>2013.000000</td>\n    </tr>\n    <tr>\n      <th>75%</th>\n      <td>7.000000</td>\n      <td>14.574320</td>\n      <td>52.211600</td>\n      <td>4.950000e+05</td>\n      <td>2016.000000</td>\n    </tr>\n    <tr>\n      <th>max</th>\n      <td>9.000000</td>\n      <td>55.666840</td>\n      <td>76.597755</td>\n      <td>4.320000e+10</td>\n      <td>2020.000000</td>\n    </tr>\n  </tbody>\n</table>\n</div>"
     },
     "execution_count": 14,
     "metadata": {},
     "output_type": "execute_result"
    }
   ],
   "source": [
    "df.describe()"
   ]
  },
  {
   "cell_type": "code",
   "execution_count": 15,
   "metadata": {},
   "outputs": [
    {
     "data": {
      "text/plain": "countryName                       0\nEPRTRSectorCode                   0\neprtrSectorName                   0\nEPRTRAnnexIMainActivityCode       0\nEPRTRAnnexIMainActivityLabel      0\nFacilityInspireID                 0\nfacilityName                     19\nLongitude                         0\nLatitude                          0\nCity                            224\ntargetRelease                     0\npollutant                         0\nemissions                         0\nreportingYear                     0\ndtype: int64"
     },
     "execution_count": 15,
     "metadata": {},
     "output_type": "execute_result"
    }
   ],
   "source": [
    "df.isna().sum()"
   ]
  },
  {
   "cell_type": "code",
   "execution_count": 16,
   "metadata": {},
   "outputs": [],
   "source": [
    "df[\"City\"] = df[\"City\"].fillna(\"papapapapa\")"
   ]
  },
  {
   "cell_type": "code",
   "execution_count": 17,
   "metadata": {},
   "outputs": [],
   "source": [
    "from geopy.geocoders import Nominatim\n",
    "geolocator = Nominatim(user_agent=\"myApp\")"
   ]
  },
  {
   "cell_type": "code",
   "execution_count": 18,
   "metadata": {},
   "outputs": [],
   "source": [
    "for i in range(len(df)): \n",
    "    if df.loc[i, \"City\"] == \"papapapapa\":\n",
    "        latitude = df.loc[i, \"Latitude\"]\n",
    "        longitude = df.loc[i, \"Longitude\"]\n",
    "        coord = str(latitude) + \", \" + str(longitude)\n",
    "        location = geolocator.reverse(coord,language='en')\n",
    "        loc_dict = location.raw\n",
    "        if (\"city\" in loc_dict[\"address\"].keys()): df.loc[i, \"City\"] = loc_dict[\"address\"][\"city\"]\n",
    "        elif (\"town\" in loc_dict[\"address\"].keys()): df.loc[i, \"City\"] = loc_dict[\"address\"][\"town\"]\n",
    "        elif (\"village\" in loc_dict[\"address\"].keys()): df.loc[i, \"City\"] = loc_dict[\"address\"][\"village\"]\n",
    "        "
   ]
  },
  {
   "cell_type": "code",
   "execution_count": 19,
   "metadata": {},
   "outputs": [],
   "source": [
    "for i in range(len(df)): \n",
    "    if df.loc[i, \"City\"] == \"papapapapa\":\n",
    "        df.loc[i, \"City\"] = \"\""
   ]
  },
  {
   "cell_type": "code",
   "execution_count": 20,
   "metadata": {},
   "outputs": [
    {
     "data": {
      "text/plain": "  countryName  EPRTRSectorCode                           eprtrSectorName  \\\n0     Austria                4                         Chemical industry   \n1     Austria                9                          Other activities   \n2     Austria                6  Paper and wood production and processing   \n3     Austria                6  Paper and wood production and processing   \n4     Austria                3                          Mineral industry   \n\n  EPRTRAnnexIMainActivityCode  \\\n0                        4(d)   \n1                        9(c)   \n2                        6(b)   \n3                        6(b)   \n4                        3(c)   \n\n                        EPRTRAnnexIMainActivityLabel  \\\n0  Chemical installations for the production on a...   \n1  Installations for the surface treatment of sub...   \n2  Industrial plants for the production of paper ...   \n3  Industrial plants for the production of paper ...   \n4  Installations for the production of cement cli...   \n\n                FacilityInspireID                          facilityName  \\\n0  AT.CAED/9008390392737.FACILITY                   Nufarm GmbH & CO KG   \n1  AT.CAED/9008390396414.FACILITY  MAGNA STEYR Fahrzeugtechnik AG&Co KG   \n2  AT.CAED/9008390397176.FACILITY             Fritz EGGER GmbH & Co. OG   \n3  AT.CAED/9008390397176.FACILITY             Fritz EGGER GmbH & Co. OG   \n4  AT.CAED/9008390397220.FACILITY                voestalpine Stahl GmbH   \n\n   Longitude   Latitude                    City targetRelease  \\\n0  14.336056  48.290943                    Linz           AIR   \n1  15.477778  47.019170   Graz,07.Bez.:Liebenau           AIR   \n2  15.691833  48.259556           Unterradlberg           AIR   \n3  15.691833  48.259556           Unterradlberg           AIR   \n4  14.159778  47.807083  Klaus an der Pyhrnbahn           AIR   \n\n                                        pollutant    emissions  reportingYear  \n0                    1,2-dichloroethane (DCE-1,2)       3300.0           2007  \n1  Non-methane volatile organic compounds (NMVOC)     170000.0           2007  \n2                            Carbon dioxide (CO2)  228000000.0           2007  \n3                           Nitrogen oxides (NOX)     311000.0           2007  \n4                            Carbon dioxide (CO2)  329000000.0           2007  ",
      "text/html": "<div>\n<style scoped>\n    .dataframe tbody tr th:only-of-type {\n        vertical-align: middle;\n    }\n\n    .dataframe tbody tr th {\n        vertical-align: top;\n    }\n\n    .dataframe thead th {\n        text-align: right;\n    }\n</style>\n<table border=\"1\" class=\"dataframe\">\n  <thead>\n    <tr style=\"text-align: right;\">\n      <th></th>\n      <th>countryName</th>\n      <th>EPRTRSectorCode</th>\n      <th>eprtrSectorName</th>\n      <th>EPRTRAnnexIMainActivityCode</th>\n      <th>EPRTRAnnexIMainActivityLabel</th>\n      <th>FacilityInspireID</th>\n      <th>facilityName</th>\n      <th>Longitude</th>\n      <th>Latitude</th>\n      <th>City</th>\n      <th>targetRelease</th>\n      <th>pollutant</th>\n      <th>emissions</th>\n      <th>reportingYear</th>\n    </tr>\n  </thead>\n  <tbody>\n    <tr>\n      <th>0</th>\n      <td>Austria</td>\n      <td>4</td>\n      <td>Chemical industry</td>\n      <td>4(d)</td>\n      <td>Chemical installations for the production on a...</td>\n      <td>AT.CAED/9008390392737.FACILITY</td>\n      <td>Nufarm GmbH &amp; CO KG</td>\n      <td>14.336056</td>\n      <td>48.290943</td>\n      <td>Linz</td>\n      <td>AIR</td>\n      <td>1,2-dichloroethane (DCE-1,2)</td>\n      <td>3300.0</td>\n      <td>2007</td>\n    </tr>\n    <tr>\n      <th>1</th>\n      <td>Austria</td>\n      <td>9</td>\n      <td>Other activities</td>\n      <td>9(c)</td>\n      <td>Installations for the surface treatment of sub...</td>\n      <td>AT.CAED/9008390396414.FACILITY</td>\n      <td>MAGNA STEYR Fahrzeugtechnik AG&amp;Co KG</td>\n      <td>15.477778</td>\n      <td>47.019170</td>\n      <td>Graz,07.Bez.:Liebenau</td>\n      <td>AIR</td>\n      <td>Non-methane volatile organic compounds (NMVOC)</td>\n      <td>170000.0</td>\n      <td>2007</td>\n    </tr>\n    <tr>\n      <th>2</th>\n      <td>Austria</td>\n      <td>6</td>\n      <td>Paper and wood production and processing</td>\n      <td>6(b)</td>\n      <td>Industrial plants for the production of paper ...</td>\n      <td>AT.CAED/9008390397176.FACILITY</td>\n      <td>Fritz EGGER GmbH &amp; Co. OG</td>\n      <td>15.691833</td>\n      <td>48.259556</td>\n      <td>Unterradlberg</td>\n      <td>AIR</td>\n      <td>Carbon dioxide (CO2)</td>\n      <td>228000000.0</td>\n      <td>2007</td>\n    </tr>\n    <tr>\n      <th>3</th>\n      <td>Austria</td>\n      <td>6</td>\n      <td>Paper and wood production and processing</td>\n      <td>6(b)</td>\n      <td>Industrial plants for the production of paper ...</td>\n      <td>AT.CAED/9008390397176.FACILITY</td>\n      <td>Fritz EGGER GmbH &amp; Co. OG</td>\n      <td>15.691833</td>\n      <td>48.259556</td>\n      <td>Unterradlberg</td>\n      <td>AIR</td>\n      <td>Nitrogen oxides (NOX)</td>\n      <td>311000.0</td>\n      <td>2007</td>\n    </tr>\n    <tr>\n      <th>4</th>\n      <td>Austria</td>\n      <td>3</td>\n      <td>Mineral industry</td>\n      <td>3(c)</td>\n      <td>Installations for the production of cement cli...</td>\n      <td>AT.CAED/9008390397220.FACILITY</td>\n      <td>voestalpine Stahl GmbH</td>\n      <td>14.159778</td>\n      <td>47.807083</td>\n      <td>Klaus an der Pyhrnbahn</td>\n      <td>AIR</td>\n      <td>Carbon dioxide (CO2)</td>\n      <td>329000000.0</td>\n      <td>2007</td>\n    </tr>\n  </tbody>\n</table>\n</div>"
     },
     "execution_count": 20,
     "metadata": {},
     "output_type": "execute_result"
    }
   ],
   "source": [
    "df.head()"
   ]
  },
  {
   "cell_type": "code",
   "execution_count": 21,
   "metadata": {},
   "outputs": [],
   "source": [
    "df = df.drop(columns=[\"targetRelease\"])"
   ]
  },
  {
   "cell_type": "code",
   "execution_count": 22,
   "metadata": {},
   "outputs": [
    {
     "data": {
      "text/plain": "  countryName  EPRTRSectorCode                           eprtrSectorName  \\\n0     Austria                4                         Chemical industry   \n1     Austria                9                          Other activities   \n2     Austria                6  Paper and wood production and processing   \n3     Austria                6  Paper and wood production and processing   \n4     Austria                3                          Mineral industry   \n\n  EPRTRAnnexIMainActivityCode  \\\n0                        4(d)   \n1                        9(c)   \n2                        6(b)   \n3                        6(b)   \n4                        3(c)   \n\n                        EPRTRAnnexIMainActivityLabel  \\\n0  Chemical installations for the production on a...   \n1  Installations for the surface treatment of sub...   \n2  Industrial plants for the production of paper ...   \n3  Industrial plants for the production of paper ...   \n4  Installations for the production of cement cli...   \n\n                FacilityInspireID                          facilityName  \\\n0  AT.CAED/9008390392737.FACILITY                   Nufarm GmbH & CO KG   \n1  AT.CAED/9008390396414.FACILITY  MAGNA STEYR Fahrzeugtechnik AG&Co KG   \n2  AT.CAED/9008390397176.FACILITY             Fritz EGGER GmbH & Co. OG   \n3  AT.CAED/9008390397176.FACILITY             Fritz EGGER GmbH & Co. OG   \n4  AT.CAED/9008390397220.FACILITY                voestalpine Stahl GmbH   \n\n   Longitude   Latitude                    City  \\\n0  14.336056  48.290943                    Linz   \n1  15.477778  47.019170   Graz,07.Bez.:Liebenau   \n2  15.691833  48.259556           Unterradlberg   \n3  15.691833  48.259556           Unterradlberg   \n4  14.159778  47.807083  Klaus an der Pyhrnbahn   \n\n                                        pollutant    emissions  reportingYear  \n0                    1,2-dichloroethane (DCE-1,2)       3300.0           2007  \n1  Non-methane volatile organic compounds (NMVOC)     170000.0           2007  \n2                            Carbon dioxide (CO2)  228000000.0           2007  \n3                           Nitrogen oxides (NOX)     311000.0           2007  \n4                            Carbon dioxide (CO2)  329000000.0           2007  ",
      "text/html": "<div>\n<style scoped>\n    .dataframe tbody tr th:only-of-type {\n        vertical-align: middle;\n    }\n\n    .dataframe tbody tr th {\n        vertical-align: top;\n    }\n\n    .dataframe thead th {\n        text-align: right;\n    }\n</style>\n<table border=\"1\" class=\"dataframe\">\n  <thead>\n    <tr style=\"text-align: right;\">\n      <th></th>\n      <th>countryName</th>\n      <th>EPRTRSectorCode</th>\n      <th>eprtrSectorName</th>\n      <th>EPRTRAnnexIMainActivityCode</th>\n      <th>EPRTRAnnexIMainActivityLabel</th>\n      <th>FacilityInspireID</th>\n      <th>facilityName</th>\n      <th>Longitude</th>\n      <th>Latitude</th>\n      <th>City</th>\n      <th>pollutant</th>\n      <th>emissions</th>\n      <th>reportingYear</th>\n    </tr>\n  </thead>\n  <tbody>\n    <tr>\n      <th>0</th>\n      <td>Austria</td>\n      <td>4</td>\n      <td>Chemical industry</td>\n      <td>4(d)</td>\n      <td>Chemical installations for the production on a...</td>\n      <td>AT.CAED/9008390392737.FACILITY</td>\n      <td>Nufarm GmbH &amp; CO KG</td>\n      <td>14.336056</td>\n      <td>48.290943</td>\n      <td>Linz</td>\n      <td>1,2-dichloroethane (DCE-1,2)</td>\n      <td>3300.0</td>\n      <td>2007</td>\n    </tr>\n    <tr>\n      <th>1</th>\n      <td>Austria</td>\n      <td>9</td>\n      <td>Other activities</td>\n      <td>9(c)</td>\n      <td>Installations for the surface treatment of sub...</td>\n      <td>AT.CAED/9008390396414.FACILITY</td>\n      <td>MAGNA STEYR Fahrzeugtechnik AG&amp;Co KG</td>\n      <td>15.477778</td>\n      <td>47.019170</td>\n      <td>Graz,07.Bez.:Liebenau</td>\n      <td>Non-methane volatile organic compounds (NMVOC)</td>\n      <td>170000.0</td>\n      <td>2007</td>\n    </tr>\n    <tr>\n      <th>2</th>\n      <td>Austria</td>\n      <td>6</td>\n      <td>Paper and wood production and processing</td>\n      <td>6(b)</td>\n      <td>Industrial plants for the production of paper ...</td>\n      <td>AT.CAED/9008390397176.FACILITY</td>\n      <td>Fritz EGGER GmbH &amp; Co. OG</td>\n      <td>15.691833</td>\n      <td>48.259556</td>\n      <td>Unterradlberg</td>\n      <td>Carbon dioxide (CO2)</td>\n      <td>228000000.0</td>\n      <td>2007</td>\n    </tr>\n    <tr>\n      <th>3</th>\n      <td>Austria</td>\n      <td>6</td>\n      <td>Paper and wood production and processing</td>\n      <td>6(b)</td>\n      <td>Industrial plants for the production of paper ...</td>\n      <td>AT.CAED/9008390397176.FACILITY</td>\n      <td>Fritz EGGER GmbH &amp; Co. OG</td>\n      <td>15.691833</td>\n      <td>48.259556</td>\n      <td>Unterradlberg</td>\n      <td>Nitrogen oxides (NOX)</td>\n      <td>311000.0</td>\n      <td>2007</td>\n    </tr>\n    <tr>\n      <th>4</th>\n      <td>Austria</td>\n      <td>3</td>\n      <td>Mineral industry</td>\n      <td>3(c)</td>\n      <td>Installations for the production of cement cli...</td>\n      <td>AT.CAED/9008390397220.FACILITY</td>\n      <td>voestalpine Stahl GmbH</td>\n      <td>14.159778</td>\n      <td>47.807083</td>\n      <td>Klaus an der Pyhrnbahn</td>\n      <td>Carbon dioxide (CO2)</td>\n      <td>329000000.0</td>\n      <td>2007</td>\n    </tr>\n  </tbody>\n</table>\n</div>"
     },
     "execution_count": 22,
     "metadata": {},
     "output_type": "execute_result"
    }
   ],
   "source": [
    "df.head()"
   ]
  },
  {
   "cell_type": "code",
   "execution_count": 23,
   "metadata": {},
   "outputs": [
    {
     "ename": "KeyError",
     "evalue": "'targetRelease'",
     "output_type": "error",
     "traceback": [
      "\u001B[0;31m---------------------------------------------------------------------------\u001B[0m",
      "\u001B[0;31mKeyError\u001B[0m                                  Traceback (most recent call last)",
      "File \u001B[0;32m/Library/Frameworks/Python.framework/Versions/3.8/lib/python3.8/site-packages/pandas/core/indexes/base.py:3621\u001B[0m, in \u001B[0;36mIndex.get_loc\u001B[0;34m(self, key, method, tolerance)\u001B[0m\n\u001B[1;32m   3620\u001B[0m \u001B[38;5;28;01mtry\u001B[39;00m:\n\u001B[0;32m-> 3621\u001B[0m     \u001B[38;5;28;01mreturn\u001B[39;00m \u001B[38;5;28;43mself\u001B[39;49m\u001B[38;5;241;43m.\u001B[39;49m\u001B[43m_engine\u001B[49m\u001B[38;5;241;43m.\u001B[39;49m\u001B[43mget_loc\u001B[49m\u001B[43m(\u001B[49m\u001B[43mcasted_key\u001B[49m\u001B[43m)\u001B[49m\n\u001B[1;32m   3622\u001B[0m \u001B[38;5;28;01mexcept\u001B[39;00m \u001B[38;5;167;01mKeyError\u001B[39;00m \u001B[38;5;28;01mas\u001B[39;00m err:\n",
      "File \u001B[0;32m/Library/Frameworks/Python.framework/Versions/3.8/lib/python3.8/site-packages/pandas/_libs/index.pyx:136\u001B[0m, in \u001B[0;36mpandas._libs.index.IndexEngine.get_loc\u001B[0;34m()\u001B[0m\n",
      "File \u001B[0;32m/Library/Frameworks/Python.framework/Versions/3.8/lib/python3.8/site-packages/pandas/_libs/index.pyx:163\u001B[0m, in \u001B[0;36mpandas._libs.index.IndexEngine.get_loc\u001B[0;34m()\u001B[0m\n",
      "File \u001B[0;32mpandas/_libs/hashtable_class_helper.pxi:5198\u001B[0m, in \u001B[0;36mpandas._libs.hashtable.PyObjectHashTable.get_item\u001B[0;34m()\u001B[0m\n",
      "File \u001B[0;32mpandas/_libs/hashtable_class_helper.pxi:5206\u001B[0m, in \u001B[0;36mpandas._libs.hashtable.PyObjectHashTable.get_item\u001B[0;34m()\u001B[0m\n",
      "\u001B[0;31mKeyError\u001B[0m: 'targetRelease'",
      "\nThe above exception was the direct cause of the following exception:\n",
      "\u001B[0;31mKeyError\u001B[0m                                  Traceback (most recent call last)",
      "Input \u001B[0;32mIn [23]\u001B[0m, in \u001B[0;36m<cell line: 1>\u001B[0;34m()\u001B[0m\n\u001B[0;32m----> 1\u001B[0m \u001B[43mdf\u001B[49m\u001B[43m[\u001B[49m\u001B[38;5;124;43m\"\u001B[39;49m\u001B[38;5;124;43mtargetRelease\u001B[39;49m\u001B[38;5;124;43m\"\u001B[39;49m\u001B[43m]\u001B[49m\u001B[38;5;241m.\u001B[39munique()\n",
      "File \u001B[0;32m/Library/Frameworks/Python.framework/Versions/3.8/lib/python3.8/site-packages/pandas/core/frame.py:3505\u001B[0m, in \u001B[0;36mDataFrame.__getitem__\u001B[0;34m(self, key)\u001B[0m\n\u001B[1;32m   3503\u001B[0m \u001B[38;5;28;01mif\u001B[39;00m \u001B[38;5;28mself\u001B[39m\u001B[38;5;241m.\u001B[39mcolumns\u001B[38;5;241m.\u001B[39mnlevels \u001B[38;5;241m>\u001B[39m \u001B[38;5;241m1\u001B[39m:\n\u001B[1;32m   3504\u001B[0m     \u001B[38;5;28;01mreturn\u001B[39;00m \u001B[38;5;28mself\u001B[39m\u001B[38;5;241m.\u001B[39m_getitem_multilevel(key)\n\u001B[0;32m-> 3505\u001B[0m indexer \u001B[38;5;241m=\u001B[39m \u001B[38;5;28;43mself\u001B[39;49m\u001B[38;5;241;43m.\u001B[39;49m\u001B[43mcolumns\u001B[49m\u001B[38;5;241;43m.\u001B[39;49m\u001B[43mget_loc\u001B[49m\u001B[43m(\u001B[49m\u001B[43mkey\u001B[49m\u001B[43m)\u001B[49m\n\u001B[1;32m   3506\u001B[0m \u001B[38;5;28;01mif\u001B[39;00m is_integer(indexer):\n\u001B[1;32m   3507\u001B[0m     indexer \u001B[38;5;241m=\u001B[39m [indexer]\n",
      "File \u001B[0;32m/Library/Frameworks/Python.framework/Versions/3.8/lib/python3.8/site-packages/pandas/core/indexes/base.py:3623\u001B[0m, in \u001B[0;36mIndex.get_loc\u001B[0;34m(self, key, method, tolerance)\u001B[0m\n\u001B[1;32m   3621\u001B[0m     \u001B[38;5;28;01mreturn\u001B[39;00m \u001B[38;5;28mself\u001B[39m\u001B[38;5;241m.\u001B[39m_engine\u001B[38;5;241m.\u001B[39mget_loc(casted_key)\n\u001B[1;32m   3622\u001B[0m \u001B[38;5;28;01mexcept\u001B[39;00m \u001B[38;5;167;01mKeyError\u001B[39;00m \u001B[38;5;28;01mas\u001B[39;00m err:\n\u001B[0;32m-> 3623\u001B[0m     \u001B[38;5;28;01mraise\u001B[39;00m \u001B[38;5;167;01mKeyError\u001B[39;00m(key) \u001B[38;5;28;01mfrom\u001B[39;00m \u001B[38;5;21;01merr\u001B[39;00m\n\u001B[1;32m   3624\u001B[0m \u001B[38;5;28;01mexcept\u001B[39;00m \u001B[38;5;167;01mTypeError\u001B[39;00m:\n\u001B[1;32m   3625\u001B[0m     \u001B[38;5;66;03m# If we have a listlike key, _check_indexing_error will raise\u001B[39;00m\n\u001B[1;32m   3626\u001B[0m     \u001B[38;5;66;03m#  InvalidIndexError. Otherwise we fall through and re-raise\u001B[39;00m\n\u001B[1;32m   3627\u001B[0m     \u001B[38;5;66;03m#  the TypeError.\u001B[39;00m\n\u001B[1;32m   3628\u001B[0m     \u001B[38;5;28mself\u001B[39m\u001B[38;5;241m.\u001B[39m_check_indexing_error(key)\n",
      "\u001B[0;31mKeyError\u001B[0m: 'targetRelease'"
     ]
    }
   ],
   "source": [
    "df[\"targetRelease\"].unique()"
   ]
  },
  {
   "cell_type": "code",
   "execution_count": 25,
   "metadata": {},
   "outputs": [
    {
     "ename": "KeyError",
     "evalue": "\"['targetRelease'] not found in axis\"",
     "output_type": "error",
     "traceback": [
      "\u001B[0;31m---------------------------------------------------------------------------\u001B[0m",
      "\u001B[0;31mKeyError\u001B[0m                                  Traceback (most recent call last)",
      "Input \u001B[0;32mIn [25]\u001B[0m, in \u001B[0;36m<cell line: 1>\u001B[0;34m()\u001B[0m\n\u001B[0;32m----> 1\u001B[0m df \u001B[38;5;241m=\u001B[39m \u001B[43mdf\u001B[49m\u001B[38;5;241;43m.\u001B[39;49m\u001B[43mdrop\u001B[49m\u001B[43m(\u001B[49m\u001B[43mcolumns\u001B[49m\u001B[38;5;241;43m=\u001B[39;49m\u001B[43m[\u001B[49m\u001B[38;5;124;43m\"\u001B[39;49m\u001B[38;5;124;43mtargetRelease\u001B[39;49m\u001B[38;5;124;43m\"\u001B[39;49m\u001B[43m]\u001B[49m\u001B[43m)\u001B[49m\n",
      "File \u001B[0;32m/Library/Frameworks/Python.framework/Versions/3.8/lib/python3.8/site-packages/pandas/util/_decorators.py:311\u001B[0m, in \u001B[0;36mdeprecate_nonkeyword_arguments.<locals>.decorate.<locals>.wrapper\u001B[0;34m(*args, **kwargs)\u001B[0m\n\u001B[1;32m    305\u001B[0m \u001B[38;5;28;01mif\u001B[39;00m \u001B[38;5;28mlen\u001B[39m(args) \u001B[38;5;241m>\u001B[39m num_allow_args:\n\u001B[1;32m    306\u001B[0m     warnings\u001B[38;5;241m.\u001B[39mwarn(\n\u001B[1;32m    307\u001B[0m         msg\u001B[38;5;241m.\u001B[39mformat(arguments\u001B[38;5;241m=\u001B[39marguments),\n\u001B[1;32m    308\u001B[0m         \u001B[38;5;167;01mFutureWarning\u001B[39;00m,\n\u001B[1;32m    309\u001B[0m         stacklevel\u001B[38;5;241m=\u001B[39mstacklevel,\n\u001B[1;32m    310\u001B[0m     )\n\u001B[0;32m--> 311\u001B[0m \u001B[38;5;28;01mreturn\u001B[39;00m \u001B[43mfunc\u001B[49m\u001B[43m(\u001B[49m\u001B[38;5;241;43m*\u001B[39;49m\u001B[43margs\u001B[49m\u001B[43m,\u001B[49m\u001B[43m \u001B[49m\u001B[38;5;241;43m*\u001B[39;49m\u001B[38;5;241;43m*\u001B[39;49m\u001B[43mkwargs\u001B[49m\u001B[43m)\u001B[49m\n",
      "File \u001B[0;32m/Library/Frameworks/Python.framework/Versions/3.8/lib/python3.8/site-packages/pandas/core/frame.py:4948\u001B[0m, in \u001B[0;36mDataFrame.drop\u001B[0;34m(self, labels, axis, index, columns, level, inplace, errors)\u001B[0m\n\u001B[1;32m   4800\u001B[0m \u001B[38;5;129m@deprecate_nonkeyword_arguments\u001B[39m(version\u001B[38;5;241m=\u001B[39m\u001B[38;5;28;01mNone\u001B[39;00m, allowed_args\u001B[38;5;241m=\u001B[39m[\u001B[38;5;124m\"\u001B[39m\u001B[38;5;124mself\u001B[39m\u001B[38;5;124m\"\u001B[39m, \u001B[38;5;124m\"\u001B[39m\u001B[38;5;124mlabels\u001B[39m\u001B[38;5;124m\"\u001B[39m])\n\u001B[1;32m   4801\u001B[0m \u001B[38;5;28;01mdef\u001B[39;00m \u001B[38;5;21mdrop\u001B[39m(\n\u001B[1;32m   4802\u001B[0m     \u001B[38;5;28mself\u001B[39m,\n\u001B[0;32m   (...)\u001B[0m\n\u001B[1;32m   4809\u001B[0m     errors: \u001B[38;5;28mstr\u001B[39m \u001B[38;5;241m=\u001B[39m \u001B[38;5;124m\"\u001B[39m\u001B[38;5;124mraise\u001B[39m\u001B[38;5;124m\"\u001B[39m,\n\u001B[1;32m   4810\u001B[0m ):\n\u001B[1;32m   4811\u001B[0m     \u001B[38;5;124;03m\"\"\"\u001B[39;00m\n\u001B[1;32m   4812\u001B[0m \u001B[38;5;124;03m    Drop specified labels from rows or columns.\u001B[39;00m\n\u001B[1;32m   4813\u001B[0m \n\u001B[0;32m   (...)\u001B[0m\n\u001B[1;32m   4946\u001B[0m \u001B[38;5;124;03m            weight  1.0     0.8\u001B[39;00m\n\u001B[1;32m   4947\u001B[0m \u001B[38;5;124;03m    \"\"\"\u001B[39;00m\n\u001B[0;32m-> 4948\u001B[0m     \u001B[38;5;28;01mreturn\u001B[39;00m \u001B[38;5;28;43msuper\u001B[39;49m\u001B[43m(\u001B[49m\u001B[43m)\u001B[49m\u001B[38;5;241;43m.\u001B[39;49m\u001B[43mdrop\u001B[49m\u001B[43m(\u001B[49m\n\u001B[1;32m   4949\u001B[0m \u001B[43m        \u001B[49m\u001B[43mlabels\u001B[49m\u001B[38;5;241;43m=\u001B[39;49m\u001B[43mlabels\u001B[49m\u001B[43m,\u001B[49m\n\u001B[1;32m   4950\u001B[0m \u001B[43m        \u001B[49m\u001B[43maxis\u001B[49m\u001B[38;5;241;43m=\u001B[39;49m\u001B[43maxis\u001B[49m\u001B[43m,\u001B[49m\n\u001B[1;32m   4951\u001B[0m \u001B[43m        \u001B[49m\u001B[43mindex\u001B[49m\u001B[38;5;241;43m=\u001B[39;49m\u001B[43mindex\u001B[49m\u001B[43m,\u001B[49m\n\u001B[1;32m   4952\u001B[0m \u001B[43m        \u001B[49m\u001B[43mcolumns\u001B[49m\u001B[38;5;241;43m=\u001B[39;49m\u001B[43mcolumns\u001B[49m\u001B[43m,\u001B[49m\n\u001B[1;32m   4953\u001B[0m \u001B[43m        \u001B[49m\u001B[43mlevel\u001B[49m\u001B[38;5;241;43m=\u001B[39;49m\u001B[43mlevel\u001B[49m\u001B[43m,\u001B[49m\n\u001B[1;32m   4954\u001B[0m \u001B[43m        \u001B[49m\u001B[43minplace\u001B[49m\u001B[38;5;241;43m=\u001B[39;49m\u001B[43minplace\u001B[49m\u001B[43m,\u001B[49m\n\u001B[1;32m   4955\u001B[0m \u001B[43m        \u001B[49m\u001B[43merrors\u001B[49m\u001B[38;5;241;43m=\u001B[39;49m\u001B[43merrors\u001B[49m\u001B[43m,\u001B[49m\n\u001B[1;32m   4956\u001B[0m \u001B[43m    \u001B[49m\u001B[43m)\u001B[49m\n",
      "File \u001B[0;32m/Library/Frameworks/Python.framework/Versions/3.8/lib/python3.8/site-packages/pandas/core/generic.py:4279\u001B[0m, in \u001B[0;36mNDFrame.drop\u001B[0;34m(self, labels, axis, index, columns, level, inplace, errors)\u001B[0m\n\u001B[1;32m   4277\u001B[0m \u001B[38;5;28;01mfor\u001B[39;00m axis, labels \u001B[38;5;129;01min\u001B[39;00m axes\u001B[38;5;241m.\u001B[39mitems():\n\u001B[1;32m   4278\u001B[0m     \u001B[38;5;28;01mif\u001B[39;00m labels \u001B[38;5;129;01mis\u001B[39;00m \u001B[38;5;129;01mnot\u001B[39;00m \u001B[38;5;28;01mNone\u001B[39;00m:\n\u001B[0;32m-> 4279\u001B[0m         obj \u001B[38;5;241m=\u001B[39m \u001B[43mobj\u001B[49m\u001B[38;5;241;43m.\u001B[39;49m\u001B[43m_drop_axis\u001B[49m\u001B[43m(\u001B[49m\u001B[43mlabels\u001B[49m\u001B[43m,\u001B[49m\u001B[43m \u001B[49m\u001B[43maxis\u001B[49m\u001B[43m,\u001B[49m\u001B[43m \u001B[49m\u001B[43mlevel\u001B[49m\u001B[38;5;241;43m=\u001B[39;49m\u001B[43mlevel\u001B[49m\u001B[43m,\u001B[49m\u001B[43m \u001B[49m\u001B[43merrors\u001B[49m\u001B[38;5;241;43m=\u001B[39;49m\u001B[43merrors\u001B[49m\u001B[43m)\u001B[49m\n\u001B[1;32m   4281\u001B[0m \u001B[38;5;28;01mif\u001B[39;00m inplace:\n\u001B[1;32m   4282\u001B[0m     \u001B[38;5;28mself\u001B[39m\u001B[38;5;241m.\u001B[39m_update_inplace(obj)\n",
      "File \u001B[0;32m/Library/Frameworks/Python.framework/Versions/3.8/lib/python3.8/site-packages/pandas/core/generic.py:4323\u001B[0m, in \u001B[0;36mNDFrame._drop_axis\u001B[0;34m(self, labels, axis, level, errors, consolidate, only_slice)\u001B[0m\n\u001B[1;32m   4321\u001B[0m         new_axis \u001B[38;5;241m=\u001B[39m axis\u001B[38;5;241m.\u001B[39mdrop(labels, level\u001B[38;5;241m=\u001B[39mlevel, errors\u001B[38;5;241m=\u001B[39merrors)\n\u001B[1;32m   4322\u001B[0m     \u001B[38;5;28;01melse\u001B[39;00m:\n\u001B[0;32m-> 4323\u001B[0m         new_axis \u001B[38;5;241m=\u001B[39m \u001B[43maxis\u001B[49m\u001B[38;5;241;43m.\u001B[39;49m\u001B[43mdrop\u001B[49m\u001B[43m(\u001B[49m\u001B[43mlabels\u001B[49m\u001B[43m,\u001B[49m\u001B[43m \u001B[49m\u001B[43merrors\u001B[49m\u001B[38;5;241;43m=\u001B[39;49m\u001B[43merrors\u001B[49m\u001B[43m)\u001B[49m\n\u001B[1;32m   4324\u001B[0m     indexer \u001B[38;5;241m=\u001B[39m axis\u001B[38;5;241m.\u001B[39mget_indexer(new_axis)\n\u001B[1;32m   4326\u001B[0m \u001B[38;5;66;03m# Case for non-unique axis\u001B[39;00m\n\u001B[1;32m   4327\u001B[0m \u001B[38;5;28;01melse\u001B[39;00m:\n",
      "File \u001B[0;32m/Library/Frameworks/Python.framework/Versions/3.8/lib/python3.8/site-packages/pandas/core/indexes/base.py:6644\u001B[0m, in \u001B[0;36mIndex.drop\u001B[0;34m(self, labels, errors)\u001B[0m\n\u001B[1;32m   6642\u001B[0m \u001B[38;5;28;01mif\u001B[39;00m mask\u001B[38;5;241m.\u001B[39many():\n\u001B[1;32m   6643\u001B[0m     \u001B[38;5;28;01mif\u001B[39;00m errors \u001B[38;5;241m!=\u001B[39m \u001B[38;5;124m\"\u001B[39m\u001B[38;5;124mignore\u001B[39m\u001B[38;5;124m\"\u001B[39m:\n\u001B[0;32m-> 6644\u001B[0m         \u001B[38;5;28;01mraise\u001B[39;00m \u001B[38;5;167;01mKeyError\u001B[39;00m(\u001B[38;5;124mf\u001B[39m\u001B[38;5;124m\"\u001B[39m\u001B[38;5;132;01m{\u001B[39;00m\u001B[38;5;28mlist\u001B[39m(labels[mask])\u001B[38;5;132;01m}\u001B[39;00m\u001B[38;5;124m not found in axis\u001B[39m\u001B[38;5;124m\"\u001B[39m)\n\u001B[1;32m   6645\u001B[0m     indexer \u001B[38;5;241m=\u001B[39m indexer[\u001B[38;5;241m~\u001B[39mmask]\n\u001B[1;32m   6646\u001B[0m \u001B[38;5;28;01mreturn\u001B[39;00m \u001B[38;5;28mself\u001B[39m\u001B[38;5;241m.\u001B[39mdelete(indexer)\n",
      "\u001B[0;31mKeyError\u001B[0m: \"['targetRelease'] not found in axis\""
     ]
    }
   ],
   "source": [
    "df = df.drop(columns=[\"targetRelease\"])"
   ]
  },
  {
   "cell_type": "code",
   "execution_count": 26,
   "metadata": {},
   "outputs": [
    {
     "name": "stdout",
     "output_type": "stream",
     "text": [
      "<class 'pandas.core.frame.DataFrame'>\n",
      "RangeIndex: 288566 entries, 0 to 288565\n",
      "Data columns (total 13 columns):\n",
      " #   Column                        Non-Null Count   Dtype  \n",
      "---  ------                        --------------   -----  \n",
      " 0   countryName                   288566 non-null  object \n",
      " 1   EPRTRSectorCode               288566 non-null  int64  \n",
      " 2   eprtrSectorName               288566 non-null  object \n",
      " 3   EPRTRAnnexIMainActivityCode   288566 non-null  object \n",
      " 4   EPRTRAnnexIMainActivityLabel  288566 non-null  object \n",
      " 5   FacilityInspireID             288566 non-null  object \n",
      " 6   facilityName                  288547 non-null  object \n",
      " 7   Longitude                     288566 non-null  float64\n",
      " 8   Latitude                      288566 non-null  float64\n",
      " 9   City                          288566 non-null  object \n",
      " 10  pollutant                     288566 non-null  object \n",
      " 11  emissions                     288566 non-null  float64\n",
      " 12  reportingYear                 288566 non-null  int64  \n",
      "dtypes: float64(3), int64(2), object(8)\n",
      "memory usage: 28.6+ MB\n"
     ]
    }
   ],
   "source": [
    "df.info()"
   ]
  },
  {
   "cell_type": "code",
   "execution_count": 27,
   "metadata": {},
   "outputs": [],
   "source": [
    "df = df.assign(Air=1)\n",
    "df = df.assign(Water=0)"
   ]
  },
  {
   "cell_type": "code",
   "execution_count": 28,
   "metadata": {},
   "outputs": [
    {
     "data": {
      "text/plain": "  countryName  EPRTRSectorCode                           eprtrSectorName  \\\n0     Austria                4                         Chemical industry   \n1     Austria                9                          Other activities   \n2     Austria                6  Paper and wood production and processing   \n3     Austria                6  Paper and wood production and processing   \n4     Austria                3                          Mineral industry   \n\n  EPRTRAnnexIMainActivityCode  \\\n0                        4(d)   \n1                        9(c)   \n2                        6(b)   \n3                        6(b)   \n4                        3(c)   \n\n                        EPRTRAnnexIMainActivityLabel  \\\n0  Chemical installations for the production on a...   \n1  Installations for the surface treatment of sub...   \n2  Industrial plants for the production of paper ...   \n3  Industrial plants for the production of paper ...   \n4  Installations for the production of cement cli...   \n\n                FacilityInspireID                          facilityName  \\\n0  AT.CAED/9008390392737.FACILITY                   Nufarm GmbH & CO KG   \n1  AT.CAED/9008390396414.FACILITY  MAGNA STEYR Fahrzeugtechnik AG&Co KG   \n2  AT.CAED/9008390397176.FACILITY             Fritz EGGER GmbH & Co. OG   \n3  AT.CAED/9008390397176.FACILITY             Fritz EGGER GmbH & Co. OG   \n4  AT.CAED/9008390397220.FACILITY                voestalpine Stahl GmbH   \n\n   Longitude   Latitude                    City  \\\n0  14.336056  48.290943                    Linz   \n1  15.477778  47.019170   Graz,07.Bez.:Liebenau   \n2  15.691833  48.259556           Unterradlberg   \n3  15.691833  48.259556           Unterradlberg   \n4  14.159778  47.807083  Klaus an der Pyhrnbahn   \n\n                                        pollutant    emissions  reportingYear  \\\n0                    1,2-dichloroethane (DCE-1,2)       3300.0           2007   \n1  Non-methane volatile organic compounds (NMVOC)     170000.0           2007   \n2                            Carbon dioxide (CO2)  228000000.0           2007   \n3                           Nitrogen oxides (NOX)     311000.0           2007   \n4                            Carbon dioxide (CO2)  329000000.0           2007   \n\n   Air  Water  \n0    1      0  \n1    1      0  \n2    1      0  \n3    1      0  \n4    1      0  ",
      "text/html": "<div>\n<style scoped>\n    .dataframe tbody tr th:only-of-type {\n        vertical-align: middle;\n    }\n\n    .dataframe tbody tr th {\n        vertical-align: top;\n    }\n\n    .dataframe thead th {\n        text-align: right;\n    }\n</style>\n<table border=\"1\" class=\"dataframe\">\n  <thead>\n    <tr style=\"text-align: right;\">\n      <th></th>\n      <th>countryName</th>\n      <th>EPRTRSectorCode</th>\n      <th>eprtrSectorName</th>\n      <th>EPRTRAnnexIMainActivityCode</th>\n      <th>EPRTRAnnexIMainActivityLabel</th>\n      <th>FacilityInspireID</th>\n      <th>facilityName</th>\n      <th>Longitude</th>\n      <th>Latitude</th>\n      <th>City</th>\n      <th>pollutant</th>\n      <th>emissions</th>\n      <th>reportingYear</th>\n      <th>Air</th>\n      <th>Water</th>\n    </tr>\n  </thead>\n  <tbody>\n    <tr>\n      <th>0</th>\n      <td>Austria</td>\n      <td>4</td>\n      <td>Chemical industry</td>\n      <td>4(d)</td>\n      <td>Chemical installations for the production on a...</td>\n      <td>AT.CAED/9008390392737.FACILITY</td>\n      <td>Nufarm GmbH &amp; CO KG</td>\n      <td>14.336056</td>\n      <td>48.290943</td>\n      <td>Linz</td>\n      <td>1,2-dichloroethane (DCE-1,2)</td>\n      <td>3300.0</td>\n      <td>2007</td>\n      <td>1</td>\n      <td>0</td>\n    </tr>\n    <tr>\n      <th>1</th>\n      <td>Austria</td>\n      <td>9</td>\n      <td>Other activities</td>\n      <td>9(c)</td>\n      <td>Installations for the surface treatment of sub...</td>\n      <td>AT.CAED/9008390396414.FACILITY</td>\n      <td>MAGNA STEYR Fahrzeugtechnik AG&amp;Co KG</td>\n      <td>15.477778</td>\n      <td>47.019170</td>\n      <td>Graz,07.Bez.:Liebenau</td>\n      <td>Non-methane volatile organic compounds (NMVOC)</td>\n      <td>170000.0</td>\n      <td>2007</td>\n      <td>1</td>\n      <td>0</td>\n    </tr>\n    <tr>\n      <th>2</th>\n      <td>Austria</td>\n      <td>6</td>\n      <td>Paper and wood production and processing</td>\n      <td>6(b)</td>\n      <td>Industrial plants for the production of paper ...</td>\n      <td>AT.CAED/9008390397176.FACILITY</td>\n      <td>Fritz EGGER GmbH &amp; Co. OG</td>\n      <td>15.691833</td>\n      <td>48.259556</td>\n      <td>Unterradlberg</td>\n      <td>Carbon dioxide (CO2)</td>\n      <td>228000000.0</td>\n      <td>2007</td>\n      <td>1</td>\n      <td>0</td>\n    </tr>\n    <tr>\n      <th>3</th>\n      <td>Austria</td>\n      <td>6</td>\n      <td>Paper and wood production and processing</td>\n      <td>6(b)</td>\n      <td>Industrial plants for the production of paper ...</td>\n      <td>AT.CAED/9008390397176.FACILITY</td>\n      <td>Fritz EGGER GmbH &amp; Co. OG</td>\n      <td>15.691833</td>\n      <td>48.259556</td>\n      <td>Unterradlberg</td>\n      <td>Nitrogen oxides (NOX)</td>\n      <td>311000.0</td>\n      <td>2007</td>\n      <td>1</td>\n      <td>0</td>\n    </tr>\n    <tr>\n      <th>4</th>\n      <td>Austria</td>\n      <td>3</td>\n      <td>Mineral industry</td>\n      <td>3(c)</td>\n      <td>Installations for the production of cement cli...</td>\n      <td>AT.CAED/9008390397220.FACILITY</td>\n      <td>voestalpine Stahl GmbH</td>\n      <td>14.159778</td>\n      <td>47.807083</td>\n      <td>Klaus an der Pyhrnbahn</td>\n      <td>Carbon dioxide (CO2)</td>\n      <td>329000000.0</td>\n      <td>2007</td>\n      <td>1</td>\n      <td>0</td>\n    </tr>\n  </tbody>\n</table>\n</div>"
     },
     "execution_count": 28,
     "metadata": {},
     "output_type": "execute_result"
    }
   ],
   "source": [
    "df.head()"
   ]
  },
  {
   "cell_type": "code",
   "execution_count": 1,
   "metadata": {
    "pycharm": {
     "name": "#%%\n"
    }
   },
   "outputs": [
    {
     "ename": "NameError",
     "evalue": "name 'df' is not defined",
     "output_type": "error",
     "traceback": [
      "\u001B[0;31m---------------------------------------------------------------------------\u001B[0m",
      "\u001B[0;31mNameError\u001B[0m                                 Traceback (most recent call last)",
      "Input \u001B[0;32mIn [1]\u001B[0m, in \u001B[0;36m<cell line: 1>\u001B[0;34m()\u001B[0m\n\u001B[0;32m----> 1\u001B[0m \u001B[43mdf\u001B[49m\u001B[38;5;241m.\u001B[39mto_csv(\u001B[38;5;124m\"\u001B[39m\u001B[38;5;124mF1_4_clean_data.csv\u001B[39m\u001B[38;5;124m\"\u001B[39m)\n",
      "\u001B[0;31mNameError\u001B[0m: name 'df' is not defined"
     ]
    }
   ],
   "source": [
    "df.to_csv(\"F1_4_clean_data.csv\")"
   ]
  },
  {
   "cell_type": "code",
   "execution_count": 29,
   "outputs": [],
   "source": [],
   "metadata": {
    "collapsed": false,
    "pycharm": {
     "name": "#%%\n"
    }
   }
  },
  {
   "cell_type": "code",
   "execution_count": null,
   "outputs": [],
   "source": [],
   "metadata": {
    "collapsed": false,
    "pycharm": {
     "name": "#%%\n"
    }
   }
  }
 ],
 "metadata": {
  "interpreter": {
   "hash": "d04241a95f7aad54731f492ae07860a25c4fb088cb230cacf9b68f5b4c6b1624"
  },
  "kernelspec": {
   "display_name": "Python 3.10.2 ('myenv': venv)",
   "language": "python",
   "name": "python3"
  },
  "language_info": {
   "codemirror_mode": {
    "name": "ipython",
    "version": 3
   },
   "file_extension": ".py",
   "mimetype": "text/x-python",
   "name": "python",
   "nbconvert_exporter": "python",
   "pygments_lexer": "ipython3",
   "version": "3.10.2"
  },
  "orig_nbformat": 4
 },
 "nbformat": 4,
 "nbformat_minor": 2
}