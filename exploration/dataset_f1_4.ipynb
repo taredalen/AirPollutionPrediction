{
 "cells": [
  {
   "cell_type": "markdown",
   "source": [
    "# Initial data exploration & cleaning"
   ],
   "metadata": {
    "collapsed": false,
    "pycharm": {
     "name": "#%% md\n"
    }
   }
  },
  {
   "cell_type": "code",
   "execution_count": 2,
   "outputs": [],
   "source": [
    "import pandas as pd\n",
    "from IPython.core.display_functions import display\n",
    "import re\n",
    "import numpy as np"
   ],
   "metadata": {
    "collapsed": false,
    "pycharm": {
     "name": "#%%\n"
    }
   }
  },
  {
   "cell_type": "code",
   "execution_count": 3,
   "outputs": [],
   "source": [
    "df = pd.read_csv('../data/F1_4_Detailed releases at facility level with E-PRTR Sector and Annex I Activity detail into Air.csv',)"
   ],
   "metadata": {
    "collapsed": false,
    "pycharm": {
     "name": "#%%\n"
    }
   }
  },
  {
   "cell_type": "code",
   "execution_count": 4,
   "metadata": {},
   "outputs": [
    {
     "data": {
      "text/plain": "          version https://git-lfs.github.com/spec/v1\n0  oid sha256:c22dd5347d0c7a507cdeac359a683bbd85d...\n1                                      size 87057558",
      "text/html": "<div>\n<style scoped>\n    .dataframe tbody tr th:only-of-type {\n        vertical-align: middle;\n    }\n\n    .dataframe tbody tr th {\n        vertical-align: top;\n    }\n\n    .dataframe thead th {\n        text-align: right;\n    }\n</style>\n<table border=\"1\" class=\"dataframe\">\n  <thead>\n    <tr style=\"text-align: right;\">\n      <th></th>\n      <th>version https://git-lfs.github.com/spec/v1</th>\n    </tr>\n  </thead>\n  <tbody>\n    <tr>\n      <th>0</th>\n      <td>oid sha256:c22dd5347d0c7a507cdeac359a683bbd85d...</td>\n    </tr>\n    <tr>\n      <th>1</th>\n      <td>size 87057558</td>\n    </tr>\n  </tbody>\n</table>\n</div>"
     },
     "metadata": {},
     "output_type": "display_data"
    },
    {
     "name": "stdout",
     "output_type": "stream",
     "text": [
      "<class 'pandas.core.frame.DataFrame'>\n",
      "RangeIndex: 2 entries, 0 to 1\n",
      "Data columns (total 1 columns):\n",
      " #   Column                                      Non-Null Count  Dtype \n",
      "---  ------                                      --------------  ----- \n",
      " 0   version https://git-lfs.github.com/spec/v1  2 non-null      object\n",
      "dtypes: object(1)\n",
      "memory usage: 144.0+ bytes\n"
     ]
    },
    {
     "data": {
      "text/plain": "None"
     },
     "metadata": {},
     "output_type": "display_data"
    },
    {
     "data": {
      "text/plain": "                                                                                            0  \\\nversion https://git-lfs.github.com/spec/v1  oid sha256:c22dd5347d0c7a507cdeac359a683bbd85d...   \n\n                                                        1  \nversion https://git-lfs.github.com/spec/v1  size 87057558  ",
      "text/html": "<div>\n<style scoped>\n    .dataframe tbody tr th:only-of-type {\n        vertical-align: middle;\n    }\n\n    .dataframe tbody tr th {\n        vertical-align: top;\n    }\n\n    .dataframe thead th {\n        text-align: right;\n    }\n</style>\n<table border=\"1\" class=\"dataframe\">\n  <thead>\n    <tr style=\"text-align: right;\">\n      <th></th>\n      <th>0</th>\n      <th>1</th>\n    </tr>\n  </thead>\n  <tbody>\n    <tr>\n      <th>version https://git-lfs.github.com/spec/v1</th>\n      <td>oid sha256:c22dd5347d0c7a507cdeac359a683bbd85d...</td>\n      <td>size 87057558</td>\n    </tr>\n  </tbody>\n</table>\n</div>"
     },
     "execution_count": 4,
     "metadata": {},
     "output_type": "execute_result"
    }
   ],
   "source": [
    "display(df.head())\n",
    "display(df.info())"
   ]
  },
  {
   "cell_type": "code",
   "execution_count": 15,
   "metadata": {},
   "outputs": [
    {
     "data": {
      "text/plain": "countryName                       0\nEPRTRSectorCode                   0\neprtrSectorName                   0\nEPRTRAnnexIMainActivityCode       0\nEPRTRAnnexIMainActivityLabel      0\nFacilityInspireID                 0\nfacilityName                     19\nLongitude                         0\nLatitude                          0\nCity                            224\ntargetRelease                     0\npollutant                         0\nemissions                         0\nreportingYear                     0\ndtype: int64"
     },
     "execution_count": 15,
     "metadata": {},
     "output_type": "execute_result"
    }
   ],
   "source": [
    "df.isna().sum()"
   ]
  },
  {
   "cell_type": "code",
   "execution_count": 4,
   "metadata": {},
   "outputs": [],
   "source": [
    "from geopy.geocoders import Nominatim\n",
    "geolocator = Nominatim(user_agent='myApp')\n",
    "\n",
    "df['City'] = df['City'].fillna('papapapapa')\n",
    "\n",
    "for i in range(len(df)):\n",
    "    if df.loc[i, \"City\"] == \"papapapapa\":\n",
    "        latitude = df.loc[i, \"Latitude\"]\n",
    "        longitude = df.loc[i, \"Longitude\"]\n",
    "        coord = str(latitude) + \", \" + str(longitude)\n",
    "        location = geolocator.reverse(coord,language='en')\n",
    "        loc_dict = location.raw\n",
    "        if (\"city\" in loc_dict[\"address\"].keys()): df.loc[i, \"City\"] = loc_dict[\"address\"][\"city\"]\n",
    "        elif (\"town\" in loc_dict[\"address\"].keys()): df.loc[i, \"City\"] = loc_dict[\"address\"][\"town\"]\n",
    "        elif (\"village\" in loc_dict[\"address\"].keys()): df.loc[i, \"City\"] = loc_dict[\"address\"][\"village\"]\n",
    "\n",
    "for i in range(len(df)):\n",
    "    if df.loc[i, \"City\"] == \"papapapapa\":\n",
    "        df.loc[i, \"City\"] = \"\"\n"
   ]
  },
  {
   "cell_type": "code",
   "execution_count": 6,
   "metadata": {},
   "outputs": [
    {
     "data": {
      "text/plain": "  countryName  EPRTRSectorCode                           eprtrSectorName  \\\n0     Austria                4                         Chemical industry   \n1     Austria                9                          Other activities   \n2     Austria                6  Paper and wood production and processing   \n3     Austria                6  Paper and wood production and processing   \n4     Austria                3                          Mineral industry   \n\n  EPRTRAnnexIMainActivityCode  \\\n0                        4(d)   \n1                        9(c)   \n2                        6(b)   \n3                        6(b)   \n4                        3(c)   \n\n                        EPRTRAnnexIMainActivityLabel  \\\n0  Chemical installations for the production on a...   \n1  Installations for the surface treatment of sub...   \n2  Industrial plants for the production of paper ...   \n3  Industrial plants for the production of paper ...   \n4  Installations for the production of cement cli...   \n\n                FacilityInspireID                          facilityName  \\\n0  AT.CAED/9008390392737.FACILITY                   Nufarm GmbH & CO KG   \n1  AT.CAED/9008390396414.FACILITY  MAGNA STEYR Fahrzeugtechnik AG&Co KG   \n2  AT.CAED/9008390397176.FACILITY             Fritz EGGER GmbH & Co. OG   \n3  AT.CAED/9008390397176.FACILITY             Fritz EGGER GmbH & Co. OG   \n4  AT.CAED/9008390397220.FACILITY                voestalpine Stahl GmbH   \n\n   Longitude   Latitude                    City  \\\n0  14.336056  48.290943                    Linz   \n1  15.477778  47.019170   Graz,07.Bez.:Liebenau   \n2  15.691833  48.259556           Unterradlberg   \n3  15.691833  48.259556           Unterradlberg   \n4  14.159778  47.807083  Klaus an der Pyhrnbahn   \n\n                                        pollutant    emissions  reportingYear  \n0                    1,2-dichloroethane (DCE-1,2)       3300.0           2007  \n1  Non-methane volatile organic compounds (NMVOC)     170000.0           2007  \n2                            Carbon dioxide (CO2)  228000000.0           2007  \n3                           Nitrogen oxides (NOX)     311000.0           2007  \n4                            Carbon dioxide (CO2)  329000000.0           2007  ",
      "text/html": "<div>\n<style scoped>\n    .dataframe tbody tr th:only-of-type {\n        vertical-align: middle;\n    }\n\n    .dataframe tbody tr th {\n        vertical-align: top;\n    }\n\n    .dataframe thead th {\n        text-align: right;\n    }\n</style>\n<table border=\"1\" class=\"dataframe\">\n  <thead>\n    <tr style=\"text-align: right;\">\n      <th></th>\n      <th>countryName</th>\n      <th>EPRTRSectorCode</th>\n      <th>eprtrSectorName</th>\n      <th>EPRTRAnnexIMainActivityCode</th>\n      <th>EPRTRAnnexIMainActivityLabel</th>\n      <th>FacilityInspireID</th>\n      <th>facilityName</th>\n      <th>Longitude</th>\n      <th>Latitude</th>\n      <th>City</th>\n      <th>pollutant</th>\n      <th>emissions</th>\n      <th>reportingYear</th>\n    </tr>\n  </thead>\n  <tbody>\n    <tr>\n      <th>0</th>\n      <td>Austria</td>\n      <td>4</td>\n      <td>Chemical industry</td>\n      <td>4(d)</td>\n      <td>Chemical installations for the production on a...</td>\n      <td>AT.CAED/9008390392737.FACILITY</td>\n      <td>Nufarm GmbH &amp; CO KG</td>\n      <td>14.336056</td>\n      <td>48.290943</td>\n      <td>Linz</td>\n      <td>1,2-dichloroethane (DCE-1,2)</td>\n      <td>3300.0</td>\n      <td>2007</td>\n    </tr>\n    <tr>\n      <th>1</th>\n      <td>Austria</td>\n      <td>9</td>\n      <td>Other activities</td>\n      <td>9(c)</td>\n      <td>Installations for the surface treatment of sub...</td>\n      <td>AT.CAED/9008390396414.FACILITY</td>\n      <td>MAGNA STEYR Fahrzeugtechnik AG&amp;Co KG</td>\n      <td>15.477778</td>\n      <td>47.019170</td>\n      <td>Graz,07.Bez.:Liebenau</td>\n      <td>Non-methane volatile organic compounds (NMVOC)</td>\n      <td>170000.0</td>\n      <td>2007</td>\n    </tr>\n    <tr>\n      <th>2</th>\n      <td>Austria</td>\n      <td>6</td>\n      <td>Paper and wood production and processing</td>\n      <td>6(b)</td>\n      <td>Industrial plants for the production of paper ...</td>\n      <td>AT.CAED/9008390397176.FACILITY</td>\n      <td>Fritz EGGER GmbH &amp; Co. OG</td>\n      <td>15.691833</td>\n      <td>48.259556</td>\n      <td>Unterradlberg</td>\n      <td>Carbon dioxide (CO2)</td>\n      <td>228000000.0</td>\n      <td>2007</td>\n    </tr>\n    <tr>\n      <th>3</th>\n      <td>Austria</td>\n      <td>6</td>\n      <td>Paper and wood production and processing</td>\n      <td>6(b)</td>\n      <td>Industrial plants for the production of paper ...</td>\n      <td>AT.CAED/9008390397176.FACILITY</td>\n      <td>Fritz EGGER GmbH &amp; Co. OG</td>\n      <td>15.691833</td>\n      <td>48.259556</td>\n      <td>Unterradlberg</td>\n      <td>Nitrogen oxides (NOX)</td>\n      <td>311000.0</td>\n      <td>2007</td>\n    </tr>\n    <tr>\n      <th>4</th>\n      <td>Austria</td>\n      <td>3</td>\n      <td>Mineral industry</td>\n      <td>3(c)</td>\n      <td>Installations for the production of cement cli...</td>\n      <td>AT.CAED/9008390397220.FACILITY</td>\n      <td>voestalpine Stahl GmbH</td>\n      <td>14.159778</td>\n      <td>47.807083</td>\n      <td>Klaus an der Pyhrnbahn</td>\n      <td>Carbon dioxide (CO2)</td>\n      <td>329000000.0</td>\n      <td>2007</td>\n    </tr>\n  </tbody>\n</table>\n</div>"
     },
     "execution_count": 6,
     "metadata": {},
     "output_type": "execute_result"
    }
   ],
   "source": [
    "df = df.drop(columns=[\"targetRelease\"], axis=1)\n",
    "df.head()"
   ]
  },
  {
   "cell_type": "markdown",
   "source": [
    "---\n",
    "# Deep Data Cleaning"
   ],
   "metadata": {
    "collapsed": false,
    "pycharm": {
     "name": "#%% md\n"
    }
   }
  },
  {
   "cell_type": "code",
   "execution_count": 10,
   "outputs": [],
   "source": [
    "df_CLR = pd.read_csv(\"../data/clean_clrtap.csv\",sep='\\t')"
   ],
   "metadata": {
    "collapsed": false,
    "pycharm": {
     "name": "#%%\n"
    }
   }
  },
  {
   "cell_type": "code",
   "execution_count": 11,
   "outputs": [
    {
     "name": "stdout",
     "output_type": "stream",
     "text": [
      "['As', 'BC', 'NH3', 'benzo(b)', 'benzo(k)', 'Cd', 'CO', 'Cr', 'Cu', 'dioxin', 'HCB', 'Hg', 'NOx', 'Ni', 'NMVOC', 'PCB', 'Pb', 'SOx', 'PM10', 'total PAH', 'Se', 'TSP', 'Zn', 'PM2.5', 'Indeno', 'benzo(a)']\n",
      "['1,2-dichloroethane (DCE-1,2)', 'Non-methane volatile organic compounds (NMVOC)', 'Carbon dioxide (CO2)', 'Nitrogen oxides (NOX)', 'Sulphur oxides (SOX)', 'Zinc and compounds (as Zn)', 'Carbon monoxide (CO)', 'Methane (CH4)', 'Mercury and compounds (as Hg)', 'Hydrogen cyanide (HCN)', 'Particulate matter (PM10)', 'Nitrous oxide (N2O)', 'Hydrochlorofluorocarbons (HCFCs)', 'Chromium and compounds (as Cr)', 'Copper and compounds (as Cu)', 'Lead and compounds (as Pb)', 'Chlorine and inorganic compounds (as HCl)', 'Ammonia (NH3)', 'Benzene', 'Polycyclic aromatic hydrocarbons (PAHs)', 'Dichloromethane (DCM)', 'Cadmium and compounds (as Cd)', 'Nickel and compounds (as Ni)', 'PCDD + PCDF (dioxins + furans) (as Teq)', 'Hydro-fluorocarbons (HFCS)', 'Fluorine and inorganic compounds (as HF)', 'Naphthalene', 'Arsenic and compounds (as As)', 'Sulphur hexafluoride (SF6)', 'Trichloroethylene (TRI)', 'Perfluorocarbons (PFCs)', 'Anthracene', 'Benzo(g,h,i)perylene', 'Polychlorinated biphenyls (PCBs)', 'Chlorofluorocarbons (CFCs)', 'Di-(2-ethyl hexyl) phthalate (DEHP)', 'Hexachlorobenzene (HCB)', 'Vinyl chloride', 'Tetrachloroethylene', 'Halons', 'Tetrachloromethane (TCM)', 'Trichloromethane', '1,1,2,2-tetrachloroethane (TETRACHLOROETHANE-1,1,2,2)', 'Pentachlorobenzene', 'Pentachlorophenol (PCP)', 'Ethylene oxide', '1,1,1-trichloroethane (TCE-1,1,1)', 'Trichlorobenzenes (TCB)', 'Carbon dioxide (CO2) excluding biomass', 'Fine particulate matter (PM2.5)', 'Asbestos', 'Nonylphenol and Nonylphenol ethoxylates', 'Total organic carbon(as total C or COD/3) (TOC)', 'Lindane', '1,2,3,4,5,6-hexachlorocyclohexane (HCH)', 'Fluorides (as total F)', 'Brominated diphenylethers (PBDE)', 'Aldrin', 'Toluene', 'Phenols (as total C)', 'Chlordecone', 'Ethyl benzene', 'Xylenes']\n"
     ]
    }
   ],
   "source": [
    "pollutant_CLR = list(df_CLR.Pollutant_name.unique())\n",
    "pollutant_F1 = list(df.pollutant.unique())\n",
    "\n",
    "print(pollutant_CLR)\n",
    "print(pollutant_F1,end='\\n')\n",
    "\n",
    "def cleanF1Pollutant():\n",
    "    pollutant_F1_clean = pollutant_F1.copy()\n",
    "    for k, v in enumerate(pollutant_F1_clean):\n",
    "        searchObj = re.search('(?<=\\()[-,a-zA-Z0-9 ]*(?=\\))', v)\n",
    "        if searchObj:\n",
    "             temp = searchObj.group().replace('as ', '')\n",
    "             pollutant_F1_clean[k] = temp\n",
    "    pollutant_F1_clean[pollutant_F1.index('Benzo(g,h,i)perylene')] = 'Benzo(g,h,i)perylene'\n",
    "    pollutant_F1_clean[pollutant_F1.index('PCDD + PCDF (dioxins + furans) (as Teq)')] = 'Teq'\n",
    "\n",
    "    for i in pollutant_CLR:\n",
    "        for k,v in enumerate(pollutant_F1_clean):\n",
    "            if v.lower() in i.lower()  :\n",
    "                pollutant_F1_clean[k]=i\n",
    "\n",
    "    return pollutant_F1_clean\n",
    "\n",
    "df.pollutant = df.pollutant.replace(pollutant_F1,cleanF1Pollutant())"
   ],
   "metadata": {
    "collapsed": false,
    "pycharm": {
     "name": "#%%\n"
    }
   }
  },
  {
   "cell_type": "code",
   "execution_count": 14,
   "outputs": [
    {
     "name": "stdout",
     "output_type": "stream",
     "text": [
      "['DCE-1,2' 'NMVOC' 'CO2' 'NOx' 'SOx' 'Zn' 'CO' 'CH4' 'Hg' 'HCN' 'PM10'\n",
      " 'N2O' 'HCFCs' 'Cr' 'Cu' 'Pb' 'HCl' 'NH3' 'Benzene' 'PAHs' 'DCM' 'Cd' 'Ni'\n",
      " 'Teq' 'HFCS' 'HF' 'Naphthalene' 'As' 'SF6' 'TRI' 'PFCs' 'Anthracene'\n",
      " 'Benzo(g,h,i)perylene' 'PCBs' 'CFCs' '2-ethyl hexyl' 'HCB'\n",
      " 'Vinyl chloride' 'Tetrachloroethylene' 'Halons' 'TCM' 'Trichloromethane'\n",
      " 'TETRACHLOROETHANE-1,1,2,2' 'Pentachlorobenzene' 'PCP' 'Ethylene oxide'\n",
      " 'TCE-1,1,1' 'TCB' 'Fine particulate matter (PM2.5)' 'Asbestos'\n",
      " 'Nonylphenol and Nonylphenol ethoxylates' 'TOC' 'Lindane' 'HCH' 'total F'\n",
      " 'PBDE' 'Aldrin' 'Toluene' 'total C' 'Chlordecone' 'Ethyl benzene'\n",
      " 'Xylenes']\n",
      "['4(d)', '9(c)', '6(b)', '3(c)', '8(b)', '4(b)', '4(a)', '5(d)', '2(f)', '1(c)', '5(b)', '3(e)', '6(a)', '1(a)', '5(c)', '2(e)', '2(b)', '2(d)', '4(e)', '5(f)', '3(f)', '5(g)', '5(a)', '3(a)', '4(c)', '3(b)', '3(g)', '2(c)', '4(a)(viii)', '8(b)(ii)', '6(c)', '3(c)(i)', '7(a)(i)', '7(a)(ii)', '4(a)(ix)', '8(b)(i)', '8(a)', '2(c)(i)', '2(e)(ii)', '3(c)(iii)', '3(c)(ii)', '4(a)(i)', '4(b)(ii)', '2(c)(iii)', '4(a)(vi)', '4(b)(v)', '5(e)', '2(e)(i)', '8(c)', '9(a)', '4(a)(ii)', '4(b)(i)', '9(e)', '4(a)(iv)', '7(a)(iii)', '4(b)(iv)', '2(a)', '4(a)(iii)', '7(a)', '1(d)', '4(a)(x)', '1(f)', '1(b)', '7(b)', '4(f)', '9(d)', '4(b)(iii)', '4(a)(xi)', '1(e)', '4(a)(v)', '4(a)(vii)', '2(c)(ii)', '9(b)']\n"
     ]
    }
   ],
   "source": [
    "print(df.pollutant.unique())\n",
    "print(list(df['EPRTRAnnexIMainActivityCode'].unique()))"
   ],
   "metadata": {
    "collapsed": false,
    "pycharm": {
     "name": "#%%\n"
    }
   }
  },
  {
   "cell_type": "code",
   "execution_count": 116,
   "outputs": [
    {
     "data": {
      "text/plain": "  countryName  EPRTRSectorCode                           eprtrSectorName  \\\n0     Austria                4                         Chemical industry   \n1     Austria                9                          Other activities   \n2     Austria                6  Paper and wood production and processing   \n3     Austria                6  Paper and wood production and processing   \n4     Austria                3                          Mineral industry   \n\n   EPRTRAnnexIMainActivityCode  \\\n0                          4.0   \n1                          2.0   \n2                          3.0   \n3                          3.0   \n4                          2.0   \n\n                        EPRTRAnnexIMainActivityLabel  \\\n0  Chemical installations for the production on a...   \n1  Installations for the surface treatment of sub...   \n2  Industrial plants for the production of paper ...   \n3  Industrial plants for the production of paper ...   \n4  Installations for the production of cement cli...   \n\n                FacilityInspireID                          facilityName  \\\n0  AT.CAED/9008390392737.FACILITY                   Nufarm GmbH & CO KG   \n1  AT.CAED/9008390396414.FACILITY  MAGNA STEYR Fahrzeugtechnik AG&Co KG   \n2  AT.CAED/9008390397176.FACILITY             Fritz EGGER GmbH & Co. OG   \n3  AT.CAED/9008390397176.FACILITY             Fritz EGGER GmbH & Co. OG   \n4  AT.CAED/9008390397220.FACILITY                voestalpine Stahl GmbH   \n\n   Longitude   Latitude                    City pollutant    emissions  \\\n0  14.336056  48.290943                    Linz   DCE-1,2       3300.0   \n1  15.477778  47.019170   Graz,07.Bez.:Liebenau     NMVOC     170000.0   \n2  15.691833  48.259556           Unterradlberg       CO2  228000000.0   \n3  15.691833  48.259556           Unterradlberg       NOx     311000.0   \n4  14.159778  47.807083  Klaus an der Pyhrnbahn       CO2  329000000.0   \n\n   reportingYear  \n0           2007  \n1           2007  \n2           2007  \n3           2007  \n4           2007  ",
      "text/html": "<div>\n<style scoped>\n    .dataframe tbody tr th:only-of-type {\n        vertical-align: middle;\n    }\n\n    .dataframe tbody tr th {\n        vertical-align: top;\n    }\n\n    .dataframe thead th {\n        text-align: right;\n    }\n</style>\n<table border=\"1\" class=\"dataframe\">\n  <thead>\n    <tr style=\"text-align: right;\">\n      <th></th>\n      <th>countryName</th>\n      <th>EPRTRSectorCode</th>\n      <th>eprtrSectorName</th>\n      <th>EPRTRAnnexIMainActivityCode</th>\n      <th>EPRTRAnnexIMainActivityLabel</th>\n      <th>FacilityInspireID</th>\n      <th>facilityName</th>\n      <th>Longitude</th>\n      <th>Latitude</th>\n      <th>City</th>\n      <th>pollutant</th>\n      <th>emissions</th>\n      <th>reportingYear</th>\n    </tr>\n  </thead>\n  <tbody>\n    <tr>\n      <th>0</th>\n      <td>Austria</td>\n      <td>4</td>\n      <td>Chemical industry</td>\n      <td>4.0</td>\n      <td>Chemical installations for the production on a...</td>\n      <td>AT.CAED/9008390392737.FACILITY</td>\n      <td>Nufarm GmbH &amp; CO KG</td>\n      <td>14.336056</td>\n      <td>48.290943</td>\n      <td>Linz</td>\n      <td>DCE-1,2</td>\n      <td>3300.0</td>\n      <td>2007</td>\n    </tr>\n    <tr>\n      <th>1</th>\n      <td>Austria</td>\n      <td>9</td>\n      <td>Other activities</td>\n      <td>2.0</td>\n      <td>Installations for the surface treatment of sub...</td>\n      <td>AT.CAED/9008390396414.FACILITY</td>\n      <td>MAGNA STEYR Fahrzeugtechnik AG&amp;Co KG</td>\n      <td>15.477778</td>\n      <td>47.019170</td>\n      <td>Graz,07.Bez.:Liebenau</td>\n      <td>NMVOC</td>\n      <td>170000.0</td>\n      <td>2007</td>\n    </tr>\n    <tr>\n      <th>2</th>\n      <td>Austria</td>\n      <td>6</td>\n      <td>Paper and wood production and processing</td>\n      <td>3.0</td>\n      <td>Industrial plants for the production of paper ...</td>\n      <td>AT.CAED/9008390397176.FACILITY</td>\n      <td>Fritz EGGER GmbH &amp; Co. OG</td>\n      <td>15.691833</td>\n      <td>48.259556</td>\n      <td>Unterradlberg</td>\n      <td>CO2</td>\n      <td>228000000.0</td>\n      <td>2007</td>\n    </tr>\n    <tr>\n      <th>3</th>\n      <td>Austria</td>\n      <td>6</td>\n      <td>Paper and wood production and processing</td>\n      <td>3.0</td>\n      <td>Industrial plants for the production of paper ...</td>\n      <td>AT.CAED/9008390397176.FACILITY</td>\n      <td>Fritz EGGER GmbH &amp; Co. OG</td>\n      <td>15.691833</td>\n      <td>48.259556</td>\n      <td>Unterradlberg</td>\n      <td>NOx</td>\n      <td>311000.0</td>\n      <td>2007</td>\n    </tr>\n    <tr>\n      <th>4</th>\n      <td>Austria</td>\n      <td>3</td>\n      <td>Mineral industry</td>\n      <td>2.0</td>\n      <td>Installations for the production of cement cli...</td>\n      <td>AT.CAED/9008390397220.FACILITY</td>\n      <td>voestalpine Stahl GmbH</td>\n      <td>14.159778</td>\n      <td>47.807083</td>\n      <td>Klaus an der Pyhrnbahn</td>\n      <td>CO2</td>\n      <td>329000000.0</td>\n      <td>2007</td>\n    </tr>\n  </tbody>\n</table>\n</div>"
     },
     "execution_count": 116,
     "metadata": {},
     "output_type": "execute_result"
    }
   ],
   "source": [
    "df['EPRTRAnnexIMainActivityCode'] = df['EPRTRAnnexIMainActivityCode'].astype('str')\n",
    "\n",
    "list_activities = list(df['EPRTRAnnexIMainActivityCode'].unique())\n",
    "\n",
    "dict_first = {'a': '1', 'c': '2', 'b': '3', 'd': '4', 'e': '5', 'f': '6', 'g': '7'}\n",
    "dict_second = {'viii': '8', 'ii': '2', 'i': '1', 'ix': '9', 'x': '10', 'iii': '3', 'vi' :'6',\n",
    "               'v':'5', 'iv':'4', 'xi': '11', 'vii' : '7'}\n",
    "\n",
    "def code_in_num():\n",
    "    activities = list_activities.copy()\n",
    "    for k, v in enumerate(activities):\n",
    "        searchObj = re.search('(?<=\\()[-,a-zA-Z0-9 ]*(?=\\))', v)\n",
    "        if searchObj:\n",
    "            temp = searchObj.group().replace('as ', '')\n",
    "            if len(temp + v[4:]) > 1:\n",
    "                temp2 = re.search('(?<=\\()[-,a-zA-Z0-9 ]*(?=\\))', temp + v[4:]).group().replace('as ', '')\n",
    "                result = dict_first[temp] + '.'+ dict_second[temp2]\n",
    "            else:\n",
    "                result = dict_first[temp]\n",
    "            activities[k] = result\n",
    "    return np.float_(activities)\n",
    "\n",
    "df['EPRTRAnnexIMainActivityCode'] = df['EPRTRAnnexIMainActivityCode'].replace(list_activities, code_in_num())"
   ],
   "metadata": {
    "collapsed": false,
    "pycharm": {
     "name": "#%%\n"
    }
   }
  },
  {
   "cell_type": "code",
   "execution_count": 117,
   "outputs": [
    {
     "name": "stdout",
     "output_type": "stream",
     "text": [
      "<class 'pandas.core.frame.DataFrame'>\n",
      "RangeIndex: 288566 entries, 0 to 288565\n",
      "Data columns (total 13 columns):\n",
      " #   Column                        Non-Null Count   Dtype  \n",
      "---  ------                        --------------   -----  \n",
      " 0   countryName                   288566 non-null  object \n",
      " 1   EPRTRSectorCode               288566 non-null  int64  \n",
      " 2   eprtrSectorName               288566 non-null  object \n",
      " 3   EPRTRAnnexIMainActivityCode   288566 non-null  float64\n",
      " 4   EPRTRAnnexIMainActivityLabel  288566 non-null  object \n",
      " 5   FacilityInspireID             288566 non-null  object \n",
      " 6   facilityName                  288547 non-null  object \n",
      " 7   Longitude                     288566 non-null  float64\n",
      " 8   Latitude                      288566 non-null  float64\n",
      " 9   City                          288566 non-null  object \n",
      " 10  pollutant                     288566 non-null  object \n",
      " 11  emissions                     288566 non-null  float64\n",
      " 12  reportingYear                 288566 non-null  int64  \n",
      "dtypes: float64(4), int64(2), object(7)\n",
      "memory usage: 28.6+ MB\n"
     ]
    }
   ],
   "source": [
    "df.head()\n",
    "df.info()"
   ],
   "metadata": {
    "collapsed": false,
    "pycharm": {
     "name": "#%%\n"
    }
   }
  },
  {
   "cell_type": "code",
   "execution_count": 118,
   "metadata": {
    "pycharm": {
     "name": "#%%\n"
    }
   },
   "outputs": [],
   "source": [
    "#df.to_csv(\"F1_4_clean_data.csv\")"
   ]
  },
  {
   "cell_type": "markdown",
   "source": [
    "---"
   ],
   "metadata": {
    "collapsed": false,
    "pycharm": {
     "name": "#%% md\n"
    }
   }
  },
  {
   "cell_type": "code",
   "execution_count": 119,
   "outputs": [
    {
     "data": {
      "text/plain": "array(['DCE-1,2', 'NMVOC', 'CO2', 'NOx', 'SOx', 'Zn', 'CO', 'CH4', 'Hg',\n       'HCN', 'PM10', 'N2O', 'HCFCs', 'Cr', 'Cu', 'Pb', 'HCl', 'NH3',\n       'Benzene', 'PAHs', 'DCM', 'Cd', 'Ni', 'Teq', 'HFCS', 'HF',\n       'Naphthalene', 'As', 'SF6', 'TRI', 'PFCs', 'Anthracene',\n       'Benzo(g,h,i)perylene', 'PCBs', 'CFCs', '2-ethyl hexyl', 'HCB',\n       'Vinyl chloride', 'Tetrachloroethylene', 'Halons', 'TCM',\n       'Trichloromethane', 'TETRACHLOROETHANE-1,1,2,2',\n       'Pentachlorobenzene', 'PCP', 'Ethylene oxide', 'TCE-1,1,1', 'TCB',\n       'Fine particulate matter (PM2.5)', 'Asbestos',\n       'Nonylphenol and Nonylphenol ethoxylates', 'TOC', 'Lindane', 'HCH',\n       'total F', 'PBDE', 'Aldrin', 'Toluene', 'total C', 'Chlordecone',\n       'Ethyl benzene', 'Xylenes'], dtype=object)"
     },
     "execution_count": 119,
     "metadata": {},
     "output_type": "execute_result"
    }
   ],
   "source": [
    "df.pollutant.unique()"
   ],
   "metadata": {
    "collapsed": false,
    "pycharm": {
     "name": "#%%\n"
    }
   }
  },
  {
   "cell_type": "code",
   "execution_count": null,
   "outputs": [],
   "source": [],
   "metadata": {
    "collapsed": false,
    "pycharm": {
     "name": "#%%\n"
    }
   }
  }
 ],
 "metadata": {
  "interpreter": {
   "hash": "d04241a95f7aad54731f492ae07860a25c4fb088cb230cacf9b68f5b4c6b1624"
  },
  "kernelspec": {
   "display_name": "Python 3.10.2 ('myenv': venv)",
   "language": "python",
   "name": "python3"
  },
  "language_info": {
   "codemirror_mode": {
    "name": "ipython",
    "version": 3
   },
   "file_extension": ".py",
   "mimetype": "text/x-python",
   "name": "python",
   "nbconvert_exporter": "python",
   "pygments_lexer": "ipython3",
   "version": "3.10.2"
  },
  "orig_nbformat": 4
 },
 "nbformat": 4,
 "nbformat_minor": 2
}