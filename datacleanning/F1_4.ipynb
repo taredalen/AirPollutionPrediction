{
 "cells": [
  {
   "cell_type": "code",
   "execution_count": 40,
   "outputs": [],
   "source": [
    "import pandas as pd\n",
    "import re\n",
    "import matplotlib.pyplot as plt\n",
    "import numpy as np"
   ],
   "metadata": {
    "collapsed": false,
    "pycharm": {
     "name": "#%%\n"
    }
   }
  },
  {
   "cell_type": "code",
   "execution_count": 41,
   "outputs": [
    {
     "name": "stdout",
     "output_type": "stream",
     "text": [
      "(288566, 14)\n",
      "       EPRTRSectorCode      Longitude       Latitude     emissions  \\\n",
      "count    288566.000000  288566.000000  288566.000000  2.885660e+05   \n",
      "mean          4.205239       7.248907      48.293419  9.502748e+07   \n",
      "std           2.513370      10.538875       6.933106  6.984015e+08   \n",
      "min           1.000000     -63.080350     -21.303590  0.000000e+00   \n",
      "25%           1.000000      -0.915578      43.575665  1.160000e+04   \n",
      "50%           4.000000       6.709500      49.210195  4.120000e+04   \n",
      "75%           7.000000      14.574320      52.211600  4.950000e+05   \n",
      "max           9.000000      55.666840      76.597755  4.320000e+10   \n",
      "\n",
      "       reportingYear  \n",
      "count  288566.000000  \n",
      "mean     2013.016676  \n",
      "std         3.891024  \n",
      "min      2007.000000  \n",
      "25%      2010.000000  \n",
      "50%      2013.000000  \n",
      "75%      2016.000000  \n",
      "max      2020.000000  \n"
     ]
    },
    {
     "data": {
      "text/plain": "  countryName  EPRTRSectorCode                           eprtrSectorName  \\\n0     Austria                4                         Chemical industry   \n1     Austria                9                          Other activities   \n2     Austria                6  Paper and wood production and processing   \n3     Austria                6  Paper and wood production and processing   \n4     Austria                3                          Mineral industry   \n\n  EPRTRAnnexIMainActivityCode  \\\n0                        4(d)   \n1                        9(c)   \n2                        6(b)   \n3                        6(b)   \n4                        3(c)   \n\n                        EPRTRAnnexIMainActivityLabel  \\\n0  Chemical installations for the production on a...   \n1  Installations for the surface treatment of sub...   \n2  Industrial plants for the production of paper ...   \n3  Industrial plants for the production of paper ...   \n4  Installations for the production of cement cli...   \n\n                FacilityInspireID                          facilityName  \\\n0  AT.CAED/9008390392737.FACILITY                   Nufarm GmbH & CO KG   \n1  AT.CAED/9008390396414.FACILITY  MAGNA STEYR Fahrzeugtechnik AG&Co KG   \n2  AT.CAED/9008390397176.FACILITY             Fritz EGGER GmbH & Co. OG   \n3  AT.CAED/9008390397176.FACILITY             Fritz EGGER GmbH & Co. OG   \n4  AT.CAED/9008390397220.FACILITY                voestalpine Stahl GmbH   \n\n   Longitude   Latitude                    City targetRelease  \\\n0  14.336056  48.290943                    Linz           AIR   \n1  15.477778  47.019170   Graz,07.Bez.:Liebenau           AIR   \n2  15.691833  48.259556           Unterradlberg           AIR   \n3  15.691833  48.259556           Unterradlberg           AIR   \n4  14.159778  47.807083  Klaus an der Pyhrnbahn           AIR   \n\n                                        pollutant    emissions  reportingYear  \n0                    1,2-dichloroethane (DCE-1,2)       3300.0           2007  \n1  Non-methane volatile organic compounds (NMVOC)     170000.0           2007  \n2                            Carbon dioxide (CO2)  228000000.0           2007  \n3                           Nitrogen oxides (NOX)     311000.0           2007  \n4                            Carbon dioxide (CO2)  329000000.0           2007  ",
      "text/html": "<div>\n<style scoped>\n    .dataframe tbody tr th:only-of-type {\n        vertical-align: middle;\n    }\n\n    .dataframe tbody tr th {\n        vertical-align: top;\n    }\n\n    .dataframe thead th {\n        text-align: right;\n    }\n</style>\n<table border=\"1\" class=\"dataframe\">\n  <thead>\n    <tr style=\"text-align: right;\">\n      <th></th>\n      <th>countryName</th>\n      <th>EPRTRSectorCode</th>\n      <th>eprtrSectorName</th>\n      <th>EPRTRAnnexIMainActivityCode</th>\n      <th>EPRTRAnnexIMainActivityLabel</th>\n      <th>FacilityInspireID</th>\n      <th>facilityName</th>\n      <th>Longitude</th>\n      <th>Latitude</th>\n      <th>City</th>\n      <th>targetRelease</th>\n      <th>pollutant</th>\n      <th>emissions</th>\n      <th>reportingYear</th>\n    </tr>\n  </thead>\n  <tbody>\n    <tr>\n      <th>0</th>\n      <td>Austria</td>\n      <td>4</td>\n      <td>Chemical industry</td>\n      <td>4(d)</td>\n      <td>Chemical installations for the production on a...</td>\n      <td>AT.CAED/9008390392737.FACILITY</td>\n      <td>Nufarm GmbH &amp; CO KG</td>\n      <td>14.336056</td>\n      <td>48.290943</td>\n      <td>Linz</td>\n      <td>AIR</td>\n      <td>1,2-dichloroethane (DCE-1,2)</td>\n      <td>3300.0</td>\n      <td>2007</td>\n    </tr>\n    <tr>\n      <th>1</th>\n      <td>Austria</td>\n      <td>9</td>\n      <td>Other activities</td>\n      <td>9(c)</td>\n      <td>Installations for the surface treatment of sub...</td>\n      <td>AT.CAED/9008390396414.FACILITY</td>\n      <td>MAGNA STEYR Fahrzeugtechnik AG&amp;Co KG</td>\n      <td>15.477778</td>\n      <td>47.019170</td>\n      <td>Graz,07.Bez.:Liebenau</td>\n      <td>AIR</td>\n      <td>Non-methane volatile organic compounds (NMVOC)</td>\n      <td>170000.0</td>\n      <td>2007</td>\n    </tr>\n    <tr>\n      <th>2</th>\n      <td>Austria</td>\n      <td>6</td>\n      <td>Paper and wood production and processing</td>\n      <td>6(b)</td>\n      <td>Industrial plants for the production of paper ...</td>\n      <td>AT.CAED/9008390397176.FACILITY</td>\n      <td>Fritz EGGER GmbH &amp; Co. OG</td>\n      <td>15.691833</td>\n      <td>48.259556</td>\n      <td>Unterradlberg</td>\n      <td>AIR</td>\n      <td>Carbon dioxide (CO2)</td>\n      <td>228000000.0</td>\n      <td>2007</td>\n    </tr>\n    <tr>\n      <th>3</th>\n      <td>Austria</td>\n      <td>6</td>\n      <td>Paper and wood production and processing</td>\n      <td>6(b)</td>\n      <td>Industrial plants for the production of paper ...</td>\n      <td>AT.CAED/9008390397176.FACILITY</td>\n      <td>Fritz EGGER GmbH &amp; Co. OG</td>\n      <td>15.691833</td>\n      <td>48.259556</td>\n      <td>Unterradlberg</td>\n      <td>AIR</td>\n      <td>Nitrogen oxides (NOX)</td>\n      <td>311000.0</td>\n      <td>2007</td>\n    </tr>\n    <tr>\n      <th>4</th>\n      <td>Austria</td>\n      <td>3</td>\n      <td>Mineral industry</td>\n      <td>3(c)</td>\n      <td>Installations for the production of cement cli...</td>\n      <td>AT.CAED/9008390397220.FACILITY</td>\n      <td>voestalpine Stahl GmbH</td>\n      <td>14.159778</td>\n      <td>47.807083</td>\n      <td>Klaus an der Pyhrnbahn</td>\n      <td>AIR</td>\n      <td>Carbon dioxide (CO2)</td>\n      <td>329000000.0</td>\n      <td>2007</td>\n    </tr>\n  </tbody>\n</table>\n</div>"
     },
     "execution_count": 41,
     "metadata": {},
     "output_type": "execute_result"
    }
   ],
   "source": [
    "df_F1= pd.read_csv(\"../data/F1_4_Detailed releases at facility level with E-PRTR Sector and Annex I Activity detail into Air.csv\")\n",
    "print(df_F1.shape)\n",
    "print(df_F1.describe())\n",
    "df_F1.head(5)"
   ],
   "metadata": {
    "collapsed": false,
    "pycharm": {
     "name": "#%%\n"
    }
   }
  },
  {
   "cell_type": "markdown",
   "source": [
    "Shape = (288566 rows, 14 columns)\n",
    "* There is null values for the emission\n",
    "* targetRelease column irrelevant (same value for all columns)\n"
   ],
   "metadata": {
    "collapsed": false,
    "pycharm": {
     "name": "#%% md\n"
    }
   }
  },
  {
   "cell_type": "markdown",
   "source": [
    "### Drop targetRelease column"
   ],
   "metadata": {
    "collapsed": false,
    "pycharm": {
     "name": "#%% md\n"
    }
   }
  },
  {
   "cell_type": "code",
   "execution_count": 42,
   "outputs": [],
   "source": [
    "df_F1 = df_F1.drop(columns='targetRelease',axis=1)"
   ],
   "metadata": {
    "collapsed": false,
    "pycharm": {
     "name": "#%%\n"
    }
   }
  },
  {
   "cell_type": "markdown",
   "source": [],
   "metadata": {
    "collapsed": false,
    "pycharm": {
     "name": "#%% md\n"
    }
   }
  },
  {
   "cell_type": "markdown",
   "source": [
    "95 null values of emission : drop or imputation or search in another data ?\n",
    "from which value we keep the emission ?"
   ],
   "metadata": {
    "collapsed": false,
    "pycharm": {
     "name": "#%% md\n"
    }
   }
  },
  {
   "cell_type": "markdown",
   "source": [
    "### Replace \"0\" by \"NaN\""
   ],
   "metadata": {
    "collapsed": false,
    "pycharm": {
     "name": "#%% md\n"
    }
   }
  },
  {
   "cell_type": "code",
   "execution_count": 43,
   "outputs": [],
   "source": [
    "df_F1.emissions = df_F1.emissions.replace(0,np.nan)"
   ],
   "metadata": {
    "collapsed": false,
    "pycharm": {
     "name": "#%%\n"
    }
   }
  },
  {
   "cell_type": "code",
   "execution_count": 20,
   "outputs": [
    {
     "data": {
      "text/plain": "  Country_Code  Country Pollutant_name Format_name Sector_code  Year  \\\n0           AT  Austria             As  NFR 2014-1      1B2aiv  1990   \n1           AT  Austria             As  NFR 2014-1       1B2av  1990   \n2           AT  Austria             As  NFR 2014-1        1B2b  1990   \n3           AT  Austria             As  NFR 2014-1        1B2c  1990   \n4           AT  Austria             As  NFR 2014-1        1B2d  1990   \n\n   Emissions Notation  VersionId Parent_sector_code  \\\n0        NaN       NR          2     NATIONAL TOTAL   \n1        NaN       NR          2     NATIONAL TOTAL   \n2        NaN       NR          2     NATIONAL TOTAL   \n3        NaN       NR          2     NATIONAL TOTAL   \n4        NaN       NR          2     NATIONAL TOTAL   \n\n                                         Sector_name  \\\n0         Fugitive emissions oil: Refining / storage   \n1                       Distribution of oil products   \n2  Fugitive emissions from natural gas (explorati...   \n3  Venting and flaring (oil, gas, combined oil an...   \n4    Other fugitive emissions from energy production   \n\n                     Sector_label_EEA  \n0  Energy production and distribution  \n1  Energy production and distribution  \n2  Energy production and distribution  \n3  Energy production and distribution  \n4  Energy production and distribution  ",
      "text/html": "<div>\n<style scoped>\n    .dataframe tbody tr th:only-of-type {\n        vertical-align: middle;\n    }\n\n    .dataframe tbody tr th {\n        vertical-align: top;\n    }\n\n    .dataframe thead th {\n        text-align: right;\n    }\n</style>\n<table border=\"1\" class=\"dataframe\">\n  <thead>\n    <tr style=\"text-align: right;\">\n      <th></th>\n      <th>Country_Code</th>\n      <th>Country</th>\n      <th>Pollutant_name</th>\n      <th>Format_name</th>\n      <th>Sector_code</th>\n      <th>Year</th>\n      <th>Emissions</th>\n      <th>Notation</th>\n      <th>VersionId</th>\n      <th>Parent_sector_code</th>\n      <th>Sector_name</th>\n      <th>Sector_label_EEA</th>\n    </tr>\n  </thead>\n  <tbody>\n    <tr>\n      <th>0</th>\n      <td>AT</td>\n      <td>Austria</td>\n      <td>As</td>\n      <td>NFR 2014-1</td>\n      <td>1B2aiv</td>\n      <td>1990</td>\n      <td>NaN</td>\n      <td>NR</td>\n      <td>2</td>\n      <td>NATIONAL TOTAL</td>\n      <td>Fugitive emissions oil: Refining / storage</td>\n      <td>Energy production and distribution</td>\n    </tr>\n    <tr>\n      <th>1</th>\n      <td>AT</td>\n      <td>Austria</td>\n      <td>As</td>\n      <td>NFR 2014-1</td>\n      <td>1B2av</td>\n      <td>1990</td>\n      <td>NaN</td>\n      <td>NR</td>\n      <td>2</td>\n      <td>NATIONAL TOTAL</td>\n      <td>Distribution of oil products</td>\n      <td>Energy production and distribution</td>\n    </tr>\n    <tr>\n      <th>2</th>\n      <td>AT</td>\n      <td>Austria</td>\n      <td>As</td>\n      <td>NFR 2014-1</td>\n      <td>1B2b</td>\n      <td>1990</td>\n      <td>NaN</td>\n      <td>NR</td>\n      <td>2</td>\n      <td>NATIONAL TOTAL</td>\n      <td>Fugitive emissions from natural gas (explorati...</td>\n      <td>Energy production and distribution</td>\n    </tr>\n    <tr>\n      <th>3</th>\n      <td>AT</td>\n      <td>Austria</td>\n      <td>As</td>\n      <td>NFR 2014-1</td>\n      <td>1B2c</td>\n      <td>1990</td>\n      <td>NaN</td>\n      <td>NR</td>\n      <td>2</td>\n      <td>NATIONAL TOTAL</td>\n      <td>Venting and flaring (oil, gas, combined oil an...</td>\n      <td>Energy production and distribution</td>\n    </tr>\n    <tr>\n      <th>4</th>\n      <td>AT</td>\n      <td>Austria</td>\n      <td>As</td>\n      <td>NFR 2014-1</td>\n      <td>1B2d</td>\n      <td>1990</td>\n      <td>NaN</td>\n      <td>NR</td>\n      <td>2</td>\n      <td>NATIONAL TOTAL</td>\n      <td>Other fugitive emissions from energy production</td>\n      <td>Energy production and distribution</td>\n    </tr>\n  </tbody>\n</table>\n</div>"
     },
     "execution_count": 20,
     "metadata": {},
     "output_type": "execute_result"
    }
   ],
   "source": [
    "df_CLR = pd.read_csv(\"../data/clean_clrtap.csv\",sep='\\t')\n",
    "df_CLR.head()"
   ],
   "metadata": {
    "collapsed": false,
    "pycharm": {
     "name": "#%%\n"
    }
   }
  },
  {
   "cell_type": "markdown",
   "source": [],
   "metadata": {
    "collapsed": false,
    "pycharm": {
     "name": "#%% md\n"
    }
   }
  },
  {
   "cell_type": "markdown",
   "source": [
    "# Merging Data"
   ],
   "metadata": {
    "collapsed": false,
    "pycharm": {
     "name": "#%% md\n"
    }
   }
  },
  {
   "cell_type": "markdown",
   "source": [
    "#### Make columns matchable"
   ],
   "metadata": {
    "collapsed": false,
    "pycharm": {
     "name": "#%% md\n"
    }
   }
  },
  {
   "cell_type": "markdown",
   "source": [
    "Pollutant"
   ],
   "metadata": {
    "collapsed": false,
    "pycharm": {
     "name": "#%% md\n"
    }
   }
  },
  {
   "cell_type": "code",
   "execution_count": 44,
   "outputs": [
    {
     "name": "stdout",
     "output_type": "stream",
     "text": [
      "['As', 'BC', 'NH3', 'benzo(b)', 'benzo(k)', 'Cd', 'CO', 'Cu', 'Cr', 'dioxin', 'HCB', 'Hg', 'Ni', 'NOx', 'NMVOC', 'PCB', 'Pb', 'Se', 'SOx', 'PM10', 'total PAH', 'Zn', 'TSP', 'PM2.5', 'Indeno', 'benzo(a)']\n",
      "['1,2-dichloroethane (DCE-1,2)', 'Non-methane volatile organic compounds (NMVOC)', 'Carbon dioxide (CO2)', 'Nitrogen oxides (NOX)', 'Sulphur oxides (SOX)', 'Zinc and compounds (as Zn)', 'Carbon monoxide (CO)', 'Methane (CH4)', 'Mercury and compounds (as Hg)', 'Hydrogen cyanide (HCN)', 'Particulate matter (PM10)', 'Nitrous oxide (N2O)', 'Hydrochlorofluorocarbons (HCFCs)', 'Chromium and compounds (as Cr)', 'Copper and compounds (as Cu)', 'Lead and compounds (as Pb)', 'Chlorine and inorganic compounds (as HCl)', 'Ammonia (NH3)', 'Benzene', 'Polycyclic aromatic hydrocarbons (PAHs)', 'Dichloromethane (DCM)', 'Cadmium and compounds (as Cd)', 'Nickel and compounds (as Ni)', 'PCDD + PCDF (dioxins + furans) (as Teq)', 'Hydro-fluorocarbons (HFCS)', 'Fluorine and inorganic compounds (as HF)', 'Naphthalene', 'Arsenic and compounds (as As)', 'Sulphur hexafluoride (SF6)', 'Trichloroethylene (TRI)', 'Perfluorocarbons (PFCs)', 'Anthracene', 'Benzo(g,h,i)perylene', 'Polychlorinated biphenyls (PCBs)', 'Chlorofluorocarbons (CFCs)', 'Di-(2-ethyl hexyl) phthalate (DEHP)', 'Hexachlorobenzene (HCB)', 'Vinyl chloride', 'Tetrachloroethylene', 'Halons', 'Tetrachloromethane (TCM)', 'Trichloromethane', '1,1,2,2-tetrachloroethane (TETRACHLOROETHANE-1,1,2,2)', 'Pentachlorobenzene', 'Pentachlorophenol (PCP)', 'Ethylene oxide', '1,1,1-trichloroethane (TCE-1,1,1)', 'Trichlorobenzenes (TCB)', 'Carbon dioxide (CO2) excluding biomass', 'Fine particulate matter (PM2.5)', 'Asbestos', 'Nonylphenol and Nonylphenol ethoxylates', 'Total organic carbon(as total C or COD/3) (TOC)', 'Lindane', '1,2,3,4,5,6-hexachlorocyclohexane (HCH)', 'Fluorides (as total F)', 'Brominated diphenylethers (PBDE)', 'Aldrin', 'Toluene', 'Phenols (as total C)', 'Chlordecone', 'Ethyl benzene', 'Xylenes']\n",
      "['DCE-1,2' 'NMVOC' 'CO2' 'NOx' 'SOx' 'Zn' 'CO' 'CH4' 'Hg' 'HCN' 'PM10'\n",
      " 'N2O' 'HCFCs' 'Cr' 'Cu' 'Pb' 'HCl' 'NH3' 'Benzene' 'PAHs' 'DCM' 'Cd' 'Ni'\n",
      " 'Teq' 'HFCS' 'HF' 'Naphthalene' 'As' 'SF6' 'TRI' 'PFCs' 'Anthracene'\n",
      " 'Benzo(g,h,i)perylene' 'PCBs' 'CFCs' '2-ethyl hexyl' 'HCB'\n",
      " 'Vinyl chloride' 'Tetrachloroethylene' 'Halons' 'TCM' 'Trichloromethane'\n",
      " 'TETRACHLOROETHANE-1,1,2,2' 'Pentachlorobenzene' 'PCP' 'Ethylene oxide'\n",
      " 'TCE-1,1,1' 'TCB' 'Fine particulate matter (PM2.5)' 'Asbestos'\n",
      " 'Nonylphenol and Nonylphenol ethoxylates' 'TOC' 'Lindane' 'HCH' 'total F'\n",
      " 'PBDE' 'Aldrin' 'Toluene' 'total C' 'Chlordecone' 'Ethyl benzene'\n",
      " 'Xylenes']\n"
     ]
    }
   ],
   "source": [
    "pollutant_CLR = list(df_CLR.Pollutant_name.unique())\n",
    "pollutant_F1 = list(df_F1.pollutant.unique())\n",
    "\n",
    "print(pollutant_CLR)\n",
    "print(pollutant_F1,end='\\n')\n",
    "\n",
    "def cleanF1Pollutant():\n",
    "    pollutant_F1_clean = pollutant_F1.copy()\n",
    "    for k,v in enumerate(pollutant_F1_clean):\n",
    "        searchObj = re.search('(?<=\\()[-,a-zA-Z0-9 ]*(?=\\))', v)\n",
    "        if searchObj:\n",
    "             temp = searchObj.group().replace('as ', '')\n",
    "             pollutant_F1_clean[k] = temp\n",
    "    pollutant_F1_clean[pollutant_F1.index('Benzo(g,h,i)perylene')] = 'Benzo(g,h,i)perylene'\n",
    "    pollutant_F1_clean[pollutant_F1.index('PCDD + PCDF (dioxins + furans) (as Teq)')] = 'Teq'\n",
    "\n",
    "    for i in pollutant_CLR:\n",
    "        for k,v in enumerate(pollutant_F1_clean):\n",
    "            if v.lower() in i.lower()  :\n",
    "                pollutant_F1_clean[k]=i;\n",
    "\n",
    "    return pollutant_F1_clean\n",
    "\n",
    "df_F1.pollutant = df_F1.pollutant.replace(pollutant_F1,cleanF1Pollutant())\n",
    "print(df_F1.pollutant.unique())"
   ],
   "metadata": {
    "collapsed": false,
    "pycharm": {
     "name": "#%%\n"
    }
   }
  },
  {
   "cell_type": "markdown",
   "source": [
    "Sector Name"
   ],
   "metadata": {
    "collapsed": false,
    "pycharm": {
     "name": "#%% md\n"
    }
   }
  },
  {
   "cell_type": "code",
   "execution_count": 14,
   "outputs": [
    {
     "name": "stdout",
     "output_type": "stream",
     "text": [
      "['Energy production and distribution'\n",
      " 'Industrial processes and product use' 'Waste'\n",
      " 'National total for the entire territory' 'Other'\n",
      " 'Energy use in industry' 'Non-road transport' 'Road transport'\n",
      " 'Commercial, institutional and households' 'Agriculture']\n",
      "['Chemical industry' 'Other activities'\n",
      " 'Paper and wood production and processing' 'Mineral industry'\n",
      " 'Animal and vegetable products from the food and beverage sector'\n",
      " 'Waste and wastewater management' 'Production and processing of metals'\n",
      " 'Energy sector' 'Intensive livestock production and aquaculture']\n"
     ]
    }
   ],
   "source": [
    "print(df_CLR.Sector_label_EEA.unique())\n",
    "print(df_F1.eprtrSectorName.unique())\n",
    "df_CLR['Sector_label_EEA'] = df_CLR['Sector_label_EEA'].replace(['Energy production and distribution','Energy use in industry'],'Energy sector')\n",
    "df_CLR['Sector_label_EEA'] = df_CLR['Sector_label_EEA'].replace(['Other'],['Other activities'])\n",
    "df_F1['eprtrSectorName'] = df_F1['eprtrSectorName'].replace(['Waste and wastewater management','Animal and vegetable products from the food and beverage sector'],['Waste','Agriculture'])"
   ],
   "metadata": {
    "collapsed": false,
    "pycharm": {
     "name": "#%%\n"
    }
   }
  },
  {
   "cell_type": "markdown",
   "source": [
    "Rename columns"
   ],
   "metadata": {
    "collapsed": false,
    "pycharm": {
     "name": "#%% md\n"
    }
   }
  },
  {
   "cell_type": "code",
   "execution_count": 15,
   "outputs": [
    {
     "name": "stdout",
     "output_type": "stream",
     "text": [
      "Index(['Country_Code', 'Country', 'Pollutant_name', 'Format_name',\n",
      "       'Sector_code', 'Year', 'Emissions', 'Notation', 'VersionId',\n",
      "       'Parent_sector_code', 'Sector_name', 'Sector_label_EEA'],\n",
      "      dtype='object')\n",
      "Index(['countryName', 'EPRTRSectorCode', 'eprtrSectorName',\n",
      "       'EPRTRAnnexIMainActivityCode', 'EPRTRAnnexIMainActivityLabel',\n",
      "       'FacilityInspireID', 'facilityName', 'Longitude', 'Latitude', 'City',\n",
      "       'pollutant', 'emissions', 'reportingYear'],\n",
      "      dtype='object')\n"
     ]
    }
   ],
   "source": [
    "print(df_CLR.columns)\n",
    "print(df_F1.columns)\n",
    "df_F1 = df_F1.rename(columns={'countryName':'Country',\n",
    "                    'EPRTRSectorCode':'Sector_Code',\n",
    "                    'eprtrSectorName':'Sector_Name',\n",
    "                    'EPRTRAnnexIMainActivityLabel':'Sector_Label',\n",
    "                    'emissions':'Emissions',\n",
    "                    'reportingYear':'Year',\n",
    "                    'pollutant':'Pollutant_Name',\n",
    "                    'EPRTRAnnexIMainActivityCode':'Main_Activity_Code'\n",
    "                    })\n",
    "df_CLR = df_CLR.rename(columns={'Sector_label_EEA':'Sector_Name',\n",
    "                    'Sector_name':'Sector_Label',\n",
    "                     'Pollutant_name':'Pollutant_Name'\n",
    "                    })"
   ],
   "metadata": {
    "collapsed": false,
    "pycharm": {
     "name": "#%%\n"
    }
   }
  },
  {
   "cell_type": "markdown",
   "source": [],
   "metadata": {
    "collapsed": false,
    "pycharm": {
     "name": "#%% md\n"
    }
   }
  },
  {
   "cell_type": "markdown",
   "source": [
    "Cities\n",
    "* the column \"city\" is an additional column from the data F1. Indeed, we need the country, the sector and the city to get the emission, in the other we only need the country and the sector.\n",
    "* Solution : ?"
   ],
   "metadata": {
    "collapsed": false,
    "pycharm": {
     "name": "#%% md\n"
    }
   }
  },
  {
   "cell_type": "code",
   "execution_count": null,
   "outputs": [],
   "source": [
    "df_F1.City.unique()"
   ],
   "metadata": {
    "collapsed": false,
    "pycharm": {
     "name": "#%%\n"
    }
   }
  },
  {
   "cell_type": "code",
   "execution_count": null,
   "outputs": [],
   "source": [],
   "metadata": {
    "collapsed": false,
    "pycharm": {
     "name": "#%%\n"
    }
   }
  },
  {
   "cell_type": "code",
   "execution_count": 16,
   "outputs": [
    {
     "data": {
      "text/plain": "array(['Linz', 'Graz,07.Bez.:Liebenau', 'Unterradlberg', ...,\n       'Millerhill, Dalkeith', 'Port William, Newton Stewart',\n       'Locherbie'], dtype=object)"
     },
     "execution_count": 16,
     "metadata": {},
     "output_type": "execute_result"
    }
   ],
   "source": [
    "df_F1.City.unique()"
   ],
   "metadata": {
    "collapsed": false,
    "pycharm": {
     "name": "#%%\n"
    }
   }
  },
  {
   "cell_type": "code",
   "execution_count": 16,
   "outputs": [],
   "source": [],
   "metadata": {
    "collapsed": false,
    "pycharm": {
     "name": "#%%\n"
    }
   }
  }
 ],
 "metadata": {
  "kernelspec": {
   "display_name": "Python 3",
   "language": "python",
   "name": "python3"
  },
  "language_info": {
   "codemirror_mode": {
    "name": "ipython",
    "version": 2
   },
   "file_extension": ".py",
   "mimetype": "text/x-python",
   "name": "python",
   "nbconvert_exporter": "python",
   "pygments_lexer": "ipython2",
   "version": "2.7.6"
  }
 },
 "nbformat": 4,
 "nbformat_minor": 0
}