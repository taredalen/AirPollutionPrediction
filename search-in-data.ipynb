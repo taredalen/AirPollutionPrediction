{
 "cells": [
  {
   "cell_type": "code",
   "execution_count": 2,
   "outputs": [],
   "source": [
    "import os\n",
    "import pathlib\n",
    "import warnings\n",
    "\n",
    "import numpy as np\n",
    "import pandas as pd\n",
    "\n",
    "from data import APP_PATH\n",
    "\n",
    "warnings.filterwarnings('ignore')\n",
    "from IPython.core.display_functions import display"
   ],
   "metadata": {
    "collapsed": false,
    "pycharm": {
     "name": "#%%\n"
    }
   }
  },
  {
   "cell_type": "code",
   "execution_count": 3,
   "outputs": [],
   "source": [
    "url = './data/F1_4_Detailed releases at facility level with E-PRTR Sector and Annex I Activity detail into Air.csv'\n",
    "df_air = pd.read_csv(url, on_bad_lines='skip', sep=',')\n",
    "df_clrtap = pd.read_csv('./data/clean_clrtap.csv', on_bad_lines='skip', sep='\\t')"
   ],
   "metadata": {
    "collapsed": false,
    "pycharm": {
     "name": "#%%\n"
    }
   }
  },
  {
   "cell_type": "code",
   "execution_count": 4,
   "outputs": [
    {
     "data": {
      "text/plain": "array(['Finland', 'France', 'Ireland', 'Portugal', 'Bulgaria', 'Croatia',\n       'Estonia', 'Latvia', 'Malta', 'Slovenia', 'Norway', 'Denmark',\n       'Germany', 'Greece', 'Sweden', 'Cyprus', 'Lithuania', 'Poland',\n       'Romania', 'EU28', 'Iceland', 'Austria', 'Italy', 'United Kingdom',\n       'Belgium', 'Netherlands', 'Spain', 'Czech Republic', 'Slovakia',\n       'Hungary', 'Turkey', 'EEA33', 'Switzerland', 'Luxembourg',\n       'Liechtenstein'], dtype=object)"
     },
     "execution_count": 4,
     "metadata": {},
     "output_type": "execute_result"
    }
   ],
   "source": [
    "def get_countries_list_clrtap():\n",
    "    return df_clrtap['Country'].unique()\n",
    "get_countries_list_clrtap()"
   ],
   "metadata": {
    "collapsed": false,
    "pycharm": {
     "name": "#%%\n"
    }
   }
  },
  {
   "cell_type": "code",
   "execution_count": 11,
   "outputs": [
    {
     "data": {
      "text/plain": "array(['Austria', 'Belgium', 'Bulgaria', 'Croatia', 'Cyprus',\n       'Czech Republic', 'Denmark', 'Estonia', 'Finland', 'France',\n       'Germany', 'Greece', 'Hungary', 'Iceland', 'Ireland', 'Italy',\n       'Latvia', 'Lithuania', 'Luxembourg', 'Malta', 'Netherlands',\n       'Norway', 'Poland', 'Portugal', 'Romania', 'Serbia', 'Slovakia',\n       'Slovenia', 'Spain', 'Sweden', 'Switzerland', 'United Kingdom'],\n      dtype=object)"
     },
     "execution_count": 11,
     "metadata": {},
     "output_type": "execute_result"
    }
   ],
   "source": [
    "def get_countries_list_air():\n",
    "    return df_air['Country'].unique()\n",
    "\n",
    "get_countries_list_air()"
   ],
   "metadata": {
    "collapsed": false,
    "pycharm": {
     "name": "#%%\n"
    }
   }
  },
  {
   "cell_type": "code",
   "execution_count": 14,
   "outputs": [
    {
     "name": "stdout",
     "output_type": "stream",
     "text": [
      "['Liechtenstein', 'EU28', 'Turkey', 'EEA33']\n",
      "['Austria', 'Belgium', 'Bulgaria', 'Croatia', 'Cyprus', 'Czech Republic', 'Denmark', 'Estonia', 'Finland', 'France', 'Germany', 'Greece', 'Hungary', 'Iceland', 'Ireland', 'Italy', 'Latvia', 'Lithuania', 'Luxembourg', 'Malta', 'Netherlands', 'Norway', 'Poland', 'Portugal', 'Romania', 'Slovakia', 'Slovenia', 'Spain', 'Sweden', 'Switzerland', 'United Kingdom']\n"
     ]
    }
   ],
   "source": [
    "def country_list_intersection():\n",
    "    list_countries_air = get_countries_list_air()\n",
    "    list_countries_clrtap = get_countries_list_clrtap()\n",
    "\n",
    "    differences = list(set(list_countries_clrtap) - set(list_countries_air))\n",
    "    print(differences)\n",
    "\n",
    "    commun_countries_list = list(set(list_countries_air).intersection(list_countries_clrtap))\n",
    "    print(sorted(commun_countries_list))\n",
    "\n",
    "country_list_intersection()"
   ],
   "metadata": {
    "collapsed": false,
    "pycharm": {
     "name": "#%%\n"
    }
   }
  },
  {
   "cell_type": "code",
   "execution_count": 7,
   "outputs": [
    {
     "name": "stdout",
     "output_type": "stream",
     "text": [
      "['4(d)' '9(c)' '6(b)' '3(c)' '8(b)' '4(b)' '4(a)' '5(d)' '2(f)' '1(c)'\n",
      " '5(b)' '3(e)' '6(a)' '1(a)' '5(c)' '2(e)' '2(b)' '2(d)' '4(e)' '5(f)'\n",
      " '3(f)' '5(g)' '5(a)' '3(a)' '4(c)' '3(b)' '3(g)' '2(c)' '4(a)(viii)'\n",
      " '8(b)(ii)' '6(c)' '3(c)(i)' '7(a)(i)' '7(a)(ii)' '4(a)(ix)' '8(b)(i)'\n",
      " '8(a)' '2(c)(i)' '2(e)(ii)' '3(c)(iii)' '3(c)(ii)' '4(a)(i)' '4(b)(ii)'\n",
      " '2(c)(iii)' '4(a)(vi)' '4(b)(v)' '5(e)' '2(e)(i)' '8(c)' '9(a)'\n",
      " '4(a)(ii)' '4(b)(i)' '9(e)' '4(a)(iv)' '7(a)(iii)' '4(b)(iv)' '2(a)'\n",
      " '4(a)(iii)' '7(a)' '1(d)' '4(a)(x)' '1(f)' '1(b)' '7(b)' '4(f)' '9(d)'\n",
      " '4(b)(iii)' '4(a)(xi)' '1(e)' '4(a)(v)' '4(a)(vii)' '2(c)(ii)' '9(b)']\n",
      "['Chemical industry' 'Other activities'\n",
      " 'Paper and wood production and processing' 'Mineral industry'\n",
      " 'Animal and vegetable products from the food and beverage sector'\n",
      " 'Waste and wastewater management' 'Production and processing of metals'\n",
      " 'Energy sector' 'Intensive livestock production and aquaculture']\n",
      "['1,2-dichloroethane (DCE-1,2)'\n",
      " 'Non-methane volatile organic compounds (NMVOC)' 'Carbon dioxide (CO2)'\n",
      " 'Nitrogen oxides (NOX)' 'Sulphur oxides (SOX)'\n",
      " 'Zinc and compounds (as Zn)' 'Carbon monoxide (CO)' 'Methane (CH4)'\n",
      " 'Mercury and compounds (as Hg)' 'Hydrogen cyanide (HCN)'\n",
      " 'Particulate matter (PM10)' 'Nitrous oxide (N2O)'\n",
      " 'Hydrochlorofluorocarbons (HCFCs)' 'Chromium and compounds (as Cr)'\n",
      " 'Copper and compounds (as Cu)' 'Lead and compounds (as Pb)'\n",
      " 'Chlorine and inorganic compounds (as HCl)' 'Ammonia (NH3)' 'Benzene'\n",
      " 'Polycyclic aromatic hydrocarbons (PAHs)' 'Dichloromethane (DCM)'\n",
      " 'Cadmium and compounds (as Cd)' 'Nickel and compounds (as Ni)'\n",
      " 'PCDD + PCDF (dioxins + furans) (as Teq)' 'Hydro-fluorocarbons (HFCS)'\n",
      " 'Fluorine and inorganic compounds (as HF)' 'Naphthalene'\n",
      " 'Arsenic and compounds (as As)' 'Sulphur hexafluoride (SF6)'\n",
      " 'Trichloroethylene (TRI)' 'Perfluorocarbons (PFCs)' 'Anthracene'\n",
      " 'Benzo(g,h,i)perylene' 'Polychlorinated biphenyls (PCBs)'\n",
      " 'Chlorofluorocarbons (CFCs)' 'Di-(2-ethyl hexyl) phthalate (DEHP)'\n",
      " 'Hexachlorobenzene (HCB)' 'Vinyl chloride' 'Tetrachloroethylene' 'Halons'\n",
      " 'Tetrachloromethane (TCM)' 'Trichloromethane'\n",
      " '1,1,2,2-tetrachloroethane (TETRACHLOROETHANE-1,1,2,2)'\n",
      " 'Pentachlorobenzene' 'Pentachlorophenol (PCP)' 'Ethylene oxide'\n",
      " '1,1,1-trichloroethane (TCE-1,1,1)' 'Trichlorobenzenes (TCB)'\n",
      " 'Carbon dioxide (CO2) excluding biomass'\n",
      " 'Fine particulate matter (PM2.5)' 'Asbestos'\n",
      " 'Nonylphenol and Nonylphenol ethoxylates'\n",
      " 'Total organic carbon(as total C or COD/3) (TOC)' 'Lindane'\n",
      " '1,2,3,4,5,6-hexachlorocyclohexane (HCH)' 'Fluorides (as total F)'\n",
      " 'Brominated diphenylethers (PBDE)' 'Aldrin' 'Toluene'\n",
      " 'Phenols (as total C)' 'Chlordecone' 'Ethyl benzene' 'Xylenes']\n"
     ]
    }
   ],
   "source": [
    "def search_commun_columns():\n",
    "    print(df_air['EPRTRAnnexIMainActivityCode'].unique())   #eprtrSectorName\n",
    "    print(df_air['eprtrSectorName'].unique())\n",
    "    print(df_air['pollutant'].unique())\n",
    "search_commun_columns()"
   ],
   "metadata": {
    "collapsed": false,
    "pycharm": {
     "name": "#%%\n"
    }
   }
  },
  {
   "cell_type": "code",
   "execution_count": 8,
   "outputs": [
    {
     "data": {
      "text/plain": "['Energy production and distribution',\n 'Energy use in industry',\n 'Non-road transport',\n 'Road transport',\n 'Commercial, institutional and households',\n 'Industrial processes and product use',\n 'Agriculture',\n 'Waste',\n 'Other',\n 'National total for the entire territory']"
     },
     "execution_count": 8,
     "metadata": {},
     "output_type": "execute_result"
    }
   ],
   "source": [
    "['Energy production and distribution', 'Energy use in industry', 'Non-road transport',\n",
    "              'Road transport', 'Commercial, institutional and households', 'Industrial processes and product use',\n",
    "              'Agriculture', 'Waste', 'Other', 'National total for the entire territory']"
   ],
   "metadata": {
    "collapsed": false,
    "pycharm": {
     "name": "#%%\n"
    }
   }
  },
  {
   "cell_type": "code",
   "execution_count": 9,
   "outputs": [
    {
     "data": {
      "text/plain": "   Country  EPRTRSectorCode                           eprtrSectorName  \\\n0  Austria                4                         Chemical industry   \n1  Austria                9                          Other activities   \n2  Austria                6  Paper and wood production and processing   \n3  Austria                6  Paper and wood production and processing   \n4  Austria                3                          Mineral industry   \n\n  EPRTRAnnexIMainActivityCode  \\\n0                        4(d)   \n1                        9(c)   \n2                        6(b)   \n3                        6(b)   \n4                        3(c)   \n\n                        EPRTRAnnexIMainActivityLabel  \\\n0  Chemical installations for the production on a...   \n1  Installations for the surface treatment of sub...   \n2  Industrial plants for the production of paper ...   \n3  Industrial plants for the production of paper ...   \n4  Installations for the production of cement cli...   \n\n                FacilityInspireID                          facilityName  \\\n0  AT.CAED/9008390392737.FACILITY                   Nufarm GmbH & CO KG   \n1  AT.CAED/9008390396414.FACILITY  MAGNA STEYR Fahrzeugtechnik AG&Co KG   \n2  AT.CAED/9008390397176.FACILITY             Fritz EGGER GmbH & Co. OG   \n3  AT.CAED/9008390397176.FACILITY             Fritz EGGER GmbH & Co. OG   \n4  AT.CAED/9008390397220.FACILITY                voestalpine Stahl GmbH   \n\n   Longitude   Latitude                    City targetRelease  \\\n0  14.336056  48.290943                    Linz           AIR   \n1  15.477778  47.019170   Graz,07.Bez.:Liebenau           AIR   \n2  15.691833  48.259556           Unterradlberg           AIR   \n3  15.691833  48.259556           Unterradlberg           AIR   \n4  14.159778  47.807083  Klaus an der Pyhrnbahn           AIR   \n\n                                        Pollutant    Emissions  Year  \n0                    1,2-dichloroethane (DCE-1,2)       3300.0  2007  \n1  Non-methane volatile organic compounds (NMVOC)     170000.0  2007  \n2                            Carbon dioxide (CO2)  228000000.0  2007  \n3                           Nitrogen oxides (NOX)     311000.0  2007  \n4                            Carbon dioxide (CO2)  329000000.0  2007  ",
      "text/html": "<div>\n<style scoped>\n    .dataframe tbody tr th:only-of-type {\n        vertical-align: middle;\n    }\n\n    .dataframe tbody tr th {\n        vertical-align: top;\n    }\n\n    .dataframe thead th {\n        text-align: right;\n    }\n</style>\n<table border=\"1\" class=\"dataframe\">\n  <thead>\n    <tr style=\"text-align: right;\">\n      <th></th>\n      <th>Country</th>\n      <th>EPRTRSectorCode</th>\n      <th>eprtrSectorName</th>\n      <th>EPRTRAnnexIMainActivityCode</th>\n      <th>EPRTRAnnexIMainActivityLabel</th>\n      <th>FacilityInspireID</th>\n      <th>facilityName</th>\n      <th>Longitude</th>\n      <th>Latitude</th>\n      <th>City</th>\n      <th>targetRelease</th>\n      <th>Pollutant</th>\n      <th>Emissions</th>\n      <th>Year</th>\n    </tr>\n  </thead>\n  <tbody>\n    <tr>\n      <th>0</th>\n      <td>Austria</td>\n      <td>4</td>\n      <td>Chemical industry</td>\n      <td>4(d)</td>\n      <td>Chemical installations for the production on a...</td>\n      <td>AT.CAED/9008390392737.FACILITY</td>\n      <td>Nufarm GmbH &amp; CO KG</td>\n      <td>14.336056</td>\n      <td>48.290943</td>\n      <td>Linz</td>\n      <td>AIR</td>\n      <td>1,2-dichloroethane (DCE-1,2)</td>\n      <td>3300.0</td>\n      <td>2007</td>\n    </tr>\n    <tr>\n      <th>1</th>\n      <td>Austria</td>\n      <td>9</td>\n      <td>Other activities</td>\n      <td>9(c)</td>\n      <td>Installations for the surface treatment of sub...</td>\n      <td>AT.CAED/9008390396414.FACILITY</td>\n      <td>MAGNA STEYR Fahrzeugtechnik AG&amp;Co KG</td>\n      <td>15.477778</td>\n      <td>47.019170</td>\n      <td>Graz,07.Bez.:Liebenau</td>\n      <td>AIR</td>\n      <td>Non-methane volatile organic compounds (NMVOC)</td>\n      <td>170000.0</td>\n      <td>2007</td>\n    </tr>\n    <tr>\n      <th>2</th>\n      <td>Austria</td>\n      <td>6</td>\n      <td>Paper and wood production and processing</td>\n      <td>6(b)</td>\n      <td>Industrial plants for the production of paper ...</td>\n      <td>AT.CAED/9008390397176.FACILITY</td>\n      <td>Fritz EGGER GmbH &amp; Co. OG</td>\n      <td>15.691833</td>\n      <td>48.259556</td>\n      <td>Unterradlberg</td>\n      <td>AIR</td>\n      <td>Carbon dioxide (CO2)</td>\n      <td>228000000.0</td>\n      <td>2007</td>\n    </tr>\n    <tr>\n      <th>3</th>\n      <td>Austria</td>\n      <td>6</td>\n      <td>Paper and wood production and processing</td>\n      <td>6(b)</td>\n      <td>Industrial plants for the production of paper ...</td>\n      <td>AT.CAED/9008390397176.FACILITY</td>\n      <td>Fritz EGGER GmbH &amp; Co. OG</td>\n      <td>15.691833</td>\n      <td>48.259556</td>\n      <td>Unterradlberg</td>\n      <td>AIR</td>\n      <td>Nitrogen oxides (NOX)</td>\n      <td>311000.0</td>\n      <td>2007</td>\n    </tr>\n    <tr>\n      <th>4</th>\n      <td>Austria</td>\n      <td>3</td>\n      <td>Mineral industry</td>\n      <td>3(c)</td>\n      <td>Installations for the production of cement cli...</td>\n      <td>AT.CAED/9008390397220.FACILITY</td>\n      <td>voestalpine Stahl GmbH</td>\n      <td>14.159778</td>\n      <td>47.807083</td>\n      <td>Klaus an der Pyhrnbahn</td>\n      <td>AIR</td>\n      <td>Carbon dioxide (CO2)</td>\n      <td>329000000.0</td>\n      <td>2007</td>\n    </tr>\n  </tbody>\n</table>\n</div>"
     },
     "metadata": {},
     "output_type": "display_data"
    }
   ],
   "source": [
    "def create_csv_for_county():\n",
    "    for i in range(len(df_air)):\n",
    "        if df_air.loc[i, 'countryName'] == 'Czechia':\n",
    "            df_air.loc[i, 'countryName'] = 'Czech Republic'\n",
    "\n",
    "    df_air.rename(columns={'countryName': 'Country', 'pollutant': 'Pollutant', 'emissions': 'Emissions',\n",
    "                           'reportingYear': 'Year'}, inplace=True)\n",
    "\n",
    "    display(df_air.head())\n",
    "\n",
    "   # result = df_clrtap.append(df_air)\n",
    "\n",
    "    # list_countries = country_list_intersection()\n",
    "    # for c in range(len(list_countries)):\n",
    "    #     print(list_countries[c])\n",
    "    #     grouped = result.groupby(result['Country'])\n",
    "    #     country = grouped.get_group(list_countries[c])\n",
    "    #     country.to_csv(r'data_' + list_countries[c] + '.csv', index=False, sep='\\t')\n",
    "    # return result\n",
    "\n",
    "\n",
    "\n",
    "create_csv_for_county()"
   ],
   "metadata": {
    "collapsed": false,
    "pycharm": {
     "name": "#%%\n"
    }
   }
  },
  {
   "cell_type": "code",
   "execution_count": 3,
   "outputs": [],
   "source": [
    "url = os.path.join(APP_PATH, os.path.join('data', 'data_' + 'France' + '.csv'))\n",
    "df_france = pd.read_csv(url, on_bad_lines='skip', sep='\\t')"
   ],
   "metadata": {
    "collapsed": false,
    "pycharm": {
     "name": "#%%\n"
    }
   }
  },
  {
   "cell_type": "code",
   "execution_count": 4,
   "outputs": [
    {
     "data": {
      "text/plain": "  Country_Code Country Pollutant_name Format_name Sector_code  Year  \\\n0           FR  France             As  NFR 2014-1        1A1a  1990   \n1           FR  France             As  NFR 2014-1        1A1b  1990   \n2           FR  France             As  NFR 2014-1        1A1c  1990   \n3           FR  France             As  NFR 2014-1        1A2a  1990   \n4           FR  France             As  NFR 2014-1        1A2b  1990   \n\n   Emissions Unit  Notation  VersionId  ... EPRTRAnnexIMainActivityCode  \\\n0   1.778772   Mg       NaN        2.0  ...                         NaN   \n1   0.365019   Mg       NaN        2.0  ...                         NaN   \n2   0.050672   Mg       NaN        2.0  ...                         NaN   \n3   1.180131   Mg       NaN        2.0  ...                         NaN   \n4   1.787067   Mg       NaN        2.0  ...                         NaN   \n\n  EPRTRAnnexIMainActivityLabel FacilityInspireID  facilityName  Longitude  \\\n0                          NaN               NaN           NaN        NaN   \n1                          NaN               NaN           NaN        NaN   \n2                          NaN               NaN           NaN        NaN   \n3                          NaN               NaN           NaN        NaN   \n4                          NaN               NaN           NaN        NaN   \n\n  Latitude City Pollutant Air Water  \n0      NaN  NaN       NaN NaN   NaN  \n1      NaN  NaN       NaN NaN   NaN  \n2      NaN  NaN       NaN NaN   NaN  \n3      NaN  NaN       NaN NaN   NaN  \n4      NaN  NaN       NaN NaN   NaN  \n\n[5 rows x 26 columns]",
      "text/html": "<div>\n<style scoped>\n    .dataframe tbody tr th:only-of-type {\n        vertical-align: middle;\n    }\n\n    .dataframe tbody tr th {\n        vertical-align: top;\n    }\n\n    .dataframe thead th {\n        text-align: right;\n    }\n</style>\n<table border=\"1\" class=\"dataframe\">\n  <thead>\n    <tr style=\"text-align: right;\">\n      <th></th>\n      <th>Country_Code</th>\n      <th>Country</th>\n      <th>Pollutant_name</th>\n      <th>Format_name</th>\n      <th>Sector_code</th>\n      <th>Year</th>\n      <th>Emissions</th>\n      <th>Unit</th>\n      <th>Notation</th>\n      <th>VersionId</th>\n      <th>...</th>\n      <th>EPRTRAnnexIMainActivityCode</th>\n      <th>EPRTRAnnexIMainActivityLabel</th>\n      <th>FacilityInspireID</th>\n      <th>facilityName</th>\n      <th>Longitude</th>\n      <th>Latitude</th>\n      <th>City</th>\n      <th>Pollutant</th>\n      <th>Air</th>\n      <th>Water</th>\n    </tr>\n  </thead>\n  <tbody>\n    <tr>\n      <th>0</th>\n      <td>FR</td>\n      <td>France</td>\n      <td>As</td>\n      <td>NFR 2014-1</td>\n      <td>1A1a</td>\n      <td>1990</td>\n      <td>1.778772</td>\n      <td>Mg</td>\n      <td>NaN</td>\n      <td>2.0</td>\n      <td>...</td>\n      <td>NaN</td>\n      <td>NaN</td>\n      <td>NaN</td>\n      <td>NaN</td>\n      <td>NaN</td>\n      <td>NaN</td>\n      <td>NaN</td>\n      <td>NaN</td>\n      <td>NaN</td>\n      <td>NaN</td>\n    </tr>\n    <tr>\n      <th>1</th>\n      <td>FR</td>\n      <td>France</td>\n      <td>As</td>\n      <td>NFR 2014-1</td>\n      <td>1A1b</td>\n      <td>1990</td>\n      <td>0.365019</td>\n      <td>Mg</td>\n      <td>NaN</td>\n      <td>2.0</td>\n      <td>...</td>\n      <td>NaN</td>\n      <td>NaN</td>\n      <td>NaN</td>\n      <td>NaN</td>\n      <td>NaN</td>\n      <td>NaN</td>\n      <td>NaN</td>\n      <td>NaN</td>\n      <td>NaN</td>\n      <td>NaN</td>\n    </tr>\n    <tr>\n      <th>2</th>\n      <td>FR</td>\n      <td>France</td>\n      <td>As</td>\n      <td>NFR 2014-1</td>\n      <td>1A1c</td>\n      <td>1990</td>\n      <td>0.050672</td>\n      <td>Mg</td>\n      <td>NaN</td>\n      <td>2.0</td>\n      <td>...</td>\n      <td>NaN</td>\n      <td>NaN</td>\n      <td>NaN</td>\n      <td>NaN</td>\n      <td>NaN</td>\n      <td>NaN</td>\n      <td>NaN</td>\n      <td>NaN</td>\n      <td>NaN</td>\n      <td>NaN</td>\n    </tr>\n    <tr>\n      <th>3</th>\n      <td>FR</td>\n      <td>France</td>\n      <td>As</td>\n      <td>NFR 2014-1</td>\n      <td>1A2a</td>\n      <td>1990</td>\n      <td>1.180131</td>\n      <td>Mg</td>\n      <td>NaN</td>\n      <td>2.0</td>\n      <td>...</td>\n      <td>NaN</td>\n      <td>NaN</td>\n      <td>NaN</td>\n      <td>NaN</td>\n      <td>NaN</td>\n      <td>NaN</td>\n      <td>NaN</td>\n      <td>NaN</td>\n      <td>NaN</td>\n      <td>NaN</td>\n    </tr>\n    <tr>\n      <th>4</th>\n      <td>FR</td>\n      <td>France</td>\n      <td>As</td>\n      <td>NFR 2014-1</td>\n      <td>1A2b</td>\n      <td>1990</td>\n      <td>1.787067</td>\n      <td>Mg</td>\n      <td>NaN</td>\n      <td>2.0</td>\n      <td>...</td>\n      <td>NaN</td>\n      <td>NaN</td>\n      <td>NaN</td>\n      <td>NaN</td>\n      <td>NaN</td>\n      <td>NaN</td>\n      <td>NaN</td>\n      <td>NaN</td>\n      <td>NaN</td>\n      <td>NaN</td>\n    </tr>\n  </tbody>\n</table>\n<p>5 rows × 26 columns</p>\n</div>"
     },
     "execution_count": 4,
     "metadata": {},
     "output_type": "execute_result"
    }
   ],
   "source": [
    "df_france.head()"
   ],
   "metadata": {
    "collapsed": false,
    "pycharm": {
     "name": "#%%\n"
    }
   }
  },
  {
   "cell_type": "code",
   "execution_count": 5,
   "outputs": [
    {
     "data": {
      "text/plain": "  Country_Code Country Pollutant_name Format_name Sector_code  Year  \\\n0           FR  France             As  NFR 2014-1        1A1a  1990   \n1           FR  France             As  NFR 2014-1        1A1b  1990   \n2           FR  France             As  NFR 2014-1        1A1c  1990   \n3           FR  France             As  NFR 2014-1        1A2a  1990   \n4           FR  France             As  NFR 2014-1        1A2b  1990   \n\n   Emissions Unit  Notation  VersionId  ... EPRTRAnnexIMainActivityCode  \\\n0   1.778772   Mg       NaN        2.0  ...                         NaN   \n1   0.365019   Mg       NaN        2.0  ...                         NaN   \n2   0.050672   Mg       NaN        2.0  ...                         NaN   \n3   1.180131   Mg       NaN        2.0  ...                         NaN   \n4   1.787067   Mg       NaN        2.0  ...                         NaN   \n\n  EPRTRAnnexIMainActivityLabel FacilityInspireID  facilityName  Longitude  \\\n0                          NaN               NaN           NaN        NaN   \n1                          NaN               NaN           NaN        NaN   \n2                          NaN               NaN           NaN        NaN   \n3                          NaN               NaN           NaN        NaN   \n4                          NaN               NaN           NaN        NaN   \n\n  Latitude City Pollutant Air Water  \n0      NaN            NaN NaN   NaN  \n1      NaN            NaN NaN   NaN  \n2      NaN            NaN NaN   NaN  \n3      NaN            NaN NaN   NaN  \n4      NaN            NaN NaN   NaN  \n\n[5 rows x 26 columns]",
      "text/html": "<div>\n<style scoped>\n    .dataframe tbody tr th:only-of-type {\n        vertical-align: middle;\n    }\n\n    .dataframe tbody tr th {\n        vertical-align: top;\n    }\n\n    .dataframe thead th {\n        text-align: right;\n    }\n</style>\n<table border=\"1\" class=\"dataframe\">\n  <thead>\n    <tr style=\"text-align: right;\">\n      <th></th>\n      <th>Country_Code</th>\n      <th>Country</th>\n      <th>Pollutant_name</th>\n      <th>Format_name</th>\n      <th>Sector_code</th>\n      <th>Year</th>\n      <th>Emissions</th>\n      <th>Unit</th>\n      <th>Notation</th>\n      <th>VersionId</th>\n      <th>...</th>\n      <th>EPRTRAnnexIMainActivityCode</th>\n      <th>EPRTRAnnexIMainActivityLabel</th>\n      <th>FacilityInspireID</th>\n      <th>facilityName</th>\n      <th>Longitude</th>\n      <th>Latitude</th>\n      <th>City</th>\n      <th>Pollutant</th>\n      <th>Air</th>\n      <th>Water</th>\n    </tr>\n  </thead>\n  <tbody>\n    <tr>\n      <th>0</th>\n      <td>FR</td>\n      <td>France</td>\n      <td>As</td>\n      <td>NFR 2014-1</td>\n      <td>1A1a</td>\n      <td>1990</td>\n      <td>1.778772</td>\n      <td>Mg</td>\n      <td>NaN</td>\n      <td>2.0</td>\n      <td>...</td>\n      <td>NaN</td>\n      <td>NaN</td>\n      <td>NaN</td>\n      <td>NaN</td>\n      <td>NaN</td>\n      <td>NaN</td>\n      <td></td>\n      <td>NaN</td>\n      <td>NaN</td>\n      <td>NaN</td>\n    </tr>\n    <tr>\n      <th>1</th>\n      <td>FR</td>\n      <td>France</td>\n      <td>As</td>\n      <td>NFR 2014-1</td>\n      <td>1A1b</td>\n      <td>1990</td>\n      <td>0.365019</td>\n      <td>Mg</td>\n      <td>NaN</td>\n      <td>2.0</td>\n      <td>...</td>\n      <td>NaN</td>\n      <td>NaN</td>\n      <td>NaN</td>\n      <td>NaN</td>\n      <td>NaN</td>\n      <td>NaN</td>\n      <td></td>\n      <td>NaN</td>\n      <td>NaN</td>\n      <td>NaN</td>\n    </tr>\n    <tr>\n      <th>2</th>\n      <td>FR</td>\n      <td>France</td>\n      <td>As</td>\n      <td>NFR 2014-1</td>\n      <td>1A1c</td>\n      <td>1990</td>\n      <td>0.050672</td>\n      <td>Mg</td>\n      <td>NaN</td>\n      <td>2.0</td>\n      <td>...</td>\n      <td>NaN</td>\n      <td>NaN</td>\n      <td>NaN</td>\n      <td>NaN</td>\n      <td>NaN</td>\n      <td>NaN</td>\n      <td></td>\n      <td>NaN</td>\n      <td>NaN</td>\n      <td>NaN</td>\n    </tr>\n    <tr>\n      <th>3</th>\n      <td>FR</td>\n      <td>France</td>\n      <td>As</td>\n      <td>NFR 2014-1</td>\n      <td>1A2a</td>\n      <td>1990</td>\n      <td>1.180131</td>\n      <td>Mg</td>\n      <td>NaN</td>\n      <td>2.0</td>\n      <td>...</td>\n      <td>NaN</td>\n      <td>NaN</td>\n      <td>NaN</td>\n      <td>NaN</td>\n      <td>NaN</td>\n      <td>NaN</td>\n      <td></td>\n      <td>NaN</td>\n      <td>NaN</td>\n      <td>NaN</td>\n    </tr>\n    <tr>\n      <th>4</th>\n      <td>FR</td>\n      <td>France</td>\n      <td>As</td>\n      <td>NFR 2014-1</td>\n      <td>1A2b</td>\n      <td>1990</td>\n      <td>1.787067</td>\n      <td>Mg</td>\n      <td>NaN</td>\n      <td>2.0</td>\n      <td>...</td>\n      <td>NaN</td>\n      <td>NaN</td>\n      <td>NaN</td>\n      <td>NaN</td>\n      <td>NaN</td>\n      <td>NaN</td>\n      <td></td>\n      <td>NaN</td>\n      <td>NaN</td>\n      <td>NaN</td>\n    </tr>\n  </tbody>\n</table>\n<p>5 rows × 26 columns</p>\n</div>"
     },
     "execution_count": 5,
     "metadata": {},
     "output_type": "execute_result"
    }
   ],
   "source": [
    "df_france['City'] = df_france['City'].fillna(' ')\n",
    "df_france.head()"
   ],
   "metadata": {
    "collapsed": false,
    "pycharm": {
     "name": "#%%\n"
    }
   }
  },
  {
   "cell_type": "code",
   "execution_count": null,
   "outputs": [],
   "source": [],
   "metadata": {
    "collapsed": false,
    "pycharm": {
     "name": "#%%\n"
    }
   }
  }
 ],
 "metadata": {
  "kernelspec": {
   "display_name": "Python 3",
   "language": "python",
   "name": "python3"
  },
  "language_info": {
   "codemirror_mode": {
    "name": "ipython",
    "version": 2
   },
   "file_extension": ".py",
   "mimetype": "text/x-python",
   "name": "python",
   "nbconvert_exporter": "python",
   "pygments_lexer": "ipython2",
   "version": "2.7.6"
  }
 },
 "nbformat": 4,
 "nbformat_minor": 0
}