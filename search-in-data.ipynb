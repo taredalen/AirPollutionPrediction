{
 "cells": [
  {
   "cell_type": "code",
   "execution_count": 39,
   "outputs": [],
   "source": [
    "import os\n",
    "import pathlib\n",
    "import warnings\n",
    "\n",
    "import numpy as np\n",
    "import pandas as pd\n",
    "\n",
    "warnings.filterwarnings('ignore')\n",
    "from IPython.core.display_functions import display"
   ],
   "metadata": {
    "collapsed": false,
    "pycharm": {
     "name": "#%%\n"
    }
   }
  },
  {
   "cell_type": "code",
   "execution_count": 40,
   "outputs": [],
   "source": [
    "url = './data/F1_4_Detailed releases at facility level with E-PRTR Sector and Annex I Activity detail into Air.csv'\n",
    "df_air = pd.read_csv(url, on_bad_lines='skip', sep=',')\n",
    "df_clrtap = pd.read_csv('./data/clean_clrtap.csv', on_bad_lines='skip', sep='\\t')"
   ],
   "metadata": {
    "collapsed": false,
    "pycharm": {
     "name": "#%%\n"
    }
   }
  },
  {
   "cell_type": "code",
   "execution_count": 41,
   "outputs": [
    {
     "data": {
      "text/plain": "array(['Finland', 'France', 'Ireland', 'Portugal', 'Bulgaria', 'Croatia',\n       'Estonia', 'Latvia', 'Malta', 'Slovenia', 'Norway', 'Denmark',\n       'Germany', 'Greece', 'Sweden', 'Cyprus', 'Lithuania', 'Poland',\n       'Romania', 'EU28', 'Iceland', 'Austria', 'Italy', 'United Kingdom',\n       'Belgium', 'Netherlands', 'Spain', 'Czech Republic', 'Slovakia',\n       'Hungary', 'Turkey', 'EEA33', 'Switzerland', 'Luxembourg',\n       'Liechtenstein'], dtype=object)"
     },
     "execution_count": 41,
     "metadata": {},
     "output_type": "execute_result"
    }
   ],
   "source": [
    "def get_countries_list_clrtap():\n",
    "    return df_clrtap['Country'].unique()\n",
    "get_countries_list_clrtap()"
   ],
   "metadata": {
    "collapsed": false,
    "pycharm": {
     "name": "#%%\n"
    }
   }
  },
  {
   "cell_type": "code",
   "execution_count": 42,
   "outputs": [
    {
     "data": {
      "text/plain": "array(['Austria', 'Belgium', 'Bulgaria', 'Croatia', 'Cyprus', 'Czechia',\n       'Denmark', 'Estonia', 'Finland', 'France', 'Germany', 'Greece',\n       'Hungary', 'Iceland', 'Ireland', 'Italy', 'Latvia', 'Lithuania',\n       'Luxembourg', 'Malta', 'Netherlands', 'Norway', 'Poland',\n       'Portugal', 'Romania', 'Serbia', 'Slovakia', 'Slovenia', 'Spain',\n       'Sweden', 'Switzerland', 'United Kingdom'], dtype=object)"
     },
     "execution_count": 42,
     "metadata": {},
     "output_type": "execute_result"
    }
   ],
   "source": [
    "def get_countries_list_air():\n",
    "    return df_air['countryName'].unique()\n",
    "\n",
    "get_countries_list_air()"
   ],
   "metadata": {
    "collapsed": false,
    "pycharm": {
     "name": "#%%\n"
    }
   }
  },
  {
   "cell_type": "code",
   "execution_count": 43,
   "outputs": [
    {
     "name": "stdout",
     "output_type": "stream",
     "text": [
      "['EU28', 'Czech Republic', 'Liechtenstein', 'Turkey', 'EEA33']\n",
      "['Austria', 'Latvia', 'Bulgaria', 'Sweden', 'Poland', 'Greece', 'Croatia', 'Norway', 'Italy', 'United Kingdom', 'Iceland', 'Portugal', 'Hungary', 'Belgium', 'Ireland', 'Switzerland', 'Estonia', 'Lithuania', 'Romania', 'Denmark', 'Finland', 'Spain', 'Luxembourg', 'Malta', 'Cyprus', 'Slovenia', 'Slovakia', 'Germany', 'Netherlands', 'France']\n"
     ]
    }
   ],
   "source": [
    "def country_list_intersection():\n",
    "    list_countries_air = get_countries_list_air()\n",
    "    list_countries_clrtap = get_countries_list_clrtap()\n",
    "\n",
    "    differences = list(set(list_countries_clrtap) - set(list_countries_air))\n",
    "    print(differences)\n",
    "\n",
    "    commun_countries_list = list(set(list_countries_air).intersection(list_countries_clrtap))\n",
    "    print(commun_countries_list)\n",
    "\n",
    "country_list_intersection()"
   ],
   "metadata": {
    "collapsed": false,
    "pycharm": {
     "name": "#%%\n"
    }
   }
  },
  {
   "cell_type": "code",
   "execution_count": 45,
   "outputs": [
    {
     "name": "stdout",
     "output_type": "stream",
     "text": [
      "['4(d)' '9(c)' '6(b)' '3(c)' '8(b)' '4(b)' '4(a)' '5(d)' '2(f)' '1(c)'\n",
      " '5(b)' '3(e)' '6(a)' '1(a)' '5(c)' '2(e)' '2(b)' '2(d)' '4(e)' '5(f)'\n",
      " '3(f)' '5(g)' '5(a)' '3(a)' '4(c)' '3(b)' '3(g)' '2(c)' '4(a)(viii)'\n",
      " '8(b)(ii)' '6(c)' '3(c)(i)' '7(a)(i)' '7(a)(ii)' '4(a)(ix)' '8(b)(i)'\n",
      " '8(a)' '2(c)(i)' '2(e)(ii)' '3(c)(iii)' '3(c)(ii)' '4(a)(i)' '4(b)(ii)'\n",
      " '2(c)(iii)' '4(a)(vi)' '4(b)(v)' '5(e)' '2(e)(i)' '8(c)' '9(a)'\n",
      " '4(a)(ii)' '4(b)(i)' '9(e)' '4(a)(iv)' '7(a)(iii)' '4(b)(iv)' '2(a)'\n",
      " '4(a)(iii)' '7(a)' '1(d)' '4(a)(x)' '1(f)' '1(b)' '7(b)' '4(f)' '9(d)'\n",
      " '4(b)(iii)' '4(a)(xi)' '1(e)' '4(a)(v)' '4(a)(vii)' '2(c)(ii)' '9(b)']\n"
     ]
    }
   ],
   "source": [
    "def search_commun_columns():\n",
    "    print(df_air['EPRTRAnnexIMainActivityCode'].unique())\n",
    "\n",
    "search_commun_columns()"
   ],
   "metadata": {
    "collapsed": false,
    "pycharm": {
     "name": "#%%\n"
    }
   }
  },
  {
   "cell_type": "code",
   "execution_count": 44,
   "outputs": [],
   "source": [],
   "metadata": {
    "collapsed": false,
    "pycharm": {
     "name": "#%%\n"
    }
   }
  }
 ],
 "metadata": {
  "kernelspec": {
   "display_name": "Python 3",
   "language": "python",
   "name": "python3"
  },
  "language_info": {
   "codemirror_mode": {
    "name": "ipython",
    "version": 2
   },
   "file_extension": ".py",
   "mimetype": "text/x-python",
   "name": "python",
   "nbconvert_exporter": "python",
   "pygments_lexer": "ipython2",
   "version": "2.7.6"
  }
 },
 "nbformat": 4,
 "nbformat_minor": 0
}